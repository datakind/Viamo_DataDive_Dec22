{
 "cells": [
  {
   "cell_type": "markdown",
   "id": "f7bc791d",
   "metadata": {},
   "source": [
    "### Workstream #1: Questions 9 - 12 (Mali)"
   ]
  },
  {
   "cell_type": "markdown",
   "id": "0bae4332",
   "metadata": {},
   "source": [
    "Import all necessary packages"
   ]
  },
  {
   "cell_type": "code",
   "execution_count": 1,
   "id": "3df222d9",
   "metadata": {},
   "outputs": [],
   "source": [
    "# Apache parquet files (to save space)\n",
    "import pyarrow as pa\n",
    "import pyarrow.parquet as pq\n",
    "from fastparquet import ParquetFile\n",
    "\n",
    "# Dataframes and numerical\n",
    "import pandas as pd\n",
    "import numpy as np\n",
    "\n",
    "# Increase pandas default display \n",
    "pd.options.display.max_rows = 250\n",
    "pd.options.display.max_columns = 250\n",
    "\n",
    "# Suppress scientific notation of data in pandas\n",
    "pd.set_option('display.float_format', '{:.2f}'.format)\n",
    "\n",
    "# Graphing\n",
    "import matplotlib as mpl\n",
    "import matplotlib.pyplot as plt\n",
    "from matplotlib.ticker import FormatStrFormatter, StrMethodFormatter\n",
    "from matplotlib.legend import Legend\n",
    "from matplotlib.colors import TwoSlopeNorm\n",
    "%matplotlib inline\n",
    "import matplotlib.gridspec as gridspec\n",
    "import seaborn as sns\n",
    "sns.set_style('darkgrid')\n",
    "plt.style.use('fivethirtyeight')\n",
    "\n",
    "# Suppress warnings\n",
    "import warnings\n",
    "warnings.filterwarnings('ignore')\n",
    "\n",
    "import os\n",
    "from scipy import stats\n",
    "\n",
    "from tqdm.auto import tqdm\n",
    "\n",
    "plt.rcParams['axes.labelsize'] = 15\n",
    "plt.rcParams['axes.titlesize'] = 20\n",
    "\n",
    "from google.cloud import bigquery\n",
    "\n",
    "os.environ[\"GOOGLE_APPLICATION_CREDENTIALS\"] = 'viamo-datakind-19b12e3872f5.json'\n",
    "bq_client = bigquery.Client()\n",
    "\n",
    "import qgrid"
   ]
  },
  {
   "cell_type": "code",
   "execution_count": 2,
   "id": "b589971c",
   "metadata": {},
   "outputs": [],
   "source": [
    "def show_table(df):\n",
    "    return qgrid.show_grid(df, show_toolbar=True)"
   ]
  },
  {
   "cell_type": "markdown",
   "id": "cd4f80c6",
   "metadata": {},
   "source": [
    "Load **.parquet** file of all Mali caller data into **pandas** dataframe."
   ]
  },
  {
   "cell_type": "code",
   "execution_count": 3,
   "id": "fb30362e",
   "metadata": {},
   "outputs": [],
   "source": [
    "pf = ParquetFile('Viamo_user_data_Mali.parquet') \n",
    "df = pf.to_pandas()"
   ]
  },
  {
   "cell_type": "markdown",
   "id": "a3dd34cc",
   "metadata": {},
   "source": [
    "Understand the structure of the dataframe."
   ]
  },
  {
   "cell_type": "code",
   "execution_count": 4,
   "id": "803181bb",
   "metadata": {},
   "outputs": [
    {
     "data": {
      "text/html": [
       "<div>\n",
       "<style scoped>\n",
       "    .dataframe tbody tr th:only-of-type {\n",
       "        vertical-align: middle;\n",
       "    }\n",
       "\n",
       "    .dataframe tbody tr th {\n",
       "        vertical-align: top;\n",
       "    }\n",
       "\n",
       "    .dataframe thead th {\n",
       "        text-align: right;\n",
       "    }\n",
       "</style>\n",
       "<table border=\"1\" class=\"dataframe\">\n",
       "  <thead>\n",
       "    <tr style=\"text-align: right;\">\n",
       "      <th></th>\n",
       "      <th>subscriber_id</th>\n",
       "      <th>age</th>\n",
       "      <th>gender</th>\n",
       "      <th>n_calls</th>\n",
       "      <th>n_themes</th>\n",
       "      <th>n_topics</th>\n",
       "      <th>median_call_duration</th>\n",
       "      <th>gender_numeric</th>\n",
       "      <th>age_numeric</th>\n",
       "      <th>fav_theme</th>\n",
       "      <th>second_fav_theme</th>\n",
       "      <th>fav_topic</th>\n",
       "      <th>second_fav_topic</th>\n",
       "      <th>fav_theme_numeric</th>\n",
       "      <th>second_fav_theme_numeric</th>\n",
       "      <th>fav_topic_numeric</th>\n",
       "      <th>second_fav_topic_numeric</th>\n",
       "    </tr>\n",
       "  </thead>\n",
       "  <tbody>\n",
       "    <tr>\n",
       "      <th>0</th>\n",
       "      <td>1057771709358727168</td>\n",
       "      <td>over_44</td>\n",
       "      <td>male</td>\n",
       "      <td>137</td>\n",
       "      <td>13</td>\n",
       "      <td>9</td>\n",
       "      <td>15.00</td>\n",
       "      <td>1.00</td>\n",
       "      <td>5.00</td>\n",
       "      <td></td>\n",
       "      <td>news</td>\n",
       "      <td></td>\n",
       "      <td>coronavirus</td>\n",
       "      <td>-1</td>\n",
       "      <td>1.00</td>\n",
       "      <td>-1</td>\n",
       "      <td>4.00</td>\n",
       "    </tr>\n",
       "    <tr>\n",
       "      <th>1</th>\n",
       "      <td>1258538143272463944</td>\n",
       "      <td>25_34</td>\n",
       "      <td>male</td>\n",
       "      <td>582</td>\n",
       "      <td>13</td>\n",
       "      <td>10</td>\n",
       "      <td>26.00</td>\n",
       "      <td>1.00</td>\n",
       "      <td>3.00</td>\n",
       "      <td></td>\n",
       "      <td>health</td>\n",
       "      <td></td>\n",
       "      <td>coronavirus,malaria</td>\n",
       "      <td>-1</td>\n",
       "      <td>2.00</td>\n",
       "      <td>-1</td>\n",
       "      <td>3.00</td>\n",
       "    </tr>\n",
       "    <tr>\n",
       "      <th>2</th>\n",
       "      <td>968619422640562176</td>\n",
       "      <td>None</td>\n",
       "      <td>male</td>\n",
       "      <td>62</td>\n",
       "      <td>13</td>\n",
       "      <td>7</td>\n",
       "      <td>24.00</td>\n",
       "      <td>1.00</td>\n",
       "      <td>-1.00</td>\n",
       "      <td></td>\n",
       "      <td>news</td>\n",
       "      <td></td>\n",
       "      <td>coronavirus,malaria</td>\n",
       "      <td>-1</td>\n",
       "      <td>1.00</td>\n",
       "      <td>-1</td>\n",
       "      <td>3.00</td>\n",
       "    </tr>\n",
       "    <tr>\n",
       "      <th>3</th>\n",
       "      <td>1066108357532246016</td>\n",
       "      <td>under_18</td>\n",
       "      <td>male</td>\n",
       "      <td>62</td>\n",
       "      <td>13</td>\n",
       "      <td>6</td>\n",
       "      <td>17.00</td>\n",
       "      <td>1.00</td>\n",
       "      <td>1.00</td>\n",
       "      <td></td>\n",
       "      <td>health</td>\n",
       "      <td></td>\n",
       "      <td>coronavirus</td>\n",
       "      <td>-1</td>\n",
       "      <td>2.00</td>\n",
       "      <td>-1</td>\n",
       "      <td>4.00</td>\n",
       "    </tr>\n",
       "    <tr>\n",
       "      <th>4</th>\n",
       "      <td>1192055677020335632</td>\n",
       "      <td>under_18</td>\n",
       "      <td>male</td>\n",
       "      <td>1447</td>\n",
       "      <td>13</td>\n",
       "      <td>9</td>\n",
       "      <td>6.00</td>\n",
       "      <td>1.00</td>\n",
       "      <td>1.00</td>\n",
       "      <td></td>\n",
       "      <td>news</td>\n",
       "      <td></td>\n",
       "      <td>coronavirus</td>\n",
       "      <td>-1</td>\n",
       "      <td>1.00</td>\n",
       "      <td>-1</td>\n",
       "      <td>4.00</td>\n",
       "    </tr>\n",
       "  </tbody>\n",
       "</table>\n",
       "</div>"
      ],
      "text/plain": [
       "         subscriber_id       age gender  n_calls  n_themes  n_topics  \\\n",
       "0  1057771709358727168   over_44   male      137        13         9   \n",
       "1  1258538143272463944     25_34   male      582        13        10   \n",
       "2   968619422640562176      None   male       62        13         7   \n",
       "3  1066108357532246016  under_18   male       62        13         6   \n",
       "4  1192055677020335632  under_18   male     1447        13         9   \n",
       "\n",
       "   median_call_duration  gender_numeric  age_numeric fav_theme  \\\n",
       "0                 15.00            1.00         5.00             \n",
       "1                 26.00            1.00         3.00             \n",
       "2                 24.00            1.00        -1.00             \n",
       "3                 17.00            1.00         1.00             \n",
       "4                  6.00            1.00         1.00             \n",
       "\n",
       "  second_fav_theme fav_topic     second_fav_topic  fav_theme_numeric  \\\n",
       "0             news                    coronavirus                 -1   \n",
       "1           health            coronavirus,malaria                 -1   \n",
       "2             news            coronavirus,malaria                 -1   \n",
       "3           health                    coronavirus                 -1   \n",
       "4             news                    coronavirus                 -1   \n",
       "\n",
       "   second_fav_theme_numeric  fav_topic_numeric  second_fav_topic_numeric  \n",
       "0                      1.00                 -1                      4.00  \n",
       "1                      2.00                 -1                      3.00  \n",
       "2                      1.00                 -1                      3.00  \n",
       "3                      2.00                 -1                      4.00  \n",
       "4                      1.00                 -1                      4.00  "
      ]
     },
     "execution_count": 4,
     "metadata": {},
     "output_type": "execute_result"
    }
   ],
   "source": [
    "df.head()"
   ]
  },
  {
   "cell_type": "code",
   "execution_count": 5,
   "id": "4631b050",
   "metadata": {},
   "outputs": [
    {
     "data": {
      "text/plain": [
       "(2341867, 17)"
      ]
     },
     "execution_count": 5,
     "metadata": {},
     "output_type": "execute_result"
    }
   ],
   "source": [
    "df.shape"
   ]
  },
  {
   "cell_type": "code",
   "execution_count": 6,
   "id": "c15a68db",
   "metadata": {},
   "outputs": [
    {
     "name": "stdout",
     "output_type": "stream",
     "text": [
      "<class 'pandas.core.frame.DataFrame'>\n",
      "Int64Index: 2341867 entries, 0 to 2341866\n",
      "Data columns (total 17 columns):\n",
      " #   Column                    Dtype  \n",
      "---  ------                    -----  \n",
      " 0   subscriber_id             Int64  \n",
      " 1   age                       object \n",
      " 2   gender                    object \n",
      " 3   n_calls                   Int64  \n",
      " 4   n_themes                  Int64  \n",
      " 5   n_topics                  Int64  \n",
      " 6   median_call_duration      float64\n",
      " 7   gender_numeric            float64\n",
      " 8   age_numeric               float64\n",
      " 9   fav_theme                 object \n",
      " 10  second_fav_theme          object \n",
      " 11  fav_topic                 object \n",
      " 12  second_fav_topic          object \n",
      " 13  fav_theme_numeric         int64  \n",
      " 14  second_fav_theme_numeric  float64\n",
      " 15  fav_topic_numeric         int64  \n",
      " 16  second_fav_topic_numeric  float64\n",
      "dtypes: Int64(4), float64(5), int64(2), object(6)\n",
      "memory usage: 330.5+ MB\n"
     ]
    }
   ],
   "source": [
    "df.info()"
   ]
  },
  {
   "cell_type": "code",
   "execution_count": 7,
   "id": "bd6464e0",
   "metadata": {},
   "outputs": [
    {
     "data": {
      "text/plain": [
       "subscriber_id                 Int64\n",
       "age                          object\n",
       "gender                       object\n",
       "n_calls                       Int64\n",
       "n_themes                      Int64\n",
       "n_topics                      Int64\n",
       "median_call_duration        float64\n",
       "gender_numeric              float64\n",
       "age_numeric                 float64\n",
       "fav_theme                    object\n",
       "second_fav_theme             object\n",
       "fav_topic                    object\n",
       "second_fav_topic             object\n",
       "fav_theme_numeric             int64\n",
       "second_fav_theme_numeric    float64\n",
       "fav_topic_numeric             int64\n",
       "second_fav_topic_numeric    float64\n",
       "dtype: object"
      ]
     },
     "execution_count": 7,
     "metadata": {},
     "output_type": "execute_result"
    }
   ],
   "source": [
    "df.dtypes"
   ]
  },
  {
   "cell_type": "markdown",
   "id": "80ffce64",
   "metadata": {},
   "source": [
    "This **.parquet file** is that which had already been cleaned and feature engineered to assist with the clustering analysis (**Workstream #4**), so there shall be far less errata in it and the study shall be simpler."
   ]
  },
  {
   "cell_type": "markdown",
   "id": "f64ce380",
   "metadata": {},
   "source": [
    "### Question 9: Assessing field sparsity - what percentage of a given variable response is nulls?"
   ]
  },
  {
   "cell_type": "code",
   "execution_count": 9,
   "id": "e9afaa8e",
   "metadata": {},
   "outputs": [
    {
     "data": {
      "text/plain": [
       "age                        49.83\n",
       "gender                     43.39\n",
       "second_fav_topic           28.03\n",
       "second_fav_theme           13.01\n",
       "subscriber_id               0.00\n",
       "fav_topic_numeric           0.00\n",
       "second_fav_theme_numeric    0.00\n",
       "fav_theme_numeric           0.00\n",
       "fav_topic                   0.00\n",
       "age_numeric                 0.00\n",
       "fav_theme                   0.00\n",
       "gender_numeric              0.00\n",
       "median_call_duration        0.00\n",
       "n_topics                    0.00\n",
       "n_themes                    0.00\n",
       "n_calls                     0.00\n",
       "second_fav_topic_numeric    0.00\n",
       "dtype: float64"
      ]
     },
     "execution_count": 9,
     "metadata": {},
     "output_type": "execute_result"
    }
   ],
   "source": [
    "(df.isnull().sum()/len(df)*100).sort_values(ascending=False)"
   ]
  },
  {
   "cell_type": "markdown",
   "id": "6b031375",
   "metadata": {},
   "source": [
    "Above information shows the percentage of null vales for each variables. The highest number of nulls is that for **age** (almost half), followed by **gender** (more than two-fifths), and then **second-favorite topic** (more than a quarter) and **second-favorite theme** (slightly more than an eighth)."
   ]
  },
  {
   "cell_type": "markdown",
   "id": "6d1182c8",
   "metadata": {},
   "source": [
    "It suggests that gender and age are pieces of information that the callers do not record. Perhaps it is something that they do not want to admit or a piece of information that they find too personal?"
   ]
  },
  {
   "cell_type": "markdown",
   "id": "fc39957e",
   "metadata": {},
   "source": [
    "One hypothesis comes from the common adage never to ask a woman her age. Is it true in this case?"
   ]
  },
  {
   "cell_type": "code",
   "execution_count": 27,
   "id": "4a746576",
   "metadata": {},
   "outputs": [],
   "source": [
    "# Percentage of men who decline to state their age:\n",
    "age_shy_xy = [len(df.loc[(df.gender=='male') & (df.age.isna())]),\n",
    "              len(df.loc[df.gender=='male']) - len(df.loc[(df.gender=='male') & (df.age.isna())])]\n",
    "\n",
    "# Percentage of women who decline to state their age:\n",
    "age_shy_xx = [len(df.loc[(df.gender=='female') & (df.age.isna())]),\n",
    "              len(df.loc[df.gender=='female']) - len(df.loc[(df.gender=='female') & (df.age.isna())])]"
   ]
  },
  {
   "cell_type": "code",
   "execution_count": 37,
   "id": "955f7105",
   "metadata": {},
   "outputs": [
    {
     "data": {
      "image/png": "[encoded data removed]",
      "text/plain": [
       "<Figure size 864x432 with 2 Axes>"
      ]
     },
     "metadata": {},
     "output_type": "display_data"
    }
   ],
   "source": [
    "plt.figure(figsize=(12,6))\n",
    "\n",
    "plt.subplot(1, 2, 1)\n",
    "plt.pie(age_shy_xy, colors=['#c44e52','#55a868'], labels = [\"No\", \"Yes\"], autopct='%.0f%%')\n",
    "plt.title('Portion of Malinese Men Admitting Age')\n",
    "\n",
    "plt.subplot(1, 2, 2)\n",
    "plt.pie(age_shy_xx, colors=['#c44e52','#55a868'], labels = [\"No\", \"Yes\"], autopct='%.0f%%')\n",
    "plt.title('Portion of Malinese Women Admitting Age')\n",
    "\n",
    "plt.show()"
   ]
  },
  {
   "cell_type": "markdown",
   "id": "be997754",
   "metadata": {},
   "source": [
    "Predictably, women more so than men are reluctant to admit their age, but not be a large percentage."
   ]
  },
  {
   "cell_type": "markdown",
   "id": "0ee38742",
   "metadata": {},
   "source": [
    "So, which age groups are least likely to admit their gender, if that is worth examining?"
   ]
  },
  {
   "cell_type": "code",
   "execution_count": 36,
   "id": "22898dd4",
   "metadata": {},
   "outputs": [
    {
     "data": {
      "text/plain": [
       "18_24       385156\n",
       "25_34       290523\n",
       "under_18    277822\n",
       "35_44       132757\n",
       "over_44      88629\n",
       "Name: age, dtype: int64"
      ]
     },
     "execution_count": 36,
     "metadata": {},
     "output_type": "execute_result"
    }
   ],
   "source": [
    "df.age.value_counts()"
   ]
  },
  {
   "cell_type": "code",
   "execution_count": 58,
   "id": "b115345c",
   "metadata": {},
   "outputs": [
    {
     "data": {
      "image/png": "[encoded data removed]",
      "text/plain": [
       "<Figure size 1296x648 with 1 Axes>"
      ]
     },
     "metadata": {},
     "output_type": "display_data"
    }
   ],
   "source": [
    "# Specify order of categories in plot\n",
    "order = ['under_18','18_24','25_34','35_44','over_44']\n",
    "label = ['Under 18', '18 - 24', '25 - 34', '35 - 44', 'Over 44']\n",
    "color = ['#55a868', '#4c72b0', '#c44e52', '#ccb974', '#8c8c8c']\n",
    "\n",
    "# Creating seaborn countplot\n",
    "plt.figure(figsize=(18,9))\n",
    "g = sns.countplot(x = df.age.loc[df.gender.isna()], data = df, order = order, palette = color)\n",
    "\n",
    "# Plot formatting\n",
    "# g.set_yticks(list(range(0,100,1100)))\n",
    "# g.yaxis.set_major_formatter(StrMethodFormatter('{x:,}'))\n",
    "g.set_xticklabels(label)\n",
    "# plt.legend(prop={'size': 14})\n",
    "plt.title('Age Groups in Mali where Gender is Unknown')\n",
    "plt.xlabel('Age Group')\n",
    "plt.ylabel('No. of Callers with Unknown Gender')\n",
    "plt.show()"
   ]
  },
  {
   "cell_type": "markdown",
   "id": "87e20b83",
   "metadata": {},
   "source": [
    "Younger age groups are more likely to withhold gender information compared to older ones."
   ]
  }
 ],
 "metadata": {
  "kernelspec": {
   "display_name": "Python 3 (ipykernel)",
   "language": "python",
   "name": "python3"
  },
  "language_info": {
   "codemirror_mode": {
    "name": "ipython",
    "version": 3
   },
   "file_extension": ".py",
   "mimetype": "text/x-python",
   "name": "python",
   "nbconvert_exporter": "python",
   "pygments_lexer": "ipython3",
   "version": "3.9.7"
  },
  "varInspector": {
   "cols": {
    "lenName": 16,
    "lenType": 16,
    "lenVar": 40
   },
   "kernels_config": {
    "python": {
     "delete_cmd_postfix": "",
     "delete_cmd_prefix": "del ",
     "library": "var_list.py",
     "varRefreshCmd": "print(var_dic_list())"
    },
    "r": {
     "delete_cmd_postfix": ") ",
     "delete_cmd_prefix": "rm(",
     "library": "var_list.r",
     "varRefreshCmd": "cat(var_dic_list()) "
    }
   },
   "types_to_exclude": [
    "module",
    "function",
    "builtin_function_or_method",
    "instance",
    "_Feature"
   ],
   "window_display": false
  }
 },
 "nbformat": 4,
 "nbformat_minor": 5
}
