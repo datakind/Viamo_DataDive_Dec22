{
 "cells": [
  {
   "cell_type": "code",
   "execution_count": 1,
   "metadata": {},
   "outputs": [],
   "source": [
    "import os\n",
    "import pandas as pd\n",
    "from google.cloud import bigquery\n",
    "from google.cloud import bigquery\n",
    "import matplotlib.pyplot as plt\n",
    "import seaborn as sns"
   ]
  },
  {
   "cell_type": "code",
   "execution_count": 2,
   "metadata": {},
   "outputs": [],
   "source": [
    "#Set environment variable. \n",
    "#Note: Adjust path to were you stored your json file\n",
    "os.environ[\"GOOGLE_APPLICATION_CREDENTIALS\"] = \"viamo-datakind-19b12e3872f5.json\"\n",
    "#No"
   ]
  },
  {
   "cell_type": "code",
   "execution_count": 3,
   "metadata": {},
   "outputs": [],
   "source": [
    "#Note: adjust paramenters in SQL query according to your needs\n",
    "query_uganda = \"SELECT * FROM `viamo-datakind.datadive.321_sessions_1122` where organization_country='Uganda' LIMIT 10000\""
   ]
  },
  {
   "cell_type": "code",
   "execution_count": 4,
   "metadata": {},
   "outputs": [],
   "source": [
    "#Pull data from BigQuery and store in pandas DataFrame\n",
    "\n",
    "Bigquery_client = bigquery.Client()\n",
    "\n",
    "df_uganda = pd.read_gbq(query_uganda)"
   ]
  },
  {
   "cell_type": "code",
   "execution_count": 5,
   "metadata": {},
   "outputs": [
    {
     "data": {
      "text/plain": [
       "(10000, 44)"
      ]
     },
     "execution_count": 5,
     "metadata": {},
     "output_type": "execute_result"
    }
   ],
   "source": [
    "df_uganda.shape"
   ]
  },
  {
   "cell_type": "code",
   "execution_count": 6,
   "metadata": {},
   "outputs": [],
   "source": [
    "duplicate = df_uganda[df_uganda.duplicated()]"
   ]
  },
  {
   "cell_type": "code",
   "execution_count": 7,
   "metadata": {},
   "outputs": [
    {
     "name": "stderr",
     "output_type": "stream",
     "text": [
      "/var/folders/xz/6s1ypdzx5_54gr8yjyqg71z80000gn/T/ipykernel_9778/4276082807.py:1: FutureWarning: Dropping of nuisance columns in DataFrame reductions (with 'numeric_only=None') is deprecated; in a future version this will raise TypeError.  Select only valid columns before calling the reduction.\n",
      "  duplicate.sum().sum() # no dupes in the data\n"
     ]
    },
    {
     "data": {
      "text/plain": [
       "0.0"
      ]
     },
     "execution_count": 7,
     "metadata": {},
     "output_type": "execute_result"
    }
   ],
   "source": [
    "duplicate.sum().sum() # no dupes in the data"
   ]
  },
  {
   "cell_type": "code",
   "execution_count": 8,
   "metadata": {},
   "outputs": [
    {
     "data": {
      "text/html": [
       "<div>\n",
       "<style scoped>\n",
       "    .dataframe tbody tr th:only-of-type {\n",
       "        vertical-align: middle;\n",
       "    }\n",
       "\n",
       "    .dataframe tbody tr th {\n",
       "        vertical-align: top;\n",
       "    }\n",
       "\n",
       "    .dataframe thead th {\n",
       "        text-align: right;\n",
       "    }\n",
       "</style>\n",
       "<table border=\"1\" class=\"dataframe\">\n",
       "  <thead>\n",
       "    <tr style=\"text-align: right;\">\n",
       "      <th></th>\n",
       "      <th>call_date</th>\n",
       "      <th>dl_global_created_at</th>\n",
       "      <th>block_interaction_id</th>\n",
       "      <th>call_id</th>\n",
       "      <th>subscriber_id</th>\n",
       "      <th>block_global_created_at</th>\n",
       "      <th>block_entry_at</th>\n",
       "      <th>js_key</th>\n",
       "      <th>tree_version_set_id</th>\n",
       "      <th>call_started</th>\n",
       "      <th>...</th>\n",
       "      <th>phone_type</th>\n",
       "      <th>education_level</th>\n",
       "      <th>income_source</th>\n",
       "      <th>airtime_expense</th>\n",
       "      <th>highest_expense_area</th>\n",
       "      <th>data_usage_consent</th>\n",
       "      <th>new_listener_ever</th>\n",
       "      <th>new_listener_year</th>\n",
       "      <th>new_caller_ever</th>\n",
       "      <th>new_caller_year</th>\n",
       "    </tr>\n",
       "  </thead>\n",
       "  <tbody>\n",
       "    <tr>\n",
       "      <th>9953</th>\n",
       "      <td>2022-09-29</td>\n",
       "      <td>2022-09-29 06:35:22+00:00</td>\n",
       "      <td>1422104913638851332</td>\n",
       "      <td>1422104913533996632</td>\n",
       "      <td>888884848138649600</td>\n",
       "      <td>2022-09-29 06:17:12+00:00</td>\n",
       "      <td>2022-09-29 06:17:12+00:00</td>\n",
       "      <td>block_1568896479947_66</td>\n",
       "      <td>36972</td>\n",
       "      <td>2022-09-29 06:17:12+00:00</td>\n",
       "      <td>...</td>\n",
       "      <td>None</td>\n",
       "      <td>None</td>\n",
       "      <td>None</td>\n",
       "      <td>None</td>\n",
       "      <td>None</td>\n",
       "      <td>None</td>\n",
       "      <td>&lt;NA&gt;</td>\n",
       "      <td>&lt;NA&gt;</td>\n",
       "      <td>&lt;NA&gt;</td>\n",
       "      <td>&lt;NA&gt;</td>\n",
       "    </tr>\n",
       "    <tr>\n",
       "      <th>3850</th>\n",
       "      <td>2022-03-18</td>\n",
       "      <td>2022-03-18 14:21:50+00:00</td>\n",
       "      <td>1351560429318964212</td>\n",
       "      <td>1351559274031480876</td>\n",
       "      <td>1276783077611800368</td>\n",
       "      <td>2022-03-18 14:19:57+00:00</td>\n",
       "      <td>2022-03-18 14:18:37+00:00</td>\n",
       "      <td>block_1626356054193_75</td>\n",
       "      <td>36659</td>\n",
       "      <td>2022-03-18 14:14:01+00:00</td>\n",
       "      <td>...</td>\n",
       "      <td>None</td>\n",
       "      <td>None</td>\n",
       "      <td>None</td>\n",
       "      <td>None</td>\n",
       "      <td>None</td>\n",
       "      <td>None</td>\n",
       "      <td>&lt;NA&gt;</td>\n",
       "      <td>&lt;NA&gt;</td>\n",
       "      <td>&lt;NA&gt;</td>\n",
       "      <td>&lt;NA&gt;</td>\n",
       "    </tr>\n",
       "    <tr>\n",
       "      <th>4962</th>\n",
       "      <td>2022-09-20</td>\n",
       "      <td>2022-09-20 14:07:03+00:00</td>\n",
       "      <td>1418960783538654184</td>\n",
       "      <td>1418960402515494940</td>\n",
       "      <td>1393828609781140828</td>\n",
       "      <td>2022-09-20 14:07:03+00:00</td>\n",
       "      <td>2022-09-20 14:03:33+00:00</td>\n",
       "      <td>block_1585825559967_16</td>\n",
       "      <td>19446</td>\n",
       "      <td>2022-09-20 14:02:02+00:00</td>\n",
       "      <td>...</td>\n",
       "      <td>None</td>\n",
       "      <td>None</td>\n",
       "      <td>None</td>\n",
       "      <td>None</td>\n",
       "      <td>None</td>\n",
       "      <td>None</td>\n",
       "      <td>1393828609781140828</td>\n",
       "      <td>1393828609781140828</td>\n",
       "      <td>&lt;NA&gt;</td>\n",
       "      <td>&lt;NA&gt;</td>\n",
       "    </tr>\n",
       "    <tr>\n",
       "      <th>3886</th>\n",
       "      <td>2021-07-04</td>\n",
       "      <td>2021-07-04 13:00:06+00:00</td>\n",
       "      <td>1258406742539636692</td>\n",
       "      <td>1258405555761318692</td>\n",
       "      <td>1258405555673236724</td>\n",
       "      <td>2021-07-04 13:00:06+00:00</td>\n",
       "      <td>2021-07-04 12:59:07+00:00</td>\n",
       "      <td>block_1600348254991_43</td>\n",
       "      <td>24019</td>\n",
       "      <td>2021-07-04 12:54:24+00:00</td>\n",
       "      <td>...</td>\n",
       "      <td>None</td>\n",
       "      <td>None</td>\n",
       "      <td>None</td>\n",
       "      <td>None</td>\n",
       "      <td>None</td>\n",
       "      <td>None</td>\n",
       "      <td>1258405555673236724</td>\n",
       "      <td>&lt;NA&gt;</td>\n",
       "      <td>1258405555673236724</td>\n",
       "      <td>&lt;NA&gt;</td>\n",
       "    </tr>\n",
       "    <tr>\n",
       "      <th>5437</th>\n",
       "      <td>2022-10-17</td>\n",
       "      <td>2022-10-17 20:17:21+00:00</td>\n",
       "      <td>1428835521090031252</td>\n",
       "      <td>1428834273540440140</td>\n",
       "      <td>1428344897261799764</td>\n",
       "      <td>2022-10-17 20:02:50+00:00</td>\n",
       "      <td>2022-10-17 20:02:14+00:00</td>\n",
       "      <td>block_1540987272671_56</td>\n",
       "      <td>2567</td>\n",
       "      <td>2022-10-17 19:57:17+00:00</td>\n",
       "      <td>...</td>\n",
       "      <td>None</td>\n",
       "      <td>None</td>\n",
       "      <td>None</td>\n",
       "      <td>None</td>\n",
       "      <td>None</td>\n",
       "      <td>None</td>\n",
       "      <td>&lt;NA&gt;</td>\n",
       "      <td>&lt;NA&gt;</td>\n",
       "      <td>&lt;NA&gt;</td>\n",
       "      <td>&lt;NA&gt;</td>\n",
       "    </tr>\n",
       "  </tbody>\n",
       "</table>\n",
       "<p>5 rows × 44 columns</p>\n",
       "</div>"
      ],
      "text/plain": [
       "       call_date      dl_global_created_at  block_interaction_id  \\\n",
       "9953  2022-09-29 2022-09-29 06:35:22+00:00   1422104913638851332   \n",
       "3850  2022-03-18 2022-03-18 14:21:50+00:00   1351560429318964212   \n",
       "4962  2022-09-20 2022-09-20 14:07:03+00:00   1418960783538654184   \n",
       "3886  2021-07-04 2021-07-04 13:00:06+00:00   1258406742539636692   \n",
       "5437  2022-10-17 2022-10-17 20:17:21+00:00   1428835521090031252   \n",
       "\n",
       "                  call_id        subscriber_id   block_global_created_at  \\\n",
       "9953  1422104913533996632   888884848138649600 2022-09-29 06:17:12+00:00   \n",
       "3850  1351559274031480876  1276783077611800368 2022-03-18 14:19:57+00:00   \n",
       "4962  1418960402515494940  1393828609781140828 2022-09-20 14:07:03+00:00   \n",
       "3886  1258405555761318692  1258405555673236724 2021-07-04 13:00:06+00:00   \n",
       "5437  1428834273540440140  1428344897261799764 2022-10-17 20:02:50+00:00   \n",
       "\n",
       "                block_entry_at                  js_key  tree_version_set_id  \\\n",
       "9953 2022-09-29 06:17:12+00:00  block_1568896479947_66                36972   \n",
       "3850 2022-03-18 14:18:37+00:00  block_1626356054193_75                36659   \n",
       "4962 2022-09-20 14:03:33+00:00  block_1585825559967_16                19446   \n",
       "3886 2021-07-04 12:59:07+00:00  block_1600348254991_43                24019   \n",
       "5437 2022-10-17 20:02:14+00:00  block_1540987272671_56                 2567   \n",
       "\n",
       "                  call_started  ... phone_type  education_level  \\\n",
       "9953 2022-09-29 06:17:12+00:00  ...       None             None   \n",
       "3850 2022-03-18 14:14:01+00:00  ...       None             None   \n",
       "4962 2022-09-20 14:02:02+00:00  ...       None             None   \n",
       "3886 2021-07-04 12:54:24+00:00  ...       None             None   \n",
       "5437 2022-10-17 19:57:17+00:00  ...       None             None   \n",
       "\n",
       "      income_source airtime_expense highest_expense_area  data_usage_consent  \\\n",
       "9953           None            None                 None                None   \n",
       "3850           None            None                 None                None   \n",
       "4962           None            None                 None                None   \n",
       "3886           None            None                 None                None   \n",
       "5437           None            None                 None                None   \n",
       "\n",
       "        new_listener_ever    new_listener_year      new_caller_ever  \\\n",
       "9953                 <NA>                 <NA>                 <NA>   \n",
       "3850                 <NA>                 <NA>                 <NA>   \n",
       "4962  1393828609781140828  1393828609781140828                 <NA>   \n",
       "3886  1258405555673236724                 <NA>  1258405555673236724   \n",
       "5437                 <NA>                 <NA>                 <NA>   \n",
       "\n",
       "      new_caller_year  \n",
       "9953             <NA>  \n",
       "3850             <NA>  \n",
       "4962             <NA>  \n",
       "3886             <NA>  \n",
       "5437             <NA>  \n",
       "\n",
       "[5 rows x 44 columns]"
      ]
     },
     "execution_count": 8,
     "metadata": {},
     "output_type": "execute_result"
    }
   ],
   "source": [
    "# viewing a random sample of the dataset\n",
    "df_uganda.sample(n=5, random_state=1)"
   ]
  },
  {
   "cell_type": "code",
   "execution_count": 9,
   "metadata": {},
   "outputs": [
    {
     "data": {
      "text/plain": [
       "Index(['js_key', 'region', 'region_name', 'organization_country',\n",
       "       'listen_menu_or_digest', 'block_title', 'block_tags', 'block_theme',\n",
       "       'block_topic', 'age', 'gender', 'location', 'location_level_2',\n",
       "       'opt_in', 'subscriber_pereferred_language', 'rural_or_urban',\n",
       "       'phone_type', 'education_level', 'income_source', 'airtime_expense',\n",
       "       'highest_expense_area', 'data_usage_consent'],\n",
       "      dtype='object')"
      ]
     },
     "execution_count": 9,
     "metadata": {},
     "output_type": "execute_result"
    }
   ],
   "source": [
    "# filtering object type columns\n",
    "cat_columns = df_uganda.describe(include=[\"object\"]).columns\n",
    "cat_columns"
   ]
  },
  {
   "cell_type": "code",
   "execution_count": 10,
   "metadata": {},
   "outputs": [
    {
     "name": "stdout",
     "output_type": "stream",
     "text": [
      "Unique values in js_key are :\n",
      "block_1477742758446_29    1413\n",
      "block_1568896479947_66    1058\n",
      "block_1545984239017_51     756\n",
      "block_1464695840754_80     418\n",
      "block_1600418307411_94     288\n",
      "                          ... \n",
      "block_1649373711899_85       1\n",
      "block_1556626866629_39       1\n",
      "block_1637754040896_55       1\n",
      "block_1556620145223_30       1\n",
      "block_1544513113769_32       1\n",
      "Name: js_key, Length: 795, dtype: int64\n",
      "**************************************************\n",
      "Unique values in region are :\n",
      "EAF    10000\n",
      "Name: region, dtype: int64\n",
      "**************************************************\n",
      "Unique values in region_name are :\n",
      "East Africa    10000\n",
      "Name: region_name, dtype: int64\n",
      "**************************************************\n",
      "Unique values in organization_country are :\n",
      "Uganda    10000\n",
      "Name: organization_country, dtype: int64\n",
      "**************************************************\n",
      "Unique values in listen_menu_or_digest are :\n",
      "Listen Menu      7189\n",
      "Listen Digest    1009\n",
      "Name: listen_menu_or_digest, dtype: int64\n",
      "**************************************************\n",
      "Unique values in block_title are :\n",
      "1-9th Call Message             1413\n",
      "LEVEL 1:Theme Options           762\n",
      "News Bulletin                   332\n",
      "Choose digest                   288\n",
      "Replay                          181\n",
      "                               ... \n",
      "Akakunizo Episode 40 part 2       1\n",
      "Chilli Field Planting             1\n",
      "Episode 10 part 2                 1\n",
      "Q.5 Do you have a cough?          1\n",
      "Akakunizo Episode 35 part 3       1\n",
      "Name: block_title, Length: 691, dtype: int64\n",
      "**************************************************\n",
      "Unique values in block_tags are :\n",
      "                                                        4653\n",
      "welcome_menu                                             771\n",
      "2_0,km,partner_earth_networks,weather                    298\n",
      "2.0,km,news,partner_vision_group                         254\n",
      "akakunizo,drama,km,partner_pmc                           223\n",
      "                                                        ... \n",
      "coronavirus,health,kq,partner_surgo,q10                    1\n",
      "km,news,partner_vision_group,project_arua_one              1\n",
      "coronavirus,health,kq,partner_surgo,q17                    1\n",
      "coronavirus,km                                             1\n",
      "coronavirus,highrisk,km,partner_surgo,recommendation       1\n",
      "Name: block_tags, Length: 145, dtype: int64\n",
      "**************************************************\n",
      "Unique values in block_theme are :\n",
      "                   5997\n",
      "health             1107\n",
      "weather             785\n",
      "drama               748\n",
      "news                460\n",
      "ag                  281\n",
      "financial           244\n",
      "games               210\n",
      "vas                  91\n",
      "gender               75\n",
      "financial,games       1\n",
      "ag,games              1\n",
      "Name: block_theme, dtype: int64\n",
      "**************************************************\n",
      "Unique values in block_topic are :\n",
      "               9238\n",
      "srh             314\n",
      "coronavirus     267\n",
      "maize            48\n",
      "beans            45\n",
      "hiv,srh          41\n",
      "rice             25\n",
      "cassava          14\n",
      "hiv               6\n",
      "livestock         2\n",
      "Name: block_topic, dtype: int64\n",
      "**************************************************\n",
      "Unique values in age are :\n",
      "18_24       4881\n",
      "25_34       2138\n",
      "under_18    1458\n",
      "35_44        627\n",
      "over_44      490\n",
      "Name: age, dtype: int64\n",
      "**************************************************\n",
      "Unique values in gender are :\n",
      "male      6346\n",
      "female    3254\n",
      "Name: gender, dtype: int64\n",
      "**************************************************\n",
      "Unique values in location are :\n",
      "region_eastcentral       3896\n",
      "region_western           2998\n",
      "region_southwestern      1394\n",
      "region_nw_westnile       1330\n",
      "region_ne_karamoja        377\n",
      "kampala                     2\n",
      "province_antananarivo       2\n",
      "Centre                      1\n",
      "Name: location, dtype: int64\n",
      "**************************************************\n",
      "Unique values in location_level_2 are :\n",
      "region_bongolava     1\n",
      "Kasai Oriental       1\n",
      "region_analamanga    1\n",
      "Name: location_level_2, dtype: int64\n",
      "**************************************************\n",
      "Unique values in opt_in are :\n",
      "yes_contact    2291\n",
      "no_contact        1\n",
      "Name: opt_in, dtype: int64\n",
      "**************************************************\n",
      "Unique values in subscriber_pereferred_language are :\n",
      "4R         4415\n",
      "Luganda    3249\n",
      "English    1182\n",
      "Lugbara     297\n",
      "Luo         271\n",
      "Ateso       195\n",
      "Lingala       1\n",
      "Name: subscriber_pereferred_language, dtype: int64\n",
      "**************************************************\n",
      "Unique values in rural_or_urban are :\n",
      "Series([], Name: rural_or_urban, dtype: int64)\n",
      "**************************************************\n",
      "Unique values in phone_type are :\n",
      "Series([], Name: phone_type, dtype: int64)\n",
      "**************************************************\n",
      "Unique values in education_level are :\n",
      "Series([], Name: education_level, dtype: int64)\n",
      "**************************************************\n",
      "Unique values in income_source are :\n",
      "Series([], Name: income_source, dtype: int64)\n",
      "**************************************************\n",
      "Unique values in airtime_expense are :\n",
      "Series([], Name: airtime_expense, dtype: int64)\n",
      "**************************************************\n",
      "Unique values in highest_expense_area are :\n",
      "Series([], Name: highest_expense_area, dtype: int64)\n",
      "**************************************************\n",
      "Unique values in data_usage_consent are :\n",
      "Series([], Name: data_usage_consent, dtype: int64)\n",
      "**************************************************\n"
     ]
    }
   ],
   "source": [
    "for i in cat_columns:\n",
    "    print(\"Unique values in\", i, \"are :\")\n",
    "    print(df_uganda[i].value_counts())\n",
    "    print(\"*\" * 50)"
   ]
  },
  {
   "cell_type": "markdown",
   "metadata": {},
   "source": [
    "### Observations\n",
    "\n",
    "* Unique values in gender are : male:387674, female:234668\n",
    "* By Region - region_central:189141,no_contact:144756,region_eastern:46388\n",
    "* Famous block topics - srh:27029,coronavirus:25178\n",
    "* block_theme highest values - health:95267,drama:65822\n",
    "* Unique values in js_key are -block_1568896479947_66:126274,block_1477742758446_29:125780"
   ]
  },
  {
   "cell_type": "code",
   "execution_count": 11,
   "metadata": {},
   "outputs": [
    {
     "name": "stderr",
     "output_type": "stream",
     "text": [
      "/var/folders/xz/6s1ypdzx5_54gr8yjyqg71z80000gn/T/ipykernel_9778/1520539334.py:1: FutureWarning: Dropping of nuisance columns in DataFrame reductions (with 'numeric_only=None') is deprecated; in a future version this will raise TypeError.  Select only valid columns before calling the reduction.\n",
      "  df_uganda.skew()\n"
     ]
    },
    {
     "data": {
      "text/plain": [
       "block_interaction_id           -0.873338\n",
       "call_id                        -0.873336\n",
       "subscriber_id                  -0.735827\n",
       "tree_version_set_id            -0.402256\n",
       "duration_listened_minutes       3.878657\n",
       "duration_listened_seconds       3.887720\n",
       "organization_id                 0.000000\n",
       "block_audio_percent_listened   -1.987375\n",
       "km_block_reached               -1.138636\n",
       "km_block_listened              -1.152679\n",
       "listener                       -0.682502\n",
       "registered_demographic_info    -0.856847\n",
       "rural_or_urban                       NaN\n",
       "phone_type                           NaN\n",
       "education_level                      NaN\n",
       "income_source                        NaN\n",
       "airtime_expense                      NaN\n",
       "highest_expense_area                 NaN\n",
       "data_usage_consent                   NaN\n",
       "new_listener_ever              -1.972284\n",
       "new_listener_year              -0.582459\n",
       "new_caller_ever                -0.689672\n",
       "new_caller_year                -0.419233\n",
       "dtype: float64"
      ]
     },
     "execution_count": 11,
     "metadata": {},
     "output_type": "execute_result"
    }
   ],
   "source": [
    "df_uganda.skew()"
   ]
  },
  {
   "cell_type": "code",
   "execution_count": 12,
   "metadata": {},
   "outputs": [],
   "source": [
    "data_uganda = df_uganda.copy()"
   ]
  },
  {
   "cell_type": "code",
   "execution_count": 13,
   "metadata": {},
   "outputs": [
    {
     "data": {
      "text/plain": [
       "(10000, 44)"
      ]
     },
     "execution_count": 13,
     "metadata": {},
     "output_type": "execute_result"
    }
   ],
   "source": [
    "data_uganda.shape"
   ]
  },
  {
   "cell_type": "markdown",
   "metadata": {},
   "source": [
    "### Q1- Distribution of calls (unique call ids) over time (day, week, month)\n"
   ]
  },
  {
   "cell_type": "code",
   "execution_count": 14,
   "metadata": {},
   "outputs": [],
   "source": [
    "call_start = data_uganda['call_started']\n",
    "data_uganda['call_date'] = call_start.apply(lambda x: x.date())\n",
    "data_uganda['call_day'] = call_start.apply(lambda x: x.weekday())\n",
    "data_uganda['call_week'] = call_start.apply(lambda x: x.date().isocalendar().week)\n",
    "data_uganda['call_month'] = call_start.apply(lambda x: x.date().month)\n"
   ]
  },
  {
   "cell_type": "code",
   "execution_count": 102,
   "metadata": {},
   "outputs": [
    {
     "name": "stderr",
     "output_type": "stream",
     "text": [
      "/Users/waylandsingh/opt/anaconda3/lib/python3.9/site-packages/seaborn/_decorators.py:36: FutureWarning: Pass the following variables as keyword args: x, y. From version 0.12, the only valid positional argument will be `data`, and passing other arguments without an explicit keyword will result in an error or misinterpretation.\n",
      "  warnings.warn(\n"
     ]
    },
    {
     "data": {
      "text/plain": [
       "[Text(0.5, 1.0, 'number of calls per day')]"
      ]
     },
     "execution_count": 102,
     "metadata": {},
     "output_type": "execute_result"
    },
    {
     "data": {
      "image/png": "[encoded data removed]",
      "text/plain": [
       "<Figure size 432x288 with 1 Axes>"
      ]
     },
     "metadata": {
      "needs_background": "light"
     },
     "output_type": "display_data"
    }
   ],
   "source": [
    "calls_by_date = data_uganda[['call_date']].value_counts().to_frame().rename(columns={0:'calls_on_date'}).reset_index()\n",
    "(sns\n",
    "     .scatterplot(calls_by_date['call_date'], calls_by_date['calls_on_date'])\n",
    "     .set(title=\"number of calls per day\")\n",
    " \n",
    ")"
   ]
  },
  {
   "cell_type": "code",
   "execution_count": 94,
   "metadata": {},
   "outputs": [
    {
     "data": {
      "text/html": [
       "<div>\n",
       "<style scoped>\n",
       "    .dataframe tbody tr th:only-of-type {\n",
       "        vertical-align: middle;\n",
       "    }\n",
       "\n",
       "    .dataframe tbody tr th {\n",
       "        vertical-align: top;\n",
       "    }\n",
       "\n",
       "    .dataframe thead th {\n",
       "        text-align: right;\n",
       "    }\n",
       "</style>\n",
       "<table border=\"1\" class=\"dataframe\">\n",
       "  <thead>\n",
       "    <tr style=\"text-align: right;\">\n",
       "      <th></th>\n",
       "      <th>call_date</th>\n",
       "      <th>calls_on_date</th>\n",
       "    </tr>\n",
       "  </thead>\n",
       "  <tbody>\n",
       "    <tr>\n",
       "      <th>0</th>\n",
       "      <td>2022-11-01</td>\n",
       "      <td>68</td>\n",
       "    </tr>\n",
       "    <tr>\n",
       "      <th>1</th>\n",
       "      <td>2022-07-22</td>\n",
       "      <td>65</td>\n",
       "    </tr>\n",
       "    <tr>\n",
       "      <th>2</th>\n",
       "      <td>2022-09-30</td>\n",
       "      <td>61</td>\n",
       "    </tr>\n",
       "    <tr>\n",
       "      <th>3</th>\n",
       "      <td>2022-10-27</td>\n",
       "      <td>59</td>\n",
       "    </tr>\n",
       "    <tr>\n",
       "      <th>4</th>\n",
       "      <td>2022-10-03</td>\n",
       "      <td>55</td>\n",
       "    </tr>\n",
       "    <tr>\n",
       "      <th>...</th>\n",
       "      <td>...</td>\n",
       "      <td>...</td>\n",
       "    </tr>\n",
       "    <tr>\n",
       "      <th>679</th>\n",
       "      <td>2021-03-20</td>\n",
       "      <td>1</td>\n",
       "    </tr>\n",
       "    <tr>\n",
       "      <th>680</th>\n",
       "      <td>2021-09-18</td>\n",
       "      <td>1</td>\n",
       "    </tr>\n",
       "    <tr>\n",
       "      <th>681</th>\n",
       "      <td>2021-06-30</td>\n",
       "      <td>1</td>\n",
       "    </tr>\n",
       "    <tr>\n",
       "      <th>682</th>\n",
       "      <td>2022-01-28</td>\n",
       "      <td>1</td>\n",
       "    </tr>\n",
       "    <tr>\n",
       "      <th>683</th>\n",
       "      <td>2021-11-15</td>\n",
       "      <td>1</td>\n",
       "    </tr>\n",
       "  </tbody>\n",
       "</table>\n",
       "<p>684 rows × 2 columns</p>\n",
       "</div>"
      ],
      "text/plain": [
       "      call_date  calls_on_date\n",
       "0    2022-11-01             68\n",
       "1    2022-07-22             65\n",
       "2    2022-09-30             61\n",
       "3    2022-10-27             59\n",
       "4    2022-10-03             55\n",
       "..          ...            ...\n",
       "679  2021-03-20              1\n",
       "680  2021-09-18              1\n",
       "681  2021-06-30              1\n",
       "682  2022-01-28              1\n",
       "683  2021-11-15              1\n",
       "\n",
       "[684 rows x 2 columns]"
      ]
     },
     "execution_count": 94,
     "metadata": {},
     "output_type": "execute_result"
    }
   ],
   "source": [
    "calls_by_date"
   ]
  },
  {
   "cell_type": "code",
   "execution_count": null,
   "metadata": {},
   "outputs": [],
   "source": []
  },
  {
   "cell_type": "code",
   "execution_count": null,
   "metadata": {},
   "outputs": [],
   "source": []
  },
  {
   "cell_type": "code",
   "execution_count": 18,
   "metadata": {},
   "outputs": [
    {
     "data": {
      "text/plain": [
       "call_week\n",
       "39           361\n",
       "40           336\n",
       "35           326\n",
       "44           315\n",
       "24           315\n",
       "dtype: int64"
      ]
     },
     "execution_count": 18,
     "metadata": {},
     "output_type": "execute_result"
    }
   ],
   "source": [
    "data_uganda[['call_week']].value_counts()"
   ]
  },
  {
   "cell_type": "code",
   "execution_count": 19,
   "metadata": {},
   "outputs": [
    {
     "data": {
      "text/plain": [
       "call_month\n",
       "10            1249\n",
       "5             1050\n",
       "8             1039\n",
       "11             987\n",
       "7              971\n",
       "6              970\n",
       "9              914\n",
       "4              690\n",
       "3              664\n",
       "2              556\n",
       "1              486\n",
       "12             424\n",
       "dtype: int64"
      ]
     },
     "execution_count": 19,
     "metadata": {},
     "output_type": "execute_result"
    }
   ],
   "source": [
    "data_uganda[['call_month']].value_counts()"
   ]
  },
  {
   "cell_type": "markdown",
   "metadata": {},
   "source": [
    "### Q2 - Distribution of number of calls per subscriber (overall, by month)\n",
    "\n"
   ]
  },
  {
   "cell_type": "code",
   "execution_count": 20,
   "metadata": {},
   "outputs": [],
   "source": [
    "df_uganda_grp_subscriber = data_uganda.groupby('subscriber_id')"
   ]
  },
  {
   "cell_type": "code",
   "execution_count": 53,
   "metadata": {},
   "outputs": [
    {
     "data": {
      "text/html": [
       "<div>\n",
       "<style scoped>\n",
       "    .dataframe tbody tr th:only-of-type {\n",
       "        vertical-align: middle;\n",
       "    }\n",
       "\n",
       "    .dataframe tbody tr th {\n",
       "        vertical-align: top;\n",
       "    }\n",
       "\n",
       "    .dataframe thead th {\n",
       "        text-align: right;\n",
       "    }\n",
       "</style>\n",
       "<table border=\"1\" class=\"dataframe\">\n",
       "  <thead>\n",
       "    <tr style=\"text-align: right;\">\n",
       "      <th></th>\n",
       "      <th>subscriber_id</th>\n",
       "      <th>call_month</th>\n",
       "      <th>call_count</th>\n",
       "    </tr>\n",
       "  </thead>\n",
       "  <tbody>\n",
       "    <tr>\n",
       "      <th>0</th>\n",
       "      <td>570265192890368000</td>\n",
       "      <td>2</td>\n",
       "      <td>1</td>\n",
       "    </tr>\n",
       "    <tr>\n",
       "      <th>1</th>\n",
       "      <td>570292069990400000</td>\n",
       "      <td>12</td>\n",
       "      <td>1</td>\n",
       "    </tr>\n",
       "    <tr>\n",
       "      <th>2</th>\n",
       "      <td>570666042523648000</td>\n",
       "      <td>4</td>\n",
       "      <td>1</td>\n",
       "    </tr>\n",
       "    <tr>\n",
       "      <th>3</th>\n",
       "      <td>570918468321280000</td>\n",
       "      <td>7</td>\n",
       "      <td>1</td>\n",
       "    </tr>\n",
       "    <tr>\n",
       "      <th>4</th>\n",
       "      <td>571303375405056000</td>\n",
       "      <td>5</td>\n",
       "      <td>1</td>\n",
       "    </tr>\n",
       "    <tr>\n",
       "      <th>...</th>\n",
       "      <td>...</td>\n",
       "      <td>...</td>\n",
       "      <td>...</td>\n",
       "    </tr>\n",
       "    <tr>\n",
       "      <th>9721</th>\n",
       "      <td>1441103400543977556</td>\n",
       "      <td>11</td>\n",
       "      <td>1</td>\n",
       "    </tr>\n",
       "    <tr>\n",
       "      <th>9722</th>\n",
       "      <td>1441115238820218976</td>\n",
       "      <td>11</td>\n",
       "      <td>1</td>\n",
       "    </tr>\n",
       "    <tr>\n",
       "      <th>9723</th>\n",
       "      <td>1441142566749211464</td>\n",
       "      <td>11</td>\n",
       "      <td>1</td>\n",
       "    </tr>\n",
       "    <tr>\n",
       "      <th>9724</th>\n",
       "      <td>1441321227792158160</td>\n",
       "      <td>11</td>\n",
       "      <td>1</td>\n",
       "    </tr>\n",
       "    <tr>\n",
       "      <th>9725</th>\n",
       "      <td>1441352335321729764</td>\n",
       "      <td>11</td>\n",
       "      <td>1</td>\n",
       "    </tr>\n",
       "  </tbody>\n",
       "</table>\n",
       "<p>9726 rows × 3 columns</p>\n",
       "</div>"
      ],
      "text/plain": [
       "            subscriber_id  call_month  call_count\n",
       "0      570265192890368000           2           1\n",
       "1      570292069990400000          12           1\n",
       "2      570666042523648000           4           1\n",
       "3      570918468321280000           7           1\n",
       "4      571303375405056000           5           1\n",
       "...                   ...         ...         ...\n",
       "9721  1441103400543977556          11           1\n",
       "9722  1441115238820218976          11           1\n",
       "9723  1441142566749211464          11           1\n",
       "9724  1441321227792158160          11           1\n",
       "9725  1441352335321729764          11           1\n",
       "\n",
       "[9726 rows x 3 columns]"
      ]
     },
     "execution_count": 53,
     "metadata": {},
     "output_type": "execute_result"
    }
   ],
   "source": [
    "calls_per_sub_month = (df_uganda_grp_subscriber['call_month']\n",
    "                       .value_counts()\n",
    "                       .to_frame()\n",
    "                       .rename(columns={'call_month':'call_count'})\n",
    "                       .reset_index()\n",
    "                                                            \n",
    "                      )\n",
    "calls_per_sub_month"
   ]
  },
  {
   "cell_type": "code",
   "execution_count": 64,
   "metadata": {},
   "outputs": [
    {
     "data": {
      "text/plain": [
       "(array([8.932e+03, 7.600e+01, 4.000e+00, 1.000e+00, 0.000e+00, 0.000e+00,\n",
       "        0.000e+00, 0.000e+00, 0.000e+00, 1.000e+00]),\n",
       " array([ 1. ,  2.3,  3.6,  4.9,  6.2,  7.5,  8.8, 10.1, 11.4, 12.7, 14. ]),\n",
       " <BarContainer object of 10 artists>)"
      ]
     },
     "execution_count": 64,
     "metadata": {},
     "output_type": "execute_result"
    },
    {
     "data": {
      "image/png": "[encoded data removed]",
      "text/plain": [
       "<Figure size 432x288 with 1 Axes>"
      ]
     },
     "metadata": {
      "needs_background": "light"
     },
     "output_type": "display_data"
    }
   ],
   "source": [
    "# calls overall\n",
    "calls_overall = calls_per_sub_month.groupby('subscriber_id')['call_count'].sum()\n",
    "plt.hist(\n",
    "    x = calls_overall\n",
    ")\n"
   ]
  },
  {
   "cell_type": "code",
   "execution_count": 80,
   "metadata": {},
   "outputs": [
    {
     "data": {
      "text/plain": [
       "2.0"
      ]
     },
     "execution_count": 80,
     "metadata": {},
     "output_type": "execute_result"
    }
   ],
   "source": [
    "(calls_per_sub_month\n",
    "                    .where(calls_per_sub_month['call_month']==1)\n",
    "                    .groupby('subscriber_id')['call_count']\n",
    "                    .sum())"
   ]
  },
  {
   "cell_type": "code",
   "execution_count": 81,
   "metadata": {},
   "outputs": [
    {
     "data": {
      "image/png": "[encoded data removed]",
      "text/plain": [
       "<Figure size 432x288 with 12 Axes>"
      ]
     },
     "metadata": {
      "needs_background": "light"
     },
     "output_type": "display_data"
    }
   ],
   "source": [
    "# calls per month\n",
    "# histogram\n",
    "\n",
    "fig, axs = plt.subplots(12)\n",
    "fig.suptitle('Monthly call distribution')\n",
    "# axs[0].plot(x, y)\n",
    "# axs[1].plot(x, -y)\n",
    "\n",
    "for i in range(1,13):\n",
    "    # plot the histogram for that month's call distribution\n",
    "    data_to_plot = (calls_per_sub_month\n",
    "                    .where(calls_per_sub_month['call_month']==i)\n",
    "                    .groupby('subscriber_id')['call_count']\n",
    "                    .sum()\n",
    "                   \n",
    "                   )\n",
    "    axs[i-1].hist(data_to_plot)"
   ]
  },
  {
   "cell_type": "markdown",
   "metadata": {},
   "source": [
    "### Q3 - Distribution of time between calls per subscriber by calls"
   ]
  },
  {
   "cell_type": "code",
   "execution_count": 22,
   "metadata": {},
   "outputs": [],
   "source": [
    "# this one seems a bit tricky to me\n",
    "# perhaps a \"reduce\" is in orderhere to get the average time between calls"
   ]
  },
  {
   "cell_type": "markdown",
   "metadata": {},
   "source": [
    "### Q4- Frequency of calls by demographic variables (e.g. gender, education)\n",
    "\n"
   ]
  },
  {
   "cell_type": "code",
   "execution_count": 23,
   "metadata": {},
   "outputs": [
    {
     "data": {
      "text/plain": [
       "gender  location             \n",
       "female  region_eastcentral       1409\n",
       "        region_western            855\n",
       "        region_southwestern       494\n",
       "        region_nw_westnile        379\n",
       "        region_ne_karamoja        114\n",
       "        Centre                      1\n",
       "        kampala                     1\n",
       "        province_antananarivo       1\n",
       "male    region_eastcentral       2291\n",
       "        region_western           2037\n",
       "        region_nw_westnile        924\n",
       "        region_southwestern       841\n",
       "        region_ne_karamoja        252\n",
       "        province_antananarivo       1\n",
       "Name: location, dtype: int64"
      ]
     },
     "execution_count": 23,
     "metadata": {},
     "output_type": "execute_result"
    }
   ],
   "source": [
    "data_uganda.groupby(\"gender\")[\"location\"].value_counts()"
   ]
  },
  {
   "cell_type": "code",
   "execution_count": 24,
   "metadata": {},
   "outputs": [],
   "source": [
    "df_grouped_loc = data_uganda.sort_values(['location','gender'],ascending=False).groupby([\"location\",\"gender\"])"
   ]
  },
  {
   "cell_type": "code",
   "execution_count": 25,
   "metadata": {},
   "outputs": [],
   "source": [
    "df_ed = (\n",
    "    df_grouped_loc[\"subscriber_id\"]\n",
    "    .count()\n",
    "    .to_frame()\n",
    "    .rename(columns={\"subscriber_id\": \"counts\"})\n",
    "    .reset_index()\n",
    ")"
   ]
  },
  {
   "cell_type": "code",
   "execution_count": 26,
   "metadata": {},
   "outputs": [
    {
     "data": {
      "text/html": [
       "<div>\n",
       "<style scoped>\n",
       "    .dataframe tbody tr th:only-of-type {\n",
       "        vertical-align: middle;\n",
       "    }\n",
       "\n",
       "    .dataframe tbody tr th {\n",
       "        vertical-align: top;\n",
       "    }\n",
       "\n",
       "    .dataframe thead th {\n",
       "        text-align: right;\n",
       "    }\n",
       "</style>\n",
       "<table border=\"1\" class=\"dataframe\">\n",
       "  <thead>\n",
       "    <tr style=\"text-align: right;\">\n",
       "      <th></th>\n",
       "      <th>location</th>\n",
       "      <th>gender</th>\n",
       "      <th>counts</th>\n",
       "    </tr>\n",
       "  </thead>\n",
       "  <tbody>\n",
       "    <tr>\n",
       "      <th>0</th>\n",
       "      <td>Centre</td>\n",
       "      <td>female</td>\n",
       "      <td>1</td>\n",
       "    </tr>\n",
       "    <tr>\n",
       "      <th>1</th>\n",
       "      <td>kampala</td>\n",
       "      <td>female</td>\n",
       "      <td>1</td>\n",
       "    </tr>\n",
       "    <tr>\n",
       "      <th>2</th>\n",
       "      <td>province_antananarivo</td>\n",
       "      <td>female</td>\n",
       "      <td>1</td>\n",
       "    </tr>\n",
       "    <tr>\n",
       "      <th>3</th>\n",
       "      <td>province_antananarivo</td>\n",
       "      <td>male</td>\n",
       "      <td>1</td>\n",
       "    </tr>\n",
       "    <tr>\n",
       "      <th>4</th>\n",
       "      <td>region_eastcentral</td>\n",
       "      <td>female</td>\n",
       "      <td>1409</td>\n",
       "    </tr>\n",
       "    <tr>\n",
       "      <th>5</th>\n",
       "      <td>region_eastcentral</td>\n",
       "      <td>male</td>\n",
       "      <td>2291</td>\n",
       "    </tr>\n",
       "    <tr>\n",
       "      <th>6</th>\n",
       "      <td>region_ne_karamoja</td>\n",
       "      <td>female</td>\n",
       "      <td>114</td>\n",
       "    </tr>\n",
       "    <tr>\n",
       "      <th>7</th>\n",
       "      <td>region_ne_karamoja</td>\n",
       "      <td>male</td>\n",
       "      <td>252</td>\n",
       "    </tr>\n",
       "    <tr>\n",
       "      <th>8</th>\n",
       "      <td>region_nw_westnile</td>\n",
       "      <td>female</td>\n",
       "      <td>379</td>\n",
       "    </tr>\n",
       "    <tr>\n",
       "      <th>9</th>\n",
       "      <td>region_nw_westnile</td>\n",
       "      <td>male</td>\n",
       "      <td>924</td>\n",
       "    </tr>\n",
       "    <tr>\n",
       "      <th>10</th>\n",
       "      <td>region_southwestern</td>\n",
       "      <td>female</td>\n",
       "      <td>494</td>\n",
       "    </tr>\n",
       "    <tr>\n",
       "      <th>11</th>\n",
       "      <td>region_southwestern</td>\n",
       "      <td>male</td>\n",
       "      <td>841</td>\n",
       "    </tr>\n",
       "    <tr>\n",
       "      <th>12</th>\n",
       "      <td>region_western</td>\n",
       "      <td>female</td>\n",
       "      <td>855</td>\n",
       "    </tr>\n",
       "    <tr>\n",
       "      <th>13</th>\n",
       "      <td>region_western</td>\n",
       "      <td>male</td>\n",
       "      <td>2037</td>\n",
       "    </tr>\n",
       "  </tbody>\n",
       "</table>\n",
       "</div>"
      ],
      "text/plain": [
       "                 location  gender  counts\n",
       "0                  Centre  female       1\n",
       "1                 kampala  female       1\n",
       "2   province_antananarivo  female       1\n",
       "3   province_antananarivo    male       1\n",
       "4      region_eastcentral  female    1409\n",
       "5      region_eastcentral    male    2291\n",
       "6      region_ne_karamoja  female     114\n",
       "7      region_ne_karamoja    male     252\n",
       "8      region_nw_westnile  female     379\n",
       "9      region_nw_westnile    male     924\n",
       "10    region_southwestern  female     494\n",
       "11    region_southwestern    male     841\n",
       "12         region_western  female     855\n",
       "13         region_western    male    2037"
      ]
     },
     "execution_count": 26,
     "metadata": {},
     "output_type": "execute_result"
    }
   ],
   "source": [
    "df_ed"
   ]
  },
  {
   "cell_type": "code",
   "execution_count": 27,
   "metadata": {
    "scrolled": true
   },
   "outputs": [
    {
     "name": "stderr",
     "output_type": "stream",
     "text": [
      "/Users/waylandsingh/opt/anaconda3/lib/python3.9/site-packages/seaborn/_decorators.py:36: FutureWarning: Pass the following variables as keyword args: x, y. From version 0.12, the only valid positional argument will be `data`, and passing other arguments without an explicit keyword will result in an error or misinterpretation.\n",
      "  warnings.warn(\n"
     ]
    },
    {
     "data": {
      "image/png": "[encoded data removed]",
      "text/plain": [
       "<Figure size 4320x1080 with 1 Axes>"
      ]
     },
     "metadata": {
      "needs_background": "light"
     },
     "output_type": "display_data"
    }
   ],
   "source": [
    "plt.figure(figsize=(60, 15))\n",
    "sns.barplot(\n",
    "    df_ed[\"location\"],\n",
    "    df_ed[\"counts\"],\n",
    "    hue=df_ed[\"gender\"],\n",
    "    palette=\"viridis\",\n",
    ")\n",
    "plt.legend(bbox_to_anchor=(1.00, 1))\n",
    "plt.show()"
   ]
  },
  {
   "cell_type": "code",
   "execution_count": 28,
   "metadata": {},
   "outputs": [],
   "source": [
    "df_grouped_edulvl_loc= data_uganda.sort_values(['location','education_level'],ascending=False).groupby([\"location\",\"education_level\"])"
   ]
  },
  {
   "cell_type": "code",
   "execution_count": 29,
   "metadata": {},
   "outputs": [],
   "source": [
    "df_edulvl = (\n",
    "    df_grouped_edulvl_loc[\"subscriber_id\"]\n",
    "    .count()\n",
    "    .to_frame()\n",
    "    .rename(columns={\"subscriber_id\": \"counts\"})\n",
    "    .reset_index()\n",
    ")"
   ]
  },
  {
   "cell_type": "code",
   "execution_count": 30,
   "metadata": {
    "scrolled": true
   },
   "outputs": [
    {
     "data": {
      "text/html": [
       "<div>\n",
       "<style scoped>\n",
       "    .dataframe tbody tr th:only-of-type {\n",
       "        vertical-align: middle;\n",
       "    }\n",
       "\n",
       "    .dataframe tbody tr th {\n",
       "        vertical-align: top;\n",
       "    }\n",
       "\n",
       "    .dataframe thead th {\n",
       "        text-align: right;\n",
       "    }\n",
       "</style>\n",
       "<table border=\"1\" class=\"dataframe\">\n",
       "  <thead>\n",
       "    <tr style=\"text-align: right;\">\n",
       "      <th></th>\n",
       "      <th>location</th>\n",
       "      <th>education_level</th>\n",
       "      <th>counts</th>\n",
       "    </tr>\n",
       "  </thead>\n",
       "  <tbody>\n",
       "  </tbody>\n",
       "</table>\n",
       "</div>"
      ],
      "text/plain": [
       "Empty DataFrame\n",
       "Columns: [location, education_level, counts]\n",
       "Index: []"
      ]
     },
     "execution_count": 30,
     "metadata": {},
     "output_type": "execute_result"
    }
   ],
   "source": [
    "df_edulvl"
   ]
  },
  {
   "cell_type": "code",
   "execution_count": null,
   "metadata": {},
   "outputs": [],
   "source": []
  },
  {
   "cell_type": "markdown",
   "metadata": {},
   "source": [
    " ### helper functions"
   ]
  },
  {
   "cell_type": "code",
   "execution_count": 31,
   "metadata": {},
   "outputs": [],
   "source": [
    "# function to plot stacked bar chart\n",
    "\n",
    "\n",
    "def stacked_barplot(data, predictor, target):\n",
    "    \"\"\"\n",
    "    Print the category counts and plot a stacked bar chart\n",
    "\n",
    "    data: dataframe\n",
    "    predictor: independent variable\n",
    "    target: target variable\n",
    "    \"\"\"\n",
    "    count = data[predictor].nunique()\n",
    "    sorter = data[target].value_counts().index[-1]\n",
    "    tab1 = pd.crosstab(data[predictor], data[target], margins=True).sort_values(\n",
    "        by=sorter, ascending=False\n",
    "    )\n",
    "    print(tab1)\n",
    "    print(\"-\" * 120)\n",
    "    tab = pd.crosstab(data[predictor], data[target], normalize=\"index\").sort_values(\n",
    "        by=sorter, ascending=False\n",
    "    )\n",
    "    tab.plot(kind=\"bar\", stacked=True, figsize=(count + 5, 6))\n",
    "    plt.legend(\n",
    "        loc=\"lower left\", frameon=False,\n",
    "    )\n",
    "    plt.legend(loc=\"upper left\", bbox_to_anchor=(1, 1))\n",
    "    plt.show()"
   ]
  },
  {
   "cell_type": "code",
   "execution_count": null,
   "metadata": {},
   "outputs": [],
   "source": []
  },
  {
   "cell_type": "code",
   "execution_count": null,
   "metadata": {},
   "outputs": [],
   "source": []
  },
  {
   "cell_type": "code",
   "execution_count": null,
   "metadata": {},
   "outputs": [],
   "source": []
  },
  {
   "cell_type": "code",
   "execution_count": null,
   "metadata": {},
   "outputs": [],
   "source": []
  },
  {
   "cell_type": "code",
   "execution_count": null,
   "metadata": {},
   "outputs": [],
   "source": []
  },
  {
   "cell_type": "code",
   "execution_count": null,
   "metadata": {},
   "outputs": [],
   "source": []
  }
 ],
 "metadata": {
  "kernelspec": {
   "display_name": "Python 3 (ipykernel)",
   "language": "python",
   "name": "python3"
  },
  "language_info": {
   "codemirror_mode": {
    "name": "ipython",
    "version": 3
   },
   "file_extension": ".py",
   "mimetype": "text/x-python",
   "name": "python",
   "nbconvert_exporter": "python",
   "pygments_lexer": "ipython3",
   "version": "3.9.12"
  }
 },
 "nbformat": 4,
 "nbformat_minor": 4
}
