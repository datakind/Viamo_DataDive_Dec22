{
 "cells": [
  {
   "cell_type": "markdown",
   "id": "dd86ac64",
   "metadata": {},
   "source": [
    "# DataKind - Viamo DataDive Project"
   ]
  },
  {
   "cell_type": "markdown",
   "id": "e4dedc7b",
   "metadata": {},
   "source": [
    "**Author:** Paria Elyasi<br>\n",
    "**Contact:** pariae@me.com<br>\n",
    "**Date:** 12-02-2022<br>\n",
    "**Notebook**: 1 of 1<br>"
   ]
  },
  {
   "cell_type": "markdown",
   "id": "15921085",
   "metadata": {},
   "source": [
    "## Overview / Problem Statement"
   ]
  },
  {
   "cell_type": "markdown",
   "id": "a787c89c",
   "metadata": {},
   "source": [
    "Interactive voice recognition (IVR) technology has been around for over a half century.  At its core, IVR functionality provides a framework for information exchange between a service provider and a service recipient using pre-established information flows that can be navigated from a touch-tone phone. A case example of IVR commercial success was Moviefone, which operated from 1989-2014 as an IVR product where individuals could call a service line to gain information on movie times in their local area. IVR continues to see commercial success as a component of customer service strategies, as a counterpart to web-based chatbots, as a tool to remove human resources from routine information collection and intake. As a tool for social service delivery, IVR has continued to be used across developed economies - despite the proliferation of smartphones and internet services - for social services, such as extreme weather alerts and healthcare management. In many contexts, the competitor to IVR is the radio, and the key differentiators for IVR as a product is the on-demand nature of content and the interactive nature.  In other contexts, the chief competitor of IVR is internet access provided through social networks, such as Facebook, where a customer would have access to a community of knowledge to self-serve information from an internet/app based medium.  In a final context, the competitor is SMS-based automation, which typically has very low engagement levels (e.g. chatbot-style technology).\n",
    "\n",
    "In places with low internet penetration and low literacy, IVR can prove to be a key tool for trusted information dissemination (e.g. weather), health education (e.g. parenting), and medication reminders (e.g. tuberculosis treatments.)  Crucially, IVR can disseminate information that is personalized to the customer and is information that could not be gathered in other ways - either because there is an information gap in the community or because the subject is taboo or has cultural implications such that the customer would not feel comfortable seeking information from others in the community. While IVR technology does compete with SMS and app-provided internet, these options continue to be inaccessible or less accessible to illiterate or low-literacy populations. IVR services are provided by a number of actors, and one of the largest and best established is Viamo.\n",
    "\n",
    "**The 3-2-1 platform has a challenge of converting users to consistent/regular users, defined as the monthly average user count (MAU). Despite strong, positive customer feedback (70% would recommend the service), few users convert from an initial acquisition experience (e.g. getting the single piece of information they were looking for) to a retained customer who returns to the platform regularly for information across one, or multiple, domains.**  While this lack of retention has business implications for Viamo, it also has a potential social impact - without regular uptake of information across the 3-2-1 platform, individuals in target communities are likely not receiving appropriate and timely information that would allow them to make informed decisions related to health, education, and economics.  Single use of an IVR system is a small intended segment of overall customer population targets - there is an expectation that single use might increase in times of emergency or crisis (e.g. the number of users who came to the Viamo platform during the COVID-19 pandemic), but the design of an IVR platform as an information aggregation platform with consistently updated, reliable content that is shared through sequential engagements means that the expectation is that most customers will need to be repeat users to prove the system’s theory of change. \n"
   ]
  },
  {
   "cell_type": "markdown",
   "id": "117af74f",
   "metadata": {},
   "source": [
    "### Importing the Data"
   ]
  },
  {
   "cell_type": "markdown",
   "id": "464fddce",
   "metadata": {},
   "source": [
    "First we will import basic libraries for our inital EDA and install packages necessary for reading in our data."
   ]
  },
  {
   "cell_type": "code",
   "execution_count": 1,
   "id": "4106f804",
   "metadata": {},
   "outputs": [],
   "source": [
    "#import libraries\n",
    "import numpy as np\n",
    "import pandas as pd\n",
    "import matplotlib.pyplot as plt\n",
    "import seaborn as sns"
   ]
  },
  {
   "cell_type": "code",
   "execution_count": 2,
   "id": "8e001934",
   "metadata": {},
   "outputs": [],
   "source": [
    "import os"
   ]
  },
  {
   "cell_type": "code",
   "execution_count": 3,
   "id": "4b1ee1e5",
   "metadata": {},
   "outputs": [],
   "source": [
    "os.environ[\"GOOGLE_APPLICATION_CREDENTIALS\"]='/Users/pariaelyasi/Desktop/viamo-datakind-19b12e3872f5.json'"
   ]
  },
  {
   "cell_type": "code",
   "execution_count": 4,
   "id": "6fe40563",
   "metadata": {},
   "outputs": [],
   "source": [
    "#pip install google-cloud"
   ]
  },
  {
   "cell_type": "code",
   "execution_count": 5,
   "id": "59dd82d0",
   "metadata": {},
   "outputs": [],
   "source": [
    "#pip install google-cloud-bigquery"
   ]
  },
  {
   "cell_type": "code",
   "execution_count": 6,
   "id": "9085984b",
   "metadata": {},
   "outputs": [],
   "source": [
    "#pip install google-cloud-storage"
   ]
  },
  {
   "cell_type": "code",
   "execution_count": 7,
   "id": "6c448158",
   "metadata": {},
   "outputs": [],
   "source": [
    "#pip install pandas-gbq -U"
   ]
  },
  {
   "cell_type": "code",
   "execution_count": 8,
   "id": "39dd87bc",
   "metadata": {},
   "outputs": [],
   "source": [
    "from google.cloud import bigquery"
   ]
  },
  {
   "cell_type": "code",
   "execution_count": 9,
   "id": "7b93b3b2",
   "metadata": {},
   "outputs": [],
   "source": [
    "Bigquery_client = bigquery.Client()"
   ]
  },
  {
   "cell_type": "code",
   "execution_count": 10,
   "id": "dfbce814",
   "metadata": {
    "scrolled": true
   },
   "outputs": [
    {
     "name": "stdout",
     "output_type": "stream",
     "text": [
      "Row((datetime.date(2022, 8, 10), datetime.datetime(2022, 8, 10, 5, 15, 37, tzinfo=datetime.timezone.utc), 1403970000339340744, 1403969884387806284, 1403837547184390800, datetime.datetime(2022, 8, 10, 5, 15, 37, tzinfo=datetime.timezone.utc), datetime.datetime(2022, 8, 10, 5, 15, 32, tzinfo=datetime.timezone.utc), 'block_1626363341993_41', 36972, datetime.datetime(2022, 8, 10, 5, 15, 4, tzinfo=datetime.timezone.utc), datetime.datetime(2022, 8, 10, 5, 15, 37, tzinfo=datetime.timezone.utc), 0.1, 5.0, 'EAF', 'East Africa', 559393309458432000, 'Uganda', 100.0, None, None, None, 'Listen Menu', None, '', '', '', '18_24', 'male', 'region_nw_westnile', None, 'yes_contact', 'Luo', 1403837547184390800, None, None, None, None, None, None, None, None, None, None, None), {'call_date': 0, 'dl_global_created_at': 1, 'block_interaction_id': 2, 'call_id': 3, 'subscriber_id': 4, 'block_global_created_at': 5, 'block_entry_at': 6, 'js_key': 7, 'tree_version_set_id': 8, 'call_started': 9, 'call_ended': 10, 'duration_listened_minutes': 11, 'duration_listened_seconds': 12, 'region': 13, 'region_name': 14, 'organization_id': 15, 'organization_country': 16, 'block_audio_percent_listened': 17, 'km_block_reached': 18, 'km_block_listened': 19, 'listener': 20, 'listen_menu_or_digest': 21, 'block_title': 22, 'block_tags': 23, 'block_theme': 24, 'block_topic': 25, 'age': 26, 'gender': 27, 'location': 28, 'location_level_2': 29, 'opt_in': 30, 'subscriber_pereferred_language': 31, 'registered_demographic_info': 32, 'rural_or_urban': 33, 'phone_type': 34, 'education_level': 35, 'income_source': 36, 'airtime_expense': 37, 'highest_expense_area': 38, 'data_usage_consent': 39, 'new_listener_ever': 40, 'new_listener_year': 41, 'new_caller_ever': 42, 'new_caller_year': 43})\n",
      "Row((datetime.date(2022, 8, 10), datetime.datetime(2022, 8, 10, 5, 15, 37, tzinfo=datetime.timezone.utc), 1403969884471690544, 1403969884387806284, 1403837547184390800, datetime.datetime(2022, 8, 10, 5, 15, 4, tzinfo=datetime.timezone.utc), datetime.datetime(2022, 8, 10, 5, 15, 4, tzinfo=datetime.timezone.utc), 'block_1568896479947_66', 36972, datetime.datetime(2022, 8, 10, 5, 15, 4, tzinfo=datetime.timezone.utc), datetime.datetime(2022, 8, 10, 5, 15, 37, tzinfo=datetime.timezone.utc), 0.0, 0.0, 'EAF', 'East Africa', 559393309458432000, 'Uganda', 100.0, None, None, None, 'Listen Menu', None, '', '', '', '18_24', 'male', 'region_nw_westnile', None, 'yes_contact', 'Luo', 1403837547184390800, None, None, None, None, None, None, None, None, None, None, None), {'call_date': 0, 'dl_global_created_at': 1, 'block_interaction_id': 2, 'call_id': 3, 'subscriber_id': 4, 'block_global_created_at': 5, 'block_entry_at': 6, 'js_key': 7, 'tree_version_set_id': 8, 'call_started': 9, 'call_ended': 10, 'duration_listened_minutes': 11, 'duration_listened_seconds': 12, 'region': 13, 'region_name': 14, 'organization_id': 15, 'organization_country': 16, 'block_audio_percent_listened': 17, 'km_block_reached': 18, 'km_block_listened': 19, 'listener': 20, 'listen_menu_or_digest': 21, 'block_title': 22, 'block_tags': 23, 'block_theme': 24, 'block_topic': 25, 'age': 26, 'gender': 27, 'location': 28, 'location_level_2': 29, 'opt_in': 30, 'subscriber_pereferred_language': 31, 'registered_demographic_info': 32, 'rural_or_urban': 33, 'phone_type': 34, 'education_level': 35, 'income_source': 36, 'airtime_expense': 37, 'highest_expense_area': 38, 'data_usage_consent': 39, 'new_listener_ever': 40, 'new_listener_year': 41, 'new_caller_ever': 42, 'new_caller_year': 43})\n",
      "Row((datetime.date(2022, 8, 10), datetime.datetime(2022, 8, 10, 5, 15, 37, tzinfo=datetime.timezone.utc), 1403969884685601052, 1403969884387806284, 1403837547184390800, datetime.datetime(2022, 8, 10, 5, 15, 10, tzinfo=datetime.timezone.utc), datetime.datetime(2022, 8, 10, 5, 15, 5, tzinfo=datetime.timezone.utc), 'block_1477742758446_29', 36972, datetime.datetime(2022, 8, 10, 5, 15, 4, tzinfo=datetime.timezone.utc), datetime.datetime(2022, 8, 10, 5, 15, 37, tzinfo=datetime.timezone.utc), 0.1, 5.0, 'EAF', 'East Africa', 559393309458432000, 'Uganda', 100.0, None, None, None, 'Listen Menu', '1-9th Call Message', '', '', '', '18_24', 'male', 'region_nw_westnile', None, 'yes_contact', 'Luo', 1403837547184390800, None, None, None, None, None, None, None, None, None, None, None), {'call_date': 0, 'dl_global_created_at': 1, 'block_interaction_id': 2, 'call_id': 3, 'subscriber_id': 4, 'block_global_created_at': 5, 'block_entry_at': 6, 'js_key': 7, 'tree_version_set_id': 8, 'call_started': 9, 'call_ended': 10, 'duration_listened_minutes': 11, 'duration_listened_seconds': 12, 'region': 13, 'region_name': 14, 'organization_id': 15, 'organization_country': 16, 'block_audio_percent_listened': 17, 'km_block_reached': 18, 'km_block_listened': 19, 'listener': 20, 'listen_menu_or_digest': 21, 'block_title': 22, 'block_tags': 23, 'block_theme': 24, 'block_topic': 25, 'age': 26, 'gender': 27, 'location': 28, 'location_level_2': 29, 'opt_in': 30, 'subscriber_pereferred_language': 31, 'registered_demographic_info': 32, 'rural_or_urban': 33, 'phone_type': 34, 'education_level': 35, 'income_source': 36, 'airtime_expense': 37, 'highest_expense_area': 38, 'data_usage_consent': 39, 'new_listener_ever': 40, 'new_listener_year': 41, 'new_caller_ever': 42, 'new_caller_year': 43})\n",
      "Row((datetime.date(2022, 8, 10), datetime.datetime(2022, 8, 10, 5, 18, 21, tzinfo=datetime.timezone.utc), 1403970397766421376, 1403970083252341088, 1403837547184390800, datetime.datetime(2022, 8, 10, 5, 18, 21, tzinfo=datetime.timezone.utc), datetime.datetime(2022, 8, 10, 5, 17, 7, tzinfo=datetime.timezone.utc), 'block_1644909160919_38', 41943, datetime.datetime(2022, 8, 10, 5, 15, 52, tzinfo=datetime.timezone.utc), datetime.datetime(2022, 8, 10, 5, 18, 21, tzinfo=datetime.timezone.utc), 1.2, 74.0, 'EAF', 'East Africa', 559393309458432000, 'Uganda', 24.7492, 1403970397766421376, None, None, None, 'News Bulletin', '2.0,km,news,partner_vision_group', 'news', '', '18_24', 'male', 'region_nw_westnile', None, 'yes_contact', 'Luo', 1403837547184390800, None, None, None, None, None, None, None, None, None, None, None), {'call_date': 0, 'dl_global_created_at': 1, 'block_interaction_id': 2, 'call_id': 3, 'subscriber_id': 4, 'block_global_created_at': 5, 'block_entry_at': 6, 'js_key': 7, 'tree_version_set_id': 8, 'call_started': 9, 'call_ended': 10, 'duration_listened_minutes': 11, 'duration_listened_seconds': 12, 'region': 13, 'region_name': 14, 'organization_id': 15, 'organization_country': 16, 'block_audio_percent_listened': 17, 'km_block_reached': 18, 'km_block_listened': 19, 'listener': 20, 'listen_menu_or_digest': 21, 'block_title': 22, 'block_tags': 23, 'block_theme': 24, 'block_topic': 25, 'age': 26, 'gender': 27, 'location': 28, 'location_level_2': 29, 'opt_in': 30, 'subscriber_pereferred_language': 31, 'registered_demographic_info': 32, 'rural_or_urban': 33, 'phone_type': 34, 'education_level': 35, 'income_source': 36, 'airtime_expense': 37, 'highest_expense_area': 38, 'data_usage_consent': 39, 'new_listener_ever': 40, 'new_listener_year': 41, 'new_caller_ever': 42, 'new_caller_year': 43})\n",
      "Row((datetime.date(2022, 8, 10), datetime.datetime(2022, 8, 10, 5, 18, 21, tzinfo=datetime.timezone.utc), 1403970107856127316, 1403970083252341088, 1403837547184390800, datetime.datetime(2022, 8, 10, 5, 16, 23, tzinfo=datetime.timezone.utc), datetime.datetime(2022, 8, 10, 5, 15, 58, tzinfo=datetime.timezone.utc), 'block_1626362981857_29', 36972, datetime.datetime(2022, 8, 10, 5, 15, 52, tzinfo=datetime.timezone.utc), datetime.datetime(2022, 8, 10, 5, 18, 21, tzinfo=datetime.timezone.utc), 0.4, 25.0, 'EAF', 'East Africa', 559393309458432000, 'Uganda', 100.0, None, None, None, 'Listen Menu', 'Welcome Menu', '', '', '', '18_24', 'male', 'region_nw_westnile', None, 'yes_contact', 'Luo', 1403837547184390800, None, None, None, None, None, None, None, None, None, None, None), {'call_date': 0, 'dl_global_created_at': 1, 'block_interaction_id': 2, 'call_id': 3, 'subscriber_id': 4, 'block_global_created_at': 5, 'block_entry_at': 6, 'js_key': 7, 'tree_version_set_id': 8, 'call_started': 9, 'call_ended': 10, 'duration_listened_minutes': 11, 'duration_listened_seconds': 12, 'region': 13, 'region_name': 14, 'organization_id': 15, 'organization_country': 16, 'block_audio_percent_listened': 17, 'km_block_reached': 18, 'km_block_listened': 19, 'listener': 20, 'listen_menu_or_digest': 21, 'block_title': 22, 'block_tags': 23, 'block_theme': 24, 'block_topic': 25, 'age': 26, 'gender': 27, 'location': 28, 'location_level_2': 29, 'opt_in': 30, 'subscriber_pereferred_language': 31, 'registered_demographic_info': 32, 'rural_or_urban': 33, 'phone_type': 34, 'education_level': 35, 'income_source': 36, 'airtime_expense': 37, 'highest_expense_area': 38, 'data_usage_consent': 39, 'new_listener_ever': 40, 'new_listener_year': 41, 'new_caller_ever': 42, 'new_caller_year': 43})\n",
      "Row((datetime.date(2022, 8, 10), datetime.datetime(2022, 8, 10, 5, 18, 21, tzinfo=datetime.timezone.utc), 1403970083327839732, 1403970083252341088, 1403837547184390800, datetime.datetime(2022, 8, 10, 5, 15, 52, tzinfo=datetime.timezone.utc), datetime.datetime(2022, 8, 10, 5, 15, 52, tzinfo=datetime.timezone.utc), 'block_1568896479947_66', 36972, datetime.datetime(2022, 8, 10, 5, 15, 52, tzinfo=datetime.timezone.utc), datetime.datetime(2022, 8, 10, 5, 18, 21, tzinfo=datetime.timezone.utc), 0.0, 0.0, 'EAF', 'East Africa', 559393309458432000, 'Uganda', 100.0, None, None, None, 'Listen Menu', None, '', '', '', '18_24', 'male', 'region_nw_westnile', None, 'yes_contact', 'Luo', 1403837547184390800, None, None, None, None, None, None, None, None, None, None, None), {'call_date': 0, 'dl_global_created_at': 1, 'block_interaction_id': 2, 'call_id': 3, 'subscriber_id': 4, 'block_global_created_at': 5, 'block_entry_at': 6, 'js_key': 7, 'tree_version_set_id': 8, 'call_started': 9, 'call_ended': 10, 'duration_listened_minutes': 11, 'duration_listened_seconds': 12, 'region': 13, 'region_name': 14, 'organization_id': 15, 'organization_country': 16, 'block_audio_percent_listened': 17, 'km_block_reached': 18, 'km_block_listened': 19, 'listener': 20, 'listen_menu_or_digest': 21, 'block_title': 22, 'block_tags': 23, 'block_theme': 24, 'block_topic': 25, 'age': 26, 'gender': 27, 'location': 28, 'location_level_2': 29, 'opt_in': 30, 'subscriber_pereferred_language': 31, 'registered_demographic_info': 32, 'rural_or_urban': 33, 'phone_type': 34, 'education_level': 35, 'income_source': 36, 'airtime_expense': 37, 'highest_expense_area': 38, 'data_usage_consent': 39, 'new_listener_ever': 40, 'new_listener_year': 41, 'new_caller_ever': 42, 'new_caller_year': 43})\n",
      "Row((datetime.date(2022, 8, 10), datetime.datetime(2022, 8, 10, 5, 18, 21, tzinfo=datetime.timezone.utc), 1403970301175795644, 1403970083252341088, 1403837547184390800, datetime.datetime(2022, 8, 10, 5, 17, 7, tzinfo=datetime.timezone.utc), datetime.datetime(2022, 8, 10, 5, 16, 44, tzinfo=datetime.timezone.utc), 'block_1600418307411_94', 23373, datetime.datetime(2022, 8, 10, 5, 15, 52, tzinfo=datetime.timezone.utc), datetime.datetime(2022, 8, 10, 5, 18, 21, tzinfo=datetime.timezone.utc), 0.4, 23.0, 'EAF', 'East Africa', 559393309458432000, 'Uganda', 100.0, None, None, None, 'Listen Menu', 'Choose digest', '', '', '', '18_24', 'male', 'region_nw_westnile', None, 'yes_contact', 'Luo', 1403837547184390800, None, None, None, None, None, None, None, None, None, None, None), {'call_date': 0, 'dl_global_created_at': 1, 'block_interaction_id': 2, 'call_id': 3, 'subscriber_id': 4, 'block_global_created_at': 5, 'block_entry_at': 6, 'js_key': 7, 'tree_version_set_id': 8, 'call_started': 9, 'call_ended': 10, 'duration_listened_minutes': 11, 'duration_listened_seconds': 12, 'region': 13, 'region_name': 14, 'organization_id': 15, 'organization_country': 16, 'block_audio_percent_listened': 17, 'km_block_reached': 18, 'km_block_listened': 19, 'listener': 20, 'listen_menu_or_digest': 21, 'block_title': 22, 'block_tags': 23, 'block_theme': 24, 'block_topic': 25, 'age': 26, 'gender': 27, 'location': 28, 'location_level_2': 29, 'opt_in': 30, 'subscriber_pereferred_language': 31, 'registered_demographic_info': 32, 'rural_or_urban': 33, 'phone_type': 34, 'education_level': 35, 'income_source': 36, 'airtime_expense': 37, 'highest_expense_area': 38, 'data_usage_consent': 39, 'new_listener_ever': 40, 'new_listener_year': 41, 'new_caller_ever': 42, 'new_caller_year': 43})\n",
      "Row((datetime.date(2022, 8, 10), datetime.datetime(2022, 8, 10, 5, 15, 37, tzinfo=datetime.timezone.utc), 1403969908937066508, 1403969884387806284, 1403837547184390800, datetime.datetime(2022, 8, 10, 5, 15, 32, tzinfo=datetime.timezone.utc), datetime.datetime(2022, 8, 10, 5, 15, 10, tzinfo=datetime.timezone.utc), 'block_1626362981857_29', 36972, datetime.datetime(2022, 8, 10, 5, 15, 4, tzinfo=datetime.timezone.utc), datetime.datetime(2022, 8, 10, 5, 15, 37, tzinfo=datetime.timezone.utc), 0.4, 22.0, 'EAF', 'East Africa', 559393309458432000, 'Uganda', 100.0, None, None, None, 'Listen Menu', 'Welcome Menu', '', '', '', '18_24', 'male', 'region_nw_westnile', None, 'yes_contact', 'Luo', 1403837547184390800, None, None, None, None, None, None, None, None, None, None, None), {'call_date': 0, 'dl_global_created_at': 1, 'block_interaction_id': 2, 'call_id': 3, 'subscriber_id': 4, 'block_global_created_at': 5, 'block_entry_at': 6, 'js_key': 7, 'tree_version_set_id': 8, 'call_started': 9, 'call_ended': 10, 'duration_listened_minutes': 11, 'duration_listened_seconds': 12, 'region': 13, 'region_name': 14, 'organization_id': 15, 'organization_country': 16, 'block_audio_percent_listened': 17, 'km_block_reached': 18, 'km_block_listened': 19, 'listener': 20, 'listen_menu_or_digest': 21, 'block_title': 22, 'block_tags': 23, 'block_theme': 24, 'block_topic': 25, 'age': 26, 'gender': 27, 'location': 28, 'location_level_2': 29, 'opt_in': 30, 'subscriber_pereferred_language': 31, 'registered_demographic_info': 32, 'rural_or_urban': 33, 'phone_type': 34, 'education_level': 35, 'income_source': 36, 'airtime_expense': 37, 'highest_expense_area': 38, 'data_usage_consent': 39, 'new_listener_ever': 40, 'new_listener_year': 41, 'new_caller_ever': 42, 'new_caller_year': 43})\n",
      "Row((datetime.date(2022, 8, 10), datetime.datetime(2022, 8, 10, 5, 18, 21, tzinfo=datetime.timezone.utc), 1403970083587884928, 1403970083252341088, 1403837547184390800, datetime.datetime(2022, 8, 10, 5, 15, 58, tzinfo=datetime.timezone.utc), datetime.datetime(2022, 8, 10, 5, 15, 52, tzinfo=datetime.timezone.utc), 'block_1477742758446_29', 36972, datetime.datetime(2022, 8, 10, 5, 15, 52, tzinfo=datetime.timezone.utc), datetime.datetime(2022, 8, 10, 5, 18, 21, tzinfo=datetime.timezone.utc), 0.1, 6.0, 'EAF', 'East Africa', 559393309458432000, 'Uganda', 100.0, None, None, None, 'Listen Menu', '1-9th Call Message', '', '', '', '18_24', 'male', 'region_nw_westnile', None, 'yes_contact', 'Luo', 1403837547184390800, None, None, None, None, None, None, None, None, None, None, None), {'call_date': 0, 'dl_global_created_at': 1, 'block_interaction_id': 2, 'call_id': 3, 'subscriber_id': 4, 'block_global_created_at': 5, 'block_entry_at': 6, 'js_key': 7, 'tree_version_set_id': 8, 'call_started': 9, 'call_ended': 10, 'duration_listened_minutes': 11, 'duration_listened_seconds': 12, 'region': 13, 'region_name': 14, 'organization_id': 15, 'organization_country': 16, 'block_audio_percent_listened': 17, 'km_block_reached': 18, 'km_block_listened': 19, 'listener': 20, 'listen_menu_or_digest': 21, 'block_title': 22, 'block_tags': 23, 'block_theme': 24, 'block_topic': 25, 'age': 26, 'gender': 27, 'location': 28, 'location_level_2': 29, 'opt_in': 30, 'subscriber_pereferred_language': 31, 'registered_demographic_info': 32, 'rural_or_urban': 33, 'phone_type': 34, 'education_level': 35, 'income_source': 36, 'airtime_expense': 37, 'highest_expense_area': 38, 'data_usage_consent': 39, 'new_listener_ever': 40, 'new_listener_year': 41, 'new_caller_ever': 42, 'new_caller_year': 43})\n",
      "Row((datetime.date(2022, 8, 10), datetime.datetime(2022, 8, 10, 5, 18, 21, tzinfo=datetime.timezone.utc), 1403970213028301816, 1403970083252341088, 1403837547184390800, datetime.datetime(2022, 8, 10, 5, 16, 44, tzinfo=datetime.timezone.utc), datetime.datetime(2022, 8, 10, 5, 16, 23, tzinfo=datetime.timezone.utc), 'block_1597232248731_89', 23373, datetime.datetime(2022, 8, 10, 5, 15, 52, tzinfo=datetime.timezone.utc), datetime.datetime(2022, 8, 10, 5, 18, 21, tzinfo=datetime.timezone.utc), 0.3, 21.0, 'EAF', 'East Africa', 559393309458432000, 'Uganda', 100.0, None, None, None, 'Listen Menu', 'Digest welcome message', '', '', '', '18_24', 'male', 'region_nw_westnile', None, 'yes_contact', 'Luo', 1403837547184390800, None, None, None, None, None, None, None, None, None, None, None), {'call_date': 0, 'dl_global_created_at': 1, 'block_interaction_id': 2, 'call_id': 3, 'subscriber_id': 4, 'block_global_created_at': 5, 'block_entry_at': 6, 'js_key': 7, 'tree_version_set_id': 8, 'call_started': 9, 'call_ended': 10, 'duration_listened_minutes': 11, 'duration_listened_seconds': 12, 'region': 13, 'region_name': 14, 'organization_id': 15, 'organization_country': 16, 'block_audio_percent_listened': 17, 'km_block_reached': 18, 'km_block_listened': 19, 'listener': 20, 'listen_menu_or_digest': 21, 'block_title': 22, 'block_tags': 23, 'block_theme': 24, 'block_topic': 25, 'age': 26, 'gender': 27, 'location': 28, 'location_level_2': 29, 'opt_in': 30, 'subscriber_pereferred_language': 31, 'registered_demographic_info': 32, 'rural_or_urban': 33, 'phone_type': 34, 'education_level': 35, 'income_source': 36, 'airtime_expense': 37, 'highest_expense_area': 38, 'data_usage_consent': 39, 'new_listener_ever': 40, 'new_listener_year': 41, 'new_caller_ever': 42, 'new_caller_year': 43})\n"
     ]
    }
   ],
   "source": [
    "query = \"\"\"\n",
    "SELECT *\n",
    "FROM `viamo-datakind.datadive.321_sessions_1122` \n",
    "WHERE call_date = '2022-08-10' AND subscriber_id = 1403837547184390800 LIMIT 10\n",
    "\"\"\"\n",
    "\n",
    "results = Bigquery_client.query(query)\n",
    "\n",
    "for result in results:\n",
    "    print(result)"
   ]
  },
  {
   "cell_type": "code",
   "execution_count": 11,
   "id": "edb8d750",
   "metadata": {
    "scrolled": true
   },
   "outputs": [],
   "source": [
    "df = pd.read_gbq(\"SELECT * FROM `viamo-datakind.datadive.321_sessions_1122` LIMIT 100\")"
   ]
  },
  {
   "cell_type": "code",
   "execution_count": 12,
   "id": "395d2bcf",
   "metadata": {},
   "outputs": [
    {
     "data": {
      "text/html": [
       "<div>\n",
       "<style scoped>\n",
       "    .dataframe tbody tr th:only-of-type {\n",
       "        vertical-align: middle;\n",
       "    }\n",
       "\n",
       "    .dataframe tbody tr th {\n",
       "        vertical-align: top;\n",
       "    }\n",
       "\n",
       "    .dataframe thead th {\n",
       "        text-align: right;\n",
       "    }\n",
       "</style>\n",
       "<table border=\"1\" class=\"dataframe\">\n",
       "  <thead>\n",
       "    <tr style=\"text-align: right;\">\n",
       "      <th></th>\n",
       "      <th>call_date</th>\n",
       "      <th>dl_global_created_at</th>\n",
       "      <th>block_interaction_id</th>\n",
       "      <th>call_id</th>\n",
       "      <th>subscriber_id</th>\n",
       "      <th>block_global_created_at</th>\n",
       "      <th>block_entry_at</th>\n",
       "      <th>js_key</th>\n",
       "      <th>tree_version_set_id</th>\n",
       "      <th>call_started</th>\n",
       "      <th>...</th>\n",
       "      <th>phone_type</th>\n",
       "      <th>education_level</th>\n",
       "      <th>income_source</th>\n",
       "      <th>airtime_expense</th>\n",
       "      <th>highest_expense_area</th>\n",
       "      <th>data_usage_consent</th>\n",
       "      <th>new_listener_ever</th>\n",
       "      <th>new_listener_year</th>\n",
       "      <th>new_caller_ever</th>\n",
       "      <th>new_caller_year</th>\n",
       "    </tr>\n",
       "  </thead>\n",
       "  <tbody>\n",
       "    <tr>\n",
       "      <th>0</th>\n",
       "      <td>2022-08-22</td>\n",
       "      <td>2022-08-22 16:23:12+00:00</td>\n",
       "      <td>1408486077303850500</td>\n",
       "      <td>1408486073113743308</td>\n",
       "      <td>1163031229725933568</td>\n",
       "      <td>2022-08-22 16:21:00+00:00</td>\n",
       "      <td>2022-08-22 16:20:49+00:00</td>\n",
       "      <td>block_1635535649871_28</td>\n",
       "      <td>19069</td>\n",
       "      <td>2022-08-22 16:20:48+00:00</td>\n",
       "      <td>...</td>\n",
       "      <td>null</td>\n",
       "      <td>null</td>\n",
       "      <td>null</td>\n",
       "      <td>null</td>\n",
       "      <td>null</td>\n",
       "      <td>yes_consent</td>\n",
       "      <td>&lt;NA&gt;</td>\n",
       "      <td>&lt;NA&gt;</td>\n",
       "      <td>&lt;NA&gt;</td>\n",
       "      <td>&lt;NA&gt;</td>\n",
       "    </tr>\n",
       "    <tr>\n",
       "      <th>1</th>\n",
       "      <td>2021-07-18</td>\n",
       "      <td>2021-07-18 18:13:39+00:00</td>\n",
       "      <td>1263552836105987964</td>\n",
       "      <td>1263552587471841832</td>\n",
       "      <td>798531682041856098</td>\n",
       "      <td>2021-07-18 17:57:51+00:00</td>\n",
       "      <td>2021-07-18 17:47:51+00:00</td>\n",
       "      <td>block_1602776841866_61</td>\n",
       "      <td>22441</td>\n",
       "      <td>2021-07-18 17:46:52+00:00</td>\n",
       "      <td>...</td>\n",
       "      <td>None</td>\n",
       "      <td>None</td>\n",
       "      <td>None</td>\n",
       "      <td>None</td>\n",
       "      <td>None</td>\n",
       "      <td>None</td>\n",
       "      <td>&lt;NA&gt;</td>\n",
       "      <td>&lt;NA&gt;</td>\n",
       "      <td>&lt;NA&gt;</td>\n",
       "      <td>&lt;NA&gt;</td>\n",
       "    </tr>\n",
       "    <tr>\n",
       "      <th>2</th>\n",
       "      <td>2022-11-13</td>\n",
       "      <td>2022-11-13 08:16:14+00:00</td>\n",
       "      <td>1438440448577734796</td>\n",
       "      <td>1438440048080422708</td>\n",
       "      <td>1438434199358376156</td>\n",
       "      <td>2022-11-13 08:08:50+00:00</td>\n",
       "      <td>2022-11-13 08:08:47+00:00</td>\n",
       "      <td>block_1649054899824_43</td>\n",
       "      <td>44157</td>\n",
       "      <td>2022-11-13 08:07:12+00:00</td>\n",
       "      <td>...</td>\n",
       "      <td>null</td>\n",
       "      <td>null</td>\n",
       "      <td>null</td>\n",
       "      <td>null</td>\n",
       "      <td>null</td>\n",
       "      <td>Yes_consent</td>\n",
       "      <td>&lt;NA&gt;</td>\n",
       "      <td>&lt;NA&gt;</td>\n",
       "      <td>&lt;NA&gt;</td>\n",
       "      <td>&lt;NA&gt;</td>\n",
       "    </tr>\n",
       "    <tr>\n",
       "      <th>3</th>\n",
       "      <td>2022-08-01</td>\n",
       "      <td>2022-08-01 20:17:15+00:00</td>\n",
       "      <td>1400934399574771008</td>\n",
       "      <td>1400930644674445604</td>\n",
       "      <td>1253264700167651736</td>\n",
       "      <td>2022-08-01 20:13:19+00:00</td>\n",
       "      <td>2022-08-01 20:13:08+00:00</td>\n",
       "      <td>block_1651189142265_73</td>\n",
       "      <td>44158</td>\n",
       "      <td>2022-08-01 19:58:13+00:00</td>\n",
       "      <td>...</td>\n",
       "      <td>basic mobile phone_v2</td>\n",
       "      <td>primary school_v2</td>\n",
       "      <td>Other income source</td>\n",
       "      <td>below 100 naira airtime_v2</td>\n",
       "      <td>other expenses_v2</td>\n",
       "      <td>No_Consent</td>\n",
       "      <td>&lt;NA&gt;</td>\n",
       "      <td>1253264700167651736</td>\n",
       "      <td>&lt;NA&gt;</td>\n",
       "      <td>1253264700167651736</td>\n",
       "    </tr>\n",
       "    <tr>\n",
       "      <th>4</th>\n",
       "      <td>2022-11-14</td>\n",
       "      <td>2022-11-14 09:32:13+00:00</td>\n",
       "      <td>1438823055295481596</td>\n",
       "      <td>1438820866774763424</td>\n",
       "      <td>1438434199358376156</td>\n",
       "      <td>2022-11-14 09:32:13+00:00</td>\n",
       "      <td>2022-11-14 09:29:08+00:00</td>\n",
       "      <td>block_1640196468445_47</td>\n",
       "      <td>40712</td>\n",
       "      <td>2022-11-14 09:20:26+00:00</td>\n",
       "      <td>...</td>\n",
       "      <td>null</td>\n",
       "      <td>null</td>\n",
       "      <td>null</td>\n",
       "      <td>null</td>\n",
       "      <td>null</td>\n",
       "      <td>Yes_consent</td>\n",
       "      <td>&lt;NA&gt;</td>\n",
       "      <td>&lt;NA&gt;</td>\n",
       "      <td>&lt;NA&gt;</td>\n",
       "      <td>&lt;NA&gt;</td>\n",
       "    </tr>\n",
       "  </tbody>\n",
       "</table>\n",
       "<p>5 rows × 44 columns</p>\n",
       "</div>"
      ],
      "text/plain": [
       "    call_date      dl_global_created_at  block_interaction_id  \\\n",
       "0  2022-08-22 2022-08-22 16:23:12+00:00   1408486077303850500   \n",
       "1  2021-07-18 2021-07-18 18:13:39+00:00   1263552836105987964   \n",
       "2  2022-11-13 2022-11-13 08:16:14+00:00   1438440448577734796   \n",
       "3  2022-08-01 2022-08-01 20:17:15+00:00   1400934399574771008   \n",
       "4  2022-11-14 2022-11-14 09:32:13+00:00   1438823055295481596   \n",
       "\n",
       "               call_id        subscriber_id   block_global_created_at  \\\n",
       "0  1408486073113743308  1163031229725933568 2022-08-22 16:21:00+00:00   \n",
       "1  1263552587471841832   798531682041856098 2021-07-18 17:57:51+00:00   \n",
       "2  1438440048080422708  1438434199358376156 2022-11-13 08:08:50+00:00   \n",
       "3  1400930644674445604  1253264700167651736 2022-08-01 20:13:19+00:00   \n",
       "4  1438820866774763424  1438434199358376156 2022-11-14 09:32:13+00:00   \n",
       "\n",
       "             block_entry_at                  js_key  tree_version_set_id  \\\n",
       "0 2022-08-22 16:20:49+00:00  block_1635535649871_28                19069   \n",
       "1 2021-07-18 17:47:51+00:00  block_1602776841866_61                22441   \n",
       "2 2022-11-13 08:08:47+00:00  block_1649054899824_43                44157   \n",
       "3 2022-08-01 20:13:08+00:00  block_1651189142265_73                44158   \n",
       "4 2022-11-14 09:29:08+00:00  block_1640196468445_47                40712   \n",
       "\n",
       "               call_started  ...             phone_type    education_level  \\\n",
       "0 2022-08-22 16:20:48+00:00  ...                   null               null   \n",
       "1 2021-07-18 17:46:52+00:00  ...                   None               None   \n",
       "2 2022-11-13 08:07:12+00:00  ...                   null               null   \n",
       "3 2022-08-01 19:58:13+00:00  ...  basic mobile phone_v2  primary school_v2   \n",
       "4 2022-11-14 09:20:26+00:00  ...                   null               null   \n",
       "\n",
       "         income_source             airtime_expense highest_expense_area  \\\n",
       "0                 null                        null                 null   \n",
       "1                 None                        None                 None   \n",
       "2                 null                        null                 null   \n",
       "3  Other income source  below 100 naira airtime_v2    other expenses_v2   \n",
       "4                 null                        null                 null   \n",
       "\n",
       "   data_usage_consent new_listener_ever    new_listener_year  new_caller_ever  \\\n",
       "0         yes_consent              <NA>                 <NA>             <NA>   \n",
       "1                None              <NA>                 <NA>             <NA>   \n",
       "2         Yes_consent              <NA>                 <NA>             <NA>   \n",
       "3          No_Consent              <NA>  1253264700167651736             <NA>   \n",
       "4         Yes_consent              <NA>                 <NA>             <NA>   \n",
       "\n",
       "       new_caller_year  \n",
       "0                 <NA>  \n",
       "1                 <NA>  \n",
       "2                 <NA>  \n",
       "3  1253264700167651736  \n",
       "4                 <NA>  \n",
       "\n",
       "[5 rows x 44 columns]"
      ]
     },
     "execution_count": 12,
     "metadata": {},
     "output_type": "execute_result"
    }
   ],
   "source": [
    "#check the data\n",
    "df.head()"
   ]
  },
  {
   "cell_type": "code",
   "execution_count": 13,
   "id": "2ca8714a",
   "metadata": {},
   "outputs": [
    {
     "data": {
      "text/html": [
       "<div>\n",
       "<style scoped>\n",
       "    .dataframe tbody tr th:only-of-type {\n",
       "        vertical-align: middle;\n",
       "    }\n",
       "\n",
       "    .dataframe tbody tr th {\n",
       "        vertical-align: top;\n",
       "    }\n",
       "\n",
       "    .dataframe thead th {\n",
       "        text-align: right;\n",
       "    }\n",
       "</style>\n",
       "<table border=\"1\" class=\"dataframe\">\n",
       "  <thead>\n",
       "    <tr style=\"text-align: right;\">\n",
       "      <th></th>\n",
       "      <th>call_date</th>\n",
       "      <th>dl_global_created_at</th>\n",
       "      <th>block_interaction_id</th>\n",
       "      <th>call_id</th>\n",
       "      <th>subscriber_id</th>\n",
       "      <th>block_global_created_at</th>\n",
       "      <th>block_entry_at</th>\n",
       "      <th>js_key</th>\n",
       "      <th>tree_version_set_id</th>\n",
       "      <th>call_started</th>\n",
       "      <th>...</th>\n",
       "      <th>phone_type</th>\n",
       "      <th>education_level</th>\n",
       "      <th>income_source</th>\n",
       "      <th>airtime_expense</th>\n",
       "      <th>highest_expense_area</th>\n",
       "      <th>data_usage_consent</th>\n",
       "      <th>new_listener_ever</th>\n",
       "      <th>new_listener_year</th>\n",
       "      <th>new_caller_ever</th>\n",
       "      <th>new_caller_year</th>\n",
       "    </tr>\n",
       "  </thead>\n",
       "  <tbody>\n",
       "    <tr>\n",
       "      <th>21</th>\n",
       "      <td>2022-10-25</td>\n",
       "      <td>2022-10-25 13:30:43+00:00</td>\n",
       "      <td>1431635013828838032</td>\n",
       "      <td>1431633102291569064</td>\n",
       "      <td>1431614967152871532</td>\n",
       "      <td>2022-10-25 13:26:43+00:00</td>\n",
       "      <td>2022-10-25 13:26:25+00:00</td>\n",
       "      <td>block_1649666109498_14</td>\n",
       "      <td>44153</td>\n",
       "      <td>2022-10-25 13:18:50+00:00</td>\n",
       "      <td>...</td>\n",
       "      <td>null</td>\n",
       "      <td>middle_school</td>\n",
       "      <td>self_employed</td>\n",
       "      <td>200_500_naira</td>\n",
       "      <td>education</td>\n",
       "      <td>No_Consent</td>\n",
       "      <td>&lt;NA&gt;</td>\n",
       "      <td>&lt;NA&gt;</td>\n",
       "      <td>&lt;NA&gt;</td>\n",
       "      <td>&lt;NA&gt;</td>\n",
       "    </tr>\n",
       "    <tr>\n",
       "      <th>73</th>\n",
       "      <td>2021-09-01</td>\n",
       "      <td>2021-09-01 17:11:08+00:00</td>\n",
       "      <td>1279851018074983616</td>\n",
       "      <td>1279850546387748644</td>\n",
       "      <td>1225764549492736712</td>\n",
       "      <td>2021-09-01 17:11:08+00:00</td>\n",
       "      <td>2021-09-01 17:11:01+00:00</td>\n",
       "      <td>block_1583499662738_90</td>\n",
       "      <td>20063</td>\n",
       "      <td>2021-09-01 17:09:08+00:00</td>\n",
       "      <td>...</td>\n",
       "      <td>None</td>\n",
       "      <td>None</td>\n",
       "      <td>None</td>\n",
       "      <td>None</td>\n",
       "      <td>None</td>\n",
       "      <td>None</td>\n",
       "      <td>&lt;NA&gt;</td>\n",
       "      <td>&lt;NA&gt;</td>\n",
       "      <td>&lt;NA&gt;</td>\n",
       "      <td>&lt;NA&gt;</td>\n",
       "    </tr>\n",
       "    <tr>\n",
       "      <th>63</th>\n",
       "      <td>2022-04-14</td>\n",
       "      <td>2022-04-14 11:48:13+00:00</td>\n",
       "      <td>1361306189014994076</td>\n",
       "      <td>1361306018772388164</td>\n",
       "      <td>1361293052505195572</td>\n",
       "      <td>2022-04-14 11:44:55+00:00</td>\n",
       "      <td>2022-04-14 11:44:47+00:00</td>\n",
       "      <td>block_1641245073679_23</td>\n",
       "      <td>40767</td>\n",
       "      <td>2022-04-14 11:44:06+00:00</td>\n",
       "      <td>...</td>\n",
       "      <td>None</td>\n",
       "      <td>None</td>\n",
       "      <td>None</td>\n",
       "      <td>None</td>\n",
       "      <td>None</td>\n",
       "      <td>None</td>\n",
       "      <td>&lt;NA&gt;</td>\n",
       "      <td>&lt;NA&gt;</td>\n",
       "      <td>&lt;NA&gt;</td>\n",
       "      <td>&lt;NA&gt;</td>\n",
       "    </tr>\n",
       "    <tr>\n",
       "      <th>1</th>\n",
       "      <td>2021-07-18</td>\n",
       "      <td>2021-07-18 18:13:39+00:00</td>\n",
       "      <td>1263552836105987964</td>\n",
       "      <td>1263552587471841832</td>\n",
       "      <td>798531682041856098</td>\n",
       "      <td>2021-07-18 17:57:51+00:00</td>\n",
       "      <td>2021-07-18 17:47:51+00:00</td>\n",
       "      <td>block_1602776841866_61</td>\n",
       "      <td>22441</td>\n",
       "      <td>2021-07-18 17:46:52+00:00</td>\n",
       "      <td>...</td>\n",
       "      <td>None</td>\n",
       "      <td>None</td>\n",
       "      <td>None</td>\n",
       "      <td>None</td>\n",
       "      <td>None</td>\n",
       "      <td>None</td>\n",
       "      <td>&lt;NA&gt;</td>\n",
       "      <td>&lt;NA&gt;</td>\n",
       "      <td>&lt;NA&gt;</td>\n",
       "      <td>&lt;NA&gt;</td>\n",
       "    </tr>\n",
       "    <tr>\n",
       "      <th>90</th>\n",
       "      <td>2022-09-14</td>\n",
       "      <td>2022-09-14 14:39:07+00:00</td>\n",
       "      <td>1416788504809573320</td>\n",
       "      <td>1416788176622062152</td>\n",
       "      <td>1345416442665240168</td>\n",
       "      <td>2022-09-14 14:12:01+00:00</td>\n",
       "      <td>2022-09-14 14:11:42+00:00</td>\n",
       "      <td>block_1601901407422_68</td>\n",
       "      <td>36972</td>\n",
       "      <td>2022-09-14 14:10:23+00:00</td>\n",
       "      <td>...</td>\n",
       "      <td>None</td>\n",
       "      <td>None</td>\n",
       "      <td>None</td>\n",
       "      <td>None</td>\n",
       "      <td>None</td>\n",
       "      <td>None</td>\n",
       "      <td>&lt;NA&gt;</td>\n",
       "      <td>&lt;NA&gt;</td>\n",
       "      <td>&lt;NA&gt;</td>\n",
       "      <td>&lt;NA&gt;</td>\n",
       "    </tr>\n",
       "  </tbody>\n",
       "</table>\n",
       "<p>5 rows × 44 columns</p>\n",
       "</div>"
      ],
      "text/plain": [
       "     call_date      dl_global_created_at  block_interaction_id  \\\n",
       "21  2022-10-25 2022-10-25 13:30:43+00:00   1431635013828838032   \n",
       "73  2021-09-01 2021-09-01 17:11:08+00:00   1279851018074983616   \n",
       "63  2022-04-14 2022-04-14 11:48:13+00:00   1361306189014994076   \n",
       "1   2021-07-18 2021-07-18 18:13:39+00:00   1263552836105987964   \n",
       "90  2022-09-14 2022-09-14 14:39:07+00:00   1416788504809573320   \n",
       "\n",
       "                call_id        subscriber_id   block_global_created_at  \\\n",
       "21  1431633102291569064  1431614967152871532 2022-10-25 13:26:43+00:00   \n",
       "73  1279850546387748644  1225764549492736712 2021-09-01 17:11:08+00:00   \n",
       "63  1361306018772388164  1361293052505195572 2022-04-14 11:44:55+00:00   \n",
       "1   1263552587471841832   798531682041856098 2021-07-18 17:57:51+00:00   \n",
       "90  1416788176622062152  1345416442665240168 2022-09-14 14:12:01+00:00   \n",
       "\n",
       "              block_entry_at                  js_key  tree_version_set_id  \\\n",
       "21 2022-10-25 13:26:25+00:00  block_1649666109498_14                44153   \n",
       "73 2021-09-01 17:11:01+00:00  block_1583499662738_90                20063   \n",
       "63 2022-04-14 11:44:47+00:00  block_1641245073679_23                40767   \n",
       "1  2021-07-18 17:47:51+00:00  block_1602776841866_61                22441   \n",
       "90 2022-09-14 14:11:42+00:00  block_1601901407422_68                36972   \n",
       "\n",
       "                call_started  ... phone_type  education_level  income_source  \\\n",
       "21 2022-10-25 13:18:50+00:00  ...       null    middle_school  self_employed   \n",
       "73 2021-09-01 17:09:08+00:00  ...       None             None           None   \n",
       "63 2022-04-14 11:44:06+00:00  ...       None             None           None   \n",
       "1  2021-07-18 17:46:52+00:00  ...       None             None           None   \n",
       "90 2022-09-14 14:10:23+00:00  ...       None             None           None   \n",
       "\n",
       "   airtime_expense highest_expense_area  data_usage_consent new_listener_ever  \\\n",
       "21   200_500_naira            education          No_Consent              <NA>   \n",
       "73            None                 None                None              <NA>   \n",
       "63            None                 None                None              <NA>   \n",
       "1             None                 None                None              <NA>   \n",
       "90            None                 None                None              <NA>   \n",
       "\n",
       "    new_listener_year  new_caller_ever  new_caller_year  \n",
       "21               <NA>             <NA>             <NA>  \n",
       "73               <NA>             <NA>             <NA>  \n",
       "63               <NA>             <NA>             <NA>  \n",
       "1                <NA>             <NA>             <NA>  \n",
       "90               <NA>             <NA>             <NA>  \n",
       "\n",
       "[5 rows x 44 columns]"
      ]
     },
     "execution_count": 13,
     "metadata": {},
     "output_type": "execute_result"
    }
   ],
   "source": [
    "#look at 5 random rows\n",
    "df.sample(5)"
   ]
  },
  {
   "cell_type": "code",
   "execution_count": 14,
   "id": "866ea56f",
   "metadata": {},
   "outputs": [
    {
     "data": {
      "text/plain": [
       "(100, 44)"
      ]
     },
     "execution_count": 14,
     "metadata": {},
     "output_type": "execute_result"
    }
   ],
   "source": [
    "#get data shape to make sure all 100 requested rows are there\n",
    "df.shape"
   ]
  },
  {
   "cell_type": "markdown",
   "id": "1d2fc6c0",
   "metadata": {},
   "source": [
    "Great, now we can look at the info to get all columns and their data types in our dataset. "
   ]
  },
  {
   "cell_type": "code",
   "execution_count": 15,
   "id": "803b267d",
   "metadata": {},
   "outputs": [
    {
     "name": "stdout",
     "output_type": "stream",
     "text": [
      "<class 'pandas.core.frame.DataFrame'>\n",
      "RangeIndex: 100 entries, 0 to 99\n",
      "Data columns (total 44 columns):\n",
      " #   Column                          Non-Null Count  Dtype              \n",
      "---  ------                          --------------  -----              \n",
      " 0   call_date                       100 non-null    dbdate             \n",
      " 1   dl_global_created_at            100 non-null    datetime64[ns, UTC]\n",
      " 2   block_interaction_id            100 non-null    Int64              \n",
      " 3   call_id                         100 non-null    Int64              \n",
      " 4   subscriber_id                   100 non-null    Int64              \n",
      " 5   block_global_created_at         100 non-null    datetime64[ns, UTC]\n",
      " 6   block_entry_at                  100 non-null    datetime64[ns, UTC]\n",
      " 7   js_key                          100 non-null    object             \n",
      " 8   tree_version_set_id             100 non-null    Int64              \n",
      " 9   call_started                    100 non-null    datetime64[ns, UTC]\n",
      " 10  call_ended                      100 non-null    datetime64[ns, UTC]\n",
      " 11  duration_listened_minutes       98 non-null     float64            \n",
      " 12  duration_listened_seconds       98 non-null     float64            \n",
      " 13  region                          100 non-null    object             \n",
      " 14  region_name                     100 non-null    object             \n",
      " 15  organization_id                 100 non-null    Int64              \n",
      " 16  organization_country            100 non-null    object             \n",
      " 17  block_audio_percent_listened    98 non-null     float64            \n",
      " 18  km_block_reached                42 non-null     Int64              \n",
      " 19  km_block_listened               32 non-null     Int64              \n",
      " 20  listener                        32 non-null     Int64              \n",
      " 21  listen_menu_or_digest           80 non-null     object             \n",
      " 22  block_title                     94 non-null     object             \n",
      " 23  block_tags                      100 non-null    object             \n",
      " 24  block_theme                     100 non-null    object             \n",
      " 25  block_topic                     100 non-null    object             \n",
      " 26  age                             84 non-null     object             \n",
      " 27  gender                          84 non-null     object             \n",
      " 28  location                        100 non-null    object             \n",
      " 29  location_level_2                38 non-null     object             \n",
      " 30  opt_in                          51 non-null     object             \n",
      " 31  subscriber_pereferred_language  91 non-null     object             \n",
      " 32  registered_demographic_info     83 non-null     Int64              \n",
      " 33  rural_or_urban                  19 non-null     object             \n",
      " 34  phone_type                      19 non-null     object             \n",
      " 35  education_level                 19 non-null     object             \n",
      " 36  income_source                   17 non-null     object             \n",
      " 37  airtime_expense                 17 non-null     object             \n",
      " 38  highest_expense_area            17 non-null     object             \n",
      " 39  data_usage_consent              22 non-null     object             \n",
      " 40  new_listener_ever               1 non-null      Int64              \n",
      " 41  new_listener_year               5 non-null      Int64              \n",
      " 42  new_caller_ever                 0 non-null      Int64              \n",
      " 43  new_caller_year                 5 non-null      Int64              \n",
      "dtypes: Int64(13), datetime64[ns, UTC](5), dbdate(1), float64(3), object(22)\n",
      "memory usage: 35.8+ KB\n"
     ]
    }
   ],
   "source": [
    "#get info about our data\n",
    "df.info()"
   ]
  },
  {
   "cell_type": "markdown",
   "id": "8c7c25c6",
   "metadata": {},
   "source": [
    "Note that `call_date` is not in the datetime format and we will update this later for our Mali dataset. For now we will leave it."
   ]
  },
  {
   "cell_type": "markdown",
   "id": "1d71eacb",
   "metadata": {},
   "source": [
    "From the above info, we can update the data dictionary."
   ]
  },
  {
   "cell_type": "markdown",
   "id": "1ca605d4",
   "metadata": {},
   "source": [
    "#### Data Dictionary\n",
    "\n",
    "|**Column Name**| **Description**| **Data Type** |\n",
    "| :--- | :--- |:--- |\n",
    "|**call_date**| Date when the interaction with Viamo happened  | Date |\n",
    "|**dl_global_created_at**| Timestamp of when the call was logged (For Internal Use)| Datetime |\n",
    "|**block_interaction_id**| Unique interaction ID (Unique row identifier)| Numeric |\n",
    "|**call_id**|Unique call ID | Numeric|\n",
    "|**subscriber_id**| Unique Subscriber ID (Unique ID for every caller)|Numeric|\n",
    "|**block_global_created_at**|  |  Datetime|\n",
    "|**block_entry_at**|  | Datetime |\n",
    "|**js_key**|  | Categorical |\n",
    "|**tree_version_set_id**| |  |\n",
    "|**call_started**| |  |\n",
    "|**call_ended**| |  |\n",
    "|**duration_listened_minutes**| |  |\n",
    "|**duration_listened_seconds**| |  |\n",
    "|**region**| |  |\n",
    "|**region_name**| |  |\n",
    "|**organization_id**| |  |\n",
    "|**organization_country**||  |\n",
    "|**block_audio_percent_listened**| |  |\n",
    "|**km_block_reached**||  |\n",
    "|**km_block_listened**| |  |\n",
    "|**listener**| |  |\n",
    "|**listen_menu_or_digest**||  |\n",
    "|**block_title**| |  |\n",
    "|**block_tags**| |  |\n",
    "|**block_theme**| |  |\n",
    "|**block_topic**| |  |\n",
    "|**age**| Age of the subscriber| Categorical |\n",
    "|**gender**|Gender of the subscriber| Categorical |\n",
    "|**location**| Location of subscriber| Categorical |\n",
    "|**location_level_2**| Second level location details of the subscriber| Categorical |\n",
    "|**opt_in**| If user has opted in to answer our demographic questions | Categorical  |\n",
    "|**subscriber_pereferred_language**|Preferred language of the subscriber | Categorical |\n",
    "|**registered_demographic_info**|subscriber id goes here if the subscriber has provided their age, gender and location information| Numerical |\n",
    "|**rural_or_urban**|| Categorical |\n",
    "|**phone_type**| |  |\n",
    "|**education_level**| |  |\n",
    "|**income_source**| |  |\n",
    "|**airtime_expense**| |  |\n",
    "|**highest_expense_area**| |  |\n",
    "|**data_usage_consent**| |  |\n",
    "|**new_listener_ever**|Subscriber_id if this is the first call the user has ever made as a listener ever | Numerical |\n",
    "|**new_listener_year**|Subscriber_id if this is the first call the user has ever made as a listener in 2022 |  Numerical|\n",
    "|**new_caller_ever**|Subscriber_id if this is the first call the user has ever made as a caller ever |Numerical  |\n",
    "|**new_caller_year**| Subscriber_id if this is the first call the user has ever made as a caller in 2022| Numerical |"
   ]
  },
  {
   "cell_type": "markdown",
   "id": "65a5a87c",
   "metadata": {},
   "source": [
    "Let's make a new dataframe with 20,000 rows from our big data instead of 100 to have a better represenation and explore the countries in our dataset."
   ]
  },
  {
   "cell_type": "code",
   "execution_count": 16,
   "id": "4a2ba947",
   "metadata": {},
   "outputs": [],
   "source": [
    "df2 = pd.read_gbq(\"SELECT * FROM `viamo-datakind.datadive.321_sessions_1122` LIMIT 20000\")"
   ]
  },
  {
   "cell_type": "code",
   "execution_count": 17,
   "id": "8664987c",
   "metadata": {},
   "outputs": [
    {
     "data": {
      "text/plain": [
       "array(['Mali', 'Uganda', 'Nigeria'], dtype=object)"
      ]
     },
     "execution_count": 17,
     "metadata": {},
     "output_type": "execute_result"
    }
   ],
   "source": [
    "#check unique countries in our dataset\n",
    "df2['organization_country'].unique()"
   ]
  },
  {
   "cell_type": "code",
   "execution_count": 18,
   "id": "199405ad",
   "metadata": {},
   "outputs": [],
   "source": [
    "#make new dataset with Mali data only - limit 1,000,000\n",
    "df_mali = pd.read_gbq(\"SELECT * FROM `viamo-datakind.datadive.321_sessions_1122` WHERE organization_country = 'Mali' ORDER BY RAND() LIMIT 1000000\")"
   ]
  },
  {
   "cell_type": "code",
   "execution_count": 19,
   "id": "0cf9c02e",
   "metadata": {},
   "outputs": [
    {
     "data": {
      "text/html": [
       "<div>\n",
       "<style scoped>\n",
       "    .dataframe tbody tr th:only-of-type {\n",
       "        vertical-align: middle;\n",
       "    }\n",
       "\n",
       "    .dataframe tbody tr th {\n",
       "        vertical-align: top;\n",
       "    }\n",
       "\n",
       "    .dataframe thead th {\n",
       "        text-align: right;\n",
       "    }\n",
       "</style>\n",
       "<table border=\"1\" class=\"dataframe\">\n",
       "  <thead>\n",
       "    <tr style=\"text-align: right;\">\n",
       "      <th></th>\n",
       "      <th>call_date</th>\n",
       "      <th>dl_global_created_at</th>\n",
       "      <th>block_interaction_id</th>\n",
       "      <th>call_id</th>\n",
       "      <th>subscriber_id</th>\n",
       "      <th>block_global_created_at</th>\n",
       "      <th>block_entry_at</th>\n",
       "      <th>js_key</th>\n",
       "      <th>tree_version_set_id</th>\n",
       "      <th>call_started</th>\n",
       "      <th>call_ended</th>\n",
       "      <th>duration_listened_minutes</th>\n",
       "      <th>duration_listened_seconds</th>\n",
       "      <th>region</th>\n",
       "      <th>region_name</th>\n",
       "      <th>organization_id</th>\n",
       "      <th>organization_country</th>\n",
       "      <th>block_audio_percent_listened</th>\n",
       "      <th>km_block_reached</th>\n",
       "      <th>km_block_listened</th>\n",
       "      <th>listener</th>\n",
       "      <th>listen_menu_or_digest</th>\n",
       "      <th>block_title</th>\n",
       "      <th>block_tags</th>\n",
       "      <th>block_theme</th>\n",
       "      <th>block_topic</th>\n",
       "      <th>age</th>\n",
       "      <th>gender</th>\n",
       "      <th>location</th>\n",
       "      <th>location_level_2</th>\n",
       "      <th>opt_in</th>\n",
       "      <th>subscriber_pereferred_language</th>\n",
       "      <th>registered_demographic_info</th>\n",
       "      <th>rural_or_urban</th>\n",
       "      <th>phone_type</th>\n",
       "      <th>education_level</th>\n",
       "      <th>income_source</th>\n",
       "      <th>airtime_expense</th>\n",
       "      <th>highest_expense_area</th>\n",
       "      <th>data_usage_consent</th>\n",
       "      <th>new_listener_ever</th>\n",
       "      <th>new_listener_year</th>\n",
       "      <th>new_caller_ever</th>\n",
       "      <th>new_caller_year</th>\n",
       "    </tr>\n",
       "  </thead>\n",
       "  <tbody>\n",
       "    <tr>\n",
       "      <th>0</th>\n",
       "      <td>2022-10-08</td>\n",
       "      <td>2022-10-08 17:05:09+00:00</td>\n",
       "      <td>1425528990860894884</td>\n",
       "      <td>1425523337874436068</td>\n",
       "      <td>1018080993527521280</td>\n",
       "      <td>2022-10-08 17:04:25+00:00</td>\n",
       "      <td>2022-10-08 17:03:16+00:00</td>\n",
       "      <td>block_1548292525895_64</td>\n",
       "      <td>20450</td>\n",
       "      <td>2022-10-08 16:40:48+00:00</td>\n",
       "      <td>2022-10-08 17:05:09+00:00</td>\n",
       "      <td>1.1</td>\n",
       "      <td>69.0</td>\n",
       "      <td>FWA</td>\n",
       "      <td>Francophone West Africa</td>\n",
       "      <td>681132173557760000</td>\n",
       "      <td>Mali</td>\n",
       "      <td>100.0000</td>\n",
       "      <td>&lt;NA&gt;</td>\n",
       "      <td>&lt;NA&gt;</td>\n",
       "      <td>&lt;NA&gt;</td>\n",
       "      <td>Listen Menu</td>\n",
       "      <td>Fin_Magazine</td>\n",
       "      <td>news,sub_topic</td>\n",
       "      <td>news</td>\n",
       "      <td></td>\n",
       "      <td>over_44</td>\n",
       "      <td>male</td>\n",
       "      <td>Tombouctou</td>\n",
       "      <td>Cercle de Niafunké</td>\n",
       "      <td>yes_contact</td>\n",
       "      <td>Bambara</td>\n",
       "      <td>1018080993527521280</td>\n",
       "      <td>None</td>\n",
       "      <td>None</td>\n",
       "      <td>None</td>\n",
       "      <td>None</td>\n",
       "      <td>None</td>\n",
       "      <td>None</td>\n",
       "      <td>None</td>\n",
       "      <td>&lt;NA&gt;</td>\n",
       "      <td>&lt;NA&gt;</td>\n",
       "      <td>&lt;NA&gt;</td>\n",
       "      <td>&lt;NA&gt;</td>\n",
       "    </tr>\n",
       "    <tr>\n",
       "      <th>1</th>\n",
       "      <td>2022-05-09</td>\n",
       "      <td>2022-05-09 22:28:26+00:00</td>\n",
       "      <td>1370527821696918076</td>\n",
       "      <td>1370527821063580768</td>\n",
       "      <td>1182351665392053020</td>\n",
       "      <td>2022-05-09 22:28:26+00:00</td>\n",
       "      <td>2022-05-09 22:28:15+00:00</td>\n",
       "      <td>block_1605086336993_55</td>\n",
       "      <td>6939</td>\n",
       "      <td>2022-05-09 22:28:15+00:00</td>\n",
       "      <td>2022-05-09 22:28:26+00:00</td>\n",
       "      <td>0.2</td>\n",
       "      <td>11.0</td>\n",
       "      <td>FWA</td>\n",
       "      <td>Francophone West Africa</td>\n",
       "      <td>681132173557760000</td>\n",
       "      <td>Mali</td>\n",
       "      <td>36.6667</td>\n",
       "      <td>&lt;NA&gt;</td>\n",
       "      <td>&lt;NA&gt;</td>\n",
       "      <td>&lt;NA&gt;</td>\n",
       "      <td>None</td>\n",
       "      <td>Digest or main menu?</td>\n",
       "      <td></td>\n",
       "      <td></td>\n",
       "      <td></td>\n",
       "      <td>None</td>\n",
       "      <td>None</td>\n",
       "      <td>None</td>\n",
       "      <td>None</td>\n",
       "      <td>None</td>\n",
       "      <td>Bambara</td>\n",
       "      <td>&lt;NA&gt;</td>\n",
       "      <td>None</td>\n",
       "      <td>None</td>\n",
       "      <td>None</td>\n",
       "      <td>None</td>\n",
       "      <td>None</td>\n",
       "      <td>None</td>\n",
       "      <td>None</td>\n",
       "      <td>&lt;NA&gt;</td>\n",
       "      <td>&lt;NA&gt;</td>\n",
       "      <td>&lt;NA&gt;</td>\n",
       "      <td>&lt;NA&gt;</td>\n",
       "    </tr>\n",
       "    <tr>\n",
       "      <th>2</th>\n",
       "      <td>2021-06-03</td>\n",
       "      <td>2021-06-03 20:50:39+00:00</td>\n",
       "      <td>1247289124525240016</td>\n",
       "      <td>1247289123837374204</td>\n",
       "      <td>1024269741168582656</td>\n",
       "      <td>2021-06-03 20:42:09+00:00</td>\n",
       "      <td>2021-06-03 20:41:40+00:00</td>\n",
       "      <td>block_1605086336993_55</td>\n",
       "      <td>6939</td>\n",
       "      <td>2021-06-03 20:41:40+00:00</td>\n",
       "      <td>2021-06-03 20:50:39+00:00</td>\n",
       "      <td>0.5</td>\n",
       "      <td>29.0</td>\n",
       "      <td>FWA</td>\n",
       "      <td>Francophone West Africa</td>\n",
       "      <td>681132173557760000</td>\n",
       "      <td>Mali</td>\n",
       "      <td>100.0000</td>\n",
       "      <td>&lt;NA&gt;</td>\n",
       "      <td>&lt;NA&gt;</td>\n",
       "      <td>&lt;NA&gt;</td>\n",
       "      <td>Listen Menu</td>\n",
       "      <td>Digest or main menu?</td>\n",
       "      <td></td>\n",
       "      <td></td>\n",
       "      <td></td>\n",
       "      <td>under_18</td>\n",
       "      <td>male</td>\n",
       "      <td>Sikasso</td>\n",
       "      <td>Cercle de Bougouni</td>\n",
       "      <td>yes_contact</td>\n",
       "      <td>Bambara</td>\n",
       "      <td>1024269741168582656</td>\n",
       "      <td>None</td>\n",
       "      <td>None</td>\n",
       "      <td>None</td>\n",
       "      <td>None</td>\n",
       "      <td>None</td>\n",
       "      <td>None</td>\n",
       "      <td>None</td>\n",
       "      <td>&lt;NA&gt;</td>\n",
       "      <td>&lt;NA&gt;</td>\n",
       "      <td>&lt;NA&gt;</td>\n",
       "      <td>&lt;NA&gt;</td>\n",
       "    </tr>\n",
       "    <tr>\n",
       "      <th>3</th>\n",
       "      <td>2022-07-25</td>\n",
       "      <td>2022-07-25 21:43:16+00:00</td>\n",
       "      <td>1398420059315563364</td>\n",
       "      <td>1398420058371843964</td>\n",
       "      <td>1000050814846820352</td>\n",
       "      <td>2022-07-25 21:43:01+00:00</td>\n",
       "      <td>2022-07-25 21:42:03+00:00</td>\n",
       "      <td>block_1647900760385_65</td>\n",
       "      <td>20450</td>\n",
       "      <td>2022-07-25 21:42:03+00:00</td>\n",
       "      <td>2022-07-25 21:43:16+00:00</td>\n",
       "      <td>1.0</td>\n",
       "      <td>58.0</td>\n",
       "      <td>FWA</td>\n",
       "      <td>Francophone West Africa</td>\n",
       "      <td>681132173557760000</td>\n",
       "      <td>Mali</td>\n",
       "      <td>100.0000</td>\n",
       "      <td>1398420059315563364</td>\n",
       "      <td>1398420059315563364</td>\n",
       "      <td>1000050814846820352</td>\n",
       "      <td>Listen Digest</td>\n",
       "      <td>Titre du journal de Studio Tamani</td>\n",
       "      <td>2_0,km,news,partner_studiotamani</td>\n",
       "      <td>news</td>\n",
       "      <td></td>\n",
       "      <td>18_24</td>\n",
       "      <td>male</td>\n",
       "      <td>Koulikoro</td>\n",
       "      <td>Cercle de Dioïla</td>\n",
       "      <td>yes_contact</td>\n",
       "      <td>Bambara</td>\n",
       "      <td>1000050814846820352</td>\n",
       "      <td>None</td>\n",
       "      <td>None</td>\n",
       "      <td>None</td>\n",
       "      <td>None</td>\n",
       "      <td>None</td>\n",
       "      <td>None</td>\n",
       "      <td>None</td>\n",
       "      <td>&lt;NA&gt;</td>\n",
       "      <td>&lt;NA&gt;</td>\n",
       "      <td>&lt;NA&gt;</td>\n",
       "      <td>&lt;NA&gt;</td>\n",
       "    </tr>\n",
       "    <tr>\n",
       "      <th>4</th>\n",
       "      <td>2021-02-23</td>\n",
       "      <td>2021-02-23 11:20:55+00:00</td>\n",
       "      <td>1210909064067344940</td>\n",
       "      <td>1210909063371088112</td>\n",
       "      <td>966383786596556800</td>\n",
       "      <td>2021-02-23 11:20:21+00:00</td>\n",
       "      <td>2021-02-23 11:20:18+00:00</td>\n",
       "      <td>block_1605086336993_55</td>\n",
       "      <td>6939</td>\n",
       "      <td>2021-02-23 11:20:18+00:00</td>\n",
       "      <td>2021-02-23 11:20:55+00:00</td>\n",
       "      <td>0.1</td>\n",
       "      <td>3.0</td>\n",
       "      <td>FWA</td>\n",
       "      <td>Francophone West Africa</td>\n",
       "      <td>681132173557760000</td>\n",
       "      <td>Mali</td>\n",
       "      <td>42.8571</td>\n",
       "      <td>&lt;NA&gt;</td>\n",
       "      <td>&lt;NA&gt;</td>\n",
       "      <td>&lt;NA&gt;</td>\n",
       "      <td>None</td>\n",
       "      <td>Digest or main menu?</td>\n",
       "      <td></td>\n",
       "      <td></td>\n",
       "      <td></td>\n",
       "      <td>None</td>\n",
       "      <td>male</td>\n",
       "      <td>Koulikoro</td>\n",
       "      <td>Cercle de Nara</td>\n",
       "      <td>yes_contact</td>\n",
       "      <td>Fula</td>\n",
       "      <td>&lt;NA&gt;</td>\n",
       "      <td>None</td>\n",
       "      <td>None</td>\n",
       "      <td>None</td>\n",
       "      <td>None</td>\n",
       "      <td>None</td>\n",
       "      <td>None</td>\n",
       "      <td>None</td>\n",
       "      <td>&lt;NA&gt;</td>\n",
       "      <td>&lt;NA&gt;</td>\n",
       "      <td>&lt;NA&gt;</td>\n",
       "      <td>&lt;NA&gt;</td>\n",
       "    </tr>\n",
       "  </tbody>\n",
       "</table>\n",
       "</div>"
      ],
      "text/plain": [
       "    call_date      dl_global_created_at  block_interaction_id  \\\n",
       "0  2022-10-08 2022-10-08 17:05:09+00:00   1425528990860894884   \n",
       "1  2022-05-09 2022-05-09 22:28:26+00:00   1370527821696918076   \n",
       "2  2021-06-03 2021-06-03 20:50:39+00:00   1247289124525240016   \n",
       "3  2022-07-25 2022-07-25 21:43:16+00:00   1398420059315563364   \n",
       "4  2021-02-23 2021-02-23 11:20:55+00:00   1210909064067344940   \n",
       "\n",
       "               call_id        subscriber_id   block_global_created_at  \\\n",
       "0  1425523337874436068  1018080993527521280 2022-10-08 17:04:25+00:00   \n",
       "1  1370527821063580768  1182351665392053020 2022-05-09 22:28:26+00:00   \n",
       "2  1247289123837374204  1024269741168582656 2021-06-03 20:42:09+00:00   \n",
       "3  1398420058371843964  1000050814846820352 2022-07-25 21:43:01+00:00   \n",
       "4  1210909063371088112   966383786596556800 2021-02-23 11:20:21+00:00   \n",
       "\n",
       "             block_entry_at                  js_key  tree_version_set_id  \\\n",
       "0 2022-10-08 17:03:16+00:00  block_1548292525895_64                20450   \n",
       "1 2022-05-09 22:28:15+00:00  block_1605086336993_55                 6939   \n",
       "2 2021-06-03 20:41:40+00:00  block_1605086336993_55                 6939   \n",
       "3 2022-07-25 21:42:03+00:00  block_1647900760385_65                20450   \n",
       "4 2021-02-23 11:20:18+00:00  block_1605086336993_55                 6939   \n",
       "\n",
       "               call_started                call_ended  \\\n",
       "0 2022-10-08 16:40:48+00:00 2022-10-08 17:05:09+00:00   \n",
       "1 2022-05-09 22:28:15+00:00 2022-05-09 22:28:26+00:00   \n",
       "2 2021-06-03 20:41:40+00:00 2021-06-03 20:50:39+00:00   \n",
       "3 2022-07-25 21:42:03+00:00 2022-07-25 21:43:16+00:00   \n",
       "4 2021-02-23 11:20:18+00:00 2021-02-23 11:20:55+00:00   \n",
       "\n",
       "   duration_listened_minutes  duration_listened_seconds region  \\\n",
       "0                        1.1                       69.0    FWA   \n",
       "1                        0.2                       11.0    FWA   \n",
       "2                        0.5                       29.0    FWA   \n",
       "3                        1.0                       58.0    FWA   \n",
       "4                        0.1                        3.0    FWA   \n",
       "\n",
       "               region_name     organization_id organization_country  \\\n",
       "0  Francophone West Africa  681132173557760000                 Mali   \n",
       "1  Francophone West Africa  681132173557760000                 Mali   \n",
       "2  Francophone West Africa  681132173557760000                 Mali   \n",
       "3  Francophone West Africa  681132173557760000                 Mali   \n",
       "4  Francophone West Africa  681132173557760000                 Mali   \n",
       "\n",
       "   block_audio_percent_listened     km_block_reached    km_block_listened  \\\n",
       "0                      100.0000                 <NA>                 <NA>   \n",
       "1                       36.6667                 <NA>                 <NA>   \n",
       "2                      100.0000                 <NA>                 <NA>   \n",
       "3                      100.0000  1398420059315563364  1398420059315563364   \n",
       "4                       42.8571                 <NA>                 <NA>   \n",
       "\n",
       "              listener listen_menu_or_digest  \\\n",
       "0                 <NA>           Listen Menu   \n",
       "1                 <NA>                  None   \n",
       "2                 <NA>           Listen Menu   \n",
       "3  1000050814846820352         Listen Digest   \n",
       "4                 <NA>                  None   \n",
       "\n",
       "                         block_title                        block_tags  \\\n",
       "0                       Fin_Magazine                    news,sub_topic   \n",
       "1               Digest or main menu?                                     \n",
       "2               Digest or main menu?                                     \n",
       "3  Titre du journal de Studio Tamani  2_0,km,news,partner_studiotamani   \n",
       "4               Digest or main menu?                                     \n",
       "\n",
       "  block_theme block_topic       age gender    location    location_level_2  \\\n",
       "0        news               over_44   male  Tombouctou  Cercle de Niafunké   \n",
       "1                              None   None        None                None   \n",
       "2                          under_18   male     Sikasso  Cercle de Bougouni   \n",
       "3        news                 18_24   male   Koulikoro    Cercle de Dioïla   \n",
       "4                              None   male   Koulikoro      Cercle de Nara   \n",
       "\n",
       "        opt_in subscriber_pereferred_language  registered_demographic_info  \\\n",
       "0  yes_contact                        Bambara          1018080993527521280   \n",
       "1         None                        Bambara                         <NA>   \n",
       "2  yes_contact                        Bambara          1024269741168582656   \n",
       "3  yes_contact                        Bambara          1000050814846820352   \n",
       "4  yes_contact                           Fula                         <NA>   \n",
       "\n",
       "  rural_or_urban phone_type education_level income_source airtime_expense  \\\n",
       "0           None       None            None          None            None   \n",
       "1           None       None            None          None            None   \n",
       "2           None       None            None          None            None   \n",
       "3           None       None            None          None            None   \n",
       "4           None       None            None          None            None   \n",
       "\n",
       "  highest_expense_area data_usage_consent  new_listener_ever  \\\n",
       "0                 None               None               <NA>   \n",
       "1                 None               None               <NA>   \n",
       "2                 None               None               <NA>   \n",
       "3                 None               None               <NA>   \n",
       "4                 None               None               <NA>   \n",
       "\n",
       "   new_listener_year  new_caller_ever  new_caller_year  \n",
       "0               <NA>             <NA>             <NA>  \n",
       "1               <NA>             <NA>             <NA>  \n",
       "2               <NA>             <NA>             <NA>  \n",
       "3               <NA>             <NA>             <NA>  \n",
       "4               <NA>             <NA>             <NA>  "
      ]
     },
     "execution_count": 19,
     "metadata": {},
     "output_type": "execute_result"
    }
   ],
   "source": [
    "#show all columns\n",
    "pd.set_option('display.max_columns', None)\n",
    "\n",
    "#check the data\n",
    "df_mali.head()"
   ]
  },
  {
   "cell_type": "markdown",
   "id": "ad683eee",
   "metadata": {},
   "source": [
    "Great, now that we have only a subset of data for the country of Mali, we can start our Exploratory Data Analysis (EDA) to get some insight. "
   ]
  },
  {
   "cell_type": "markdown",
   "id": "c9f4585b",
   "metadata": {},
   "source": [
    "# Workstream #2 - Mali"
   ]
  },
  {
   "cell_type": "markdown",
   "id": "ae73a60d",
   "metadata": {},
   "source": [
    "### Missing Values/Duplicates\n",
    "Let's explore the Mali sample/subset dataset to look at duplicates/missing values."
   ]
  },
  {
   "cell_type": "code",
   "execution_count": 20,
   "id": "65b2149c",
   "metadata": {},
   "outputs": [
    {
     "data": {
      "text/plain": [
       "15040284"
      ]
     },
     "execution_count": 20,
     "metadata": {},
     "output_type": "execute_result"
    }
   ],
   "source": [
    "#check total missing values in our sample dataset for Mali\n",
    "df_mali.isna().sum().sum()"
   ]
  },
  {
   "cell_type": "markdown",
   "id": "224c13d7",
   "metadata": {},
   "source": [
    "There are **15,040,284** total missing values in our sample dataset for Mali. \n",
    "\n",
    "Let's dig deeper to see which columns/features/variables have these missing values. "
   ]
  },
  {
   "cell_type": "code",
   "execution_count": 21,
   "id": "d02ca409",
   "metadata": {},
   "outputs": [
    {
     "data": {
      "text/plain": [
       "call_date                              10\n",
       "dl_global_created_at                    0\n",
       "block_interaction_id                    0\n",
       "call_id                                 0\n",
       "subscriber_id                           0\n",
       "block_global_created_at                 0\n",
       "block_entry_at                          0\n",
       "js_key                                  0\n",
       "tree_version_set_id                     0\n",
       "call_started                           10\n",
       "call_ended                              0\n",
       "duration_listened_minutes           10004\n",
       "duration_listened_seconds           10004\n",
       "region                                  0\n",
       "region_name                             0\n",
       "organization_id                         0\n",
       "organization_country                    0\n",
       "block_audio_percent_listened        10026\n",
       "km_block_reached                   651824\n",
       "km_block_listened                  735404\n",
       "listener                           735404\n",
       "listen_menu_or_digest              346400\n",
       "block_title                        178784\n",
       "block_tags                              0\n",
       "block_theme                             0\n",
       "block_topic                             0\n",
       "age                                259128\n",
       "gender                             148468\n",
       "location                           176544\n",
       "location_level_2                   349376\n",
       "opt_in                             191717\n",
       "subscriber_pereferred_language       5863\n",
       "registered_demographic_info        278553\n",
       "rural_or_urban                    1000000\n",
       "phone_type                        1000000\n",
       "education_level                   1000000\n",
       "income_source                     1000000\n",
       "airtime_expense                   1000000\n",
       "highest_expense_area              1000000\n",
       "data_usage_consent                1000000\n",
       "new_listener_ever                  986518\n",
       "new_listener_year                  985217\n",
       "new_caller_ever                    991756\n",
       "new_caller_year                    989274\n",
       "dtype: int64"
      ]
     },
     "execution_count": 21,
     "metadata": {},
     "output_type": "execute_result"
    }
   ],
   "source": [
    "#look at misisng values for each column\n",
    "df_mali.isna().sum()"
   ]
  },
  {
   "cell_type": "code",
   "execution_count": 22,
   "id": "fe6c2171",
   "metadata": {},
   "outputs": [
    {
     "data": {
      "text/plain": [
       "call_date                           0.0010\n",
       "dl_global_created_at                0.0000\n",
       "block_interaction_id                0.0000\n",
       "call_id                             0.0000\n",
       "subscriber_id                       0.0000\n",
       "block_global_created_at             0.0000\n",
       "block_entry_at                      0.0000\n",
       "js_key                              0.0000\n",
       "tree_version_set_id                 0.0000\n",
       "call_started                        0.0010\n",
       "call_ended                          0.0000\n",
       "duration_listened_minutes           1.0004\n",
       "duration_listened_seconds           1.0004\n",
       "region                              0.0000\n",
       "region_name                         0.0000\n",
       "organization_id                     0.0000\n",
       "organization_country                0.0000\n",
       "block_audio_percent_listened        1.0026\n",
       "km_block_reached                   65.1824\n",
       "km_block_listened                  73.5404\n",
       "listener                           73.5404\n",
       "listen_menu_or_digest              34.6400\n",
       "block_title                        17.8784\n",
       "block_tags                          0.0000\n",
       "block_theme                         0.0000\n",
       "block_topic                         0.0000\n",
       "age                                25.9128\n",
       "gender                             14.8468\n",
       "location                           17.6544\n",
       "location_level_2                   34.9376\n",
       "opt_in                             19.1717\n",
       "subscriber_pereferred_language      0.5863\n",
       "registered_demographic_info        27.8553\n",
       "rural_or_urban                    100.0000\n",
       "phone_type                        100.0000\n",
       "education_level                   100.0000\n",
       "income_source                     100.0000\n",
       "airtime_expense                   100.0000\n",
       "highest_expense_area              100.0000\n",
       "data_usage_consent                100.0000\n",
       "new_listener_ever                  98.6518\n",
       "new_listener_year                  98.5217\n",
       "new_caller_ever                    99.1756\n",
       "new_caller_year                    98.9274\n",
       "dtype: float64"
      ]
     },
     "execution_count": 22,
     "metadata": {},
     "output_type": "execute_result"
    }
   ],
   "source": [
    "#get percentage of missing values per column\n",
    "df_mali.isna().sum()/df_mali.shape[0]*100"
   ]
  },
  {
   "cell_type": "markdown",
   "id": "1f11618d",
   "metadata": {},
   "source": [
    "We can see that some columns such as `phone_type`, `rural_or_urban`, `income_source`, and `education_level` do not have any values in them (all fields are empty in our 1,000,000 sample/subset). We can drop these columns for now. \n",
    "\n",
    "Other columns such as `new_listener_ever`, `new_listener_year`, and `new_caller_ever` also have more than 98% of their values missing. These can be dropped as well. \n",
    "\n",
    "We can also see that there are missing values in columns such as `km_block_reached`, `km_block_listened`, and `listener`. Imputing these missing values needs additional information from stakeholders so that we are not introducing bias into our dataset. For the purposes of this DataDive project we will ignore the missing values for now since we will not be doing any modeling yet. \n",
    "\n",
    "The missing values can be addressed later once more information is gathered and we are able to impute them to the best of our knowledge. "
   ]
  },
  {
   "cell_type": "code",
   "execution_count": 23,
   "id": "b4c34d67",
   "metadata": {},
   "outputs": [],
   "source": [
    "#drop columns where 100% of values are missing\n",
    "df_mali = df_mali.drop(columns=['data_usage_consent', 'highest_expense_area', 'airtime_expense', 'income_source', 'education_level', 'phone_type', 'rural_or_urban', 'new_listener_ever', 'new_listener_year', 'new_caller_ever', 'new_caller_year'])"
   ]
  },
  {
   "cell_type": "code",
   "execution_count": 24,
   "id": "afcc546d",
   "metadata": {},
   "outputs": [
    {
     "name": "stdout",
     "output_type": "stream",
     "text": [
      "<class 'pandas.core.frame.DataFrame'>\n",
      "RangeIndex: 1000000 entries, 0 to 999999\n",
      "Data columns (total 33 columns):\n",
      " #   Column                          Non-Null Count    Dtype              \n",
      "---  ------                          --------------    -----              \n",
      " 0   call_date                       999990 non-null   dbdate             \n",
      " 1   dl_global_created_at            1000000 non-null  datetime64[ns, UTC]\n",
      " 2   block_interaction_id            1000000 non-null  Int64              \n",
      " 3   call_id                         1000000 non-null  Int64              \n",
      " 4   subscriber_id                   1000000 non-null  Int64              \n",
      " 5   block_global_created_at         1000000 non-null  datetime64[ns, UTC]\n",
      " 6   block_entry_at                  1000000 non-null  datetime64[ns, UTC]\n",
      " 7   js_key                          1000000 non-null  object             \n",
      " 8   tree_version_set_id             1000000 non-null  Int64              \n",
      " 9   call_started                    999990 non-null   datetime64[ns, UTC]\n",
      " 10  call_ended                      1000000 non-null  datetime64[ns, UTC]\n",
      " 11  duration_listened_minutes       989996 non-null   float64            \n",
      " 12  duration_listened_seconds       989996 non-null   float64            \n",
      " 13  region                          1000000 non-null  object             \n",
      " 14  region_name                     1000000 non-null  object             \n",
      " 15  organization_id                 1000000 non-null  Int64              \n",
      " 16  organization_country            1000000 non-null  object             \n",
      " 17  block_audio_percent_listened    989974 non-null   float64            \n",
      " 18  km_block_reached                348176 non-null   Int64              \n",
      " 19  km_block_listened               264596 non-null   Int64              \n",
      " 20  listener                        264596 non-null   Int64              \n",
      " 21  listen_menu_or_digest           653600 non-null   object             \n",
      " 22  block_title                     821216 non-null   object             \n",
      " 23  block_tags                      1000000 non-null  object             \n",
      " 24  block_theme                     1000000 non-null  object             \n",
      " 25  block_topic                     1000000 non-null  object             \n",
      " 26  age                             740872 non-null   object             \n",
      " 27  gender                          851532 non-null   object             \n",
      " 28  location                        823456 non-null   object             \n",
      " 29  location_level_2                650624 non-null   object             \n",
      " 30  opt_in                          808283 non-null   object             \n",
      " 31  subscriber_pereferred_language  994137 non-null   object             \n",
      " 32  registered_demographic_info     721447 non-null   Int64              \n",
      "dtypes: Int64(9), datetime64[ns, UTC](5), dbdate(1), float64(3), object(15)\n",
      "memory usage: 260.4+ MB\n"
     ]
    }
   ],
   "source": [
    "#check data - look at data info to see the column dropped\n",
    "df_mali.info()"
   ]
  },
  {
   "cell_type": "markdown",
   "id": "df40bb41",
   "metadata": {},
   "source": [
    "We can also check the shape of the data since we dropped 11 columns. We should now have 33 columns total. Let's check the shape to make sure."
   ]
  },
  {
   "cell_type": "code",
   "execution_count": 25,
   "id": "72ebfd46",
   "metadata": {},
   "outputs": [
    {
     "data": {
      "text/plain": [
       "(1000000, 33)"
      ]
     },
     "execution_count": 25,
     "metadata": {},
     "output_type": "execute_result"
    }
   ],
   "source": [
    "#check the shape of our dataset after dropping 11 columns\n",
    "df_mali.shape"
   ]
  },
  {
   "cell_type": "markdown",
   "id": "1b6db809",
   "metadata": {},
   "source": [
    "Great, we can confirm that 11 columns that had more than 98% missing values have been dropped.\n",
    "\n",
    "Next we will check for **duplicates** in our sample dataset. "
   ]
  },
  {
   "cell_type": "code",
   "execution_count": 26,
   "id": "0280ea03",
   "metadata": {},
   "outputs": [
    {
     "data": {
      "text/plain": [
       "0"
      ]
     },
     "execution_count": 26,
     "metadata": {},
     "output_type": "execute_result"
    }
   ],
   "source": [
    "#check for duplicates in our sample data\n",
    "df_mali.duplicated().sum()"
   ]
  },
  {
   "cell_type": "markdown",
   "id": "03411eb9",
   "metadata": {},
   "source": [
    "Great, there are no duplicatged rows in our sample dataset. Let's also check for duplicated columns. \n",
    "\n",
    "Earlier in the data dictionary we saw that we have two columns called `region` and `region_name`. We can look into these and if they are the same, one can be dropped. "
   ]
  },
  {
   "cell_type": "code",
   "execution_count": 27,
   "id": "0386cbf2",
   "metadata": {},
   "outputs": [
    {
     "data": {
      "text/html": [
       "<div>\n",
       "<style scoped>\n",
       "    .dataframe tbody tr th:only-of-type {\n",
       "        vertical-align: middle;\n",
       "    }\n",
       "\n",
       "    .dataframe tbody tr th {\n",
       "        vertical-align: top;\n",
       "    }\n",
       "\n",
       "    .dataframe thead th {\n",
       "        text-align: right;\n",
       "    }\n",
       "</style>\n",
       "<table border=\"1\" class=\"dataframe\">\n",
       "  <thead>\n",
       "    <tr style=\"text-align: right;\">\n",
       "      <th></th>\n",
       "      <th>region</th>\n",
       "      <th>region_name</th>\n",
       "    </tr>\n",
       "  </thead>\n",
       "  <tbody>\n",
       "    <tr>\n",
       "      <th>0</th>\n",
       "      <td>FWA</td>\n",
       "      <td>Francophone West Africa</td>\n",
       "    </tr>\n",
       "    <tr>\n",
       "      <th>1</th>\n",
       "      <td>FWA</td>\n",
       "      <td>Francophone West Africa</td>\n",
       "    </tr>\n",
       "    <tr>\n",
       "      <th>2</th>\n",
       "      <td>FWA</td>\n",
       "      <td>Francophone West Africa</td>\n",
       "    </tr>\n",
       "    <tr>\n",
       "      <th>3</th>\n",
       "      <td>FWA</td>\n",
       "      <td>Francophone West Africa</td>\n",
       "    </tr>\n",
       "    <tr>\n",
       "      <th>4</th>\n",
       "      <td>FWA</td>\n",
       "      <td>Francophone West Africa</td>\n",
       "    </tr>\n",
       "    <tr>\n",
       "      <th>...</th>\n",
       "      <td>...</td>\n",
       "      <td>...</td>\n",
       "    </tr>\n",
       "    <tr>\n",
       "      <th>999995</th>\n",
       "      <td>FWA</td>\n",
       "      <td>Francophone West Africa</td>\n",
       "    </tr>\n",
       "    <tr>\n",
       "      <th>999996</th>\n",
       "      <td>FWA</td>\n",
       "      <td>Francophone West Africa</td>\n",
       "    </tr>\n",
       "    <tr>\n",
       "      <th>999997</th>\n",
       "      <td>FWA</td>\n",
       "      <td>Francophone West Africa</td>\n",
       "    </tr>\n",
       "    <tr>\n",
       "      <th>999998</th>\n",
       "      <td>FWA</td>\n",
       "      <td>Francophone West Africa</td>\n",
       "    </tr>\n",
       "    <tr>\n",
       "      <th>999999</th>\n",
       "      <td>FWA</td>\n",
       "      <td>Francophone West Africa</td>\n",
       "    </tr>\n",
       "  </tbody>\n",
       "</table>\n",
       "<p>1000000 rows × 2 columns</p>\n",
       "</div>"
      ],
      "text/plain": [
       "       region              region_name\n",
       "0         FWA  Francophone West Africa\n",
       "1         FWA  Francophone West Africa\n",
       "2         FWA  Francophone West Africa\n",
       "3         FWA  Francophone West Africa\n",
       "4         FWA  Francophone West Africa\n",
       "...       ...                      ...\n",
       "999995    FWA  Francophone West Africa\n",
       "999996    FWA  Francophone West Africa\n",
       "999997    FWA  Francophone West Africa\n",
       "999998    FWA  Francophone West Africa\n",
       "999999    FWA  Francophone West Africa\n",
       "\n",
       "[1000000 rows x 2 columns]"
      ]
     },
     "execution_count": 27,
     "metadata": {},
     "output_type": "execute_result"
    }
   ],
   "source": [
    "#check for duplicated columns - region and region_name\n",
    "df_mali[['region', 'region_name']]"
   ]
  },
  {
   "cell_type": "markdown",
   "id": "c510c27f",
   "metadata": {},
   "source": [
    "We can confirm that `region` and `region_name` have the information stored, therefore one can be dropped. "
   ]
  },
  {
   "cell_type": "code",
   "execution_count": 28,
   "id": "4ac515a5",
   "metadata": {},
   "outputs": [],
   "source": [
    "df_mali.drop(['region'], axis=1, inplace=True)"
   ]
  },
  {
   "cell_type": "code",
   "execution_count": 29,
   "id": "da90a722",
   "metadata": {},
   "outputs": [
    {
     "name": "stdout",
     "output_type": "stream",
     "text": [
      "<class 'pandas.core.frame.DataFrame'>\n",
      "RangeIndex: 1000000 entries, 0 to 999999\n",
      "Data columns (total 32 columns):\n",
      " #   Column                          Non-Null Count    Dtype              \n",
      "---  ------                          --------------    -----              \n",
      " 0   call_date                       999990 non-null   dbdate             \n",
      " 1   dl_global_created_at            1000000 non-null  datetime64[ns, UTC]\n",
      " 2   block_interaction_id            1000000 non-null  Int64              \n",
      " 3   call_id                         1000000 non-null  Int64              \n",
      " 4   subscriber_id                   1000000 non-null  Int64              \n",
      " 5   block_global_created_at         1000000 non-null  datetime64[ns, UTC]\n",
      " 6   block_entry_at                  1000000 non-null  datetime64[ns, UTC]\n",
      " 7   js_key                          1000000 non-null  object             \n",
      " 8   tree_version_set_id             1000000 non-null  Int64              \n",
      " 9   call_started                    999990 non-null   datetime64[ns, UTC]\n",
      " 10  call_ended                      1000000 non-null  datetime64[ns, UTC]\n",
      " 11  duration_listened_minutes       989996 non-null   float64            \n",
      " 12  duration_listened_seconds       989996 non-null   float64            \n",
      " 13  region_name                     1000000 non-null  object             \n",
      " 14  organization_id                 1000000 non-null  Int64              \n",
      " 15  organization_country            1000000 non-null  object             \n",
      " 16  block_audio_percent_listened    989974 non-null   float64            \n",
      " 17  km_block_reached                348176 non-null   Int64              \n",
      " 18  km_block_listened               264596 non-null   Int64              \n",
      " 19  listener                        264596 non-null   Int64              \n",
      " 20  listen_menu_or_digest           653600 non-null   object             \n",
      " 21  block_title                     821216 non-null   object             \n",
      " 22  block_tags                      1000000 non-null  object             \n",
      " 23  block_theme                     1000000 non-null  object             \n",
      " 24  block_topic                     1000000 non-null  object             \n",
      " 25  age                             740872 non-null   object             \n",
      " 26  gender                          851532 non-null   object             \n",
      " 27  location                        823456 non-null   object             \n",
      " 28  location_level_2                650624 non-null   object             \n",
      " 29  opt_in                          808283 non-null   object             \n",
      " 30  subscriber_pereferred_language  994137 non-null   object             \n",
      " 31  registered_demographic_info     721447 non-null   Int64              \n",
      "dtypes: Int64(9), datetime64[ns, UTC](5), dbdate(1), float64(3), object(14)\n",
      "memory usage: 252.7+ MB\n"
     ]
    }
   ],
   "source": [
    "#sanity check to make sure column was removed\n",
    "df_mali.info()"
   ]
  },
  {
   "cell_type": "markdown",
   "id": "a179a273",
   "metadata": {},
   "source": [
    "Great, we have now removed duplicated columns as well. "
   ]
  },
  {
   "cell_type": "markdown",
   "id": "da22b83c",
   "metadata": {},
   "source": [
    "### Data Type"
   ]
  },
  {
   "cell_type": "markdown",
   "id": "1c9a1fdf",
   "metadata": {},
   "source": [
    "Before moving on to the EDA section of this project, we need to look at our data types one more time and update any columns necessary. \n",
    "\n",
    "Previously we saw that `call_date` column datatype needs to be updated to datetime format. \n",
    "\n",
    "Let's look at our column datatypes. "
   ]
  },
  {
   "cell_type": "code",
   "execution_count": 30,
   "id": "223b651e",
   "metadata": {},
   "outputs": [
    {
     "name": "stdout",
     "output_type": "stream",
     "text": [
      "<class 'pandas.core.frame.DataFrame'>\n",
      "RangeIndex: 1000000 entries, 0 to 999999\n",
      "Data columns (total 32 columns):\n",
      " #   Column                          Non-Null Count    Dtype              \n",
      "---  ------                          --------------    -----              \n",
      " 0   call_date                       999990 non-null   dbdate             \n",
      " 1   dl_global_created_at            1000000 non-null  datetime64[ns, UTC]\n",
      " 2   block_interaction_id            1000000 non-null  Int64              \n",
      " 3   call_id                         1000000 non-null  Int64              \n",
      " 4   subscriber_id                   1000000 non-null  Int64              \n",
      " 5   block_global_created_at         1000000 non-null  datetime64[ns, UTC]\n",
      " 6   block_entry_at                  1000000 non-null  datetime64[ns, UTC]\n",
      " 7   js_key                          1000000 non-null  object             \n",
      " 8   tree_version_set_id             1000000 non-null  Int64              \n",
      " 9   call_started                    999990 non-null   datetime64[ns, UTC]\n",
      " 10  call_ended                      1000000 non-null  datetime64[ns, UTC]\n",
      " 11  duration_listened_minutes       989996 non-null   float64            \n",
      " 12  duration_listened_seconds       989996 non-null   float64            \n",
      " 13  region_name                     1000000 non-null  object             \n",
      " 14  organization_id                 1000000 non-null  Int64              \n",
      " 15  organization_country            1000000 non-null  object             \n",
      " 16  block_audio_percent_listened    989974 non-null   float64            \n",
      " 17  km_block_reached                348176 non-null   Int64              \n",
      " 18  km_block_listened               264596 non-null   Int64              \n",
      " 19  listener                        264596 non-null   Int64              \n",
      " 20  listen_menu_or_digest           653600 non-null   object             \n",
      " 21  block_title                     821216 non-null   object             \n",
      " 22  block_tags                      1000000 non-null  object             \n",
      " 23  block_theme                     1000000 non-null  object             \n",
      " 24  block_topic                     1000000 non-null  object             \n",
      " 25  age                             740872 non-null   object             \n",
      " 26  gender                          851532 non-null   object             \n",
      " 27  location                        823456 non-null   object             \n",
      " 28  location_level_2                650624 non-null   object             \n",
      " 29  opt_in                          808283 non-null   object             \n",
      " 30  subscriber_pereferred_language  994137 non-null   object             \n",
      " 31  registered_demographic_info     721447 non-null   Int64              \n",
      "dtypes: Int64(9), datetime64[ns, UTC](5), dbdate(1), float64(3), object(14)\n",
      "memory usage: 252.7+ MB\n"
     ]
    }
   ],
   "source": [
    "#check data info for datatype\n",
    "df_mali.info()"
   ]
  },
  {
   "cell_type": "markdown",
   "id": "07784932",
   "metadata": {},
   "source": [
    "It looks like `call_date` is the only column that needs to be updated to datetime as other columns are in the correct datetime format. "
   ]
  },
  {
   "cell_type": "code",
   "execution_count": 31,
   "id": "4d19ff64",
   "metadata": {},
   "outputs": [],
   "source": [
    "#update call_date to datetime\n",
    "df_mali['call_date'] = df_mali['call_date'].astype('datetime64')"
   ]
  },
  {
   "cell_type": "markdown",
   "id": "3bd240c5",
   "metadata": {},
   "source": [
    "Let's check to make sure it has been updated."
   ]
  },
  {
   "cell_type": "code",
   "execution_count": 32,
   "id": "0404db98",
   "metadata": {},
   "outputs": [
    {
     "name": "stdout",
     "output_type": "stream",
     "text": [
      "<class 'pandas.core.frame.DataFrame'>\n",
      "RangeIndex: 1000000 entries, 0 to 999999\n",
      "Data columns (total 32 columns):\n",
      " #   Column                          Non-Null Count    Dtype              \n",
      "---  ------                          --------------    -----              \n",
      " 0   call_date                       999990 non-null   datetime64[ns]     \n",
      " 1   dl_global_created_at            1000000 non-null  datetime64[ns, UTC]\n",
      " 2   block_interaction_id            1000000 non-null  Int64              \n",
      " 3   call_id                         1000000 non-null  Int64              \n",
      " 4   subscriber_id                   1000000 non-null  Int64              \n",
      " 5   block_global_created_at         1000000 non-null  datetime64[ns, UTC]\n",
      " 6   block_entry_at                  1000000 non-null  datetime64[ns, UTC]\n",
      " 7   js_key                          1000000 non-null  object             \n",
      " 8   tree_version_set_id             1000000 non-null  Int64              \n",
      " 9   call_started                    999990 non-null   datetime64[ns, UTC]\n",
      " 10  call_ended                      1000000 non-null  datetime64[ns, UTC]\n",
      " 11  duration_listened_minutes       989996 non-null   float64            \n",
      " 12  duration_listened_seconds       989996 non-null   float64            \n",
      " 13  region_name                     1000000 non-null  object             \n",
      " 14  organization_id                 1000000 non-null  Int64              \n",
      " 15  organization_country            1000000 non-null  object             \n",
      " 16  block_audio_percent_listened    989974 non-null   float64            \n",
      " 17  km_block_reached                348176 non-null   Int64              \n",
      " 18  km_block_listened               264596 non-null   Int64              \n",
      " 19  listener                        264596 non-null   Int64              \n",
      " 20  listen_menu_or_digest           653600 non-null   object             \n",
      " 21  block_title                     821216 non-null   object             \n",
      " 22  block_tags                      1000000 non-null  object             \n",
      " 23  block_theme                     1000000 non-null  object             \n",
      " 24  block_topic                     1000000 non-null  object             \n",
      " 25  age                             740872 non-null   object             \n",
      " 26  gender                          851532 non-null   object             \n",
      " 27  location                        823456 non-null   object             \n",
      " 28  location_level_2                650624 non-null   object             \n",
      " 29  opt_in                          808283 non-null   object             \n",
      " 30  subscriber_pereferred_language  994137 non-null   object             \n",
      " 31  registered_demographic_info     721447 non-null   Int64              \n",
      "dtypes: Int64(9), datetime64[ns, UTC](5), datetime64[ns](1), float64(3), object(14)\n",
      "memory usage: 252.7+ MB\n"
     ]
    }
   ],
   "source": [
    "#recheck the data type to make sure date format has been updated\n",
    "df_mali.info()"
   ]
  },
  {
   "cell_type": "markdown",
   "id": "c60b47a7",
   "metadata": {},
   "source": [
    "We can confirm that `call_date` column datatype has successfully been changed to datatime format.\n",
    "\n",
    "We can move to Exploratory Data Analysis (EDA) next. "
   ]
  },
  {
   "cell_type": "markdown",
   "id": "3ba6ae66",
   "metadata": {},
   "source": [
    "### Exploratory Data Analysis\n",
    "In this section we will look at what some trends are within our Mali sample/subset dataset."
   ]
  },
  {
   "cell_type": "markdown",
   "id": "060fff1b",
   "metadata": {},
   "source": [
    "First, let's look at a descriptive analysis of our numeric columns."
   ]
  },
  {
   "cell_type": "code",
   "execution_count": 33,
   "id": "ada6cb37",
   "metadata": {},
   "outputs": [
    {
     "data": {
      "text/html": [
       "<div>\n",
       "<style scoped>\n",
       "    .dataframe tbody tr th:only-of-type {\n",
       "        vertical-align: middle;\n",
       "    }\n",
       "\n",
       "    .dataframe tbody tr th {\n",
       "        vertical-align: top;\n",
       "    }\n",
       "\n",
       "    .dataframe thead th {\n",
       "        text-align: right;\n",
       "    }\n",
       "</style>\n",
       "<table border=\"1\" class=\"dataframe\">\n",
       "  <thead>\n",
       "    <tr style=\"text-align: right;\">\n",
       "      <th></th>\n",
       "      <th>block_interaction_id</th>\n",
       "      <th>call_id</th>\n",
       "      <th>subscriber_id</th>\n",
       "      <th>tree_version_set_id</th>\n",
       "      <th>duration_listened_minutes</th>\n",
       "      <th>duration_listened_seconds</th>\n",
       "      <th>organization_id</th>\n",
       "      <th>block_audio_percent_listened</th>\n",
       "      <th>km_block_reached</th>\n",
       "      <th>km_block_listened</th>\n",
       "      <th>listener</th>\n",
       "      <th>registered_demographic_info</th>\n",
       "    </tr>\n",
       "  </thead>\n",
       "  <tbody>\n",
       "    <tr>\n",
       "      <th>count</th>\n",
       "      <td>1.000000e+06</td>\n",
       "      <td>1.000000e+06</td>\n",
       "      <td>1.000000e+06</td>\n",
       "      <td>1000000.000000</td>\n",
       "      <td>989996.00000</td>\n",
       "      <td>989996.000000</td>\n",
       "      <td>1.000000e+06</td>\n",
       "      <td>989974.000000</td>\n",
       "      <td>3.481760e+05</td>\n",
       "      <td>2.645960e+05</td>\n",
       "      <td>2.645960e+05</td>\n",
       "      <td>7.214470e+05</td>\n",
       "    </tr>\n",
       "    <tr>\n",
       "      <th>mean</th>\n",
       "      <td>4.118954e+12</td>\n",
       "      <td>2.905883e+12</td>\n",
       "      <td>8.538664e+12</td>\n",
       "      <td>16968.075334</td>\n",
       "      <td>0.96220</td>\n",
       "      <td>57.696502</td>\n",
       "      <td>4.595380e+12</td>\n",
       "      <td>73.616078</td>\n",
       "      <td>1.075137e+13</td>\n",
       "      <td>1.685846e+13</td>\n",
       "      <td>1.256483e+12</td>\n",
       "      <td>-1.095148e+13</td>\n",
       "    </tr>\n",
       "    <tr>\n",
       "      <th>std</th>\n",
       "      <td>6.934685e+16</td>\n",
       "      <td>6.934660e+16</td>\n",
       "      <td>1.342513e+17</td>\n",
       "      <td>11440.505146</td>\n",
       "      <td>2.30522</td>\n",
       "      <td>138.275520</td>\n",
       "      <td>0.000000e+00</td>\n",
       "      <td>37.549298</td>\n",
       "      <td>7.020314e+16</td>\n",
       "      <td>6.903099e+16</td>\n",
       "      <td>1.408587e+17</td>\n",
       "      <td>1.262397e+17</td>\n",
       "    </tr>\n",
       "    <tr>\n",
       "      <th>min</th>\n",
       "      <td>1.191531e+18</td>\n",
       "      <td>1.191518e+18</td>\n",
       "      <td>7.322052e+17</td>\n",
       "      <td>6655.000000</td>\n",
       "      <td>0.00000</td>\n",
       "      <td>0.000000</td>\n",
       "      <td>6.811322e+17</td>\n",
       "      <td>0.000000</td>\n",
       "      <td>1.191531e+18</td>\n",
       "      <td>1.191531e+18</td>\n",
       "      <td>7.322052e+17</td>\n",
       "      <td>7.441688e+17</td>\n",
       "    </tr>\n",
       "    <tr>\n",
       "      <th>25%</th>\n",
       "      <td>1.255140e+18</td>\n",
       "      <td>1.255137e+18</td>\n",
       "      <td>1.017518e+18</td>\n",
       "      <td>6939.000000</td>\n",
       "      <td>0.00000</td>\n",
       "      <td>2.000000</td>\n",
       "      <td>6.811322e+17</td>\n",
       "      <td>40.000000</td>\n",
       "      <td>1.269390e+18</td>\n",
       "      <td>1.276603e+18</td>\n",
       "      <td>1.022792e+18</td>\n",
       "      <td>1.023611e+18</td>\n",
       "    </tr>\n",
       "    <tr>\n",
       "      <th>50%</th>\n",
       "      <td>1.312055e+18</td>\n",
       "      <td>1.312053e+18</td>\n",
       "      <td>1.113898e+18</td>\n",
       "      <td>20450.000000</td>\n",
       "      <td>0.20000</td>\n",
       "      <td>14.000000</td>\n",
       "      <td>6.811322e+17</td>\n",
       "      <td>100.000000</td>\n",
       "      <td>1.329725e+18</td>\n",
       "      <td>1.335955e+18</td>\n",
       "      <td>1.138213e+18</td>\n",
       "      <td>1.099747e+18</td>\n",
       "    </tr>\n",
       "    <tr>\n",
       "      <th>75%</th>\n",
       "      <td>1.369235e+18</td>\n",
       "      <td>1.369234e+18</td>\n",
       "      <td>1.259415e+18</td>\n",
       "      <td>20450.000000</td>\n",
       "      <td>0.90000</td>\n",
       "      <td>52.000000</td>\n",
       "      <td>6.811322e+17</td>\n",
       "      <td>100.000000</td>\n",
       "      <td>1.394271e+18</td>\n",
       "      <td>1.396922e+18</td>\n",
       "      <td>1.297539e+18</td>\n",
       "      <td>1.237762e+18</td>\n",
       "    </tr>\n",
       "    <tr>\n",
       "      <th>max</th>\n",
       "      <td>1.441578e+18</td>\n",
       "      <td>1.441578e+18</td>\n",
       "      <td>1.441563e+18</td>\n",
       "      <td>50162.000000</td>\n",
       "      <td>45.50000</td>\n",
       "      <td>2729.000000</td>\n",
       "      <td>6.811322e+17</td>\n",
       "      <td>100.000000</td>\n",
       "      <td>1.441574e+18</td>\n",
       "      <td>1.441574e+18</td>\n",
       "      <td>1.441497e+18</td>\n",
       "      <td>1.441170e+18</td>\n",
       "    </tr>\n",
       "  </tbody>\n",
       "</table>\n",
       "</div>"
      ],
      "text/plain": [
       "       block_interaction_id       call_id  subscriber_id  tree_version_set_id  \\\n",
       "count          1.000000e+06  1.000000e+06   1.000000e+06       1000000.000000   \n",
       "mean           4.118954e+12  2.905883e+12   8.538664e+12         16968.075334   \n",
       "std            6.934685e+16  6.934660e+16   1.342513e+17         11440.505146   \n",
       "min            1.191531e+18  1.191518e+18   7.322052e+17          6655.000000   \n",
       "25%            1.255140e+18  1.255137e+18   1.017518e+18          6939.000000   \n",
       "50%            1.312055e+18  1.312053e+18   1.113898e+18         20450.000000   \n",
       "75%            1.369235e+18  1.369234e+18   1.259415e+18         20450.000000   \n",
       "max            1.441578e+18  1.441578e+18   1.441563e+18         50162.000000   \n",
       "\n",
       "       duration_listened_minutes  duration_listened_seconds  organization_id  \\\n",
       "count               989996.00000              989996.000000     1.000000e+06   \n",
       "mean                     0.96220                  57.696502     4.595380e+12   \n",
       "std                      2.30522                 138.275520     0.000000e+00   \n",
       "min                      0.00000                   0.000000     6.811322e+17   \n",
       "25%                      0.00000                   2.000000     6.811322e+17   \n",
       "50%                      0.20000                  14.000000     6.811322e+17   \n",
       "75%                      0.90000                  52.000000     6.811322e+17   \n",
       "max                     45.50000                2729.000000     6.811322e+17   \n",
       "\n",
       "       block_audio_percent_listened  km_block_reached  km_block_listened  \\\n",
       "count                 989974.000000      3.481760e+05       2.645960e+05   \n",
       "mean                      73.616078      1.075137e+13       1.685846e+13   \n",
       "std                       37.549298      7.020314e+16       6.903099e+16   \n",
       "min                        0.000000      1.191531e+18       1.191531e+18   \n",
       "25%                       40.000000      1.269390e+18       1.276603e+18   \n",
       "50%                      100.000000      1.329725e+18       1.335955e+18   \n",
       "75%                      100.000000      1.394271e+18       1.396922e+18   \n",
       "max                      100.000000      1.441574e+18       1.441574e+18   \n",
       "\n",
       "           listener  registered_demographic_info  \n",
       "count  2.645960e+05                 7.214470e+05  \n",
       "mean   1.256483e+12                -1.095148e+13  \n",
       "std    1.408587e+17                 1.262397e+17  \n",
       "min    7.322052e+17                 7.441688e+17  \n",
       "25%    1.022792e+18                 1.023611e+18  \n",
       "50%    1.138213e+18                 1.099747e+18  \n",
       "75%    1.297539e+18                 1.237762e+18  \n",
       "max    1.441497e+18                 1.441170e+18  "
      ]
     },
     "execution_count": 33,
     "metadata": {},
     "output_type": "execute_result"
    }
   ],
   "source": [
    "#check descriptive analysis of numeric columns\n",
    "df_mali.describe()"
   ]
  },
  {
   "cell_type": "markdown",
   "id": "cc7c34d2",
   "metadata": {},
   "source": [
    "We are interested in columns such as `duration_listened_minutes` which we can see that the maximum time/duration a caller listened was **~46 minutes**."
   ]
  },
  {
   "cell_type": "markdown",
   "id": "efacd175",
   "metadata": {},
   "source": [
    "#### Subscriber Preferred Language"
   ]
  },
  {
   "cell_type": "markdown",
   "id": "a08cf816",
   "metadata": {},
   "source": [
    "We will look at subscriber's preferred language **(note that preferred is spelled incorrectly in the dataset)**."
   ]
  },
  {
   "cell_type": "code",
   "execution_count": 34,
   "id": "f509cea4",
   "metadata": {},
   "outputs": [
    {
     "data": {
      "text/plain": [
       "Bambara     703742\n",
       "Fula        132089\n",
       "Tamasheq     67871\n",
       "Songhay      50831\n",
       "French       39604\n",
       "Name: subscriber_pereferred_language, dtype: int64"
      ]
     },
     "execution_count": 34,
     "metadata": {},
     "output_type": "execute_result"
    }
   ],
   "source": [
    "#look at preferred language value counts\n",
    "df_mali['subscriber_pereferred_language'].value_counts()"
   ]
  },
  {
   "cell_type": "code",
   "execution_count": 35,
   "id": "e9c40b14",
   "metadata": {},
   "outputs": [
    {
     "data": {
      "text/plain": [
       "Bambara     70.789237\n",
       "Fula        13.286801\n",
       "Tamasheq     6.827127\n",
       "Songhay      5.113078\n",
       "French       3.983757\n",
       "Name: subscriber_pereferred_language, dtype: float64"
      ]
     },
     "execution_count": 35,
     "metadata": {},
     "output_type": "execute_result"
    }
   ],
   "source": [
    "#percentage of preferred languages\n",
    "df_mali['subscriber_pereferred_language'].value_counts(normalize=True)*100"
   ]
  },
  {
   "cell_type": "code",
   "execution_count": 36,
   "id": "729947ad",
   "metadata": {},
   "outputs": [
    {
     "data": {
      "image/png": "[encoded data removed]",
      "text/plain": [
       "<Figure size 432x288 with 1 Axes>"
      ]
     },
     "metadata": {
      "needs_background": "light"
     },
     "output_type": "display_data"
    }
   ],
   "source": [
    "#plot preferred language\n",
    "plt.figure()\n",
    "df_mali['subscriber_pereferred_language'].value_counts().plot(kind='bar')\n",
    "plt.title('Total Number of Callers by Preferred Language')\n",
    "plt.xlabel('Preferred Language')\n",
    "plt.ylabel('Number of Callers')\n",
    "plt.xticks(rotation=0)\n",
    "plt.show()"
   ]
  },
  {
   "cell_type": "markdown",
   "id": "95cddac5",
   "metadata": {},
   "source": [
    "We can see that **Bambara** is the preferred language of subscribers in **Mali**. **703,742** callers (which is around **~71%** of our sample data) prefer this language."
   ]
  },
  {
   "cell_type": "markdown",
   "id": "c1d5cace",
   "metadata": {},
   "source": [
    "#### Location"
   ]
  },
  {
   "cell_type": "markdown",
   "id": "2a0d82f0",
   "metadata": {},
   "source": [
    "Next we will look at the location these callers within Mali call from. Note that **17.6%** of values in the `location` column are missing. \n",
    "\n",
    "A potential next step could be to look into how we can impute these missing values as knowing their location can better assist with the services being provided by Viamo and partners.  "
   ]
  },
  {
   "cell_type": "code",
   "execution_count": 37,
   "id": "26e30b78",
   "metadata": {},
   "outputs": [
    {
     "data": {
      "text/plain": [
       "Sikasso           212289\n",
       "Segou             148643\n",
       "Kayes             135048\n",
       "Koulikoro         103771\n",
       "Mopti              85500\n",
       "Bamako             55037\n",
       "Tombouctou         38223\n",
       "Kidal              23897\n",
       "Gao                20909\n",
       "Ségou                 21\n",
       "Bankass               19\n",
       "Kita                  18\n",
       "Koutiala              14\n",
       "Kati                  11\n",
       "Koro                  11\n",
       "Bougouni               7\n",
       "Banamba                7\n",
       "Diéma                  6\n",
       "Sagabary               4\n",
       "SÃ©gou                 4\n",
       "Bla                    3\n",
       "Kignan                 2\n",
       "Kolondieba             1\n",
       "Macina                 1\n",
       "SÃƒÂ©gou               1\n",
       "Ouelessebougou         1\n",
       "Markala                1\n",
       "Youwarou               1\n",
       "Dioila                 1\n",
       "Bandiagara             1\n",
       "Fana                   1\n",
       "SÃŒÃ„Ã¥Â©gou           1\n",
       "San                    1\n",
       "Douentza               1\n",
       "Name: location, dtype: int64"
      ]
     },
     "execution_count": 37,
     "metadata": {},
     "output_type": "execute_result"
    }
   ],
   "source": [
    "#check counts for the locations subscribers/callers are calling from (Mali)\n",
    "df_mali['location'].value_counts()"
   ]
  },
  {
   "cell_type": "markdown",
   "id": "1ff45a76",
   "metadata": {},
   "source": [
    "**Sikasso** has more subscribers compared to other locations in **Mali**. \n",
    "\n",
    "We need to also look at `location_level_2` column."
   ]
  },
  {
   "cell_type": "code",
   "execution_count": 38,
   "id": "2581c863",
   "metadata": {},
   "outputs": [
    {
     "data": {
      "text/plain": [
       "Cercle de Bougouni          65123\n",
       "Cercle de Kadiolo           39431\n",
       "Cercle de Barouéli          33889\n",
       "Cercle de Koutiala          30828\n",
       "Cercle de Bafoulabé         30298\n",
       "Cercle de Bla               29320\n",
       "Cercle de Kéniéba           27186\n",
       "Cercle de Diéma             25245\n",
       "Cercle de Dioïla            23594\n",
       "Cercle de Banamba           23021\n",
       "Cercle de Sikasso           22538\n",
       "Cercle de Bandiagara        21718\n",
       "Cercle de Macina            19225\n",
       "Cercle de Bankass           15737\n",
       "Cercle de Niono             14814\n",
       "Cercle de Ségou             13559\n",
       "Cercle de Kita              12629\n",
       "Cercle de Goundam           11908\n",
       "Cercle de Kayes             11900\n",
       "Cercle de Djenné            11011\n",
       "Cercle de Kangaba           10793\n",
       "Cercle de Kati              10011\n",
       "Cercle de San                9962\n",
       "Cercle de Kolondiéba         8721\n",
       "Cercle de Mopti              8399\n",
       "Cercle de Gao                8129\n",
       "Cercle de Yorosso            7857\n",
       "Cercle de Koulikoro          7651\n",
       "Cercle de Kolokani           7580\n",
       "Cercle de Kidal              7371\n",
       "Cercle de Nioro du Sahel     6533\n",
       "Cercle de Douentza           6200\n",
       "Cercle de Abeïbara           5723\n",
       "Cercle de Gourma-Rharous     5670\n",
       "Cercle de Diré               5416\n",
       "Cercle de Tombouctou         5319\n",
       "Cercle de Nara               5005\n",
       "Cercle de Koro               4798\n",
       "Cercle de Tominian           4196\n",
       "Cercle de Yanfolila          4110\n",
       "Cercle de Yélimané           3627\n",
       "Cercle de Youwarou           3191\n",
       "Cercle de Ténenkou           3038\n",
       "Cercle de Niafunké           2542\n",
       "Cercle de Tin-Essako         2483\n",
       "Cercle de Menaka             2416\n",
       "Cercle de Almoustrat         2115\n",
       "Cercle de Tessalit           2084\n",
       "Cercle de Ansongo            1744\n",
       "Cercle de Boudjé-Béha         976\n",
       "Cercle de Bourem              849\n",
       "Cercle de Tidermène           666\n",
       "Cercle de Achouratt           663\n",
       "Cercle de Inékar              612\n",
       "Cercle de Foum Alba           402\n",
       "Cercle de Al-Ourche           352\n",
       "Cercle de Anderamboukane      312\n",
       "Fana                           68\n",
       "Kati                           52\n",
       "Ouéléssébougou                 14\n",
       "Name: location_level_2, dtype: int64"
      ]
     },
     "execution_count": 38,
     "metadata": {},
     "output_type": "execute_result"
    }
   ],
   "source": [
    "#check counts for the locations subscribers/callers are calling from (Mali)\n",
    "df_mali['location_level_2'].value_counts()"
   ]
  },
  {
   "cell_type": "markdown",
   "id": "e6604861",
   "metadata": {},
   "source": [
    "We can see that **Cercle de Bougouni** is the top location, this is becasue **Cercle de Bougouni** is an administrative subdivision of the **Sailasso** region of **Mali**.\n",
    "\n",
    "Next we will look at the age categories of the subscribers in Mali. "
   ]
  },
  {
   "cell_type": "markdown",
   "id": "e7f62824",
   "metadata": {},
   "source": [
    "#### Age"
   ]
  },
  {
   "cell_type": "code",
   "execution_count": 39,
   "id": "2487bba6",
   "metadata": {},
   "outputs": [
    {
     "data": {
      "text/plain": [
       "18_24       218082\n",
       "25_34       182493\n",
       "under_18    165440\n",
       "35_44       100471\n",
       "over_44      74386\n",
       "Name: age, dtype: int64"
      ]
     },
     "execution_count": 39,
     "metadata": {},
     "output_type": "execute_result"
    }
   ],
   "source": [
    "#checking for age in Mali dataset\n",
    "df_mali['age'].value_counts()"
   ]
  },
  {
   "cell_type": "code",
   "execution_count": 40,
   "id": "8defbf74",
   "metadata": {},
   "outputs": [
    {
     "data": {
      "text/plain": [
       "18_24       29.435854\n",
       "25_34       24.632190\n",
       "under_18    22.330443\n",
       "35_44       13.561182\n",
       "over_44     10.040331\n",
       "Name: age, dtype: float64"
      ]
     },
     "execution_count": 40,
     "metadata": {},
     "output_type": "execute_result"
    }
   ],
   "source": [
    "#checking for age range in Mali dataset - percentage\n",
    "df_mali['age'].value_counts(normalize=True)*100"
   ]
  },
  {
   "cell_type": "markdown",
   "id": "7868218a",
   "metadata": {},
   "source": [
    "Let's visualize the above numbers."
   ]
  },
  {
   "cell_type": "code",
   "execution_count": 41,
   "id": "9cc437cb",
   "metadata": {},
   "outputs": [
    {
     "data": {
      "image/png": "[encoded data removed]",
      "text/plain": [
       "<Figure size 432x288 with 1 Axes>"
      ]
     },
     "metadata": {
      "needs_background": "light"
     },
     "output_type": "display_data"
    }
   ],
   "source": [
    "#plot number of age categories \n",
    "plt.figure()\n",
    "df_mali['age'].value_counts().plot(kind='bar')\n",
    "plt.title('Total Number of Callers by Age Group')\n",
    "plt.xlabel('Age')\n",
    "plt.ylabel('Number of Callers')\n",
    "plt.xticks(rotation=0)\n",
    "plt.show()"
   ]
  },
  {
   "cell_type": "markdown",
   "id": "f474df0d",
   "metadata": {},
   "source": [
    "We can see that majority of callers are between the ages of **18 to 24** followed by **25 to 34**. \n",
    "\n",
    "Now we can take a look at gender. "
   ]
  },
  {
   "cell_type": "markdown",
   "id": "a7f71396",
   "metadata": {},
   "source": [
    "#### Gender"
   ]
  },
  {
   "cell_type": "code",
   "execution_count": 42,
   "id": "4e14936e",
   "metadata": {},
   "outputs": [
    {
     "data": {
      "text/plain": [
       "male      668525\n",
       "female    183007\n",
       "Name: gender, dtype: int64"
      ]
     },
     "execution_count": 42,
     "metadata": {},
     "output_type": "execute_result"
    }
   ],
   "source": [
    "#checking for gender in Mali dataset\n",
    "df_mali['gender'].value_counts()"
   ]
  },
  {
   "cell_type": "code",
   "execution_count": 43,
   "id": "4cef8a46",
   "metadata": {},
   "outputs": [
    {
     "data": {
      "image/png": "[encoded data removed]",
      "text/plain": [
       "<Figure size 432x288 with 1 Axes>"
      ]
     },
     "metadata": {
      "needs_background": "light"
     },
     "output_type": "display_data"
    }
   ],
   "source": [
    "#plot callers based on gender\n",
    "plt.figure()\n",
    "df_mali['gender'].value_counts().plot(kind='bar')\n",
    "plt.title('Total Number of Callers by Gender')\n",
    "plt.xlabel('Gender')\n",
    "plt.ylabel('Number of Callers')\n",
    "plt.xticks(rotation=0)\n",
    "plt.show()"
   ]
  },
  {
   "cell_type": "code",
   "execution_count": 44,
   "id": "0ad4e88a",
   "metadata": {},
   "outputs": [
    {
     "data": {
      "text/plain": [
       "age       gender\n",
       "18_24     male      166910\n",
       "          female     50331\n",
       "25_34     male      155072\n",
       "          female     26921\n",
       "35_44     male       88321\n",
       "          female     11972\n",
       "over_44   male       63683\n",
       "          female     10543\n",
       "under_18  male      103150\n",
       "          female     61475\n",
       "Name: gender, dtype: int64"
      ]
     },
     "execution_count": 44,
     "metadata": {},
     "output_type": "execute_result"
    }
   ],
   "source": [
    "#what are the genders of callers in each age group\n",
    "df_mali.groupby('age')['gender'].value_counts()"
   ]
  },
  {
   "cell_type": "code",
   "execution_count": 45,
   "id": "40605c05",
   "metadata": {},
   "outputs": [
    {
     "data": {
      "text/plain": [
       "977142100578066432     157\n",
       "1141692174535548928    144\n",
       "1337044397388787200    143\n",
       "1140259233024499712    141\n",
       "1328677109371560040    134\n",
       "                      ... \n",
       "1271852957600113148      1\n",
       "990329819529535488       1\n",
       "1055177879912505344      1\n",
       "1140030652113543168      1\n",
       "1382718218573508092      1\n",
       "Name: subscriber_id, Length: 436680, dtype: Int64"
      ]
     },
     "execution_count": 45,
     "metadata": {},
     "output_type": "execute_result"
    }
   ],
   "source": [
    "df_mali['subscriber_id'].value_counts()"
   ]
  },
  {
   "cell_type": "code",
   "execution_count": 46,
   "id": "a3b0afd2",
   "metadata": {},
   "outputs": [
    {
     "data": {
      "text/plain": [
       "1317807105600184808    4\n",
       "1374527607756350048    4\n",
       "1317609455403723176    4\n",
       "1312537214320174080    4\n",
       "1302011398855388044    4\n",
       "                      ..\n",
       "1305917346107941896    1\n",
       "1290017065562333536    1\n",
       "1373699351650036096    1\n",
       "1411459151921996820    1\n",
       "1385989848615675480    1\n",
       "Name: call_id, Length: 991353, dtype: Int64"
      ]
     },
     "execution_count": 46,
     "metadata": {},
     "output_type": "execute_result"
    }
   ],
   "source": [
    "df_mali['call_id'].value_counts()"
   ]
  },
  {
   "cell_type": "markdown",
   "id": "c1be66ec",
   "metadata": {},
   "source": [
    "What type of topic to they dial in to listen to? Do they use it in sequence?\n",
    "Are the majority of users listen to the same thing?\n",
    "- How listeners behave on the platform?\n",
    "- Who these listeners are?\n",
    "- KM --> key message - what is the key message that indiviudals are dialing in to listen to?"
   ]
  },
  {
   "cell_type": "code",
   "execution_count": 48,
   "id": "4641d6e5",
   "metadata": {},
   "outputs": [
    {
     "data": {
      "text/plain": [
       "348176"
      ]
     },
     "execution_count": 48,
     "metadata": {},
     "output_type": "execute_result"
    }
   ],
   "source": [
    "df_mali['km_block_reached'].nunique()"
   ]
  },
  {
   "cell_type": "code",
   "execution_count": 49,
   "id": "6fa9925f",
   "metadata": {},
   "outputs": [
    {
     "data": {
      "text/plain": [
       "                    560606\n",
       "news                260219\n",
       "health               72364\n",
       "financial            18512\n",
       "health,nutrition     17922\n",
       "ed                   14092\n",
       "security             13432\n",
       "financial,rights     12173\n",
       "gender               11462\n",
       "rights               10594\n",
       "ag                    5645\n",
       "games                 2946\n",
       "nutrition               33\n",
       "Name: block_theme, dtype: int64"
      ]
     },
     "execution_count": 49,
     "metadata": {},
     "output_type": "execute_result"
    }
   ],
   "source": [
    "df_mali['block_theme'].value_counts()"
   ]
  },
  {
   "cell_type": "code",
   "execution_count": 53,
   "id": "dbe25619",
   "metadata": {},
   "outputs": [
    {
     "data": {
      "text/plain": [
       "Digest or main menu?                                                                          149809\n",
       "Main Menu                                                                                      82121\n",
       "Choix Menu Tamani                                                                              69301\n",
       "Titres du Journal                                                                              66304\n",
       "Digest Intro                                                                                   49033\n",
       "                                                                                               ...  \n",
       "Quels sont les problèmes et les mythes concernant les personnes en situation de handicap ?         1\n",
       "Q.9.3                                                                                              1\n",
       "Teaser mAGRI Elévage (a)                                                                           1\n",
       "Comment est-ce que les pesticides sont-ils classifiés ?                                            1\n",
       "Comment la communauté peut-elle aider les personnes en situation de handicap?                      1\n",
       "Name: block_title, Length: 1500, dtype: int64"
      ]
     },
     "execution_count": 53,
     "metadata": {},
     "output_type": "execute_result"
    }
   ],
   "source": [
    "df_mali['block_title'].value_counts()"
   ]
  },
  {
   "cell_type": "code",
   "execution_count": 54,
   "id": "2b800b44",
   "metadata": {},
   "outputs": [
    {
     "data": {
      "text/plain": [
       "Listen Menu      455383\n",
       "Listen Digest    198217\n",
       "Name: listen_menu_or_digest, dtype: int64"
      ]
     },
     "execution_count": 54,
     "metadata": {},
     "output_type": "execute_result"
    }
   ],
   "source": [
    "df_mali['listen_menu_or_digest'].value_counts()"
   ]
  },
  {
   "cell_type": "markdown",
   "id": "8b24274c",
   "metadata": {},
   "source": [
    "## Question 15\n",
    "#### Distribution of calls (unique call ids) over time (day, week, month)"
   ]
  },
  {
   "cell_type": "code",
   "execution_count": 55,
   "id": "78d40226",
   "metadata": {},
   "outputs": [
    {
     "data": {
      "text/plain": [
       "691"
      ]
     },
     "execution_count": 55,
     "metadata": {},
     "output_type": "execute_result"
    }
   ],
   "source": [
    "#check number of unique call dates in our dataset\n",
    "df_mali['call_date'].nunique()"
   ]
  },
  {
   "cell_type": "markdown",
   "id": "c64ebe08",
   "metadata": {},
   "source": [
    "There are 691 unique dates in our dataset.\n",
    "\n",
    "Next we will look at the date range in our dataset."
   ]
  },
  {
   "cell_type": "code",
   "execution_count": 59,
   "id": "7553a8af",
   "metadata": {},
   "outputs": [
    {
     "data": {
      "text/plain": [
       "'2020.0 to 2022.0'"
      ]
     },
     "execution_count": 59,
     "metadata": {},
     "output_type": "execute_result"
    }
   ],
   "source": [
    "#check the date range (year) in our dataset\n",
    "import datetime\n",
    "date_range = str(df_mali['call_date'].dt.year.min()) + ' to ' +str(df_mali['call_date'].dt.year.max())\n",
    "date_range"
   ]
  },
  {
   "cell_type": "markdown",
   "id": "b9378507",
   "metadata": {},
   "source": [
    "#### Year"
   ]
  },
  {
   "cell_type": "code",
   "execution_count": 60,
   "id": "e2fcbf21",
   "metadata": {},
   "outputs": [
    {
     "data": {
      "text/plain": [
       "2021.0    549963\n",
       "2022.0    450024\n",
       "2020.0         3\n",
       "Name: call_date, dtype: int64"
      ]
     },
     "execution_count": 60,
     "metadata": {},
     "output_type": "execute_result"
    }
   ],
   "source": [
    "#value counts for call_date per year\n",
    "df_mali['call_date'].dt.year.value_counts()"
   ]
  },
  {
   "cell_type": "markdown",
   "id": "9ae94fdd",
   "metadata": {},
   "source": [
    "The year **2021** had the most nummber of callers."
   ]
  },
  {
   "cell_type": "markdown",
   "id": "dcd85b7d",
   "metadata": {},
   "source": [
    "#### Month"
   ]
  },
  {
   "cell_type": "code",
   "execution_count": 68,
   "id": "3c62dbdb",
   "metadata": {},
   "outputs": [
    {
     "data": {
      "text/plain": [
       "3.0     96460\n",
       "4.0     93072\n",
       "1.0     88964\n",
       "7.0     88742\n",
       "10.0    88172\n",
       "2.0     85789\n",
       "5.0     84565\n",
       "8.0     83275\n",
       "11.0    82711\n",
       "9.0     81337\n",
       "6.0     79721\n",
       "12.0    47182\n",
       "Name: call_date, dtype: int64"
      ]
     },
     "execution_count": 68,
     "metadata": {},
     "output_type": "execute_result"
    }
   ],
   "source": [
    "#value counts for call_date per month\n",
    "df_mali['call_date'].dt.month.value_counts()"
   ]
  },
  {
   "cell_type": "markdown",
   "id": "fd416349",
   "metadata": {},
   "source": [
    "We can see that **March** (month 3) has the **highest number of calls** followed by April. \n",
    "**December** has the **lowest number of calls**."
   ]
  },
  {
   "cell_type": "markdown",
   "id": "b9c7ff7d",
   "metadata": {},
   "source": [
    "#### Day"
   ]
  },
  {
   "cell_type": "code",
   "execution_count": 69,
   "id": "e12c1cf4",
   "metadata": {},
   "outputs": [
    {
     "data": {
      "text/plain": [
       "4.0     34057\n",
       "1.0     33980\n",
       "7.0     33739\n",
       "6.0     33673\n",
       "10.0    33555\n",
       "11.0    33512\n",
       "3.0     33450\n",
       "21.0    33407\n",
       "8.0     33379\n",
       "2.0     33322\n",
       "15.0    33317\n",
       "12.0    33246\n",
       "23.0    33152\n",
       "18.0    33117\n",
       "22.0    33103\n",
       "5.0     33035\n",
       "17.0    32934\n",
       "16.0    32792\n",
       "25.0    32734\n",
       "14.0    32705\n",
       "13.0    32695\n",
       "19.0    32577\n",
       "26.0    32542\n",
       "9.0     32474\n",
       "24.0    32438\n",
       "27.0    32382\n",
       "20.0    32227\n",
       "28.0    32006\n",
       "29.0    28625\n",
       "30.0    27480\n",
       "31.0    18335\n",
       "Name: call_date, dtype: int64"
      ]
     },
     "execution_count": 69,
     "metadata": {},
     "output_type": "execute_result"
    }
   ],
   "source": [
    "#value counts for call_date per day\n",
    "df_mali['call_date'].dt.day.value_counts()"
   ]
  },
  {
   "cell_type": "markdown",
   "id": "3cf70d59",
   "metadata": {},
   "source": [
    "We can see that day **4** of the month has more callers and towards the end of the month (**day31**)."
   ]
  },
  {
   "cell_type": "code",
   "execution_count": 61,
   "id": "d2fed562",
   "metadata": {},
   "outputs": [
    {
     "name": "stderr",
     "output_type": "stream",
     "text": [
      "/var/folders/_2/shblqd712xgf_wv6wqksjbcr0000gn/T/ipykernel_37805/1879871102.py:2: FutureWarning: Treating datetime data as categorical rather than numeric in `.describe` is deprecated and will be removed in a future version of pandas. Specify `datetime_is_numeric=True` to silence this warning and adopt the future behavior now.\n",
      "  df_mali['call_date'].describe()\n"
     ]
    },
    {
     "data": {
      "text/plain": [
       "count                  999990\n",
       "unique                    691\n",
       "top       2021-11-18 00:00:00\n",
       "freq                     2346\n",
       "first     2020-12-31 00:00:00\n",
       "last      2022-11-21 00:00:00\n",
       "Name: call_date, dtype: object"
      ]
     },
     "execution_count": 61,
     "metadata": {},
     "output_type": "execute_result"
    }
   ],
   "source": [
    "#check min/max for call_date\n",
    "df_mali['call_date'].describe()"
   ]
  },
  {
   "cell_type": "code",
   "execution_count": 62,
   "id": "fc5348d6",
   "metadata": {},
   "outputs": [
    {
     "data": {
      "text/plain": [
       "Timestamp('2020-12-31 00:00:00')"
      ]
     },
     "execution_count": 62,
     "metadata": {},
     "output_type": "execute_result"
    }
   ],
   "source": [
    "#sanity check - another way to check for min date in our dataset\n",
    "df_mali['call_date'].min()"
   ]
  },
  {
   "cell_type": "code",
   "execution_count": 63,
   "id": "4c9a2778",
   "metadata": {},
   "outputs": [
    {
     "data": {
      "text/plain": [
       "Timestamp('2022-11-21 00:00:00')"
      ]
     },
     "execution_count": 63,
     "metadata": {},
     "output_type": "execute_result"
    }
   ],
   "source": [
    "#sanity check - another way to check for max date in our dataset\n",
    "df_mali['call_date'].max()"
   ]
  },
  {
   "cell_type": "code",
   "execution_count": 67,
   "id": "35cced8a",
   "metadata": {},
   "outputs": [
    {
     "data": {
      "text/plain": [
       "call_date\n",
       "2021-11-18    2346\n",
       "2021-11-17    2325\n",
       "2021-11-16    2306\n",
       "2021-11-19    2268\n",
       "2021-12-02    2253\n",
       "              ... \n",
       "2022-08-28     820\n",
       "2022-07-09     815\n",
       "2022-11-19     811\n",
       "2022-11-20     639\n",
       "2020-12-31       3\n",
       "Name: call_id, Length: 691, dtype: int64"
      ]
     },
     "execution_count": 67,
     "metadata": {},
     "output_type": "execute_result"
    }
   ],
   "source": [
    "#count total calls per date (day/month/year)\n",
    "df_mali.groupby('call_date')['call_id'].count().sort_values(ascending=False)"
   ]
  },
  {
   "cell_type": "code",
   "execution_count": null,
   "id": "6a1ff1ae",
   "metadata": {},
   "outputs": [],
   "source": []
  },
  {
   "cell_type": "code",
   "execution_count": null,
   "id": "5d17c274",
   "metadata": {},
   "outputs": [],
   "source": []
  },
  {
   "cell_type": "code",
   "execution_count": null,
   "id": "11bca0ab",
   "metadata": {},
   "outputs": [],
   "source": []
  },
  {
   "cell_type": "markdown",
   "id": "7054c854",
   "metadata": {},
   "source": [
    "## Question 16\n",
    "#### Distribution of number of calls per subscriber (overall, by month)"
   ]
  },
  {
   "cell_type": "code",
   "execution_count": null,
   "id": "e057b365",
   "metadata": {},
   "outputs": [],
   "source": []
  },
  {
   "cell_type": "code",
   "execution_count": null,
   "id": "8cbd3515",
   "metadata": {},
   "outputs": [],
   "source": []
  },
  {
   "cell_type": "code",
   "execution_count": null,
   "id": "bfb3e618",
   "metadata": {},
   "outputs": [],
   "source": []
  },
  {
   "cell_type": "markdown",
   "id": "aecada91",
   "metadata": {},
   "source": [
    "## Question 17\n",
    "#### Distribution of time between calls by subscriber by calls"
   ]
  },
  {
   "cell_type": "code",
   "execution_count": null,
   "id": "58ca8c46",
   "metadata": {},
   "outputs": [],
   "source": []
  },
  {
   "cell_type": "code",
   "execution_count": null,
   "id": "000e4498",
   "metadata": {},
   "outputs": [],
   "source": []
  },
  {
   "cell_type": "code",
   "execution_count": null,
   "id": "058c2ea5",
   "metadata": {},
   "outputs": [],
   "source": []
  },
  {
   "cell_type": "markdown",
   "id": "fb5d2708",
   "metadata": {},
   "source": [
    "## Question 18\n",
    "#### Frequency of calls by demographic variables (e.g. gender, education)"
   ]
  },
  {
   "cell_type": "code",
   "execution_count": null,
   "id": "a6d5ab8c",
   "metadata": {},
   "outputs": [],
   "source": []
  },
  {
   "cell_type": "code",
   "execution_count": null,
   "id": "d655a6c2",
   "metadata": {},
   "outputs": [],
   "source": []
  },
  {
   "cell_type": "code",
   "execution_count": null,
   "id": "e7670cc5",
   "metadata": {},
   "outputs": [],
   "source": []
  },
  {
   "cell_type": "markdown",
   "id": "3b86e0b3",
   "metadata": {},
   "source": [
    "## Question 19\n",
    "#### Frequency of duration of calls"
   ]
  },
  {
   "cell_type": "code",
   "execution_count": null,
   "id": "4e5c2391",
   "metadata": {},
   "outputs": [],
   "source": []
  },
  {
   "cell_type": "code",
   "execution_count": null,
   "id": "e71cc304",
   "metadata": {},
   "outputs": [],
   "source": []
  },
  {
   "cell_type": "code",
   "execution_count": null,
   "id": "3967823f",
   "metadata": {},
   "outputs": [],
   "source": []
  },
  {
   "cell_type": "markdown",
   "id": "fd626085",
   "metadata": {},
   "source": [
    "## Question 20\n",
    "#### Time of day distribution of calls"
   ]
  },
  {
   "cell_type": "code",
   "execution_count": null,
   "id": "4867807d",
   "metadata": {},
   "outputs": [],
   "source": []
  },
  {
   "cell_type": "code",
   "execution_count": null,
   "id": "74e2fb08",
   "metadata": {},
   "outputs": [],
   "source": []
  },
  {
   "cell_type": "code",
   "execution_count": null,
   "id": "1dc5e525",
   "metadata": {},
   "outputs": [],
   "source": []
  },
  {
   "cell_type": "markdown",
   "id": "635613f1",
   "metadata": {},
   "source": [
    "## Question 21\n",
    "#### Day of week distribution of calls"
   ]
  },
  {
   "cell_type": "code",
   "execution_count": null,
   "id": "aaf7412f",
   "metadata": {},
   "outputs": [],
   "source": []
  },
  {
   "cell_type": "code",
   "execution_count": null,
   "id": "8968caf2",
   "metadata": {},
   "outputs": [],
   "source": []
  },
  {
   "cell_type": "code",
   "execution_count": null,
   "id": "af3cfc75",
   "metadata": {},
   "outputs": [],
   "source": []
  }
 ],
 "metadata": {
  "kernelspec": {
   "display_name": "Python 3 (ipykernel)",
   "language": "python",
   "name": "python3"
  },
  "language_info": {
   "codemirror_mode": {
    "name": "ipython",
    "version": 3
   },
   "file_extension": ".py",
   "mimetype": "text/x-python",
   "name": "python",
   "nbconvert_exporter": "python",
   "pygments_lexer": "ipython3",
   "version": "3.9.12"
  }
 },
 "nbformat": 4,
 "nbformat_minor": 5
}
