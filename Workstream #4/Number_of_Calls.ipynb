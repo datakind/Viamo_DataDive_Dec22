{
 "cells": [
  {
   "cell_type": "code",
   "execution_count": 1,
   "id": "b2a33dc8-fea3-44a5-832d-2820946f4539",
   "metadata": {},
   "outputs": [],
   "source": [
    "#import libraries\n",
    "import os\n",
    "import pandas as pd\n",
    "import numpy as np\n",
    "import datetime\n",
    "%matplotlib inline\n",
    "import matplotlib.pyplot as plt\n",
    "import seaborn as sns\n",
    "import warnings\n",
    "warnings.filterwarnings('ignore')"
   ]
  },
  {
   "cell_type": "code",
   "execution_count": 2,
   "id": "f9bf5ca4-0220-49f6-aace-60cdb833ab1b",
   "metadata": {},
   "outputs": [],
   "source": [
    "#read in data\n",
    "data = pd.read_csv('/Users/deepshikasharma/Downloads/Viamo_sample/3m_uganda-3m_uganda_000000000013.csv')"
   ]
  },
  {
   "cell_type": "markdown",
   "id": "04472e68-fca7-43c8-ac44-f5e7455134a3",
   "metadata": {},
   "source": [
    "For calculating retatined users, we need subscriber IDs. We need to know who called and are they calling every month, every two months, every quarter? etc.\n",
    "\n",
    "Since rows are blocks, we need to remove duplicate call IDs and only keep unique or the first instance of call_ids. We also only want active users (those listen to KMs) so remove rows that are NaN in the listener column."
   ]
  },
  {
   "cell_type": "code",
   "execution_count": 3,
   "id": "b5b31ff1-37af-4afa-8404-612134dcf3bd",
   "metadata": {},
   "outputs": [],
   "source": [
    "#select relevant columns for analysis\n",
    "df = data[['call_date','call_id','subscriber_id', 'listener']]"
   ]
  },
  {
   "cell_type": "code",
   "execution_count": 4,
   "id": "d0560095-bcd3-4d51-9741-349ff8e44c8c",
   "metadata": {},
   "outputs": [
    {
     "data": {
      "text/html": [
       "<div>\n",
       "<style scoped>\n",
       "    .dataframe tbody tr th:only-of-type {\n",
       "        vertical-align: middle;\n",
       "    }\n",
       "\n",
       "    .dataframe tbody tr th {\n",
       "        vertical-align: top;\n",
       "    }\n",
       "\n",
       "    .dataframe thead th {\n",
       "        text-align: right;\n",
       "    }\n",
       "</style>\n",
       "<table border=\"1\" class=\"dataframe\">\n",
       "  <thead>\n",
       "    <tr style=\"text-align: right;\">\n",
       "      <th></th>\n",
       "      <th>call_date</th>\n",
       "      <th>call_id</th>\n",
       "      <th>subscriber_id</th>\n",
       "      <th>listener</th>\n",
       "    </tr>\n",
       "  </thead>\n",
       "  <tbody>\n",
       "    <tr>\n",
       "      <th>0</th>\n",
       "      <td>2022-08-29</td>\n",
       "      <td>1411062908402008340</td>\n",
       "      <td>1397798074763971536</td>\n",
       "      <td>NaN</td>\n",
       "    </tr>\n",
       "    <tr>\n",
       "      <th>1</th>\n",
       "      <td>2022-09-02</td>\n",
       "      <td>1412485952941066896</td>\n",
       "      <td>1408874694534758612</td>\n",
       "      <td>1.408875e+18</td>\n",
       "    </tr>\n",
       "    <tr>\n",
       "      <th>2</th>\n",
       "      <td>2022-10-27</td>\n",
       "      <td>1432189857224458692</td>\n",
       "      <td>1413001236147866916</td>\n",
       "      <td>NaN</td>\n",
       "    </tr>\n",
       "    <tr>\n",
       "      <th>3</th>\n",
       "      <td>2022-10-23</td>\n",
       "      <td>1430774187920197780</td>\n",
       "      <td>1397131186593596196</td>\n",
       "      <td>NaN</td>\n",
       "    </tr>\n",
       "    <tr>\n",
       "      <th>4</th>\n",
       "      <td>2022-11-04</td>\n",
       "      <td>1435301555460374868</td>\n",
       "      <td>700749130498048001</td>\n",
       "      <td>NaN</td>\n",
       "    </tr>\n",
       "  </tbody>\n",
       "</table>\n",
       "</div>"
      ],
      "text/plain": [
       "    call_date              call_id        subscriber_id      listener\n",
       "0  2022-08-29  1411062908402008340  1397798074763971536           NaN\n",
       "1  2022-09-02  1412485952941066896  1408874694534758612  1.408875e+18\n",
       "2  2022-10-27  1432189857224458692  1413001236147866916           NaN\n",
       "3  2022-10-23  1430774187920197780  1397131186593596196           NaN\n",
       "4  2022-11-04  1435301555460374868   700749130498048001           NaN"
      ]
     },
     "execution_count": 4,
     "metadata": {},
     "output_type": "execute_result"
    }
   ],
   "source": [
    "df.head()"
   ]
  },
  {
   "cell_type": "code",
   "execution_count": 5,
   "id": "1ba0605b-70eb-4527-b702-5b9cd57f38de",
   "metadata": {},
   "outputs": [],
   "source": [
    "#remove rows with NaN values in listener column\n",
    "df.dropna(subset = ['listener'], inplace = True)"
   ]
  },
  {
   "cell_type": "code",
   "execution_count": 6,
   "id": "3a73c6cd-20ef-442a-8a98-cd7129153175",
   "metadata": {},
   "outputs": [],
   "source": [
    "#drop listener column because it's redudant - we now have all the rows where user listened to KM aka \n",
    "#active users\n",
    "df.drop(['listener'], inplace = True, axis = 1)"
   ]
  },
  {
   "cell_type": "code",
   "execution_count": 7,
   "id": "0b9fa7b6-0f3f-4ffa-b0c3-6ac974e89907",
   "metadata": {},
   "outputs": [
    {
     "data": {
      "text/html": [
       "<div>\n",
       "<style scoped>\n",
       "    .dataframe tbody tr th:only-of-type {\n",
       "        vertical-align: middle;\n",
       "    }\n",
       "\n",
       "    .dataframe tbody tr th {\n",
       "        vertical-align: top;\n",
       "    }\n",
       "\n",
       "    .dataframe thead th {\n",
       "        text-align: right;\n",
       "    }\n",
       "</style>\n",
       "<table border=\"1\" class=\"dataframe\">\n",
       "  <thead>\n",
       "    <tr style=\"text-align: right;\">\n",
       "      <th></th>\n",
       "      <th>call_date</th>\n",
       "      <th>call_id</th>\n",
       "      <th>subscriber_id</th>\n",
       "    </tr>\n",
       "  </thead>\n",
       "  <tbody>\n",
       "    <tr>\n",
       "      <th>1</th>\n",
       "      <td>2022-09-02</td>\n",
       "      <td>1412485952941066896</td>\n",
       "      <td>1408874694534758612</td>\n",
       "    </tr>\n",
       "    <tr>\n",
       "      <th>50</th>\n",
       "      <td>2022-09-12</td>\n",
       "      <td>1416057625095177896</td>\n",
       "      <td>1416047894435726936</td>\n",
       "    </tr>\n",
       "    <tr>\n",
       "      <th>51</th>\n",
       "      <td>2022-09-21</td>\n",
       "      <td>1419361581967870320</td>\n",
       "      <td>1368799985759946420</td>\n",
       "    </tr>\n",
       "    <tr>\n",
       "      <th>52</th>\n",
       "      <td>2022-09-17</td>\n",
       "      <td>1417906730947838716</td>\n",
       "      <td>1384392720051077152</td>\n",
       "    </tr>\n",
       "    <tr>\n",
       "      <th>53</th>\n",
       "      <td>2022-09-14</td>\n",
       "      <td>1416824151293299292</td>\n",
       "      <td>1148581694216339456</td>\n",
       "    </tr>\n",
       "  </tbody>\n",
       "</table>\n",
       "</div>"
      ],
      "text/plain": [
       "     call_date              call_id        subscriber_id\n",
       "1   2022-09-02  1412485952941066896  1408874694534758612\n",
       "50  2022-09-12  1416057625095177896  1416047894435726936\n",
       "51  2022-09-21  1419361581967870320  1368799985759946420\n",
       "52  2022-09-17  1417906730947838716  1384392720051077152\n",
       "53  2022-09-14  1416824151293299292  1148581694216339456"
      ]
     },
     "execution_count": 7,
     "metadata": {},
     "output_type": "execute_result"
    }
   ],
   "source": [
    "df.head()"
   ]
  },
  {
   "cell_type": "code",
   "execution_count": 8,
   "id": "0681cf62-5062-4469-91e5-49e8329fb257",
   "metadata": {},
   "outputs": [],
   "source": [
    "#convert call_date data type from object to datetime\n",
    "df['call_date'] = pd.to_datetime(df.call_date)\n",
    "#extract month from call_date column \n",
    "df['Month'] = df['call_date'].dt.month_name()"
   ]
  },
  {
   "cell_type": "markdown",
   "id": "90dbbccf-deaa-4d53-a936-e7d80acfacae",
   "metadata": {},
   "source": [
    "Repeating call_ids on the same date means the user intereacted with multiple blocks on the same call on the same date. The call_id repeats because every time a user interacts with a new block, that same call_id is listed with the block. "
   ]
  },
  {
   "cell_type": "code",
   "execution_count": 9,
   "id": "cb4267b0-5d54-4267-b955-0f246953f649",
   "metadata": {},
   "outputs": [],
   "source": [
    "#keep unique call_ids only. remove duplicates and only keep first instance.\n",
    "df.drop_duplicates(subset=['call_id'], keep='first', inplace = True)"
   ]
  },
  {
   "cell_type": "code",
   "execution_count": 10,
   "id": "845d3989-0934-4e3d-bae7-ba7107c0dfa5",
   "metadata": {},
   "outputs": [],
   "source": [
    "#need to custom sort the dataframe by month chronologically\n",
    "months_categories = [\"August\", \"September\", \"October\", \"November\"]\n",
    "df[\"Month\"] = pd.Categorical(df[\"Month\"], categories = months_categories)\n",
    "df = df.sort_values(by = \"Month\")"
   ]
  },
  {
   "cell_type": "code",
   "execution_count": 11,
   "id": "09b73912-6375-481b-9cc0-6c168b1a0f90",
   "metadata": {},
   "outputs": [],
   "source": [
    "#drop call_id because now we have only rows that contain active users and\n",
    "#have made sure the same call (call_id) is not double counted.\n",
    "#call_date is removed because we have the Month column\n",
    "df.drop(['call_id','call_date'], inplace = True, axis = 1)"
   ]
  },
  {
   "cell_type": "code",
   "execution_count": 12,
   "id": "425fb685-3f8b-4c96-b678-8d8e71ea53c5",
   "metadata": {},
   "outputs": [],
   "source": [
    "count = df.groupby('subscriber_id').count().reset_index()"
   ]
  },
  {
   "cell_type": "code",
   "execution_count": 13,
   "id": "0b375769-784d-401e-aaff-68d9eeff5fff",
   "metadata": {},
   "outputs": [],
   "source": [
    "count.sort_values(by='Month', ascending=True, inplace = True)"
   ]
  },
  {
   "cell_type": "code",
   "execution_count": 14,
   "id": "edefd2b8-57b4-46b6-8583-b15c0c8e1356",
   "metadata": {},
   "outputs": [],
   "source": [
    "count.rename(columns = {'Month':'# of calls'}, inplace = True)"
   ]
  },
  {
   "cell_type": "code",
   "execution_count": 15,
   "id": "5dd84070-5e0d-4420-a666-12e77971387c",
   "metadata": {},
   "outputs": [],
   "source": [
    "count.drop(['subscriber_id'], axis = 1, inplace = True)"
   ]
  },
  {
   "cell_type": "code",
   "execution_count": 16,
   "id": "611b1637-1049-4f1c-948f-e1e3288c1963",
   "metadata": {},
   "outputs": [],
   "source": [
    "maus_count = count.pivot_table(columns=['# of calls'], aggfunc='size')"
   ]
  },
  {
   "cell_type": "code",
   "execution_count": 17,
   "id": "1d9e86e3-bcb0-4d29-849f-f78c1ad59ea0",
   "metadata": {},
   "outputs": [],
   "source": [
    "maus_count = pd.DataFrame(maus_count).reset_index()"
   ]
  },
  {
   "cell_type": "code",
   "execution_count": 18,
   "id": "d6549fc5-a147-4005-a17f-ee85f92bd14e",
   "metadata": {},
   "outputs": [],
   "source": [
    "maus_count.rename(columns = {0:'# of users'}, inplace = True)"
   ]
  },
  {
   "cell_type": "code",
   "execution_count": 19,
   "id": "361e29a4-02b5-4286-b03f-071328738a78",
   "metadata": {},
   "outputs": [
    {
     "data": {
      "image/png": "[encoded data removed]",
      "text/plain": [
       "<Figure size 432x432 with 1 Axes>"
      ]
     },
     "metadata": {
      "needs_background": "light"
     },
     "output_type": "display_data"
    }
   ],
   "source": [
    "#create plot one\n",
    "plt.rcParams[\"figure.figsize\"] = (6, 6)\n",
    "ax = maus_count.plot(x='# of calls', y ='# of users',kind='bar')\n",
    "ax.set_title('Number of Calls Users Make (Aug - Nov)')\n",
    "ax.legend(bbox_to_anchor=(1.0, 1.0))\n",
    "\n",
    "for p in ax.patches:\n",
    "    width = p.get_width()\n",
    "    height = p.get_height()\n",
    "    x, y = p.get_xy() \n",
    "    ax.annotate(f'{height}', (x + width/2, y + height*1.02), ha='center')\n",
    "\n",
    "plt.savefig('Number_of_Calls_Users_Make.jpeg', bbox_inches='tight')"
   ]
  },
  {
   "cell_type": "code",
   "execution_count": null,
   "id": "780334a5-ac8a-44e2-bd51-2d14f73dbc73",
   "metadata": {},
   "outputs": [],
   "source": []
  }
 ],
 "metadata": {
  "kernelspec": {
   "display_name": "Python 3 (ipykernel)",
   "language": "python",
   "name": "python3"
  },
  "language_info": {
   "codemirror_mode": {
    "name": "ipython",
    "version": 3
   },
   "file_extension": ".py",
   "mimetype": "text/x-python",
   "name": "python",
   "nbconvert_exporter": "python",
   "pygments_lexer": "ipython3",
   "version": "3.8.2"
  }
 },
 "nbformat": 4,
 "nbformat_minor": 5
}
