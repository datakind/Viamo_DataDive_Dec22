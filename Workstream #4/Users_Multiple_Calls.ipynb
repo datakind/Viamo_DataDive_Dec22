{
 "cells": [
  {
   "cell_type": "code",
   "execution_count": 1,
   "id": "e26cface-d213-4966-933b-1fb27ad3c227",
   "metadata": {},
   "outputs": [],
   "source": [
    "#import libraries\n",
    "import os\n",
    "import pandas as pd\n",
    "import numpy as np\n",
    "import datetime\n",
    "%matplotlib inline\n",
    "import matplotlib.pyplot as plt\n",
    "import seaborn as sns\n",
    "import warnings\n",
    "warnings.filterwarnings('ignore')"
   ]
  },
  {
   "cell_type": "code",
   "execution_count": 2,
   "id": "3d50fbb0-64e7-4247-a2af-ccc9153f4324",
   "metadata": {},
   "outputs": [],
   "source": [
    "#read in data\n",
    "data = pd.read_csv('/Users/deepshikasharma/Downloads/Viamo_sample/3m_uganda-3m_uganda_000000000013.csv')"
   ]
  },
  {
   "cell_type": "code",
   "execution_count": 3,
   "id": "57e5164e-8752-4f77-b1ac-77fcce676212",
   "metadata": {},
   "outputs": [],
   "source": [
    "#select relevant columns for analysis\n",
    "mau = data[['call_date','subscriber_id','call_id']]"
   ]
  },
  {
   "cell_type": "code",
   "execution_count": 4,
   "id": "ea819ca1-1e78-406a-afc8-9162378d2510",
   "metadata": {},
   "outputs": [],
   "source": [
    "#convert call_date data type from object to datetime\n",
    "mau['call_date'] = pd.to_datetime(mau.call_date)"
   ]
  },
  {
   "cell_type": "code",
   "execution_count": 5,
   "id": "1fd827fd-44e5-47e8-951c-3bc8af94dab7",
   "metadata": {},
   "outputs": [],
   "source": [
    "#extract month from call_date column \n",
    "mau['Month'] = mau['call_date'].dt.month_name()"
   ]
  },
  {
   "cell_type": "code",
   "execution_count": 6,
   "id": "64800737-50f8-4267-ad20-225115fb0364",
   "metadata": {},
   "outputs": [],
   "source": [
    "#remove call_date column\n",
    "mau.drop('call_date', inplace = True, axis=1)"
   ]
  },
  {
   "cell_type": "code",
   "execution_count": 7,
   "id": "1d54c81a-f359-4e84-9cb0-82c26161c74b",
   "metadata": {},
   "outputs": [],
   "source": [
    "#need to custom sort the dataframe by month chronologically\n",
    "months_categories = [\"August\", \"September\", \"October\", \"November\"]\n",
    "mau[\"Month\"] = pd.Categorical(mau[\"Month\"], categories = months_categories)\n",
    "df = mau.sort_values(by = \"Month\")"
   ]
  },
  {
   "cell_type": "code",
   "execution_count": 8,
   "id": "057593bf-a213-49b5-a78d-2f170761005e",
   "metadata": {},
   "outputs": [],
   "source": [
    "#list of months for the function to loop through\n",
    "all_months = ['August', 'September','October','November']"
   ]
  },
  {
   "cell_type": "code",
   "execution_count": 9,
   "id": "dfc1212b-2d4b-4147-a9f8-5d9a808e9d7a",
   "metadata": {},
   "outputs": [],
   "source": [
    "#data is dataframe with all rows from every month i.e. df is the parameter\n",
    "def cleanup(data):\n",
    "    #loop through all the months in the list\n",
    "    for x in all_months:\n",
    "        #get rows in dataframe that correspond to specific month\n",
    "        maus = df.loc[(df['Month'] == x)]\n",
    "        #drop the Month columns because we splitting data by month\n",
    "        maus.drop('Month', inplace = True, axis = 1)\n",
    "        #how many times does each subscriber_id repeats, tells us how often the subscriber(user) called within that month\n",
    "        maus_count = maus.pivot_table(columns=['subscriber_id'], aggfunc='size')\n",
    "        maus_count = pd.DataFrame(maus_count).reset_index()\n",
    "        maus_count.rename(columns = {0:'# of Calls'}, inplace = True)\n",
    "        #We are grouping by column # of Calls to see how many users called once, twice, three times, four times etc?\n",
    "        maus_count = maus_count.groupby('# of Calls').count()\n",
    "        maus_count = pd.DataFrame(maus_count).reset_index()\n",
    "        maus_count.rename(columns = {'subscriber_id':'# of Users'}, inplace = True)\n",
    "        #adds the corresponding month as a constant back into the DataFrame\n",
    "        maus_count['Month'] = x\n",
    "        #save the dataframe as dynamic variable\n",
    "        dynamic_name = str(x)\n",
    "        globals()[dynamic_name + '_df'] = maus_count"
   ]
  },
  {
   "cell_type": "code",
   "execution_count": 10,
   "id": "d5aaf019-572d-4fb9-b505-b6bbbe1a550a",
   "metadata": {},
   "outputs": [],
   "source": [
    "#run function\n",
    "cleanup(df)"
   ]
  },
  {
   "cell_type": "code",
   "execution_count": 11,
   "id": "f435bc73-7c49-4bd2-9c5e-cf587d455342",
   "metadata": {},
   "outputs": [],
   "source": [
    "#list all month dataframes to be concatenated \n",
    "graph_df = [August_df, September_df, October_df, November_df]\n",
    "graph_df = pd.concat(graph_df)"
   ]
  },
  {
   "cell_type": "code",
   "execution_count": 12,
   "id": "44e9aec4-02d5-4a04-b3b4-f3542942d574",
   "metadata": {},
   "outputs": [
    {
     "data": {
      "image/png": "[encoded data removed]",
      "text/plain": [
       "<Figure size 864x432 with 4 Axes>"
      ]
     },
     "metadata": {
      "needs_background": "light"
     },
     "output_type": "display_data"
    }
   ],
   "source": [
    "#create plot for how many people called x amomunt times for each month\n",
    "g = sns.FacetGrid(graph_df, col=\"Month\", height=3, aspect=2, margin_titles=True, col_wrap=2)\n",
    "g.map(sns.scatterplot, \"# of Calls\", \"# of Users\")\n",
    "plt.savefig('Users_Multiple_Calls.jpeg', bbox_inches='tight')"
   ]
  }
 ],
 "metadata": {
  "kernelspec": {
   "display_name": "Python 3 (ipykernel)",
   "language": "python",
   "name": "python3"
  },
  "language_info": {
   "codemirror_mode": {
    "name": "ipython",
    "version": 3
   },
   "file_extension": ".py",
   "mimetype": "text/x-python",
   "name": "python",
   "nbconvert_exporter": "python",
   "pygments_lexer": "ipython3",
   "version": "3.8.2"
  }
 },
 "nbformat": 4,
 "nbformat_minor": 5
}
