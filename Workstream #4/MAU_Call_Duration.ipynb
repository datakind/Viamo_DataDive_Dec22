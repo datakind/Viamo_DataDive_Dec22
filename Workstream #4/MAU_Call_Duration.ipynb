{
 "cells": [
  {
   "cell_type": "code",
   "execution_count": 1,
   "id": "3fec2cf5-a817-4a04-b6e7-04f48b24e946",
   "metadata": {},
   "outputs": [],
   "source": [
    "#import libraries\n",
    "import os\n",
    "import pandas as pd\n",
    "import numpy as np\n",
    "import datetime\n",
    "%matplotlib inline\n",
    "import matplotlib.pyplot as plt\n",
    "import seaborn as sns\n",
    "import warnings\n",
    "warnings.filterwarnings('ignore')"
   ]
  },
  {
   "cell_type": "code",
   "execution_count": 2,
   "id": "4abfe02f-614d-4817-a300-ed51c33b5526",
   "metadata": {},
   "outputs": [],
   "source": [
    "#read in data\n",
    "df = pd.read_csv('/Users/deepshikasharma/Downloads/Viamo_sample/3m_uganda-3m_uganda_000000000013.csv')"
   ]
  },
  {
   "cell_type": "code",
   "execution_count": 3,
   "id": "52841b45-9777-4c56-a3c5-816fd22d5859",
   "metadata": {},
   "outputs": [],
   "source": [
    "#select relevant columns for analysis\n",
    "df = df[['call_date', 'listener', 'duration_listened_minutes']]"
   ]
  },
  {
   "cell_type": "code",
   "execution_count": 4,
   "id": "b5161739-ae06-46c7-83b2-e248fc7fc039",
   "metadata": {},
   "outputs": [],
   "source": [
    "#remove NULL (NaN) values from the listener column\n",
    "df = df.dropna(subset = ['listener'])"
   ]
  },
  {
   "cell_type": "code",
   "execution_count": 5,
   "id": "cddbf9b1-a138-48e5-b03e-507b7c8ddb61",
   "metadata": {},
   "outputs": [],
   "source": [
    "#rename listener column by capitalizing the L\n",
    "df.rename(columns = {'duration_listened_minutes':'Call Duration (mins)'}, inplace = True)"
   ]
  },
  {
   "cell_type": "code",
   "execution_count": 6,
   "id": "519e9eec-3eaf-41dd-ae9d-7779bee2b081",
   "metadata": {},
   "outputs": [],
   "source": [
    "#drop listener column because it is no longer needed\n",
    "df.drop('listener', inplace = True, axis = 1)"
   ]
  },
  {
   "cell_type": "code",
   "execution_count": 7,
   "id": "00d0985b-bc48-4197-bd2f-72a208caba77",
   "metadata": {},
   "outputs": [],
   "source": [
    "#convert call_date data type from object to datetime\n",
    "df['call_date'] = pd.to_datetime(df.call_date)"
   ]
  },
  {
   "cell_type": "code",
   "execution_count": 8,
   "id": "28b7e731-faa1-4943-aa53-4ba2745ee8ac",
   "metadata": {},
   "outputs": [],
   "source": [
    "#extract month from call_date column \n",
    "df['Months'] = df['call_date'].dt.month_name()"
   ]
  },
  {
   "cell_type": "code",
   "execution_count": 9,
   "id": "5c9907bd-0300-452d-8d00-e7fddf5e61bc",
   "metadata": {},
   "outputs": [],
   "source": [
    "#remove call_date column because it is no longer needed anymore\n",
    "df.drop('call_date', inplace = True, axis=1)"
   ]
  },
  {
   "cell_type": "code",
   "execution_count": 10,
   "id": "c521514d-de89-4a07-9a49-2b4932507acf",
   "metadata": {},
   "outputs": [],
   "source": [
    "#calculate average call duration for each month\n",
    "data_1 = df.groupby('Months').mean().reset_index()"
   ]
  },
  {
   "cell_type": "code",
   "execution_count": 11,
   "id": "a709965f-a0fd-4a90-94d4-71e206b114aa",
   "metadata": {},
   "outputs": [],
   "source": [
    "#clean column name\n",
    "data_1.rename(columns = {'Call Duration (mins)': 'Call Duration (avg mins)'}, inplace = True)"
   ]
  },
  {
   "cell_type": "code",
   "execution_count": 12,
   "id": "3a7f8b2e-5b63-49fc-8fd0-4c29f4abf2cf",
   "metadata": {},
   "outputs": [],
   "source": [
    "#calculate total call duration for each month\n",
    "data_2 = df.groupby('Months').count().reset_index()"
   ]
  },
  {
   "cell_type": "code",
   "execution_count": 13,
   "id": "77f38835-a6be-4933-aeb5-5552eb63af9a",
   "metadata": {},
   "outputs": [],
   "source": [
    "#clean up column name\n",
    "data_2.rename(columns = {'Call Duration (mins)': 'Call Duration (total mins)'}, inplace = True)"
   ]
  },
  {
   "cell_type": "code",
   "execution_count": 14,
   "id": "3d28e2ff-b45e-43f7-9700-5fccbd52c186",
   "metadata": {},
   "outputs": [
    {
     "data": {
      "image/png": "[encoded data removed]",
      "text/plain": [
       "<Figure size 432x288 with 1 Axes>"
      ]
     },
     "metadata": {
      "needs_background": "light"
     },
     "output_type": "display_data"
    }
   ],
   "source": [
    "#plot monthly average call duration\n",
    "order = [\"August\", \"September\", \"October\", \"November\"]\n",
    "sns.barplot(data = data_1, x = data_1['Months'], y = data_1['Call Duration (avg mins)'], order = order).set(title = \"MAUs Average Call Duration\")\n",
    "plt.savefig('MAUs_Average_Call_Duration.jpeg', bbox_inches='tight')"
   ]
  },
  {
   "cell_type": "code",
   "execution_count": 15,
   "id": "e0eca655-c2f8-455f-b431-c0f922e31db9",
   "metadata": {},
   "outputs": [
    {
     "data": {
      "image/png": "[encoded data removed]",
      "text/plain": [
       "<Figure size 432x288 with 1 Axes>"
      ]
     },
     "metadata": {
      "needs_background": "light"
     },
     "output_type": "display_data"
    }
   ],
   "source": [
    "#plot total call duration\n",
    "order = [\"August\", \"September\", \"October\", \"November\"]\n",
    "sns.barplot(data = data_1, x = data_2['Months'], y = data_2['Call Duration (total mins)'], order = order).set(title = \"MAUs Total Call Duration\")\n",
    "plt.savefig('MAUs_Total_Call_Duration.jpeg', bbox_inches='tight')"
   ]
  },
  {
   "cell_type": "markdown",
   "id": "405bff10-ab79-46b2-9654-8d02f37734f3",
   "metadata": {},
   "source": [
    "**Note**: for when connecting to full database, change `order` to include all 12 months"
   ]
  }
 ],
 "metadata": {
  "kernelspec": {
   "display_name": "Python 3 (ipykernel)",
   "language": "python",
   "name": "python3"
  },
  "language_info": {
   "codemirror_mode": {
    "name": "ipython",
    "version": 3
   },
   "file_extension": ".py",
   "mimetype": "text/x-python",
   "name": "python",
   "nbconvert_exporter": "python",
   "pygments_lexer": "ipython3",
   "version": "3.8.2"
  }
 },
 "nbformat": 4,
 "nbformat_minor": 5
}
