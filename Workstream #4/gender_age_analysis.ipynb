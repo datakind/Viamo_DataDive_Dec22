{
 "cells": [
  {
   "cell_type": "markdown",
   "metadata": {},
   "source": [
    "This script was written by Richie to investigate the male-female ratio of subscribers broken down by age and country"
   ]
  },
  {
   "cell_type": "code",
   "execution_count": 5,
   "metadata": {},
   "outputs": [],
   "source": [
    "import os\n",
    "import pandas as pd\n",
    "from google.cloud import bigquery\n",
    "import matplotlib.pyplot as plt\n",
    "import seaborn as sns\n",
    "import numpy as np"
   ]
  },
  {
   "cell_type": "code",
   "execution_count": 6,
   "metadata": {},
   "outputs": [],
   "source": [
    "#Set environment variable. \n",
    "#Note: CHANGE THIS TO WHERE ON YOUR COMPUTER THE JSON FILE IS\n",
    "os.environ[\"GOOGLE_APPLICATION_CREDENTIALS\"]='G:\\My Drive\\data science\\DataDives\\\\viamo_api_key.json'\n",
    "\n",
    "Bigquery_client = bigquery.Client()"
   ]
  },
  {
   "cell_type": "code",
   "execution_count": 22,
   "metadata": {},
   "outputs": [
    {
     "name": "stdout",
     "output_type": "stream",
     "text": [
      "(60, 4)\n",
      "            n_subs\n",
      "count       60.000\n",
      "mean    127673.450\n",
      "std     359770.047\n",
      "min         16.000\n",
      "25%        927.750\n",
      "50%      18415.000\n",
      "75%      82555.500\n",
      "max    1928756.000\n"
     ]
    }
   ],
   "source": [
    "demog_data = pd.read_gbq('''select organization_country, age, gender, count(distinct(subscriber_id)) as n_subs\n",
    "    FROM `viamo-datakind.datadive.321_sessions_1122`  \n",
    "    GROUP BY organization_country, age, gender''')\n",
    "print(demog_data.shape)\n",
    "print(demog_data.describe().round(3))"
   ]
  },
  {
   "cell_type": "code",
   "execution_count": 23,
   "metadata": {},
   "outputs": [
    {
     "data": {
      "text/html": [
       "<div>\n",
       "<style scoped>\n",
       "    .dataframe tbody tr th:only-of-type {\n",
       "        vertical-align: middle;\n",
       "    }\n",
       "\n",
       "    .dataframe tbody tr th {\n",
       "        vertical-align: top;\n",
       "    }\n",
       "\n",
       "    .dataframe thead th {\n",
       "        text-align: right;\n",
       "    }\n",
       "</style>\n",
       "<table border=\"1\" class=\"dataframe\">\n",
       "  <thead>\n",
       "    <tr style=\"text-align: right;\">\n",
       "      <th></th>\n",
       "      <th>organization_country</th>\n",
       "      <th>age</th>\n",
       "      <th>gender</th>\n",
       "      <th>n_subs</th>\n",
       "    </tr>\n",
       "  </thead>\n",
       "  <tbody>\n",
       "    <tr>\n",
       "      <th>0</th>\n",
       "      <td>Uganda</td>\n",
       "      <td>25_34</td>\n",
       "      <td>male</td>\n",
       "      <td>89301</td>\n",
       "    </tr>\n",
       "    <tr>\n",
       "      <th>1</th>\n",
       "      <td>Uganda</td>\n",
       "      <td>over_44</td>\n",
       "      <td>male</td>\n",
       "      <td>19171</td>\n",
       "    </tr>\n",
       "    <tr>\n",
       "      <th>2</th>\n",
       "      <td>Nigeria</td>\n",
       "      <td>25_34</td>\n",
       "      <td>female</td>\n",
       "      <td>32328</td>\n",
       "    </tr>\n",
       "    <tr>\n",
       "      <th>3</th>\n",
       "      <td>Mali</td>\n",
       "      <td>18_24</td>\n",
       "      <td>female</td>\n",
       "      <td>80307</td>\n",
       "    </tr>\n",
       "    <tr>\n",
       "      <th>4</th>\n",
       "      <td>Mali</td>\n",
       "      <td>over_44</td>\n",
       "      <td>male</td>\n",
       "      <td>73844</td>\n",
       "    </tr>\n",
       "    <tr>\n",
       "      <th>5</th>\n",
       "      <td>Nigeria</td>\n",
       "      <td>35_44</td>\n",
       "      <td>other</td>\n",
       "      <td>970</td>\n",
       "    </tr>\n",
       "    <tr>\n",
       "      <th>6</th>\n",
       "      <td>Mali</td>\n",
       "      <td>under_18</td>\n",
       "      <td>None</td>\n",
       "      <td>782</td>\n",
       "    </tr>\n",
       "    <tr>\n",
       "      <th>7</th>\n",
       "      <td>Uganda</td>\n",
       "      <td>35_44</td>\n",
       "      <td>female</td>\n",
       "      <td>11896</td>\n",
       "    </tr>\n",
       "    <tr>\n",
       "      <th>8</th>\n",
       "      <td>Mali</td>\n",
       "      <td>under_18</td>\n",
       "      <td>male</td>\n",
       "      <td>182292</td>\n",
       "    </tr>\n",
       "    <tr>\n",
       "      <th>9</th>\n",
       "      <td>Nigeria</td>\n",
       "      <td>18_24</td>\n",
       "      <td>male</td>\n",
       "      <td>224484</td>\n",
       "    </tr>\n",
       "    <tr>\n",
       "      <th>10</th>\n",
       "      <td>Nigeria</td>\n",
       "      <td>25_34</td>\n",
       "      <td>male</td>\n",
       "      <td>112346</td>\n",
       "    </tr>\n",
       "    <tr>\n",
       "      <th>11</th>\n",
       "      <td>Mali</td>\n",
       "      <td>None</td>\n",
       "      <td>female</td>\n",
       "      <td>44446</td>\n",
       "    </tr>\n",
       "    <tr>\n",
       "      <th>12</th>\n",
       "      <td>Uganda</td>\n",
       "      <td>25_34</td>\n",
       "      <td>None</td>\n",
       "      <td>214</td>\n",
       "    </tr>\n",
       "    <tr>\n",
       "      <th>13</th>\n",
       "      <td>Nigeria</td>\n",
       "      <td>25_34</td>\n",
       "      <td>None</td>\n",
       "      <td>53</td>\n",
       "    </tr>\n",
       "    <tr>\n",
       "      <th>14</th>\n",
       "      <td>Nigeria</td>\n",
       "      <td>over_44</td>\n",
       "      <td>None</td>\n",
       "      <td>16</td>\n",
       "    </tr>\n",
       "    <tr>\n",
       "      <th>15</th>\n",
       "      <td>Uganda</td>\n",
       "      <td>35_44</td>\n",
       "      <td>male</td>\n",
       "      <td>27188</td>\n",
       "    </tr>\n",
       "    <tr>\n",
       "      <th>16</th>\n",
       "      <td>Uganda</td>\n",
       "      <td>None</td>\n",
       "      <td>None</td>\n",
       "      <td>1928756</td>\n",
       "    </tr>\n",
       "    <tr>\n",
       "      <th>17</th>\n",
       "      <td>Nigeria</td>\n",
       "      <td>25_34</td>\n",
       "      <td>other</td>\n",
       "      <td>1451</td>\n",
       "    </tr>\n",
       "    <tr>\n",
       "      <th>18</th>\n",
       "      <td>Mali</td>\n",
       "      <td>25_34</td>\n",
       "      <td>female</td>\n",
       "      <td>40269</td>\n",
       "    </tr>\n",
       "    <tr>\n",
       "      <th>19</th>\n",
       "      <td>Mali</td>\n",
       "      <td>over_44</td>\n",
       "      <td>female</td>\n",
       "      <td>14650</td>\n",
       "    </tr>\n",
       "  </tbody>\n",
       "</table>\n",
       "</div>"
      ],
      "text/plain": [
       "   organization_country       age  gender   n_subs\n",
       "0                Uganda     25_34    male    89301\n",
       "1                Uganda   over_44    male    19171\n",
       "2               Nigeria     25_34  female    32328\n",
       "3                  Mali     18_24  female    80307\n",
       "4                  Mali   over_44    male    73844\n",
       "5               Nigeria     35_44   other      970\n",
       "6                  Mali  under_18    None      782\n",
       "7                Uganda     35_44  female    11896\n",
       "8                  Mali  under_18    male   182292\n",
       "9               Nigeria     18_24    male   224484\n",
       "10              Nigeria     25_34    male   112346\n",
       "11                 Mali      None  female    44446\n",
       "12               Uganda     25_34    None      214\n",
       "13              Nigeria     25_34    None       53\n",
       "14              Nigeria   over_44    None       16\n",
       "15               Uganda     35_44    male    27188\n",
       "16               Uganda      None    None  1928756\n",
       "17              Nigeria     25_34   other     1451\n",
       "18                 Mali     25_34  female    40269\n",
       "19                 Mali   over_44  female    14650"
      ]
     },
     "execution_count": 23,
     "metadata": {},
     "output_type": "execute_result"
    }
   ],
   "source": [
    "demog_data.head(20)"
   ]
  },
  {
   "cell_type": "code",
   "execution_count": 25,
   "metadata": {},
   "outputs": [],
   "source": [
    "#demog_data.loc[demog_data.gender.isna(),:]\n",
    "demog_data = demog_data\\\n",
    "    .loc[~demog_data.gender.isin(['other']),:]\\\n",
    "    .dropna()\\\n",
    "    .sort_values(['organization_country', 'age','gender'])"
   ]
  },
  {
   "cell_type": "code",
   "execution_count": 38,
   "metadata": {},
   "outputs": [],
   "source": [
    "males = demog_data.loc[demog_data.gender == 'male',:].drop(columns = 'gender').rename(columns = {'n_subs':'male_subs'})\n",
    "females = demog_data.loc[demog_data.gender == 'female',:].drop(columns = 'gender').rename(columns = {'n_subs':'female_subs'})\n",
    "\n",
    "demog_data_wide = males.merge(females, how='outer',on=['organization_country','age'])\n",
    "demog_data_wide.loc[:,'male_female_ratio'] = (demog_data_wide.loc[:,'male_subs']/demog_data_wide.loc[:,'female_subs']).round(2)"
   ]
  },
  {
   "cell_type": "code",
   "execution_count": 101,
   "metadata": {},
   "outputs": [],
   "source": [
    "demog_data_wide.loc[:,'age_int'] = demog_data_wide.loc[:,'age']\n",
    "demog_data_wide.loc[:,'age_int'].replace(['under_18', '18_24','25_34','35_44','over_44'], [16,21,30,40,45], inplace=True)\n",
    "demog_data_wide.loc[:,'age_int']=demog_data_wide.loc[:,'age_int'].astype(int)\n",
    "\n",
    "demog_data_wide.loc[:,'age_reordered'] = demog_data_wide.loc[:,'age']\\\n",
    "    .replace(['under_18', '18_24','25_34','35_44','over_44'], ['1. Under 18', '2. 18-24','3. 25-34','4. 35-44','5. Over 44'], inplace=False)\n"
   ]
  },
  {
   "cell_type": "code",
   "execution_count": 102,
   "metadata": {},
   "outputs": [],
   "source": [
    "demog_data_wide.sort_values('age_reordered',inplace=True)"
   ]
  },
  {
   "cell_type": "code",
   "execution_count": 103,
   "metadata": {},
   "outputs": [
    {
     "data": {
      "text/plain": [
       "organization_country\n",
       "Mali       3.73\n",
       "Nigeria    1.87\n",
       "Uganda     1.69\n",
       "dtype: Float64"
      ]
     },
     "execution_count": 103,
     "metadata": {},
     "output_type": "execute_result"
    }
   ],
   "source": [
    "by_country = demog_data_wide.groupby('organization_country').sum()\n",
    "(by_country.loc[:,'male_subs']/by_country.loc[:,'female_subs']).round(2)"
   ]
  },
  {
   "cell_type": "code",
   "execution_count": 105,
   "metadata": {},
   "outputs": [
    {
     "data": {
      "text/plain": [
       "age_reordered\n",
       "1. Under 18    1.34\n",
       "2. 18-24       2.19\n",
       "3. 25-34       3.94\n",
       "4. 35-44       4.55\n",
       "5. Over 44     3.92\n",
       "dtype: Float64"
      ]
     },
     "execution_count": 105,
     "metadata": {},
     "output_type": "execute_result"
    }
   ],
   "source": [
    "by_country = demog_data_wide.groupby('age_reordered').sum()\n",
    "(by_country.loc[:,'male_subs']/by_country.loc[:,'female_subs']).round(2)"
   ]
  },
  {
   "cell_type": "code",
   "execution_count": 110,
   "metadata": {},
   "outputs": [
    {
     "data": {
      "text/plain": [
       "<seaborn.axisgrid.FacetGrid at 0x1c1e4715e20>"
      ]
     },
     "execution_count": 110,
     "metadata": {},
     "output_type": "execute_result"
    },
    {
     "data": {
      "image/png": "[encoded data removed]",
      "text/plain": [
       "<Figure size 457.225x360 with 1 Axes>"
      ]
     },
     "metadata": {},
     "output_type": "display_data"
    }
   ],
   "source": [
    "\n",
    "sns.set_theme(style=\"whitegrid\")\n",
    "g = sns.catplot(data = demog_data_wide, kind = 'bar', x = 'organization_country', y = 'male_female_ratio', hue = 'age_reordered')\n",
    "g.legend.set_title('Age Group')\n",
    "g.set_axis_labels('Country', 'Number of male subs for every female one')\n",
    "g.despine(left = True)"
   ]
  },
  {
   "cell_type": "code",
   "execution_count": null,
   "metadata": {},
   "outputs": [],
   "source": []
  }
 ],
 "metadata": {
  "kernelspec": {
   "display_name": "Python 3.9.13 64-bit (microsoft store)",
   "language": "python",
   "name": "python3"
  },
  "language_info": {
   "codemirror_mode": {
    "name": "ipython",
    "version": 3
   },
   "file_extension": ".py",
   "mimetype": "text/x-python",
   "name": "python",
   "nbconvert_exporter": "python",
   "pygments_lexer": "ipython3",
   "version": "3.9.13"
  },
  "orig_nbformat": 4,
  "vscode": {
   "interpreter": {
    "hash": "7b78c325c309180add329ab37d7a96c3ccd889709d9f69c3abbe9f4ad8115b08"
   }
  }
 },
 "nbformat": 4,
 "nbformat_minor": 2
}
