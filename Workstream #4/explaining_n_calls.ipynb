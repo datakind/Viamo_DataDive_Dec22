{
 "cells": [
  {
   "cell_type": "markdown",
   "metadata": {},
   "source": [
    "This notebook was written by Richie to build a lightGBM model predicting the number of calls a subscriber will make. Why do some subscribers make more calls that others? We aim to find out!"
   ]
  },
  {
   "cell_type": "code",
   "execution_count": 1,
   "metadata": {},
   "outputs": [],
   "source": [
    "import os\n",
    "import pandas as pd\n",
    "from google.cloud import bigquery\n",
    "import matplotlib.pyplot as plt\n",
    "import seaborn as sns\n",
    "import numpy as np"
   ]
  },
  {
   "cell_type": "code",
   "execution_count": 2,
   "metadata": {},
   "outputs": [
    {
     "data": {
      "text/html": [
       "<div>\n",
       "<style scoped>\n",
       "    .dataframe tbody tr th:only-of-type {\n",
       "        vertical-align: middle;\n",
       "    }\n",
       "\n",
       "    .dataframe tbody tr th {\n",
       "        vertical-align: top;\n",
       "    }\n",
       "\n",
       "    .dataframe thead th {\n",
       "        text-align: right;\n",
       "    }\n",
       "</style>\n",
       "<table border=\"1\" class=\"dataframe\">\n",
       "  <thead>\n",
       "    <tr style=\"text-align: right;\">\n",
       "      <th></th>\n",
       "      <th>subscriber_id</th>\n",
       "      <th>age</th>\n",
       "      <th>gender</th>\n",
       "      <th>n_calls</th>\n",
       "      <th>n_themes</th>\n",
       "      <th>n_topics</th>\n",
       "      <th>median_call_duration</th>\n",
       "      <th>gender_numeric</th>\n",
       "      <th>age_numeric</th>\n",
       "      <th>fav_theme</th>\n",
       "      <th>second_fav_theme</th>\n",
       "      <th>fav_topic</th>\n",
       "      <th>second_fav_topic</th>\n",
       "      <th>fav_theme_numeric</th>\n",
       "      <th>second_fav_theme_numeric</th>\n",
       "      <th>fav_topic_numeric</th>\n",
       "      <th>second_fav_topic_numeric</th>\n",
       "    </tr>\n",
       "  </thead>\n",
       "  <tbody>\n",
       "    <tr>\n",
       "      <th>0</th>\n",
       "      <td>1407945714310841452</td>\n",
       "      <td>over_44</td>\n",
       "      <td>male</td>\n",
       "      <td>15</td>\n",
       "      <td>11</td>\n",
       "      <td>3</td>\n",
       "      <td>13.0</td>\n",
       "      <td>1.0</td>\n",
       "      <td>5.0</td>\n",
       "      <td></td>\n",
       "      <td>weather</td>\n",
       "      <td></td>\n",
       "      <td>rice</td>\n",
       "      <td>-1</td>\n",
       "      <td>1.0</td>\n",
       "      <td>-1</td>\n",
       "      <td>4.0</td>\n",
       "    </tr>\n",
       "    <tr>\n",
       "      <th>1</th>\n",
       "      <td>1381120932047227576</td>\n",
       "      <td>over_44</td>\n",
       "      <td>male</td>\n",
       "      <td>24</td>\n",
       "      <td>11</td>\n",
       "      <td>2</td>\n",
       "      <td>26.5</td>\n",
       "      <td>1.0</td>\n",
       "      <td>5.0</td>\n",
       "      <td></td>\n",
       "      <td>financial</td>\n",
       "      <td></td>\n",
       "      <td>srh</td>\n",
       "      <td>-1</td>\n",
       "      <td>7.0</td>\n",
       "      <td>-1</td>\n",
       "      <td>2.0</td>\n",
       "    </tr>\n",
       "    <tr>\n",
       "      <th>2</th>\n",
       "      <td>1413216964176250176</td>\n",
       "      <td>18_24</td>\n",
       "      <td>female</td>\n",
       "      <td>13</td>\n",
       "      <td>11</td>\n",
       "      <td>4</td>\n",
       "      <td>22.0</td>\n",
       "      <td>2.0</td>\n",
       "      <td>2.0</td>\n",
       "      <td></td>\n",
       "      <td>news</td>\n",
       "      <td></td>\n",
       "      <td>srh</td>\n",
       "      <td>-1</td>\n",
       "      <td>5.0</td>\n",
       "      <td>-1</td>\n",
       "      <td>2.0</td>\n",
       "    </tr>\n",
       "    <tr>\n",
       "      <th>3</th>\n",
       "      <td>1254654060855299012</td>\n",
       "      <td>25_34</td>\n",
       "      <td>male</td>\n",
       "      <td>14</td>\n",
       "      <td>11</td>\n",
       "      <td>4</td>\n",
       "      <td>13.0</td>\n",
       "      <td>1.0</td>\n",
       "      <td>3.0</td>\n",
       "      <td></td>\n",
       "      <td>weather</td>\n",
       "      <td></td>\n",
       "      <td>srh</td>\n",
       "      <td>-1</td>\n",
       "      <td>1.0</td>\n",
       "      <td>-1</td>\n",
       "      <td>2.0</td>\n",
       "    </tr>\n",
       "    <tr>\n",
       "      <th>4</th>\n",
       "      <td>1397270658647854828</td>\n",
       "      <td>under_18</td>\n",
       "      <td>male</td>\n",
       "      <td>32</td>\n",
       "      <td>11</td>\n",
       "      <td>2</td>\n",
       "      <td>21.0</td>\n",
       "      <td>1.0</td>\n",
       "      <td>1.0</td>\n",
       "      <td></td>\n",
       "      <td>drama</td>\n",
       "      <td></td>\n",
       "      <td>srh</td>\n",
       "      <td>-1</td>\n",
       "      <td>8.0</td>\n",
       "      <td>-1</td>\n",
       "      <td>2.0</td>\n",
       "    </tr>\n",
       "  </tbody>\n",
       "</table>\n",
       "</div>"
      ],
      "text/plain": [
       "         subscriber_id       age  gender  n_calls  n_themes  n_topics  \\\n",
       "0  1407945714310841452   over_44    male       15        11         3   \n",
       "1  1381120932047227576   over_44    male       24        11         2   \n",
       "2  1413216964176250176     18_24  female       13        11         4   \n",
       "3  1254654060855299012     25_34    male       14        11         4   \n",
       "4  1397270658647854828  under_18    male       32        11         2   \n",
       "\n",
       "   median_call_duration  gender_numeric  age_numeric fav_theme  \\\n",
       "0                  13.0             1.0          5.0             \n",
       "1                  26.5             1.0          5.0             \n",
       "2                  22.0             2.0          2.0             \n",
       "3                  13.0             1.0          3.0             \n",
       "4                  21.0             1.0          1.0             \n",
       "\n",
       "  second_fav_theme fav_topic second_fav_topic  fav_theme_numeric  \\\n",
       "0          weather                       rice                 -1   \n",
       "1        financial                        srh                 -1   \n",
       "2             news                        srh                 -1   \n",
       "3          weather                        srh                 -1   \n",
       "4            drama                        srh                 -1   \n",
       "\n",
       "   second_fav_theme_numeric  fav_topic_numeric  second_fav_topic_numeric  \n",
       "0                       1.0                 -1                       4.0  \n",
       "1                       7.0                 -1                       2.0  \n",
       "2                       5.0                 -1                       2.0  \n",
       "3                       1.0                 -1                       2.0  \n",
       "4                       8.0                 -1                       2.0  "
      ]
     },
     "execution_count": 2,
     "metadata": {},
     "output_type": "execute_result"
    }
   ],
   "source": [
    "user_data = pd.read_parquet('G:\\My Drive\\data science\\DataDives\\Viamo_user_data_Uganda.parquet')\n",
    "user_data.head()"
   ]
  },
  {
   "cell_type": "code",
   "execution_count": 7,
   "metadata": {},
   "outputs": [
    {
     "data": {
      "text/plain": [
       "array([[<AxesSubplot:title={'center':'n_calls'}>,\n",
       "        <AxesSubplot:title={'center':'n_themes'}>],\n",
       "       [<AxesSubplot:title={'center':'n_topics'}>,\n",
       "        <AxesSubplot:title={'center':'median_call_duration'}>],\n",
       "       [<AxesSubplot:title={'center':'age_numeric'}>, <AxesSubplot:>]],\n",
       "      dtype=object)"
      ]
     },
     "execution_count": 7,
     "metadata": {},
     "output_type": "execute_result"
    },
    {
     "data": {
      "image/png": "[encoded data removed]",
      "text/plain": [
       "<Figure size 720x720 with 6 Axes>"
      ]
     },
     "metadata": {
      "needs_background": "light"
     },
     "output_type": "display_data"
    }
   ],
   "source": [
    "user_data.loc[:,['age','n_calls','n_themes', 'n_topics', 'median_call_duration', 'age_numeric']].hist(bins = 15,figsize=(10,10))"
   ]
  },
  {
   "cell_type": "code",
   "execution_count": 8,
   "metadata": {},
   "outputs": [
    {
     "ename": "NameError",
     "evalue": "name 'TRUE' is not defined",
     "output_type": "error",
     "traceback": [
      "\u001b[1;31m---------------------------------------------------------------------------\u001b[0m",
      "\u001b[1;31mNameError\u001b[0m                                 Traceback (most recent call last)",
      "\u001b[1;32m~\\AppData\\Local\\Temp/ipykernel_3004/474942569.py\u001b[0m in \u001b[0;36m<module>\u001b[1;34m\u001b[0m\n\u001b[1;32m----> 1\u001b[1;33m \u001b[0muser_data\u001b[0m\u001b[1;33m.\u001b[0m\u001b[0mdropna\u001b[0m\u001b[1;33m(\u001b[0m\u001b[0msubset\u001b[0m \u001b[1;33m=\u001b[0m \u001b[1;33m[\u001b[0m\u001b[1;34m'n_calls'\u001b[0m\u001b[1;33m]\u001b[0m\u001b[1;33m,\u001b[0m\u001b[0minplace\u001b[0m\u001b[1;33m=\u001b[0m\u001b[0mTRUE\u001b[0m\u001b[1;33m)\u001b[0m\u001b[1;33m\u001b[0m\u001b[1;33m\u001b[0m\u001b[0m\n\u001b[0m",
      "\u001b[1;31mNameError\u001b[0m: name 'TRUE' is not defined"
     ]
    }
   ],
   "source": [
    "user_data.dropna(subset = ['n_calls'],inplace=True)"
   ]
  },
  {
   "cell_type": "code",
   "execution_count": null,
   "metadata": {},
   "outputs": [],
   "source": [
    "import lightgbm as ltb\n",
    "from sklearn import metrics\n",
    "Richie_seed = 14\n",
    "\n",
    "chosen_columns = ['gender_numeric','age_numeric','median_call_duration','n_topics','n_themes', 'fav_theme_numeric', 'second_fav_theme_numeric','fav_topic_numeric', 'second_fav_topic_numeric']\n",
    "\n",
    "X = user_data.loc[:,chosen_columns].astype(int)\n",
    "y = user_data.loc[:,'n_calls'].astype(int)"
   ]
  },
  {
   "cell_type": "code",
   "execution_count": null,
   "metadata": {},
   "outputs": [],
   "source": [
    "lgbm_mod = ltb.LGBMRegressor(n_estimators = 1000, random_state=Richie_seed)\n",
    "lgbm_mod.fit(X,y)"
   ]
  },
  {
   "cell_type": "code",
   "execution_count": null,
   "metadata": {},
   "outputs": [],
   "source": [
    "y_pred = lgbm_mod.predict(X)\n",
    "y_pred[y_pred<1] = 1\n",
    "print(metrics.r2_score(y, y_pred))\n",
    "print(metrics.mean_squared_log_error(y , y_pred))"
   ]
  },
  {
   "cell_type": "code",
   "execution_count": null,
   "metadata": {},
   "outputs": [],
   "source": [
    "import shap\n",
    "lgbm_explainer = shap.TreeExplainer(lgbm_mod)\n",
    "\n",
    "X_sample = X.sample(50000)\n",
    "\n",
    "shap_values = lgbm_explainer.shap_values(X_sample)"
   ]
  },
  {
   "cell_type": "code",
   "execution_count": null,
   "metadata": {},
   "outputs": [],
   "source": [
    "shap.summary_plot(\n",
    "    shap_values = shap_values,\n",
    "    features = X_sample,\n",
    "    plot_type = 'dot',\n",
    "    plot_size = [20,10]\n",
    ")"
   ]
  },
  {
   "cell_type": "code",
   "execution_count": null,
   "metadata": {},
   "outputs": [],
   "source": [
    "shap.dependence_plot('age_numeric', shap_values, X_sample)"
   ]
  },
  {
   "cell_type": "code",
   "execution_count": null,
   "metadata": {},
   "outputs": [],
   "source": []
  },
  {
   "cell_type": "code",
   "execution_count": null,
   "metadata": {},
   "outputs": [],
   "source": []
  },
  {
   "cell_type": "code",
   "execution_count": null,
   "metadata": {},
   "outputs": [],
   "source": []
  },
  {
   "cell_type": "code",
   "execution_count": null,
   "metadata": {},
   "outputs": [],
   "source": []
  }
 ],
 "metadata": {
  "kernelspec": {
   "display_name": "Python 3.9.13 64-bit (microsoft store)",
   "language": "python",
   "name": "python3"
  },
  "language_info": {
   "codemirror_mode": {
    "name": "ipython",
    "version": 3
   },
   "file_extension": ".py",
   "mimetype": "text/x-python",
   "name": "python",
   "nbconvert_exporter": "python",
   "pygments_lexer": "ipython3",
   "version": "3.9.13"
  },
  "orig_nbformat": 4,
  "vscode": {
   "interpreter": {
    "hash": "7b78c325c309180add329ab37d7a96c3ccd889709d9f69c3abbe9f4ad8115b08"
   }
  }
 },
 "nbformat": 4,
 "nbformat_minor": 2
}
