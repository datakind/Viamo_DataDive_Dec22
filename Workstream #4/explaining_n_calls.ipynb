{
 "cells": [
  {
   "cell_type": "markdown",
   "metadata": {},
   "source": [
    "This notebook was written by Richie to build a lightGBM model predicting the number of calls a subscriber will make. Why do some subscribers make more calls that others? We aim to find out!"
   ]
  },
  {
   "cell_type": "code",
   "execution_count": null,
   "metadata": {},
   "outputs": [],
   "source": [
    "import os\n",
    "import pandas as pd\n",
    "from google.cloud import bigquery\n",
    "import matplotlib.pyplot as plt\n",
    "import seaborn as sns\n",
    "import numpy as np"
   ]
  },
  {
   "cell_type": "code",
   "execution_count": null,
   "metadata": {},
   "outputs": [],
   "source": [
    "user_data = pd.read_parquet('Viamo_data.parquet')\n",
    "user_data.head()"
   ]
  },
  {
   "cell_type": "code",
   "execution_count": null,
   "metadata": {},
   "outputs": [],
   "source": [
    "user_data3.dropna(subset = ['n_calls'],inplace=TRUE)"
   ]
  },
  {
   "cell_type": "code",
   "execution_count": null,
   "metadata": {},
   "outputs": [],
   "source": [
    "import lightgbm as ltb\n",
    "from sklearn import metrics\n",
    "Richie_seed = 14\n",
    "\n",
    "chosen_columns = ['gender_numeric','age_numeric','median_call_duration','n_topics','n_themes', 'fav_theme_numeric', 'second_fav_theme_numeric','fav_topic_numeric', 'second_fav_topic_numeric']\n",
    "\n",
    "X = user_data3.loc[:,chosen_columns].astype(int)\n",
    "y = user_data3.loc[:,'n_calls'].astype(int)"
   ]
  },
  {
   "cell_type": "code",
   "execution_count": null,
   "metadata": {},
   "outputs": [],
   "source": [
    "lgbm_mod = ltb.LGBMRegressor(n_estimators = 1000, random_state=Richie_seed)\n",
    "lgbm_mod.fit(X,y)"
   ]
  },
  {
   "cell_type": "code",
   "execution_count": null,
   "metadata": {},
   "outputs": [],
   "source": [
    "y_pred = lgbm_mod.predict(X)\n",
    "y_pred[y_pred<1] = 1\n",
    "print(metrics.r2_score(y, y_pred))\n",
    "print(metrics.mean_squared_log_error(y , y_pred))"
   ]
  },
  {
   "cell_type": "code",
   "execution_count": null,
   "metadata": {},
   "outputs": [],
   "source": [
    "import shap\n",
    "lgbm_explainer = shap.TreeExplainer(lgbm_mod)\n",
    "\n",
    "X_sample = X.sample(50000)\n",
    "\n",
    "shap_values = lgbm_explainer.shap_values(X_sample)"
   ]
  },
  {
   "cell_type": "code",
   "execution_count": null,
   "metadata": {},
   "outputs": [],
   "source": [
    "shap.summary_plot(\n",
    "    shap_values = shap_values,\n",
    "    features = X_sample,\n",
    "    plot_type = 'dot',\n",
    "    plot_size = [20,10]\n",
    ")"
   ]
  },
  {
   "cell_type": "code",
   "execution_count": null,
   "metadata": {},
   "outputs": [],
   "source": [
    "shap.dependence_plot('age_numeric', shap_values, X_sample)"
   ]
  },
  {
   "cell_type": "code",
   "execution_count": null,
   "metadata": {},
   "outputs": [],
   "source": []
  },
  {
   "cell_type": "code",
   "execution_count": null,
   "metadata": {},
   "outputs": [],
   "source": []
  },
  {
   "cell_type": "code",
   "execution_count": null,
   "metadata": {},
   "outputs": [],
   "source": []
  },
  {
   "cell_type": "code",
   "execution_count": null,
   "metadata": {},
   "outputs": [],
   "source": []
  }
 ],
 "metadata": {
  "kernelspec": {
   "display_name": "Python 3.9.13 64-bit (microsoft store)",
   "language": "python",
   "name": "python3"
  },
  "language_info": {
   "name": "python",
   "version": "3.9.13"
  },
  "orig_nbformat": 4,
  "vscode": {
   "interpreter": {
    "hash": "7b78c325c309180add329ab37d7a96c3ccd889709d9f69c3abbe9f4ad8115b08"
   }
  }
 },
 "nbformat": 4,
 "nbformat_minor": 2
}
