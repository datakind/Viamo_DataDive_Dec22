{
 "cells": [
  {
   "cell_type": "code",
   "execution_count": 1,
   "id": "e9e98c22-e8ad-47d9-8c03-4b9ff02aebe8",
   "metadata": {},
   "outputs": [],
   "source": [
    "#import libraries\n",
    "import os\n",
    "import pandas as pd\n",
    "import numpy as np\n",
    "import datetime\n",
    "%matplotlib inline\n",
    "import matplotlib.pyplot as plt\n",
    "import seaborn as sns\n",
    "import warnings\n",
    "warnings.filterwarnings('ignore')"
   ]
  },
  {
   "cell_type": "code",
   "execution_count": 2,
   "id": "80b4e729-4720-422c-8ed9-a50d01620062",
   "metadata": {},
   "outputs": [],
   "source": [
    "#read in the data\n",
    "df = pd.read_csv('/Users/deepshikasharma/Downloads/Viamo_sample/3m_uganda-3m_uganda_000000000013.csv')"
   ]
  },
  {
   "cell_type": "code",
   "execution_count": 3,
   "id": "30a2774d-d1d5-45a8-a95e-fb171df2bf36",
   "metadata": {},
   "outputs": [],
   "source": [
    "#get relevant columns needed for first analysis in dataframe\n",
    "df = df[[\"call_date\",\"listener\"]]"
   ]
  },
  {
   "cell_type": "code",
   "execution_count": 4,
   "id": "772cf7d6-f760-43c5-906f-4961b54ef533",
   "metadata": {},
   "outputs": [],
   "source": [
    "#rename listener column by capitalizing the L\n",
    "df.rename(columns = {'listener':'Listeners'}, inplace = True)"
   ]
  },
  {
   "cell_type": "code",
   "execution_count": 5,
   "id": "13a1fb6c-75ef-4ed9-b3ac-86fefea94b02",
   "metadata": {},
   "outputs": [],
   "source": [
    "#remove NULL (NaN) values from the listener column\n",
    "df = df.dropna(subset = ['Listeners'])"
   ]
  },
  {
   "cell_type": "code",
   "execution_count": 6,
   "id": "d09d705b-e953-4ccc-8c0f-9f10c35db3cb",
   "metadata": {},
   "outputs": [
    {
     "data": {
      "text/plain": [
       "call_date    0\n",
       "Listeners    0\n",
       "dtype: int64"
      ]
     },
     "execution_count": 6,
     "metadata": {},
     "output_type": "execute_result"
    }
   ],
   "source": [
    "#check that all NULL values from listeners column are removed\n",
    "df.isna().sum()"
   ]
  },
  {
   "cell_type": "code",
   "execution_count": 7,
   "id": "96bb9cd3-35b3-4bb8-8eeb-1a8aa9fc0c2e",
   "metadata": {},
   "outputs": [],
   "source": [
    "#convert call_date data type from object to datetime\n",
    "df['call_date'] = pd.to_datetime(df.call_date)"
   ]
  },
  {
   "cell_type": "code",
   "execution_count": 8,
   "id": "ac81213c-27e8-420b-a8b1-0f6160f9df3d",
   "metadata": {},
   "outputs": [],
   "source": [
    "#create new \"month\" column where the month from the cell_date column is extracted\n",
    "df['Months'] = df['call_date'].dt.month_name()"
   ]
  },
  {
   "cell_type": "code",
   "execution_count": 9,
   "id": "19bee0fe-f197-4553-bfa7-67f92184fa9a",
   "metadata": {},
   "outputs": [],
   "source": [
    "#count all active users for each month\n",
    "mau = df.groupby('Months')['Listeners'].nunique()"
   ]
  },
  {
   "cell_type": "code",
   "execution_count": 10,
   "id": "6222188a-3f19-4e74-af60-0a8b9c6cf90f",
   "metadata": {},
   "outputs": [],
   "source": [
    "#reset the index so the dataframe can be read correctly when plotting\n",
    "mau = pd.DataFrame(mau).reset_index()"
   ]
  },
  {
   "cell_type": "code",
   "execution_count": 11,
   "id": "1f5998dc-865e-4841-ab85-13556f584c23",
   "metadata": {},
   "outputs": [
    {
     "data": {
      "image/png": "[encoded data removed]",
      "text/plain": [
       "<Figure size 432x288 with 1 Axes>"
      ]
     },
     "metadata": {
      "needs_background": "light"
     },
     "output_type": "display_data"
    }
   ],
   "source": [
    "#create bar plot with each month as its own bar\n",
    "order = [\"August\", \"September\", \"October\", \"November\"]\n",
    "sns.barplot(data = mau, x = mau['Months'], y = mau['Listeners'], order = order).set(title = \"Monthly Active Users (MAU)\")\n",
    "plt.savefig('Monthly_Active_Users_MAU.jpeg', bbox_inches='tight')"
   ]
  },
  {
   "cell_type": "markdown",
   "id": "8ffe34e1-49da-4371-ac93-acd9608b6beb",
   "metadata": {},
   "source": [
    "**Note**: for when connecting to full database, change `order` to include all 12 months"
   ]
  }
 ],
 "metadata": {
  "kernelspec": {
   "display_name": "Python 3 (ipykernel)",
   "language": "python",
   "name": "python3"
  },
  "language_info": {
   "codemirror_mode": {
    "name": "ipython",
    "version": 3
   },
   "file_extension": ".py",
   "mimetype": "text/x-python",
   "name": "python",
   "nbconvert_exporter": "python",
   "pygments_lexer": "ipython3",
   "version": "3.8.2"
  }
 },
 "nbformat": 4,
 "nbformat_minor": 5
}
