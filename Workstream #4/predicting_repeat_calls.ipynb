{
 "cells": [
  {
   "cell_type": "markdown",
   "metadata": {},
   "source": [
    "This is a notebook started by Richie with the goal to predict whether a user is a repeat user or not. A repeat user is simply one who has made more than 1 call. At time of writing I just grabbed a random dataset and no more"
   ]
  },
  {
   "cell_type": "code",
   "execution_count": 3,
   "metadata": {},
   "outputs": [],
   "source": [
    "import os\n",
    "import pandas as pd\n",
    "from google.cloud import bigquery\n",
    "import matplotlib.pyplot as plt"
   ]
  },
  {
   "cell_type": "code",
   "execution_count": 4,
   "metadata": {},
   "outputs": [],
   "source": [
    "#Set environment variable. \n",
    "#Note: CHANGE THIS TO WHERE ON YOUR COMPUTER THE JSON FILE IS\n",
    "os.environ[\"GOOGLE_APPLICATION_CREDENTIALS\"]='G:\\My Drive\\data science\\DataDives\\\\viamo_api_key.json'"
   ]
  },
  {
   "cell_type": "code",
   "execution_count": 9,
   "metadata": {},
   "outputs": [],
   "source": [
    "Bigquery_client = bigquery.Client()\n",
    "data = pd.read_gbq('''\n",
    "    SELECT duration_listened_seconds, listener, block_theme, block_topic, age,gender,location, location_level_2\n",
    "    FROM `viamo-datakind.datadive.321_sessions_1122` \n",
    "    WHERE organization_country = 'Uganda'\n",
    "    ORDER BY rand()\n",
    "    limit 1000000\n",
    "''')"
   ]
  },
  {
   "cell_type": "code",
   "execution_count": 7,
   "metadata": {},
   "outputs": [
    {
     "data": {
      "text/plain": [
       "(100000, 8)"
      ]
     },
     "execution_count": 7,
     "metadata": {},
     "output_type": "execute_result"
    }
   ],
   "source": [
    "data.shape"
   ]
  },
  {
   "cell_type": "markdown",
   "metadata": {},
   "source": [
    "## How many rows in the data are associated with each call id?"
   ]
  },
  {
   "cell_type": "code",
   "execution_count": 17,
   "metadata": {},
   "outputs": [],
   "source": [
    "call_id = pd.read_gbq('''\n",
    "    with sampled_uganda_data as (\n",
    "        select call_id\n",
    "        FROM `viamo-datakind.datadive.321_sessions_1122` \n",
    "        WHERE organization_country = 'Uganda'\n",
    "        order by rand()\n",
    "        limit 5000000\n",
    "    )\n",
    "        SELECT call_id, count(*) as n\n",
    "    from sampled_uganda_data\n",
    "    GROUP BY call_id\n",
    "    ORDER BY n desc\n",
    "''')"
   ]
  },
  {
   "cell_type": "code",
   "execution_count": 18,
   "metadata": {},
   "outputs": [
    {
     "data": {
      "text/html": [
       "<div>\n",
       "<style scoped>\n",
       "    .dataframe tbody tr th:only-of-type {\n",
       "        vertical-align: middle;\n",
       "    }\n",
       "\n",
       "    .dataframe tbody tr th {\n",
       "        vertical-align: top;\n",
       "    }\n",
       "\n",
       "    .dataframe thead th {\n",
       "        text-align: right;\n",
       "    }\n",
       "</style>\n",
       "<table border=\"1\" class=\"dataframe\">\n",
       "  <thead>\n",
       "    <tr style=\"text-align: right;\">\n",
       "      <th></th>\n",
       "      <th>call_id</th>\n",
       "      <th>n</th>\n",
       "    </tr>\n",
       "  </thead>\n",
       "  <tbody>\n",
       "    <tr>\n",
       "      <th>0</th>\n",
       "      <td>1250855965273096296</td>\n",
       "      <td>533</td>\n",
       "    </tr>\n",
       "    <tr>\n",
       "      <th>1</th>\n",
       "      <td>1252644529635853588</td>\n",
       "      <td>362</td>\n",
       "    </tr>\n",
       "    <tr>\n",
       "      <th>2</th>\n",
       "      <td>1249740469840643508</td>\n",
       "      <td>296</td>\n",
       "    </tr>\n",
       "    <tr>\n",
       "      <th>3</th>\n",
       "      <td>1254089271502440712</td>\n",
       "      <td>286</td>\n",
       "    </tr>\n",
       "    <tr>\n",
       "      <th>4</th>\n",
       "      <td>1257258029830112376</td>\n",
       "      <td>42</td>\n",
       "    </tr>\n",
       "    <tr>\n",
       "      <th>...</th>\n",
       "      <td>...</td>\n",
       "      <td>...</td>\n",
       "    </tr>\n",
       "    <tr>\n",
       "      <th>4343774</th>\n",
       "      <td>1255161166926709784</td>\n",
       "      <td>1</td>\n",
       "    </tr>\n",
       "    <tr>\n",
       "      <th>4343775</th>\n",
       "      <td>1266710192016854700</td>\n",
       "      <td>1</td>\n",
       "    </tr>\n",
       "    <tr>\n",
       "      <th>4343776</th>\n",
       "      <td>1370402913541163432</td>\n",
       "      <td>1</td>\n",
       "    </tr>\n",
       "    <tr>\n",
       "      <th>4343777</th>\n",
       "      <td>1319699768867818460</td>\n",
       "      <td>1</td>\n",
       "    </tr>\n",
       "    <tr>\n",
       "      <th>4343778</th>\n",
       "      <td>1248990493581773316</td>\n",
       "      <td>1</td>\n",
       "    </tr>\n",
       "  </tbody>\n",
       "</table>\n",
       "<p>4343779 rows × 2 columns</p>\n",
       "</div>"
      ],
      "text/plain": [
       "                     call_id    n\n",
       "0        1250855965273096296  533\n",
       "1        1252644529635853588  362\n",
       "2        1249740469840643508  296\n",
       "3        1254089271502440712  286\n",
       "4        1257258029830112376   42\n",
       "...                      ...  ...\n",
       "4343774  1255161166926709784    1\n",
       "4343775  1266710192016854700    1\n",
       "4343776  1370402913541163432    1\n",
       "4343777  1319699768867818460    1\n",
       "4343778  1248990493581773316    1\n",
       "\n",
       "[4343779 rows x 2 columns]"
      ]
     },
     "execution_count": 18,
     "metadata": {},
     "output_type": "execute_result"
    }
   ],
   "source": [
    "call_id"
   ]
  },
  {
   "cell_type": "code",
   "execution_count": null,
   "metadata": {},
   "outputs": [],
   "source": []
  }
 ],
 "metadata": {
  "kernelspec": {
   "display_name": "Python 3.9.13 64-bit (microsoft store)",
   "language": "python",
   "name": "python3"
  },
  "language_info": {
   "codemirror_mode": {
    "name": "ipython",
    "version": 3
   },
   "file_extension": ".py",
   "mimetype": "text/x-python",
   "name": "python",
   "nbconvert_exporter": "python",
   "pygments_lexer": "ipython3",
   "version": "3.9.13"
  },
  "orig_nbformat": 4,
  "vscode": {
   "interpreter": {
    "hash": "7b78c325c309180add329ab37d7a96c3ccd889709d9f69c3abbe9f4ad8115b08"
   }
  }
 },
 "nbformat": 4,
 "nbformat_minor": 2
}
