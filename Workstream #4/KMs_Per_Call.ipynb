{
 "cells": [
  {
   "cell_type": "code",
   "execution_count": 1,
   "id": "c99beb43-155a-4a0a-95a9-8caafb89a020",
   "metadata": {},
   "outputs": [],
   "source": [
    "#import libraries\n",
    "import os\n",
    "import pandas as pd\n",
    "import numpy as np\n",
    "import datetime\n",
    "%matplotlib inline\n",
    "import matplotlib.pyplot as plt\n",
    "import seaborn as sns\n",
    "import warnings\n",
    "warnings.filterwarnings('ignore')"
   ]
  },
  {
   "cell_type": "code",
   "execution_count": 2,
   "id": "0303a574-8a7e-4d46-a99d-ae3a8f5d5914",
   "metadata": {},
   "outputs": [],
   "source": [
    "#read in data\n",
    "data = pd.read_csv('/Users/deepshikasharma/Downloads/Viamo_sample/3m_uganda-3m_uganda_000000000013.csv')"
   ]
  },
  {
   "cell_type": "code",
   "execution_count": 3,
   "id": "b6ae8bf6-b457-4539-af0d-70244bcdefd9",
   "metadata": {},
   "outputs": [],
   "source": [
    "#select relevant columns for analysis\n",
    "df = data[['call_date','call_id','km_block_listened','listener']]"
   ]
  },
  {
   "cell_type": "markdown",
   "id": "97212826-1704-4a6e-a4ab-502a658372b2",
   "metadata": {},
   "source": [
    "`km_block_listened` If this block is a KM and user listened to at least 75% of it, block_interaction_id goes here. Tells us a (unknown) user inteacted with and listened to this KM."
   ]
  },
  {
   "cell_type": "markdown",
   "id": "b1d0b3cf-556d-4f41-91d7-9cf1ff3f099b",
   "metadata": {},
   "source": [
    "`listener` If this block is a KM and user listened to at least 75% of it, subscriber_id goes here. Tells us which (known) user listened to this KM and that they listened to it.\n",
    "\n",
    "Don't need this column, because we don't need to know which users listen to KM just how many KMs users listen to."
   ]
  },
  {
   "cell_type": "code",
   "execution_count": 4,
   "id": "ec4e30e0-8c04-4e84-9439-f8343715133d",
   "metadata": {},
   "outputs": [],
   "source": [
    "#drop NaN values\n",
    "df1 = df.dropna(subset = ['km_block_listened'])"
   ]
  },
  {
   "cell_type": "code",
   "execution_count": 5,
   "id": "e53871b6-c5cc-4a4f-b5c2-1e8f3d213dd9",
   "metadata": {},
   "outputs": [],
   "source": [
    "#convert call_date data type from object to datetime\n",
    "df1['call_date'] = pd.to_datetime(df.call_date)"
   ]
  },
  {
   "cell_type": "code",
   "execution_count": 6,
   "id": "948b5015-611d-4df0-b5a2-266d44e71768",
   "metadata": {},
   "outputs": [],
   "source": [
    "#extract month from call_date column \n",
    "df1['Month'] = df1['call_date'].dt.month_name()"
   ]
  },
  {
   "cell_type": "code",
   "execution_count": 7,
   "id": "933776cb-2cb7-4f92-a0fa-542ac98eac9a",
   "metadata": {},
   "outputs": [],
   "source": [
    "#remove call_date column\n",
    "df1.drop(['call_date','call_id','listener'], inplace = True, axis=1)"
   ]
  },
  {
   "cell_type": "code",
   "execution_count": 8,
   "id": "73370f9e-b39a-4e43-9688-9ae363b397c0",
   "metadata": {},
   "outputs": [],
   "source": [
    "#need to custom sort the dataframe by month chronologically\n",
    "months_categories = [\"August\", \"September\", \"October\", \"November\"]\n",
    "df1[\"Month\"] = pd.Categorical(df1[\"Month\"], categories = months_categories)\n",
    "df1 = df1.sort_values(by = \"Month\")"
   ]
  },
  {
   "cell_type": "markdown",
   "id": "3bc164d3-f47b-4b96-a34b-4012800b365c",
   "metadata": {},
   "source": [
    "Count the total number and average number of blocks listened to each month. Only need the `km_block_listened` column because it already tells us that the user listened to the KM during the call."
   ]
  },
  {
   "cell_type": "code",
   "execution_count": 9,
   "id": "145533aa-4668-4661-8a2a-7d904db9966b",
   "metadata": {},
   "outputs": [],
   "source": [
    "#count total number of KM blocks listened to per month\n",
    "mau1 = df1.groupby('Month').count().reset_index()\n",
    "#just making sure df1 is a dataframe before next operation\n",
    "mau1 = pd.DataFrame(mau1)"
   ]
  },
  {
   "cell_type": "code",
   "execution_count": 10,
   "id": "0a35ad06-c2de-4047-8d8b-720f4e28504c",
   "metadata": {},
   "outputs": [],
   "source": [
    "#rename km_block_listened to Total # of KMs Listened\n",
    "mau1.rename(columns = {'km_block_listened':'# of KMs Listened'}, \n",
    "            inplace = True)"
   ]
  },
  {
   "cell_type": "code",
   "execution_count": 11,
   "id": "78b315be-778b-436b-b5d4-e2d5ae03e6c7",
   "metadata": {},
   "outputs": [
    {
     "data": {
      "image/png": "[encoded data removed]",
      "text/plain": [
       "<Figure size 432x288 with 1 Axes>"
      ]
     },
     "metadata": {
      "needs_background": "light"
     },
     "output_type": "display_data"
    }
   ],
   "source": [
    "sns.barplot(data = mau1, x = mau1['Month'], \n",
    "            y = mau1['# of KMs Listened']).set(title = \"MAUs - Total KMs Listened\")\n",
    "plt.savefig('Total_KMs_Listened.jpeg', bbox_inches='tight')"
   ]
  },
  {
   "cell_type": "markdown",
   "id": "62492c5c-718b-46b0-89a0-828bdfbd996b",
   "metadata": {},
   "source": [
    "What is the average number of KMs MAUs listen to?"
   ]
  },
  {
   "cell_type": "code",
   "execution_count": 12,
   "id": "9a64e657-0e3f-4251-b3c0-fe553c5fb662",
   "metadata": {},
   "outputs": [],
   "source": [
    "mau2 = mau1.describe()"
   ]
  },
  {
   "cell_type": "code",
   "execution_count": 13,
   "id": "14a4377c-b709-4313-bc57-786acc38d9ce",
   "metadata": {},
   "outputs": [
    {
     "data": {
      "text/html": [
       "<style type=\"text/css\">\n",
       "#T_8c235_row0_col0 {\n",
       "  background-color: #ffffcc;\n",
       "  color: #000000;\n",
       "}\n",
       "#T_8c235_row1_col0 {\n",
       "  background-color: #f03523;\n",
       "  color: #f1f1f1;\n",
       "}\n",
       "#T_8c235_row2_col0 {\n",
       "  background-color: #feb24c;\n",
       "  color: #000000;\n",
       "}\n",
       "#T_8c235_row3_col0 {\n",
       "  background-color: #ffea9b;\n",
       "  color: #000000;\n",
       "}\n",
       "#T_8c235_row4_col0 {\n",
       "  background-color: #fc612f;\n",
       "  color: #f1f1f1;\n",
       "}\n",
       "#T_8c235_row5_col0 {\n",
       "  background-color: #d51020;\n",
       "  color: #f1f1f1;\n",
       "}\n",
       "#T_8c235_row6_col0 {\n",
       "  background-color: #b40026;\n",
       "  color: #f1f1f1;\n",
       "}\n",
       "#T_8c235_row7_col0 {\n",
       "  background-color: #800026;\n",
       "  color: #f1f1f1;\n",
       "}\n",
       "</style>\n",
       "<table id=\"T_8c235_\">\n",
       "  <thead>\n",
       "    <tr>\n",
       "      <th class=\"blank level0\" >&nbsp;</th>\n",
       "      <th class=\"col_heading level0 col0\" ># of KMs Listened</th>\n",
       "    </tr>\n",
       "  </thead>\n",
       "  <tbody>\n",
       "    <tr>\n",
       "      <th id=\"T_8c235_level0_row0\" class=\"row_heading level0 row0\" >count</th>\n",
       "      <td id=\"T_8c235_row0_col0\" class=\"data row0 col0\" >4.000000</td>\n",
       "    </tr>\n",
       "    <tr>\n",
       "      <th id=\"T_8c235_level0_row1\" class=\"row_heading level0 row1\" >mean</th>\n",
       "      <td id=\"T_8c235_row1_col0\" class=\"data row1 col0\" >11372.750000</td>\n",
       "    </tr>\n",
       "    <tr>\n",
       "      <th id=\"T_8c235_level0_row2\" class=\"row_heading level0 row2\" >std</th>\n",
       "      <td id=\"T_8c235_row2_col0\" class=\"data row2 col0\" >6242.396034</td>\n",
       "    </tr>\n",
       "    <tr>\n",
       "      <th id=\"T_8c235_level0_row3\" class=\"row_heading level0 row3\" >min</th>\n",
       "      <td id=\"T_8c235_row3_col0\" class=\"data row3 col0\" >2402.000000</td>\n",
       "    </tr>\n",
       "    <tr>\n",
       "      <th id=\"T_8c235_level0_row4\" class=\"row_heading level0 row4\" >25%</th>\n",
       "      <td id=\"T_8c235_row4_col0\" class=\"data row4 col0\" >9791.750000</td>\n",
       "    </tr>\n",
       "    <tr>\n",
       "      <th id=\"T_8c235_level0_row5\" class=\"row_heading level0 row5\" >50%</th>\n",
       "      <td id=\"T_8c235_row5_col0\" class=\"data row5 col0\" >13230.000000</td>\n",
       "    </tr>\n",
       "    <tr>\n",
       "      <th id=\"T_8c235_level0_row6\" class=\"row_heading level0 row6\" >75%</th>\n",
       "      <td id=\"T_8c235_row6_col0\" class=\"data row6 col0\" >14811.000000</td>\n",
       "    </tr>\n",
       "    <tr>\n",
       "      <th id=\"T_8c235_level0_row7\" class=\"row_heading level0 row7\" >max</th>\n",
       "      <td id=\"T_8c235_row7_col0\" class=\"data row7 col0\" >16629.000000</td>\n",
       "    </tr>\n",
       "  </tbody>\n",
       "</table>\n"
      ],
      "text/plain": [
       "<pandas.io.formats.style.Styler at 0x7fb53251c6d0>"
      ]
     },
     "execution_count": 13,
     "metadata": {},
     "output_type": "execute_result"
    }
   ],
   "source": [
    "mau2.style.background_gradient(cmap='YlOrRd')"
   ]
  },
  {
   "cell_type": "code",
   "execution_count": 14,
   "id": "5986ae19-c929-41a4-9214-6302572aa336",
   "metadata": {},
   "outputs": [
    {
     "data": {
      "text/plain": [
       "<AxesSubplot:xlabel='# of KMs Listened'>"
      ]
     },
     "execution_count": 14,
     "metadata": {},
     "output_type": "execute_result"
    },
    {
     "data": {
      "image/png": "[encoded data removed]",
      "text/plain": [
       "<Figure size 432x288 with 1 Axes>"
      ]
     },
     "metadata": {
      "needs_background": "light"
     },
     "output_type": "display_data"
    }
   ],
   "source": [
    "sns.boxplot(data=mau2, x=mau2[\"# of KMs Listened\"])"
   ]
  },
  {
   "cell_type": "markdown",
   "id": "94244f2e-16ad-4cb8-a6ed-526b0546d577",
   "metadata": {},
   "source": [
    "Create two dataframe one with unique values in the `call_id` column and one with only repeating values in the `call_id` column."
   ]
  },
  {
   "cell_type": "code",
   "execution_count": 15,
   "id": "ef434ee3-072d-41e1-9dca-0805bdd6f41b",
   "metadata": {},
   "outputs": [],
   "source": [
    "df['Duplicates'] = df.duplicated(subset=['call_id'])"
   ]
  },
  {
   "cell_type": "markdown",
   "id": "61688788-4cda-4b66-93b7-3dd5a4f158c7",
   "metadata": {},
   "source": [
    "True means this `call_id` is duplicated (the user interacted with more than one block on the call).\n",
    "False means this `call_id` is not duplicated (the user only interacted with one block on the call)."
   ]
  },
  {
   "cell_type": "code",
   "execution_count": 16,
   "id": "253dea6f-1558-42c8-b57b-b7e29298537a",
   "metadata": {},
   "outputs": [],
   "source": [
    "df3 = df"
   ]
  },
  {
   "cell_type": "code",
   "execution_count": 17,
   "id": "492bc3fa-4ae2-4bc0-82c9-c7542bd56f29",
   "metadata": {},
   "outputs": [],
   "source": [
    "#convert call_date data type from object to datetime\n",
    "df3['call_date'] = pd.to_datetime(df.call_date)\n",
    "#extract month from call_date column \n",
    "df3['Month'] = df3['call_date'].dt.month_name()"
   ]
  },
  {
   "cell_type": "code",
   "execution_count": 18,
   "id": "47822b98-dd84-44b4-a797-70841fb97938",
   "metadata": {},
   "outputs": [],
   "source": [
    "#need to custom sort the dataframe by month chronologically\n",
    "months_categories = [\"August\", \"September\", \"October\", \"November\"]\n",
    "df3[\"Month\"] = pd.Categorical(df3[\"Month\"], categories = months_categories)\n",
    "df3 = df3.sort_values(by = \"Month\")"
   ]
  },
  {
   "cell_type": "code",
   "execution_count": 19,
   "id": "441aa049-56c2-43e2-b6f1-743550999c70",
   "metadata": {},
   "outputs": [],
   "source": [
    "#drop NaN values because rows with NaN values in `km_block_listened` column means user did not listen to KM.\n",
    "df3 = df3.dropna(subset = ['km_block_listened'])"
   ]
  },
  {
   "cell_type": "code",
   "execution_count": 20,
   "id": "c1456cc0-6dca-4b8e-a292-49f5d1f276dc",
   "metadata": {},
   "outputs": [],
   "source": [
    "df3.drop(['call_id', 'listener','call_date','km_block_listened'], inplace = True, axis=1)"
   ]
  },
  {
   "cell_type": "code",
   "execution_count": 21,
   "id": "a4790aab-edc2-443c-9809-3dc24c7195f2",
   "metadata": {},
   "outputs": [],
   "source": [
    "dups = df3.loc[df3['Duplicates'] == True]"
   ]
  },
  {
   "cell_type": "code",
   "execution_count": 22,
   "id": "bdd7ca91-8bf7-446c-9d79-ac05686b2d70",
   "metadata": {},
   "outputs": [],
   "source": [
    "no_dups = df3.loc[df3['Duplicates'] == False]"
   ]
  },
  {
   "cell_type": "code",
   "execution_count": 23,
   "id": "a1097e7d-5ef5-4aff-a3e7-8b6d2f30caa0",
   "metadata": {},
   "outputs": [],
   "source": [
    "dups = dups.groupby('Month').count().reset_index()"
   ]
  },
  {
   "cell_type": "code",
   "execution_count": 24,
   "id": "0364a967-ef0a-4192-814a-efdf9bf042be",
   "metadata": {},
   "outputs": [],
   "source": [
    "dups.rename(columns = {'Duplicates':'1+ KMs per call'},\n",
    "            inplace = True)"
   ]
  },
  {
   "cell_type": "code",
   "execution_count": 25,
   "id": "b4439a4e-5c45-4983-944b-ff3ec543b24c",
   "metadata": {},
   "outputs": [],
   "source": [
    "no_dups = no_dups.groupby('Month').count().reset_index()"
   ]
  },
  {
   "cell_type": "code",
   "execution_count": 26,
   "id": "13cbf9ec-e7bf-4327-8146-6fd83f95a559",
   "metadata": {},
   "outputs": [],
   "source": [
    "no_dups.rename(columns = {'Duplicates':'1 KM per call'}, \n",
    "            inplace = True)"
   ]
  },
  {
   "cell_type": "code",
   "execution_count": 27,
   "id": "f11febe1-bbfd-4fe8-a7d4-bc98a5be0b62",
   "metadata": {},
   "outputs": [],
   "source": [
    "extracted_col = dups[\"1+ KMs per call\"]"
   ]
  },
  {
   "cell_type": "code",
   "execution_count": 28,
   "id": "dc90901f-28dd-45a5-a150-b5ec7183bc73",
   "metadata": {},
   "outputs": [],
   "source": [
    "no_dups = no_dups.join(extracted_col)"
   ]
  },
  {
   "cell_type": "code",
   "execution_count": 29,
   "id": "86189359-96bd-49ae-872b-49b264dd2de4",
   "metadata": {},
   "outputs": [],
   "source": [
    "ready = no_dups"
   ]
  },
  {
   "cell_type": "code",
   "execution_count": 30,
   "id": "b30ce4fd-28bc-471f-9353-f80f0b6abf44",
   "metadata": {},
   "outputs": [
    {
     "data": {
      "image/png": "[encoded data removed]",
      "text/plain": [
       "<Figure size 432x432 with 1 Axes>"
      ]
     },
     "metadata": {
      "needs_background": "light"
     },
     "output_type": "display_data"
    }
   ],
   "source": [
    "plt.rcParams[\"figure.figsize\"] = (6, 6)\n",
    "ax = ready.plot(x='Month', y =['1 KM per call','1+ KMs per call'],kind='bar')\n",
    "\n",
    "ax.set_title('How many KMs do MAUs listen to per call?')\n",
    "ax.legend(bbox_to_anchor=(1.0, 1.0))\n",
    "\n",
    "for p in ax.patches:\n",
    "    width = p.get_width()\n",
    "    height = p.get_height()\n",
    "    x, y = p.get_xy() \n",
    "    ax.annotate(f'{height}', (x + width/2, y + height*1.02), ha='center')\n",
    "    \n",
    "plt.savefig('KMs_listened_per_call.jpeg', bbox_inches='tight')"
   ]
  }
 ],
 "metadata": {
  "kernelspec": {
   "display_name": "Python 3 (ipykernel)",
   "language": "python",
   "name": "python3"
  },
  "language_info": {
   "codemirror_mode": {
    "name": "ipython",
    "version": 3
   },
   "file_extension": ".py",
   "mimetype": "text/x-python",
   "name": "python",
   "nbconvert_exporter": "python",
   "pygments_lexer": "ipython3",
   "version": "3.8.2"
  }
 },
 "nbformat": 4,
 "nbformat_minor": 5
}
