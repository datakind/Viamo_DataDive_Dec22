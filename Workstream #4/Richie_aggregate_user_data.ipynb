{
 "cells": [
  {
   "cell_type": "markdown",
   "metadata": {},
   "source": [
    "## Creating a User-level dataset for analysing user insights"
   ]
  },
  {
   "cell_type": "markdown",
   "metadata": {},
   "source": [
    "This is a notebook started by Richie with the goal to pull data on individual subscribers. The goal is one row per subscriber, with info about them, like their gender, age, but also calculated values like average call duration and number of calls. This data can be used for all sorts of user analysis, including cluster analysis."
   ]
  },
  {
   "cell_type": "code",
   "execution_count": 2,
   "metadata": {},
   "outputs": [],
   "source": [
    "import os\n",
    "import pandas as pd\n",
    "from google.cloud import bigquery\n",
    "import matplotlib.pyplot as plt\n",
    "import seaborn as sns\n",
    "import numpy as np"
   ]
  },
  {
   "cell_type": "code",
   "execution_count": 3,
   "metadata": {},
   "outputs": [],
   "source": [
    "#Set environment variable. \n",
    "#Note: CHANGE THIS TO WHERE ON YOUR COMPUTER THE JSON FILE IS\n",
    "os.environ[\"GOOGLE_APPLICATION_CREDENTIALS\"]='G:\\My Drive\\data science\\DataDives\\\\viamo_api_key.json'\n",
    "\n",
    "Bigquery_client = bigquery.Client()"
   ]
  },
  {
   "cell_type": "markdown",
   "metadata": {},
   "source": [
    "## Here is how I created the dataset"
   ]
  },
  {
   "cell_type": "code",
   "execution_count": 4,
   "metadata": {},
   "outputs": [
    {
     "name": "stdout",
     "output_type": "stream",
     "text": [
      "(2341867, 6)\n",
      "       subscriber_id      n_calls     n_themes     n_topics\n",
      "count   2.341867e+06  2341867.000  2341867.000  2341867.000\n",
      "mean    1.048648e+12       47.546        5.391        2.774\n",
      "std     1.421819e+17      168.813        3.134        1.759\n",
      "min     7.039976e+17        1.000        1.000        1.000\n",
      "25%     1.047991e+18        3.000        2.000        1.000\n",
      "50%     1.188158e+18        9.000        5.000        2.000\n",
      "75%     1.303281e+18       31.000        8.000        4.000\n",
      "max     1.441576e+18    14967.000       14.000       11.000\n"
     ]
    }
   ],
   "source": [
    "user_data_base = pd.read_gbq('''select subscriber_id, \n",
    "            min(age) as age, \n",
    "            min(gender) as gender, \n",
    "            count(distinct(call_id)) as n_calls,\n",
    "            count(distinct(block_theme)) as n_themes,\n",
    "            count(distinct(block_topic)) as n_topics\n",
    "    FROM `viamo-datakind.datadive.321_sessions_1122` \n",
    "    WHERE organization_country = 'Mali' \n",
    "    GROUP BY subscriber_id''')\n",
    "print(user_data_base.shape)\n",
    "print(user_data_base.describe().round(3))"
   ]
  },
  {
   "cell_type": "code",
   "execution_count": 5,
   "metadata": {},
   "outputs": [
    {
     "data": {
      "text/html": [
       "<div>\n",
       "<style scoped>\n",
       "    .dataframe tbody tr th:only-of-type {\n",
       "        vertical-align: middle;\n",
       "    }\n",
       "\n",
       "    .dataframe tbody tr th {\n",
       "        vertical-align: top;\n",
       "    }\n",
       "\n",
       "    .dataframe thead th {\n",
       "        text-align: right;\n",
       "    }\n",
       "</style>\n",
       "<table border=\"1\" class=\"dataframe\">\n",
       "  <thead>\n",
       "    <tr style=\"text-align: right;\">\n",
       "      <th></th>\n",
       "      <th>subscriber_id</th>\n",
       "      <th>median_call_duration</th>\n",
       "    </tr>\n",
       "  </thead>\n",
       "  <tbody>\n",
       "    <tr>\n",
       "      <th>0</th>\n",
       "      <td>939499770580885504</td>\n",
       "      <td>3.5</td>\n",
       "    </tr>\n",
       "    <tr>\n",
       "      <th>1</th>\n",
       "      <td>966658663257792512</td>\n",
       "      <td>43.0</td>\n",
       "    </tr>\n",
       "    <tr>\n",
       "      <th>2</th>\n",
       "      <td>968429792003678209</td>\n",
       "      <td>34.0</td>\n",
       "    </tr>\n",
       "    <tr>\n",
       "      <th>3</th>\n",
       "      <td>971855620947369984</td>\n",
       "      <td>23.5</td>\n",
       "    </tr>\n",
       "    <tr>\n",
       "      <th>4</th>\n",
       "      <td>972581424199163904</td>\n",
       "      <td>36.0</td>\n",
       "    </tr>\n",
       "  </tbody>\n",
       "</table>\n",
       "</div>"
      ],
      "text/plain": [
       "        subscriber_id  median_call_duration\n",
       "0  939499770580885504                   3.5\n",
       "1  966658663257792512                  43.0\n",
       "2  968429792003678209                  34.0\n",
       "3  971855620947369984                  23.5\n",
       "4  972581424199163904                  36.0"
      ]
     },
     "execution_count": 5,
     "metadata": {},
     "output_type": "execute_result"
    }
   ],
   "source": [
    "median_calls_per_user = pd.read_gbq('''SELECT distinct(subscriber_id), \n",
    "PERCENTILE_CONT(duration_listened_seconds, 0.5) OVER(PARTITION BY subscriber_id) as median_call_duration\n",
    "FROM `viamo-datakind.datadive.321_sessions_1122`\n",
    "WHERE organization_country = 'Mali' \n",
    "''')\n",
    "median_calls_per_user.head()"
   ]
  },
  {
   "cell_type": "code",
   "execution_count": 6,
   "metadata": {},
   "outputs": [],
   "source": [
    "user_data2 = user_data_base.merge(median_calls_per_user, on = 'subscriber_id', how = 'left')"
   ]
  },
  {
   "cell_type": "code",
   "execution_count": 7,
   "metadata": {},
   "outputs": [
    {
     "name": "stdout",
     "output_type": "stream",
     "text": [
      "['male' 'female' None]\n",
      "['over_44' '25_34' None 'under_18' '18_24' '35_44']\n",
      "0.010661151978314737\n"
     ]
    }
   ],
   "source": [
    "print(user_data2['gender'].unique())\n",
    "print(user_data2['age'].unique())\n",
    "print(user_data2['median_call_duration'].isna().mean())"
   ]
  },
  {
   "cell_type": "code",
   "execution_count": 8,
   "metadata": {},
   "outputs": [],
   "source": [
    "user_data2['gender_numeric'] = user_data2['gender']\\\n",
    "    .replace(['male','female'], [1,2], inplace=False)\\\n",
    "        .fillna(-1)\n",
    "\n",
    "user_data2['age_numeric'] = user_data2['age']\\\n",
    "    .replace(['under_18', '18_24','25_34','35_44','over_44'], [1, 2, 3, 4, 5], inplace=False)\\\n",
    "        .fillna(-1)\n",
    "\n",
    "user_data2['median_call_duration']\\\n",
    "    .fillna(-1, inplace = True)"
   ]
  },
  {
   "cell_type": "code",
   "execution_count": 9,
   "metadata": {},
   "outputs": [],
   "source": [
    "fav_theme = pd.read_gbq('''with ordered_themes_by_users as (select subscriber_id, block_theme, ROW_NUMBER() OVER (PARTITION BY subscriber_id ORDER BY COUNT(block_theme) DESC) rn\n",
    "FROM `viamo-datakind.datadive.321_sessions_1122`\n",
    "WHERE organization_country = 'Mali'\n",
    "group by subscriber_id, block_theme)\n",
    "select subscriber_id, block_theme as fav_theme from ordered_themes_by_users where rn = 1\n",
    "''')\n",
    "\n",
    "second_fav_theme = pd.read_gbq('''with ordered_themes_by_users as (select subscriber_id, block_theme, ROW_NUMBER() OVER (PARTITION BY subscriber_id ORDER BY COUNT(block_theme) DESC) rn\n",
    "FROM `viamo-datakind.datadive.321_sessions_1122`\n",
    "WHERE organization_country = 'Mali'\n",
    "group by subscriber_id, block_theme)\n",
    "select subscriber_id, block_theme as second_fav_theme from ordered_themes_by_users where rn = 2\n",
    "''')"
   ]
  },
  {
   "cell_type": "code",
   "execution_count": 10,
   "metadata": {},
   "outputs": [],
   "source": [
    "fav_topic = pd.read_gbq('''with ordered_topics_by_users as (select subscriber_id, block_topic, ROW_NUMBER() OVER (PARTITION BY subscriber_id ORDER BY COUNT(block_topic) DESC) rn\n",
    "FROM `viamo-datakind.datadive.321_sessions_1122`\n",
    "WHERE organization_country = 'Mali'\n",
    "group by subscriber_id, block_topic)\n",
    "select subscriber_id, block_topic as fav_topic from ordered_topics_by_users where rn = 1\n",
    "''')\n",
    "\n",
    "second_fav_topic = pd.read_gbq('''with ordered_topics_by_users as (select subscriber_id, block_topic, ROW_NUMBER() OVER (PARTITION BY subscriber_id ORDER BY COUNT(block_topic) DESC) rn\n",
    "FROM `viamo-datakind.datadive.321_sessions_1122`\n",
    "WHERE organization_country = 'Mali'\n",
    "group by subscriber_id, block_topic)\n",
    "select subscriber_id, block_topic as second_fav_topic from ordered_topics_by_users where rn = 2\n",
    "''')"
   ]
  },
  {
   "cell_type": "code",
   "execution_count": 11,
   "metadata": {},
   "outputs": [],
   "source": [
    "user_data3 = user_data2\\\n",
    ".merge(fav_theme,           on = 'subscriber_id', how = 'left')\\\n",
    ".merge(second_fav_theme,    on = 'subscriber_id', how = 'left')\\\n",
    ".merge(fav_topic,           on = 'subscriber_id', how = 'left')\\\n",
    ".merge(second_fav_topic,    on = 'subscriber_id', how = 'left')"
   ]
  },
  {
   "cell_type": "code",
   "execution_count": null,
   "metadata": {},
   "outputs": [],
   "source": [
    "user_data3['fav_theme'].unique()"
   ]
  },
  {
   "cell_type": "code",
   "execution_count": 12,
   "metadata": {},
   "outputs": [
    {
     "name": "stdout",
     "output_type": "stream",
     "text": [
      "['' 'news' 'health' 'gender' 'financial' 'ed' 'health,nutrition'\n",
      " 'security' 'rights' 'ag']\n",
      "\n",
      "\n",
      "['news' 'health' 'games' 'gender' 'health,nutrition' '' 'financial' nan\n",
      " 'ed' 'security' 'rights' 'ag' 'financial,rights' 'nutrition']\n",
      "\n",
      "\n",
      "['' 'livestock' 'environment' 'coronavirus,malaria' 'coronavirus'\n",
      " 'malaria,ncd' 'coronavirus,malaria,ncd' 'malaria']\n",
      "\n",
      "\n",
      "['coronavirus' 'coronavirus,malaria' 'livestock' 'gbv' 'malaria' nan ''\n",
      " 'environment' 'malaria,ncd' 'coronavirus,malaria,ncd' 'maternal']\n"
     ]
    }
   ],
   "source": [
    "print(user_data3['fav_theme'].unique())\n",
    "print('\\n')\n",
    "print(user_data3['second_fav_theme'].unique())\n",
    "print('\\n')\n",
    "print(user_data3['fav_topic'].unique())\n",
    "print('\\n')\n",
    "print(user_data3['second_fav_topic'].unique())"
   ]
  },
  {
   "cell_type": "code",
   "execution_count": 16,
   "metadata": {},
   "outputs": [],
   "source": [
    "# For Mali\n",
    "user_data3['fav_theme_numeric'] = user_data3['fav_theme']\\\n",
    "    .replace(['', 'news','health','gender','financial','ed','health,nutrition','security','rights','ag'], [-1, 1, 2, 3, 4,5,6,7,8,9], inplace=False)\\\n",
    "        .fillna(-1)\n",
    "user_data3['second_fav_theme_numeric'] = user_data3['second_fav_theme']\\\n",
    "    .replace(['', 'news','health','gender','financial','ed','health,nutrition','security','rights','ag','games','financial,rights','nutrition'], [-1, 1, 2, 3, 4,5,6,7,8,9,10,11,12], inplace=False)\\\n",
    "        .fillna(-1)\n",
    "\n",
    "user_data3['fav_topic_numeric'] = user_data3['fav_topic']\\\n",
    "    .replace(['', 'livestock','environment','coronavirus,malaria','coronavirus','malaria,ncd','coronavirus,malaria,ncd','malaria'], [-1, 1, 2, 3, 4,5,6,7], inplace=False)\\\n",
    "        .fillna(-1)\n",
    "user_data3['second_fav_topic_numeric'] = user_data3['second_fav_topic']\\\n",
    "    .replace(['', 'livestock','environment','coronavirus,malaria','coronavirus','malaria,ncd','coronavirus,malaria,ncd','malaria','gbv','maternal'], [-1, 1, 2, 3, 4,5,6,7,8,9], inplace=False)\\\n",
    "        .fillna(-1)"
   ]
  },
  {
   "cell_type": "code",
   "execution_count": null,
   "metadata": {},
   "outputs": [],
   "source": [
    "# For Uganda\n",
    "user_data3['fav_theme_numeric'] = user_data3['fav_theme']\\\n",
    "    .replace(['', 'weather','health','ag','vas','news','games','financial','drama'], [-1, 1, 2, 3, 4,5,6,7,8], inplace=False)\\\n",
    "        .fillna(-1)\n",
    "user_data3['second_fav_theme_numeric'] = user_data3['second_fav_theme']\\\n",
    "    .replace(['', 'weather','health','ag','vas','news','games','financial','drama', 'gender','financial,games','ag,games'], [-1, 1, 2, 3, 4,5,6,7,8,9,10,11], inplace=False)\\\n",
    "        .fillna(-1)\n",
    "\n",
    "user_data3['fav_topic_numeric'] = user_data3['fav_topic']\\\n",
    "    .replace(['', 'coronavirus','srh','beans','rice','maize','hiv,srh','cassava'], [-1, 1, 2, 3, 4,5,6,7], inplace=False)\\\n",
    "        .fillna(-1)\n",
    "user_data3['second_fav_topic_numeric'] = user_data3['second_fav_topic']\\\n",
    "    .replace(['', 'coronavirus','srh','beans','rice','maize','hiv,srh','cassava','livestock','hiv'], [-1, 1, 2, 3, 4,5,6,7,8,9], inplace=False)\\\n",
    "        .fillna(-1)"
   ]
  },
  {
   "cell_type": "code",
   "execution_count": null,
   "metadata": {},
   "outputs": [],
   "source": [
    "# For Nigeria TO DO\n",
    "user_data3['fav_theme_numeric'] = user_data3['fav_theme']\\\n",
    "    .replace(['', 'weather','health','ag','vas','news','games','financial','drama'], [-1, 1, 2, 3, 4,5,6,7,8], inplace=False)\\\n",
    "        .fillna(-1)\n",
    "user_data3['second_fav_theme_numeric'] = user_data3['second_fav_theme']\\\n",
    "    .replace(['', 'weather','health','ag','vas','news','games','financial','drama', 'gender','financial,games','ag,games'], [-1, 1, 2, 3, 4,5,6,7,8,9,10,11], inplace=False)\\\n",
    "        .fillna(-1)\n",
    "\n",
    "user_data3['fav_topic_numeric'] = user_data3['fav_topic']\\\n",
    "    .replace(['', 'coronavirus','srh','beans','rice','maize','hiv,srh','cassava'], [-1, 1, 2, 3, 4,5,6,7], inplace=False)\\\n",
    "        .fillna(-1)\n",
    "user_data3['second_fav_topic_numeric'] = user_data3['second_fav_topic']\\\n",
    "    .replace(['', 'coronavirus','srh','beans','rice','maize','hiv,srh','cassava','livestock','hiv'], [-1, 1, 2, 3, 4,5,6,7,8,9], inplace=False)\\\n",
    "        .fillna(-1)"
   ]
  },
  {
   "cell_type": "code",
   "execution_count": 17,
   "metadata": {},
   "outputs": [],
   "source": [
    "user_data3.to_parquet('Viamo_user_data_Mali.parquet')"
   ]
  }
 ],
 "metadata": {
  "kernelspec": {
   "display_name": "Python 3.9.13 64-bit (microsoft store)",
   "language": "python",
   "name": "python3"
  },
  "language_info": {
   "codemirror_mode": {
    "name": "ipython",
    "version": 3
   },
   "file_extension": ".py",
   "mimetype": "text/x-python",
   "name": "python",
   "nbconvert_exporter": "python",
   "pygments_lexer": "ipython3",
   "version": "3.9.13"
  },
  "orig_nbformat": 4,
  "vscode": {
   "interpreter": {
    "hash": "7b78c325c309180add329ab37d7a96c3ccd889709d9f69c3abbe9f4ad8115b08"
   }
  }
 },
 "nbformat": 4,
 "nbformat_minor": 2
}
