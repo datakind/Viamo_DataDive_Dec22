{
 "cells": [
  {
   "cell_type": "markdown",
   "metadata": {},
   "source": [
    "## Creating a User-level dataset for analysing user insights"
   ]
  },
  {
   "cell_type": "markdown",
   "metadata": {},
   "source": [
    "This is a notebook started by Richie with the goal to pull data on individual subscribers. The goal is one row per subscriber, with info about them, like their gender, age, but also calculated values like average call duration and number of calls. This data can be used for all sorts of user analysis, including cluster analysis."
   ]
  },
  {
   "cell_type": "code",
   "execution_count": 2,
   "metadata": {},
   "outputs": [],
   "source": [
    "import os\n",
    "import pandas as pd\n",
    "from google.cloud import bigquery\n",
    "import matplotlib.pyplot as plt\n",
    "import seaborn as sns"
   ]
  },
  {
   "cell_type": "code",
   "execution_count": 3,
   "metadata": {},
   "outputs": [],
   "source": [
    "#Set environment variable. \n",
    "#Note: CHANGE THIS TO WHERE ON YOUR COMPUTER THE JSON FILE IS\n",
    "os.environ[\"GOOGLE_APPLICATION_CREDENTIALS\"]='G:\\My Drive\\data science\\DataDives\\\\viamo_api_key.json'"
   ]
  },
  {
   "cell_type": "code",
   "execution_count": 4,
   "metadata": {},
   "outputs": [],
   "source": [
    "Bigquery_client = bigquery.Client()\n",
    "user_data = pd.read_gbq('''with ugandan_data as \n",
    "    (select subscriber_id, \n",
    "            min(age) as age, \n",
    "            min(gender) as gender, \n",
    "            count(distinct(call_id)) as n_calls, \n",
    "            avg(duration_listened_seconds) as average_call_duration  \n",
    "    FROM `viamo-datakind.datadive.321_sessions_1122` \n",
    "    WHERE organization_country = 'Uganda' \n",
    "    GROUP BY subscriber_id)\n",
    "\n",
    "select * from  ugandan_data''')"
   ]
  },
  {
   "cell_type": "markdown",
   "metadata": {},
   "source": [
    "Idea: write some SQL to grab the most popular block theme and block topic per user. Do users have a favourite call topic or theme? If so, we can use that for clustering"
   ]
  },
  {
   "cell_type": "code",
   "execution_count": 8,
   "metadata": {},
   "outputs": [
    {
     "data": {
      "text/html": [
       "<div>\n",
       "<style scoped>\n",
       "    .dataframe tbody tr th:only-of-type {\n",
       "        vertical-align: middle;\n",
       "    }\n",
       "\n",
       "    .dataframe tbody tr th {\n",
       "        vertical-align: top;\n",
       "    }\n",
       "\n",
       "    .dataframe thead th {\n",
       "        text-align: right;\n",
       "    }\n",
       "</style>\n",
       "<table border=\"1\" class=\"dataframe\">\n",
       "  <thead>\n",
       "    <tr style=\"text-align: right;\">\n",
       "      <th></th>\n",
       "      <th>subscriber_id</th>\n",
       "      <th>age</th>\n",
       "      <th>gender</th>\n",
       "      <th>n_calls</th>\n",
       "      <th>average_call_duration</th>\n",
       "    </tr>\n",
       "  </thead>\n",
       "  <tbody>\n",
       "    <tr>\n",
       "      <th>0</th>\n",
       "      <td>1249007965135440660</td>\n",
       "      <td>None</td>\n",
       "      <td>None</td>\n",
       "      <td>34</td>\n",
       "      <td>21.760563</td>\n",
       "    </tr>\n",
       "    <tr>\n",
       "      <th>1</th>\n",
       "      <td>1107356916055015424</td>\n",
       "      <td>18_24</td>\n",
       "      <td>male</td>\n",
       "      <td>41</td>\n",
       "      <td>49.250000</td>\n",
       "    </tr>\n",
       "    <tr>\n",
       "      <th>2</th>\n",
       "      <td>921411853161594880</td>\n",
       "      <td>18_24</td>\n",
       "      <td>male</td>\n",
       "      <td>31</td>\n",
       "      <td>56.010676</td>\n",
       "    </tr>\n",
       "    <tr>\n",
       "      <th>3</th>\n",
       "      <td>590958164967424000</td>\n",
       "      <td>under_18</td>\n",
       "      <td>female</td>\n",
       "      <td>26</td>\n",
       "      <td>53.369458</td>\n",
       "    </tr>\n",
       "    <tr>\n",
       "      <th>4</th>\n",
       "      <td>701490087854080000</td>\n",
       "      <td>None</td>\n",
       "      <td>None</td>\n",
       "      <td>28</td>\n",
       "      <td>44.851852</td>\n",
       "    </tr>\n",
       "  </tbody>\n",
       "</table>\n",
       "</div>"
      ],
      "text/plain": [
       "         subscriber_id       age  gender  n_calls  average_call_duration\n",
       "0  1249007965135440660      None    None       34              21.760563\n",
       "1  1107356916055015424     18_24    male       41              49.250000\n",
       "2   921411853161594880     18_24    male       31              56.010676\n",
       "3   590958164967424000  under_18  female       26              53.369458\n",
       "4   701490087854080000      None    None       28              44.851852"
      ]
     },
     "execution_count": 8,
     "metadata": {},
     "output_type": "execute_result"
    }
   ],
   "source": [
    "user_data.head()"
   ]
  },
  {
   "cell_type": "code",
   "execution_count": 14,
   "metadata": {},
   "outputs": [
    {
     "data": {
      "text/html": [
       "<div>\n",
       "<style scoped>\n",
       "    .dataframe tbody tr th:only-of-type {\n",
       "        vertical-align: middle;\n",
       "    }\n",
       "\n",
       "    .dataframe tbody tr th {\n",
       "        vertical-align: top;\n",
       "    }\n",
       "\n",
       "    .dataframe thead th {\n",
       "        text-align: right;\n",
       "    }\n",
       "</style>\n",
       "<table border=\"1\" class=\"dataframe\">\n",
       "  <thead>\n",
       "    <tr style=\"text-align: right;\">\n",
       "      <th></th>\n",
       "      <th>subscriber_id</th>\n",
       "      <th>n_calls</th>\n",
       "      <th>average_call_duration</th>\n",
       "    </tr>\n",
       "  </thead>\n",
       "  <tbody>\n",
       "    <tr>\n",
       "      <th>count</th>\n",
       "      <td>2.714900e+06</td>\n",
       "      <td>2.714900e+06</td>\n",
       "      <td>2.107415e+06</td>\n",
       "    </tr>\n",
       "    <tr>\n",
       "      <th>mean</th>\n",
       "      <td>2.237601e+12</td>\n",
       "      <td>8.526765e+00</td>\n",
       "      <td>2.862595e+01</td>\n",
       "    </tr>\n",
       "    <tr>\n",
       "      <th>std</th>\n",
       "      <td>2.390752e+17</td>\n",
       "      <td>1.349636e+01</td>\n",
       "      <td>1.730161e+01</td>\n",
       "    </tr>\n",
       "    <tr>\n",
       "      <th>min</th>\n",
       "      <td>5.697945e+17</td>\n",
       "      <td>1.000000e+00</td>\n",
       "      <td>0.000000e+00</td>\n",
       "    </tr>\n",
       "    <tr>\n",
       "      <th>25%</th>\n",
       "      <td>1.090526e+18</td>\n",
       "      <td>1.000000e+00</td>\n",
       "      <td>1.666667e+01</td>\n",
       "    </tr>\n",
       "    <tr>\n",
       "      <th>50%</th>\n",
       "      <td>1.291351e+18</td>\n",
       "      <td>3.000000e+00</td>\n",
       "      <td>2.575000e+01</td>\n",
       "    </tr>\n",
       "    <tr>\n",
       "      <th>75%</th>\n",
       "      <td>1.383805e+18</td>\n",
       "      <td>1.000000e+01</td>\n",
       "      <td>3.687952e+01</td>\n",
       "    </tr>\n",
       "    <tr>\n",
       "      <th>max</th>\n",
       "      <td>1.441578e+18</td>\n",
       "      <td>2.488000e+03</td>\n",
       "      <td>4.835000e+02</td>\n",
       "    </tr>\n",
       "  </tbody>\n",
       "</table>\n",
       "</div>"
      ],
      "text/plain": [
       "       subscriber_id       n_calls  average_call_duration\n",
       "count   2.714900e+06  2.714900e+06           2.107415e+06\n",
       "mean    2.237601e+12  8.526765e+00           2.862595e+01\n",
       "std     2.390752e+17  1.349636e+01           1.730161e+01\n",
       "min     5.697945e+17  1.000000e+00           0.000000e+00\n",
       "25%     1.090526e+18  1.000000e+00           1.666667e+01\n",
       "50%     1.291351e+18  3.000000e+00           2.575000e+01\n",
       "75%     1.383805e+18  1.000000e+01           3.687952e+01\n",
       "max     1.441578e+18  2.488000e+03           4.835000e+02"
      ]
     },
     "execution_count": 14,
     "metadata": {},
     "output_type": "execute_result"
    }
   ],
   "source": [
    "user_data.describe()"
   ]
  },
  {
   "cell_type": "markdown",
   "metadata": {},
   "source": [
    "## A different analysis on which subscribers have unusually high call numbers"
   ]
  },
  {
   "cell_type": "code",
   "execution_count": 37,
   "metadata": {},
   "outputs": [],
   "source": [
    "Bigquery_client = bigquery.Client()\n",
    "n_calls = pd.read_gbq('''with n_calls_per_sub as \n",
    "    (select subscriber_id, organization_country,\n",
    "            count(distinct(call_id)) as n_calls, \n",
    "    FROM `viamo-datakind.datadive.321_sessions_1122` \n",
    "    GROUP BY subscriber_id, organization_country)\n",
    "\n",
    "select * from  n_calls_per_sub where n_calls > 1000 order by n_calls desc''')"
   ]
  },
  {
   "cell_type": "code",
   "execution_count": 38,
   "metadata": {},
   "outputs": [
    {
     "data": {
      "text/plain": [
       "Mali       12016\n",
       "Nigeria        5\n",
       "Uganda         3\n",
       "Name: organization_country, dtype: int64"
      ]
     },
     "execution_count": 38,
     "metadata": {},
     "output_type": "execute_result"
    }
   ],
   "source": [
    "n_calls.organization_country.value_counts()"
   ]
  },
  {
   "cell_type": "code",
   "execution_count": 36,
   "metadata": {},
   "outputs": [
    {
     "data": {
      "text/plain": [
       "Mali       224451\n",
       "Nigeria      6549\n",
       "Uganda       5636\n",
       "Name: organization_country, dtype: int64"
      ]
     },
     "execution_count": 36,
     "metadata": {},
     "output_type": "execute_result"
    }
   ],
   "source": [
    "n_calls.organization_country.value_counts()"
   ]
  },
  {
   "cell_type": "code",
   "execution_count": null,
   "metadata": {},
   "outputs": [],
   "source": []
  }
 ],
 "metadata": {
  "kernelspec": {
   "display_name": "Python 3.9.13 64-bit (microsoft store)",
   "language": "python",
   "name": "python3"
  },
  "language_info": {
   "codemirror_mode": {
    "name": "ipython",
    "version": 3
   },
   "file_extension": ".py",
   "mimetype": "text/x-python",
   "name": "python",
   "nbconvert_exporter": "python",
   "pygments_lexer": "ipython3",
   "version": "3.9.13"
  },
  "orig_nbformat": 4,
  "vscode": {
   "interpreter": {
    "hash": "7b78c325c309180add329ab37d7a96c3ccd889709d9f69c3abbe9f4ad8115b08"
   }
  }
 },
 "nbformat": 4,
 "nbformat_minor": 2
}
