{
 "cells": [
  {
   "cell_type": "code",
   "execution_count": 1,
   "id": "83f2b197-954a-41f2-a524-33d44ffd21f6",
   "metadata": {},
   "outputs": [],
   "source": [
    "#import libraries\n",
    "import os\n",
    "import pandas as pd\n",
    "import numpy as np\n",
    "import datetime\n",
    "%matplotlib inline\n",
    "import matplotlib.pyplot as plt\n",
    "import seaborn as sns\n",
    "import warnings\n",
    "warnings.filterwarnings('ignore')"
   ]
  },
  {
   "cell_type": "code",
   "execution_count": 2,
   "id": "5f3882fb-5b64-4b74-83a6-f3192bf56df9",
   "metadata": {},
   "outputs": [],
   "source": [
    "#read in data\n",
    "data = pd.read_csv('/Users/deepshikasharma/Downloads/Viamo_sample/3m_uganda-3m_uganda_000000000013.csv')"
   ]
  },
  {
   "cell_type": "code",
   "execution_count": 3,
   "id": "cddc8009-43c7-4a6c-90a9-0a6188914931",
   "metadata": {},
   "outputs": [],
   "source": [
    "#select relevant columns for analysis\n",
    "mau = data[['call_date','new_listener_ever']]"
   ]
  },
  {
   "cell_type": "code",
   "execution_count": 4,
   "id": "058f934f-c534-45c3-b10c-ebb2ac8ea670",
   "metadata": {},
   "outputs": [],
   "source": [
    "#convert not null values (integer) to Yes in new_listener_ever column\n",
    "mau.loc[mau['new_listener_ever'].notnull(), 'new_listener_ever'] = \"Yes\""
   ]
  },
  {
   "cell_type": "code",
   "execution_count": 5,
   "id": "d0a101cd-7105-4576-9038-3030302eb54a",
   "metadata": {},
   "outputs": [],
   "source": [
    "#convert not-a-number values (NaN) to No in new_listener_ever column\n",
    "mau['new_listener_ever'] = mau['new_listener_ever'].replace(np.nan, \"No\")"
   ]
  },
  {
   "cell_type": "code",
   "execution_count": 6,
   "id": "963ad754-b3db-4ca9-8ae4-d654325d7c24",
   "metadata": {},
   "outputs": [],
   "source": [
    "#convert call_date data type from object to datetime\n",
    "mau['call_date'] = pd.to_datetime(mau.call_date)"
   ]
  },
  {
   "cell_type": "code",
   "execution_count": 7,
   "id": "05a7962a-903e-4d1f-8b60-6f12e2e8d5ee",
   "metadata": {},
   "outputs": [],
   "source": [
    "#extract month from call_date column \n",
    "mau['Month'] = mau['call_date'].dt.month_name()"
   ]
  },
  {
   "cell_type": "code",
   "execution_count": 8,
   "id": "febf05ff-adfb-41be-b5f5-a7c914738df8",
   "metadata": {},
   "outputs": [],
   "source": [
    "#remove call_date column\n",
    "mau.drop('call_date', inplace = True, axis=1)"
   ]
  },
  {
   "cell_type": "code",
   "execution_count": 9,
   "id": "edb17e83-7e46-402c-8d7c-00bc922a16e9",
   "metadata": {},
   "outputs": [],
   "source": [
    "#clean up new_listener_ever column title\n",
    "mau.rename(columns = {'new_listener_ever':'New Listeners'}, inplace = True)"
   ]
  },
  {
   "cell_type": "code",
   "execution_count": 10,
   "id": "6a6c68c2-01ae-4989-a40f-6665b1ab1b50",
   "metadata": {},
   "outputs": [],
   "source": [
    "#create function to replace subscriber_id as new listeners values with \"Yes\" values\n",
    "def new (mau):\n",
    "    if mau['New Listeners'] == \"Yes\":\n",
    "        return \"Yes\"\n",
    "    else:\n",
    "        return np.NaN"
   ]
  },
  {
   "cell_type": "code",
   "execution_count": 11,
   "id": "c5bf8110-aee4-4b29-9bae-8fb894254c12",
   "metadata": {},
   "outputs": [],
   "source": [
    "mau['New'] = mau.apply(lambda mau: new(mau), axis=1)"
   ]
  },
  {
   "cell_type": "code",
   "execution_count": 12,
   "id": "b361c382-4acf-4c55-b9b2-c397e5ee3b42",
   "metadata": {},
   "outputs": [],
   "source": [
    "#create function to replace NaN values with \"No\" to show current listeners\n",
    "def current (mau):\n",
    "    if mau['New Listeners'] == \"No\":\n",
    "        return \"Yes\"\n",
    "    else:\n",
    "        return np.NaN"
   ]
  },
  {
   "cell_type": "code",
   "execution_count": 13,
   "id": "548f729d-981a-4b16-ade3-9f272ae2816f",
   "metadata": {},
   "outputs": [],
   "source": [
    "#create new column for current values \n",
    "mau['Current'] = mau.apply(lambda mau: current(mau), axis=1)"
   ]
  },
  {
   "cell_type": "code",
   "execution_count": 14,
   "id": "2a4db700-590c-435c-84af-08e1df9774f5",
   "metadata": {},
   "outputs": [],
   "source": [
    "#drop new_listener_ever column\n",
    "mau.drop('New Listeners', inplace = True, axis=1)"
   ]
  },
  {
   "cell_type": "code",
   "execution_count": 15,
   "id": "2f42cce2-343e-494a-97f3-8c13d6303534",
   "metadata": {
    "tags": []
   },
   "outputs": [],
   "source": [
    "#count number of new and current listeners for each month\n",
    "df = mau.groupby('Month').count().reset_index()"
   ]
  },
  {
   "cell_type": "code",
   "execution_count": 16,
   "id": "715e7762-083f-4e79-872b-60e1876f8be9",
   "metadata": {},
   "outputs": [],
   "source": [
    "#just making sure df is a dataframe before next operation\n",
    "df = pd.DataFrame(df)"
   ]
  },
  {
   "cell_type": "code",
   "execution_count": 17,
   "id": "85601b9b-34c7-41a9-9af7-78c199330b3c",
   "metadata": {},
   "outputs": [],
   "source": [
    "#create three new series (columns) in dataframe. \n",
    "#first one for total amount of users for each month \n",
    "df['Total'] = df['New'] + df['Current'] \n",
    "#second one for percentage of new users\n",
    "df['New %'] = df['New'] / df['Total']\n",
    "#fromat values as percentage\n",
    "df['New %'] = df['New %'].transform(lambda x:'{:,.1%}'.format(x))\n",
    "#third one for percentage of current users\n",
    "df['Current %'] = df['Current'] / df['Total']\n",
    "#fromat values as percentage\n",
    "df['Current %'] = df['Current %'].transform(lambda x:'{:,.1%}'.format(x))\n",
    "#remove the percentage sign\n",
    "df['New %'] = df['New %'].str.rstrip('%').astype('float')\n",
    "df['Current %'] = df['Current %'].str.rstrip('%').astype('float')"
   ]
  },
  {
   "cell_type": "markdown",
   "id": "93313a85-c36d-4354-87f0-3060256d63ce",
   "metadata": {},
   "source": [
    "**Note**: when connecting to full database, change `months_categories` to include all 12 months."
   ]
  },
  {
   "cell_type": "code",
   "execution_count": 18,
   "id": "ea8faed6-4294-4d51-a5e3-4acfff21ad70",
   "metadata": {},
   "outputs": [],
   "source": [
    "#need to custom sort the dataframe by month in chronological order\n",
    "months_categories = [\"August\", \"September\", \"October\", \"November\"]\n",
    "df[\"Month\"] = pd.Categorical(df[\"Month\"], categories = months_categories)\n",
    "df = df.sort_values(by = \"Month\")"
   ]
  },
  {
   "cell_type": "code",
   "execution_count": 19,
   "id": "7e7873f2-162f-421d-8f7d-47768fd3d4fc",
   "metadata": {},
   "outputs": [
    {
     "data": {
      "image/png": "[encoded data removed]",
      "text/plain": [
       "<Figure size 432x432 with 1 Axes>"
      ]
     },
     "metadata": {
      "needs_background": "light"
     },
     "output_type": "display_data"
    }
   ],
   "source": [
    "#create plot one\n",
    "plt.rcParams[\"figure.figsize\"] = (6, 6)\n",
    "ax = df.plot(x='Month', y =['New','Current'],kind='bar')\n",
    "ax.set_title('New vs. Current MAUs')\n",
    "ax.legend(bbox_to_anchor=(1.0, 1.0))\n",
    "\n",
    "for p in ax.patches:\n",
    "    width = p.get_width()\n",
    "    height = p.get_height()\n",
    "    x, y = p.get_xy() \n",
    "    ax.annotate(f'{height}', (x + width/2, y + height*1.02), ha='center')\n",
    "\n",
    "plt.savefig('New_vs_Current_MAUs_Count.jpeg', bbox_inches='tight')"
   ]
  },
  {
   "cell_type": "code",
   "execution_count": 20,
   "id": "ac4cb67c-cd75-4c9d-b839-747c0e81c9e3",
   "metadata": {},
   "outputs": [
    {
     "data": {
      "image/png": "[encoded data removed]",
      "text/plain": [
       "<Figure size 432x432 with 1 Axes>"
      ]
     },
     "metadata": {
      "needs_background": "light"
     },
     "output_type": "display_data"
    }
   ],
   "source": [
    "#create plot two\n",
    "plt.rcParams[\"figure.figsize\"] = (6, 6)\n",
    "ax = df.plot(x='Month', y =['New %','Current %'],kind='bar')\n",
    "ax.set_title('New vs. Current MAUs')\n",
    "ax.legend(bbox_to_anchor=(1.0, 1.0))\n",
    "\n",
    "for p in ax.patches:\n",
    "    width = p.get_width()\n",
    "    height = p.get_height()\n",
    "    x, y = p.get_xy() \n",
    "    ax.annotate(f'{height}', (x + width/2, y + height*1.02), ha='center')\n",
    "    \n",
    "plt.savefig('New_vs_Current_MAUs_%.jpeg', bbox_inches='tight')"
   ]
  }
 ],
 "metadata": {
  "kernelspec": {
   "display_name": "Python 3 (ipykernel)",
   "language": "python",
   "name": "python3"
  },
  "language_info": {
   "codemirror_mode": {
    "name": "ipython",
    "version": 3
   },
   "file_extension": ".py",
   "mimetype": "text/x-python",
   "name": "python",
   "nbconvert_exporter": "python",
   "pygments_lexer": "ipython3",
   "version": "3.8.2"
  }
 },
 "nbformat": 4,
 "nbformat_minor": 5
}
