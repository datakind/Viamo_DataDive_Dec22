{
 "cells": [
  {
   "cell_type": "code",
   "execution_count": 92,
   "metadata": {},
   "outputs": [],
   "source": [
    "# connect to the database using the credentials\n",
    "import os\n",
    "import pandas as pd\n",
    "os.environ['GOOGLE_APPLICATION_CREDENTIALS'] = r'credentials.json'\n",
    "\n"
   ]
  },
  {
   "cell_type": "code",
   "execution_count": 93,
   "metadata": {},
   "outputs": [],
   "source": [
    "query = \"\"\"\n",
    "SELECT\n",
    "*\n",
    "FROM `viamo-datakind.datadive.321_sessions_1122`\n",
    "\n",
    "\n",
    "LIMIT 10000\n",
    "\"\"\"\n",
    "test_df = pd.read_gbq(query)\n"
   ]
  },
  {
   "cell_type": "code",
   "execution_count": 94,
   "metadata": {},
   "outputs": [
    {
     "data": {
      "text/html": [
       "<div>\n",
       "<style scoped>\n",
       "    .dataframe tbody tr th:only-of-type {\n",
       "        vertical-align: middle;\n",
       "    }\n",
       "\n",
       "    .dataframe tbody tr th {\n",
       "        vertical-align: top;\n",
       "    }\n",
       "\n",
       "    .dataframe thead th {\n",
       "        text-align: right;\n",
       "    }\n",
       "</style>\n",
       "<table border=\"1\" class=\"dataframe\">\n",
       "  <thead>\n",
       "    <tr style=\"text-align: right;\">\n",
       "      <th></th>\n",
       "      <th>block_tags</th>\n",
       "      <th>listen_menu_or_digest</th>\n",
       "    </tr>\n",
       "  </thead>\n",
       "  <tbody>\n",
       "    <tr>\n",
       "      <th>2</th>\n",
       "      <td>news,topic_menu</td>\n",
       "      <td>None</td>\n",
       "    </tr>\n",
       "    <tr>\n",
       "      <th>6</th>\n",
       "      <td>coronavirus,health,malaria,ncd,partner_hch,par...</td>\n",
       "      <td>None</td>\n",
       "    </tr>\n",
       "    <tr>\n",
       "      <th>12</th>\n",
       "      <td>games,theme_menu</td>\n",
       "      <td>Listen Menu</td>\n",
       "    </tr>\n",
       "    <tr>\n",
       "      <th>13</th>\n",
       "      <td>ak_digest,albishirinku,ba,complementary_feedin...</td>\n",
       "      <td>None</td>\n",
       "    </tr>\n",
       "    <tr>\n",
       "      <th>20</th>\n",
       "      <td>2_0,ba,coronavirus,covid_digest,health,km,part...</td>\n",
       "      <td>Listen Digest</td>\n",
       "    </tr>\n",
       "    <tr>\n",
       "      <th>...</th>\n",
       "      <td>...</td>\n",
       "      <td>...</td>\n",
       "    </tr>\n",
       "    <tr>\n",
       "      <th>9995</th>\n",
       "      <td>ag,theme_menu</td>\n",
       "      <td>Listen Menu</td>\n",
       "    </tr>\n",
       "    <tr>\n",
       "      <th>9996</th>\n",
       "      <td>ag,beans,topic_menu</td>\n",
       "      <td>Listen Menu</td>\n",
       "    </tr>\n",
       "    <tr>\n",
       "      <th>9997</th>\n",
       "      <td>ag,theme_menu</td>\n",
       "      <td>None</td>\n",
       "    </tr>\n",
       "    <tr>\n",
       "      <th>9998</th>\n",
       "      <td>ag,theme_menu</td>\n",
       "      <td>Listen Menu</td>\n",
       "    </tr>\n",
       "    <tr>\n",
       "      <th>9999</th>\n",
       "      <td>ag,banana,topic_menu</td>\n",
       "      <td>Listen Menu</td>\n",
       "    </tr>\n",
       "  </tbody>\n",
       "</table>\n",
       "<p>2346 rows × 2 columns</p>\n",
       "</div>"
      ],
      "text/plain": [
       "                                             block_tags listen_menu_or_digest\n",
       "2                                       news,topic_menu                  None\n",
       "6     coronavirus,health,malaria,ncd,partner_hch,par...                  None\n",
       "12                                     games,theme_menu           Listen Menu\n",
       "13    ak_digest,albishirinku,ba,complementary_feedin...                  None\n",
       "20    2_0,ba,coronavirus,covid_digest,health,km,part...         Listen Digest\n",
       "...                                                 ...                   ...\n",
       "9995                                      ag,theme_menu           Listen Menu\n",
       "9996                                ag,beans,topic_menu           Listen Menu\n",
       "9997                                      ag,theme_menu                  None\n",
       "9998                                      ag,theme_menu           Listen Menu\n",
       "9999                               ag,banana,topic_menu           Listen Menu\n",
       "\n",
       "[2346 rows x 2 columns]"
      ]
     },
     "execution_count": 94,
     "metadata": {},
     "output_type": "execute_result"
    }
   ],
   "source": [
    "#filter where block_tags contains 'menu' or 'digest' and listen_menu_or_digest is 'Listen Menu' or 'Listen Digest'\n",
    "test_df = test_df[(test_df['block_tags'].str.contains('menu')) | (test_df['block_tags'].str.contains('digest'))]\n",
    "\n",
    "test_df[['block_tags', 'listen_menu_or_digest']]"
   ]
  },
  {
   "cell_type": "code",
   "execution_count": 95,
   "metadata": {},
   "outputs": [
    {
     "data": {
      "text/plain": [
       "Index(['call_date', 'dl_global_created_at', 'block_interaction_id', 'call_id',\n",
       "       'subscriber_id', 'block_global_created_at', 'block_entry_at', 'js_key',\n",
       "       'tree_version_set_id', 'call_started', 'call_ended',\n",
       "       'duration_listened_minutes', 'duration_listened_seconds', 'region',\n",
       "       'region_name', 'organization_id', 'organization_country',\n",
       "       'block_audio_percent_listened', 'km_block_reached', 'km_block_listened',\n",
       "       'listener', 'listen_menu_or_digest', 'block_title', 'block_tags',\n",
       "       'block_theme', 'block_topic', 'age', 'gender', 'location',\n",
       "       'location_level_2', 'opt_in', 'subscriber_pereferred_language',\n",
       "       'registered_demographic_info', 'rural_or_urban', 'phone_type',\n",
       "       'education_level', 'income_source', 'airtime_expense',\n",
       "       'highest_expense_area', 'data_usage_consent', 'new_listener_ever',\n",
       "       'new_listener_year', 'new_caller_ever', 'new_caller_year'],\n",
       "      dtype='object')"
      ]
     },
     "execution_count": 95,
     "metadata": {},
     "output_type": "execute_result"
    }
   ],
   "source": [
    "test_df.columns"
   ]
  },
  {
   "cell_type": "markdown",
   "metadata": {},
   "source": [
    "are there multiple entries for a call ID\n",
    "\n",
    "\n",
    "IF NOT\n",
    "\n",
    "multiple columns per call_id\n",
    "\n",
    "is there a progression in the block codes\n",
    "\n",
    "if any longer than one, it got out of a menu\n",
    "\n",
    "check against menu_digest column\n"
   ]
  },
  {
   "cell_type": "code",
   "execution_count": 96,
   "metadata": {},
   "outputs": [
    {
     "data": {
      "text/html": [
       "<div>\n",
       "<style scoped>\n",
       "    .dataframe tbody tr th:only-of-type {\n",
       "        vertical-align: middle;\n",
       "    }\n",
       "\n",
       "    .dataframe tbody tr th {\n",
       "        vertical-align: top;\n",
       "    }\n",
       "\n",
       "    .dataframe thead th {\n",
       "        text-align: right;\n",
       "    }\n",
       "</style>\n",
       "<table border=\"1\" class=\"dataframe\">\n",
       "  <thead>\n",
       "    <tr style=\"text-align: right;\">\n",
       "      <th></th>\n",
       "      <th>call_date</th>\n",
       "      <th>dl_global_created_at</th>\n",
       "      <th>block_interaction_id</th>\n",
       "      <th>call_id</th>\n",
       "      <th>subscriber_id</th>\n",
       "      <th>block_global_created_at</th>\n",
       "      <th>block_entry_at</th>\n",
       "      <th>js_key</th>\n",
       "      <th>tree_version_set_id</th>\n",
       "      <th>call_started</th>\n",
       "      <th>...</th>\n",
       "      <th>phone_type</th>\n",
       "      <th>education_level</th>\n",
       "      <th>income_source</th>\n",
       "      <th>airtime_expense</th>\n",
       "      <th>highest_expense_area</th>\n",
       "      <th>data_usage_consent</th>\n",
       "      <th>new_listener_ever</th>\n",
       "      <th>new_listener_year</th>\n",
       "      <th>new_caller_ever</th>\n",
       "      <th>new_caller_year</th>\n",
       "    </tr>\n",
       "  </thead>\n",
       "  <tbody>\n",
       "    <tr>\n",
       "      <th>2</th>\n",
       "      <td>2022-03-04</td>\n",
       "      <td>2022-03-04 14:14:46+00:00</td>\n",
       "      <td>1346484676604782356</td>\n",
       "      <td>1346484635873894568</td>\n",
       "      <td>798531682041856098</td>\n",
       "      <td>2022-03-04 14:09:25+00:00</td>\n",
       "      <td>2022-03-04 14:09:23+00:00</td>\n",
       "      <td>block_1557800652761_26</td>\n",
       "      <td>20450</td>\n",
       "      <td>2022-03-04 14:09:13+00:00</td>\n",
       "      <td>...</td>\n",
       "      <td>None</td>\n",
       "      <td>None</td>\n",
       "      <td>None</td>\n",
       "      <td>None</td>\n",
       "      <td>None</td>\n",
       "      <td>None</td>\n",
       "      <td>&lt;NA&gt;</td>\n",
       "      <td>&lt;NA&gt;</td>\n",
       "      <td>&lt;NA&gt;</td>\n",
       "      <td>&lt;NA&gt;</td>\n",
       "    </tr>\n",
       "    <tr>\n",
       "      <th>6</th>\n",
       "      <td>2021-02-22</td>\n",
       "      <td>2021-02-22 19:48:37+00:00</td>\n",
       "      <td>1210674565379321488</td>\n",
       "      <td>1210674543967398448</td>\n",
       "      <td>798531682041856097</td>\n",
       "      <td>2021-02-22 19:48:37+00:00</td>\n",
       "      <td>2021-02-22 19:48:29+00:00</td>\n",
       "      <td>block_1599491835246_56</td>\n",
       "      <td>23672</td>\n",
       "      <td>2021-02-22 19:48:24+00:00</td>\n",
       "      <td>...</td>\n",
       "      <td>None</td>\n",
       "      <td>None</td>\n",
       "      <td>None</td>\n",
       "      <td>None</td>\n",
       "      <td>None</td>\n",
       "      <td>None</td>\n",
       "      <td>&lt;NA&gt;</td>\n",
       "      <td>&lt;NA&gt;</td>\n",
       "      <td>&lt;NA&gt;</td>\n",
       "      <td>&lt;NA&gt;</td>\n",
       "    </tr>\n",
       "    <tr>\n",
       "      <th>12</th>\n",
       "      <td>2022-05-08</td>\n",
       "      <td>2022-05-08 16:05:43+00:00</td>\n",
       "      <td>1370068390362185836</td>\n",
       "      <td>1370067895522394304</td>\n",
       "      <td>1357020603919863204</td>\n",
       "      <td>2022-05-08 16:02:50+00:00</td>\n",
       "      <td>2022-05-08 16:02:38+00:00</td>\n",
       "      <td>block_1641245073679_23</td>\n",
       "      <td>40767</td>\n",
       "      <td>2022-05-08 16:00:41+00:00</td>\n",
       "      <td>...</td>\n",
       "      <td>None</td>\n",
       "      <td>None</td>\n",
       "      <td>None</td>\n",
       "      <td>None</td>\n",
       "      <td>None</td>\n",
       "      <td>None</td>\n",
       "      <td>&lt;NA&gt;</td>\n",
       "      <td>&lt;NA&gt;</td>\n",
       "      <td>&lt;NA&gt;</td>\n",
       "      <td>&lt;NA&gt;</td>\n",
       "    </tr>\n",
       "    <tr>\n",
       "      <th>13</th>\n",
       "      <td>2021-10-15</td>\n",
       "      <td>2021-10-15 16:00:52+00:00</td>\n",
       "      <td>1295776962434271848</td>\n",
       "      <td>1295776411810236016</td>\n",
       "      <td>1205107383144516852</td>\n",
       "      <td>2021-10-15 15:58:21+00:00</td>\n",
       "      <td>2021-10-15 15:55:02+00:00</td>\n",
       "      <td>block_1624289235520_37</td>\n",
       "      <td>38209</td>\n",
       "      <td>2021-10-15 15:52:50+00:00</td>\n",
       "      <td>...</td>\n",
       "      <td>None</td>\n",
       "      <td>None</td>\n",
       "      <td>None</td>\n",
       "      <td>None</td>\n",
       "      <td>None</td>\n",
       "      <td>None</td>\n",
       "      <td>&lt;NA&gt;</td>\n",
       "      <td>&lt;NA&gt;</td>\n",
       "      <td>&lt;NA&gt;</td>\n",
       "      <td>&lt;NA&gt;</td>\n",
       "    </tr>\n",
       "    <tr>\n",
       "      <th>20</th>\n",
       "      <td>2022-05-23</td>\n",
       "      <td>2022-05-23 22:23:27+00:00</td>\n",
       "      <td>1375592346456392240</td>\n",
       "      <td>1375584936731837412</td>\n",
       "      <td>887000548082417664</td>\n",
       "      <td>2022-05-23 21:54:36+00:00</td>\n",
       "      <td>2022-05-23 21:52:52+00:00</td>\n",
       "      <td>block_1606292579853_37</td>\n",
       "      <td>43233</td>\n",
       "      <td>2022-05-23 21:23:26+00:00</td>\n",
       "      <td>...</td>\n",
       "      <td>None</td>\n",
       "      <td>None</td>\n",
       "      <td>None</td>\n",
       "      <td>None</td>\n",
       "      <td>None</td>\n",
       "      <td>None</td>\n",
       "      <td>&lt;NA&gt;</td>\n",
       "      <td>&lt;NA&gt;</td>\n",
       "      <td>&lt;NA&gt;</td>\n",
       "      <td>&lt;NA&gt;</td>\n",
       "    </tr>\n",
       "  </tbody>\n",
       "</table>\n",
       "<p>5 rows × 44 columns</p>\n",
       "</div>"
      ],
      "text/plain": [
       "     call_date      dl_global_created_at  block_interaction_id  \\\n",
       "2   2022-03-04 2022-03-04 14:14:46+00:00   1346484676604782356   \n",
       "6   2021-02-22 2021-02-22 19:48:37+00:00   1210674565379321488   \n",
       "12  2022-05-08 2022-05-08 16:05:43+00:00   1370068390362185836   \n",
       "13  2021-10-15 2021-10-15 16:00:52+00:00   1295776962434271848   \n",
       "20  2022-05-23 2022-05-23 22:23:27+00:00   1375592346456392240   \n",
       "\n",
       "                call_id        subscriber_id   block_global_created_at  \\\n",
       "2   1346484635873894568   798531682041856098 2022-03-04 14:09:25+00:00   \n",
       "6   1210674543967398448   798531682041856097 2021-02-22 19:48:37+00:00   \n",
       "12  1370067895522394304  1357020603919863204 2022-05-08 16:02:50+00:00   \n",
       "13  1295776411810236016  1205107383144516852 2021-10-15 15:58:21+00:00   \n",
       "20  1375584936731837412   887000548082417664 2022-05-23 21:54:36+00:00   \n",
       "\n",
       "              block_entry_at                  js_key  tree_version_set_id  \\\n",
       "2  2022-03-04 14:09:23+00:00  block_1557800652761_26                20450   \n",
       "6  2021-02-22 19:48:29+00:00  block_1599491835246_56                23672   \n",
       "12 2022-05-08 16:02:38+00:00  block_1641245073679_23                40767   \n",
       "13 2021-10-15 15:55:02+00:00  block_1624289235520_37                38209   \n",
       "20 2022-05-23 21:52:52+00:00  block_1606292579853_37                43233   \n",
       "\n",
       "                call_started  ... phone_type  education_level  income_source  \\\n",
       "2  2022-03-04 14:09:13+00:00  ...       None             None           None   \n",
       "6  2021-02-22 19:48:24+00:00  ...       None             None           None   \n",
       "12 2022-05-08 16:00:41+00:00  ...       None             None           None   \n",
       "13 2021-10-15 15:52:50+00:00  ...       None             None           None   \n",
       "20 2022-05-23 21:23:26+00:00  ...       None             None           None   \n",
       "\n",
       "   airtime_expense highest_expense_area  data_usage_consent new_listener_ever  \\\n",
       "2             None                 None                None              <NA>   \n",
       "6             None                 None                None              <NA>   \n",
       "12            None                 None                None              <NA>   \n",
       "13            None                 None                None              <NA>   \n",
       "20            None                 None                None              <NA>   \n",
       "\n",
       "    new_listener_year  new_caller_ever  new_caller_year  \n",
       "2                <NA>             <NA>             <NA>  \n",
       "6                <NA>             <NA>             <NA>  \n",
       "12               <NA>             <NA>             <NA>  \n",
       "13               <NA>             <NA>             <NA>  \n",
       "20               <NA>             <NA>             <NA>  \n",
       "\n",
       "[5 rows x 44 columns]"
      ]
     },
     "execution_count": 96,
     "metadata": {},
     "output_type": "execute_result"
    }
   ],
   "source": [
    "test_df.head()"
   ]
  },
  {
   "cell_type": "code",
   "execution_count": 111,
   "metadata": {},
   "outputs": [
    {
     "data": {
      "text/plain": [
       "2344"
      ]
     },
     "execution_count": 111,
     "metadata": {},
     "output_type": "execute_result"
    }
   ],
   "source": [
    "id_ls = (test_df['call_id'].unique()).tolist()\n",
    "len(id_ls)\n"
   ]
  },
  {
   "cell_type": "code",
   "execution_count": 112,
   "metadata": {},
   "outputs": [],
   "source": [
    "id_longer = []\n",
    "for id in id_ls:\n",
    "    temp_df = test_df[test_df['call_id'] == id]\n",
    "    if len(temp_df) > 1:\n",
    "        id_longer.append(id)\n",
    "\n"
   ]
  },
  {
   "cell_type": "code",
   "execution_count": 99,
   "metadata": {},
   "outputs": [
    {
     "data": {
      "text/plain": [
       "Index(['call_date', 'dl_global_created_at', 'block_interaction_id', 'call_id',\n",
       "       'subscriber_id', 'block_global_created_at', 'block_entry_at', 'js_key',\n",
       "       'tree_version_set_id', 'call_started', 'call_ended',\n",
       "       'duration_listened_minutes', 'duration_listened_seconds', 'region',\n",
       "       'region_name', 'organization_id', 'organization_country',\n",
       "       'block_audio_percent_listened', 'km_block_reached', 'km_block_listened',\n",
       "       'listener', 'listen_menu_or_digest', 'block_title', 'block_tags',\n",
       "       'block_theme', 'block_topic', 'age', 'gender', 'location',\n",
       "       'location_level_2', 'opt_in', 'subscriber_pereferred_language',\n",
       "       'registered_demographic_info', 'rural_or_urban', 'phone_type',\n",
       "       'education_level', 'income_source', 'airtime_expense',\n",
       "       'highest_expense_area', 'data_usage_consent', 'new_listener_ever',\n",
       "       'new_listener_year', 'new_caller_ever', 'new_caller_year'],\n",
       "      dtype='object')"
      ]
     },
     "execution_count": 99,
     "metadata": {},
     "output_type": "execute_result"
    }
   ],
   "source": [
    "temp.columns"
   ]
  },
  {
   "cell_type": "code",
   "execution_count": 116,
   "metadata": {},
   "outputs": [
    {
     "data": {
      "text/html": [
       "<div>\n",
       "<style scoped>\n",
       "    .dataframe tbody tr th:only-of-type {\n",
       "        vertical-align: middle;\n",
       "    }\n",
       "\n",
       "    .dataframe tbody tr th {\n",
       "        vertical-align: top;\n",
       "    }\n",
       "\n",
       "    .dataframe thead th {\n",
       "        text-align: right;\n",
       "    }\n",
       "</style>\n",
       "<table border=\"1\" class=\"dataframe\">\n",
       "  <thead>\n",
       "    <tr style=\"text-align: right;\">\n",
       "      <th></th>\n",
       "      <th>call_id</th>\n",
       "      <th>call_started</th>\n",
       "      <th>duration_listened_seconds</th>\n",
       "      <th>block_interaction_id</th>\n",
       "      <th>block_tags</th>\n",
       "      <th>listen_menu_or_digest</th>\n",
       "    </tr>\n",
       "  </thead>\n",
       "  <tbody>\n",
       "    <tr>\n",
       "      <th>4089</th>\n",
       "      <td>1435957954435612756</td>\n",
       "      <td>2022-11-06 11:44:15+00:00</td>\n",
       "      <td>19.0</td>\n",
       "      <td>1435958332493398544</td>\n",
       "      <td>airtelmoney,partner_airtelug,theme_menu,vas</td>\n",
       "      <td>None</td>\n",
       "    </tr>\n",
       "    <tr>\n",
       "      <th>4109</th>\n",
       "      <td>1435957954435612756</td>\n",
       "      <td>2022-11-06 11:44:15+00:00</td>\n",
       "      <td>19.0</td>\n",
       "      <td>1435959087019328688</td>\n",
       "      <td>airtelmoney,partner_airtelug,sub_menu,vas</td>\n",
       "      <td>None</td>\n",
       "    </tr>\n",
       "  </tbody>\n",
       "</table>\n",
       "</div>"
      ],
      "text/plain": [
       "                  call_id              call_started  \\\n",
       "4089  1435957954435612756 2022-11-06 11:44:15+00:00   \n",
       "4109  1435957954435612756 2022-11-06 11:44:15+00:00   \n",
       "\n",
       "      duration_listened_seconds  block_interaction_id  \\\n",
       "4089                       19.0   1435958332493398544   \n",
       "4109                       19.0   1435959087019328688   \n",
       "\n",
       "                                       block_tags listen_menu_or_digest  \n",
       "4089  airtelmoney,partner_airtelug,theme_menu,vas                  None  \n",
       "4109    airtelmoney,partner_airtelug,sub_menu,vas                  None  "
      ]
     },
     "execution_count": 116,
     "metadata": {},
     "output_type": "execute_result"
    }
   ],
   "source": [
    "len(id_longer)\n",
    "\n",
    "#filter test_df for id_longer[0]\n",
    "temp = test_df[test_df['call_id'] == id_longer[1]]\n",
    "\n",
    "#filter temp for 'block_tags' and listen_menu_or_digest\n",
    "temp[['call_id','call_started','duration_listened_seconds','block_interaction_id','block_tags', 'listen_menu_or_digest']]"
   ]
  },
  {
   "cell_type": "code",
   "execution_count": 118,
   "metadata": {},
   "outputs": [
    {
     "data": {
      "text/plain": [
       "Listen Menu      1203\n",
       "Listen Digest     175\n",
       "Name: listen_menu_or_digest, dtype: int64"
      ]
     },
     "execution_count": 118,
     "metadata": {},
     "output_type": "execute_result"
    }
   ],
   "source": [
    "test_df['listen_menu_or_digest'].value_counts()"
   ]
  },
  {
   "cell_type": "code",
   "execution_count": null,
   "metadata": {},
   "outputs": [
    {
     "data": {
      "text/plain": [
       "2412"
      ]
     },
     "execution_count": 52,
     "metadata": {},
     "output_type": "execute_result"
    }
   ],
   "source": [
    "#count of unique call_id where listen_menu_or_digest is NOT 'Listen Menu' or 'Listen Digest'\n",
    "test_df[(test_df['listen_menu_or_digest'] != 'Listen Menu') & (test_df['listen_menu_or_digest'] != 'Listen Digest')]['call_id'].nunique()"
   ]
  },
  {
   "cell_type": "code",
   "execution_count": null,
   "metadata": {},
   "outputs": [
    {
     "data": {
      "text/html": [
       "<div>\n",
       "<style scoped>\n",
       "    .dataframe tbody tr th:only-of-type {\n",
       "        vertical-align: middle;\n",
       "    }\n",
       "\n",
       "    .dataframe tbody tr th {\n",
       "        vertical-align: top;\n",
       "    }\n",
       "\n",
       "    .dataframe thead th {\n",
       "        text-align: right;\n",
       "    }\n",
       "</style>\n",
       "<table border=\"1\" class=\"dataframe\">\n",
       "  <thead>\n",
       "    <tr style=\"text-align: right;\">\n",
       "      <th></th>\n",
       "      <th>f0_</th>\n",
       "    </tr>\n",
       "  </thead>\n",
       "  <tbody>\n",
       "    <tr>\n",
       "      <th>0</th>\n",
       "      <td>155939720</td>\n",
       "    </tr>\n",
       "  </tbody>\n",
       "</table>\n",
       "</div>"
      ],
      "text/plain": [
       "         f0_\n",
       "0  155939720"
      ]
     },
     "execution_count": 70,
     "metadata": {},
     "output_type": "execute_result"
    }
   ],
   "source": [
    "#query for unique call_id where listen_menu_or_digest is NOT 'Listen Menu' or 'Listen Digest'\n",
    "query = \"\"\"\n",
    "SELECT\n",
    "count(DISTINCT(call_id))\n",
    "FROM `viamo-datakind.datadive.321_sessions_1122`\n",
    "WHERE (listen_menu_or_digest != 'Listen Digest') OR (listen_menu_or_digest != 'Listen Menu')\n",
    "\n",
    "\n",
    "\"\"\"\n",
    "multiple_id = pd.read_gbq(query)\n",
    "multiple_id"
   ]
  },
  {
   "cell_type": "code",
   "execution_count": null,
   "metadata": {},
   "outputs": [
    {
     "data": {
      "text/html": [
       "<div>\n",
       "<style scoped>\n",
       "    .dataframe tbody tr th:only-of-type {\n",
       "        vertical-align: middle;\n",
       "    }\n",
       "\n",
       "    .dataframe tbody tr th {\n",
       "        vertical-align: top;\n",
       "    }\n",
       "\n",
       "    .dataframe thead th {\n",
       "        text-align: right;\n",
       "    }\n",
       "</style>\n",
       "<table border=\"1\" class=\"dataframe\">\n",
       "  <thead>\n",
       "    <tr style=\"text-align: right;\">\n",
       "      <th></th>\n",
       "      <th>f0_</th>\n",
       "    </tr>\n",
       "  </thead>\n",
       "  <tbody>\n",
       "    <tr>\n",
       "      <th>0</th>\n",
       "      <td>156875724</td>\n",
       "    </tr>\n",
       "  </tbody>\n",
       "</table>\n",
       "</div>"
      ],
      "text/plain": [
       "         f0_\n",
       "0  156875724"
      ]
     },
     "execution_count": 72,
     "metadata": {},
     "output_type": "execute_result"
    }
   ],
   "source": [
    "query = \"\"\"\n",
    "SELECT\n",
    "count(DISTINCT(call_id))\n",
    "FROM `viamo-datakind.datadive.321_sessions_1122`\n",
    "\"\"\"\n",
    "total_id = pd.read_gbq(query)\n",
    "total_id"
   ]
  },
  {
   "cell_type": "code",
   "execution_count": null,
   "metadata": {},
   "outputs": [
    {
     "data": {
      "text/html": [
       "<div>\n",
       "<style scoped>\n",
       "    .dataframe tbody tr th:only-of-type {\n",
       "        vertical-align: middle;\n",
       "    }\n",
       "\n",
       "    .dataframe tbody tr th {\n",
       "        vertical-align: top;\n",
       "    }\n",
       "\n",
       "    .dataframe thead th {\n",
       "        text-align: right;\n",
       "    }\n",
       "</style>\n",
       "<table border=\"1\" class=\"dataframe\">\n",
       "  <thead>\n",
       "    <tr style=\"text-align: right;\">\n",
       "      <th></th>\n",
       "      <th>f0_</th>\n",
       "    </tr>\n",
       "  </thead>\n",
       "  <tbody>\n",
       "    <tr>\n",
       "      <th>0</th>\n",
       "      <td>0.994033</td>\n",
       "    </tr>\n",
       "  </tbody>\n",
       "</table>\n",
       "</div>"
      ],
      "text/plain": [
       "        f0_\n",
       "0  0.994033"
      ]
     },
     "execution_count": 73,
     "metadata": {},
     "output_type": "execute_result"
    }
   ],
   "source": [
    "multiple_id/total_id"
   ]
  },
  {
   "cell_type": "code",
   "execution_count": 109,
   "metadata": {},
   "outputs": [
    {
     "data": {
      "text/html": [
       "<div>\n",
       "<style scoped>\n",
       "    .dataframe tbody tr th:only-of-type {\n",
       "        vertical-align: middle;\n",
       "    }\n",
       "\n",
       "    .dataframe tbody tr th {\n",
       "        vertical-align: top;\n",
       "    }\n",
       "\n",
       "    .dataframe thead th {\n",
       "        text-align: right;\n",
       "    }\n",
       "</style>\n",
       "<table border=\"1\" class=\"dataframe\">\n",
       "  <thead>\n",
       "    <tr style=\"text-align: right;\">\n",
       "      <th></th>\n",
       "      <th>f0_</th>\n",
       "    </tr>\n",
       "  </thead>\n",
       "  <tbody>\n",
       "    <tr>\n",
       "      <th>0</th>\n",
       "      <td>155939720</td>\n",
       "    </tr>\n",
       "  </tbody>\n",
       "</table>\n",
       "</div>"
      ],
      "text/plain": [
       "         f0_\n",
       "0  155939720"
      ]
     },
     "execution_count": 109,
     "metadata": {},
     "output_type": "execute_result"
    }
   ],
   "source": [
    "#query for unique call_id where listen_menu_or_digest is not in ('Listen Menu', 'Listen Digest')\n",
    "query = \"\"\"\n",
    "SELECT\n",
    "count(DISTINCT(call_id))\n",
    "FROM `viamo-datakind.datadive.321_sessions_1122`\n",
    "WHERE listen_menu_or_digest NOT IN ('Listen Digest') OR listen_menu_or_digest NOT IN ('Listen Menu')\n",
    "\"\"\"\n",
    "\n",
    "multiple_id = pd.read_gbq(query)\n",
    "multiple_id"
   ]
  },
  {
   "cell_type": "code",
   "execution_count": 128,
   "metadata": {},
   "outputs": [
    {
     "data": {
      "text/html": [
       "<div>\n",
       "<style scoped>\n",
       "    .dataframe tbody tr th:only-of-type {\n",
       "        vertical-align: middle;\n",
       "    }\n",
       "\n",
       "    .dataframe tbody tr th {\n",
       "        vertical-align: top;\n",
       "    }\n",
       "\n",
       "    .dataframe thead th {\n",
       "        text-align: right;\n",
       "    }\n",
       "</style>\n",
       "<table border=\"1\" class=\"dataframe\">\n",
       "  <thead>\n",
       "    <tr style=\"text-align: right;\">\n",
       "      <th></th>\n",
       "      <th>listen_menu_or_digest</th>\n",
       "      <th>ids</th>\n",
       "    </tr>\n",
       "  </thead>\n",
       "  <tbody>\n",
       "    <tr>\n",
       "      <th>0</th>\n",
       "      <td>Listen Menu</td>\n",
       "      <td>155919118</td>\n",
       "    </tr>\n",
       "    <tr>\n",
       "      <th>1</th>\n",
       "      <td>None</td>\n",
       "      <td>127093800</td>\n",
       "    </tr>\n",
       "    <tr>\n",
       "      <th>2</th>\n",
       "      <td>Listen Digest</td>\n",
       "      <td>68124991</td>\n",
       "    </tr>\n",
       "  </tbody>\n",
       "</table>\n",
       "</div>"
      ],
      "text/plain": [
       "  listen_menu_or_digest        ids\n",
       "0           Listen Menu  155919118\n",
       "1                  None  127093800\n",
       "2         Listen Digest   68124991"
      ]
     },
     "metadata": {},
     "output_type": "display_data"
    }
   ],
   "source": [
    "query = \"\"\"\n",
    "SELECT listen_menu_or_digest, COUNT(DISTINCT(call_id)) as ids\n",
    "FROM `viamo-datakind.datadive.321_sessions_1122`\n",
    "GROUP BY listen_menu_or_digest\n",
    "\"\"\"\n",
    "multiple_id = pd.read_gbq(query)\n",
    "display(multiple_id)"
   ]
  },
  {
   "cell_type": "code",
   "execution_count": 142,
   "metadata": {},
   "outputs": [
    {
     "data": {
      "text/plain": [
       "0.5672713313787688"
      ]
     },
     "execution_count": 142,
     "metadata": {},
     "output_type": "execute_result"
    }
   ],
   "source": [
    "menu, second_level, digest = multiple_id['ids'].tolist()\n",
    "\n",
    "second_level/(menu+digest)"
   ]
  },
  {
   "cell_type": "code",
   "execution_count": 133,
   "metadata": {},
   "outputs": [
    {
     "data": {
      "text/plain": [
       "array(['Listen Menu', None, 'Listen Digest'], dtype=object)"
      ]
     },
     "execution_count": 133,
     "metadata": {},
     "output_type": "execute_result"
    }
   ],
   "source": [
    "#print values of listen_menu_or_digest\n",
    "multiple_id['listen_menu_or_digest'].unique()"
   ]
  },
  {
   "cell_type": "code",
   "execution_count": 145,
   "metadata": {},
   "outputs": [],
   "source": [
    "#query for where listen_menu_or_digest is Null\n",
    "query = \"\"\"\n",
    "SELECT\n",
    "count(DISTINCT(call_id)) as traversers\n",
    "FROM `viamo-datakind.datadive.321_sessions_1122`\n",
    "WHERE listen_menu_or_digest IS NULL\n",
    "\n",
    "\"\"\"\n",
    "multiple_id = pd.read_gbq(query)"
   ]
  },
  {
   "cell_type": "code",
   "execution_count": 147,
   "metadata": {},
   "outputs": [],
   "source": [
    "#for unique id when listen_menu_or_digest is Null how many are also in 'Listen Menu' or 'Listen Digest'\n",
    "query = \"\"\"\n",
    "SELECT\n",
    "count(DISTINCT(call_id)) as traversers\n",
    "FROM `viamo-datakind.datadive.321_sessions_1122`\n",
    "WHERE listen_menu_or_digest IS NULL\n",
    "AND (listen_menu_or_digest = 'Listen Digest') OR (listen_menu_or_digest = 'Listen Menu')\n",
    "\n",
    "\"\"\"\n",
    "multiple_id = pd.read_gbq(query)"
   ]
  },
  {
   "cell_type": "markdown",
   "metadata": {},
   "source": [
    "select unique call_id where listen_menu_or_digest is null from list of call_id where listen_menu_or_digest is not null"
   ]
  },
  {
   "cell_type": "code",
   "execution_count": 154,
   "metadata": {},
   "outputs": [
    {
     "data": {
      "text/html": [
       "<div>\n",
       "<style scoped>\n",
       "    .dataframe tbody tr th:only-of-type {\n",
       "        vertical-align: middle;\n",
       "    }\n",
       "\n",
       "    .dataframe tbody tr th {\n",
       "        vertical-align: top;\n",
       "    }\n",
       "\n",
       "    .dataframe thead th {\n",
       "        text-align: right;\n",
       "    }\n",
       "</style>\n",
       "<table border=\"1\" class=\"dataframe\">\n",
       "  <thead>\n",
       "    <tr style=\"text-align: right;\">\n",
       "      <th></th>\n",
       "      <th>traversers</th>\n",
       "    </tr>\n",
       "  </thead>\n",
       "  <tbody>\n",
       "    <tr>\n",
       "      <th>0</th>\n",
       "      <td>126157796</td>\n",
       "    </tr>\n",
       "  </tbody>\n",
       "</table>\n",
       "</div>"
      ],
      "text/plain": [
       "   traversers\n",
       "0   126157796"
      ]
     },
     "metadata": {},
     "output_type": "display_data"
    }
   ],
   "source": [
    "#subquery for unique call_id where listen_menu_or_digest is NOT 'Listen Menu' or 'Listen Digest' then from that subquery, count unique call_id where listen_menu_or_digest is Null\n",
    "query = \"\"\"\n",
    "SELECT\n",
    "count(DISTINCT(call_id)) as traversers\n",
    "FROM `viamo-datakind.datadive.321_sessions_1122`\n",
    "WHERE listen_menu_or_digest IS NULL\n",
    "AND call_id IN (SELECT DISTINCT(call_id)\n",
    "FROM `viamo-datakind.datadive.321_sessions_1122`\n",
    "WHERE (listen_menu_or_digest = 'Listen Digest') OR (listen_menu_or_digest = 'Listen Menu'))\n",
    "\n",
    "\"\"\"\n",
    "multiple_id = pd.read_gbq(query)\n",
    "display(multiple_id)"
   ]
  },
  {
   "cell_type": "code",
   "execution_count": 155,
   "metadata": {},
   "outputs": [
    {
     "data": {
      "text/html": [
       "<div>\n",
       "<style scoped>\n",
       "    .dataframe tbody tr th:only-of-type {\n",
       "        vertical-align: middle;\n",
       "    }\n",
       "\n",
       "    .dataframe tbody tr th {\n",
       "        vertical-align: top;\n",
       "    }\n",
       "\n",
       "    .dataframe thead th {\n",
       "        text-align: right;\n",
       "    }\n",
       "</style>\n",
       "<table border=\"1\" class=\"dataframe\">\n",
       "  <thead>\n",
       "    <tr style=\"text-align: right;\">\n",
       "      <th></th>\n",
       "      <th>traversers</th>\n",
       "    </tr>\n",
       "  </thead>\n",
       "  <tbody>\n",
       "    <tr>\n",
       "      <th>0</th>\n",
       "      <td>156875724</td>\n",
       "    </tr>\n",
       "  </tbody>\n",
       "</table>\n",
       "</div>"
      ],
      "text/plain": [
       "   traversers\n",
       "0   156875724"
      ]
     },
     "metadata": {},
     "output_type": "display_data"
    }
   ],
   "source": [
    "#get count of all unique call_id\n",
    "query = \"\"\"\n",
    "SELECT\n",
    "count(DISTINCT(call_id)) unique_call_id\n",
    "FROM `viamo-datakind.datadive.321_sessions_1122`\n",
    "\n",
    "\"\"\"\n",
    "multiple_id = pd.read_gbq(query)\n",
    "display(multiple_id)"
   ]
  },
  {
   "cell_type": "code",
   "execution_count": 156,
   "metadata": {},
   "outputs": [
    {
     "data": {
      "text/plain": [
       "0.8041894104660833"
      ]
     },
     "execution_count": 156,
     "metadata": {},
     "output_type": "execute_result"
    }
   ],
   "source": [
    "126157796 /156875724"
   ]
  }
 ],
 "metadata": {
  "kernelspec": {
   "display_name": "Python 3.10.6 64-bit",
   "language": "python",
   "name": "python3"
  },
  "language_info": {
   "codemirror_mode": {
    "name": "ipython",
    "version": 3
   },
   "file_extension": ".py",
   "mimetype": "text/x-python",
   "name": "python",
   "nbconvert_exporter": "python",
   "pygments_lexer": "ipython3",
   "version": "3.10.6"
  },
  "orig_nbformat": 4,
  "vscode": {
   "interpreter": {
    "hash": "fdd1d70cb17ee18cad87f8985e6b17589bb9c5d830f1717a5a89f4c56bf8a37c"
   }
  }
 },
 "nbformat": 4,
 "nbformat_minor": 2
}
