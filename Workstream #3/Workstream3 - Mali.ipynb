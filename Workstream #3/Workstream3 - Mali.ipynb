{
 "cells": [
  {
   "cell_type": "markdown",
   "id": "ebbf827b",
   "metadata": {},
   "source": [
    "# Table of contents\n",
    "1. [Data Setup](#setup)\n",
    "2. [Block Interactions per Call](#q15)\n",
    "    1. [Among Listeners](#q15_listeners)\n",
    "    2. [Among Non-Listeners](#q15_nonlisteners)\n",
    "    3. [Key Takeaways](#q15_keytakeaways)"
   ]
  },
  {
   "cell_type": "markdown",
   "id": "9e825647",
   "metadata": {},
   "source": [
    "## Data Setup <a name=\"setup\"></a>"
   ]
  },
  {
   "cell_type": "code",
   "execution_count": null,
   "id": "db60f301",
   "metadata": {
    "scrolled": true
   },
   "outputs": [],
   "source": [
    "#packages----\n",
    "#data connection\n",
    "library(bigrquery)\n",
    "library(dbplyr)\n",
    "library(dplyr)\n",
    "library(lubridate) #for date transformations\n",
    "library(ggplot2)\n",
    "library(viridis) #ggplot colour\n",
    "library(ggthemes)\n"
   ]
  },
  {
   "cell_type": "code",
   "execution_count": null,
   "id": "af5976a5",
   "metadata": {
    "scrolled": false
   },
   "outputs": [],
   "source": [
    "#Raw data extraction for Mali----\n",
    "bq_auth(path = \"jsonkey/viamo-datakind-19b12e3872f5.json\")\n",
    "con <- DBI::dbConnect(\n",
    "  bigrquery::bigquery(),\n",
    "  project = \"viamo-datakind\", \n",
    "  dataset = \"datadive\", \n",
    "  bigint = \"integer64\",\n",
    "  billing = \"viamo-datakind\"\n",
    ")\n",
    "con\n",
    "dbListTables(con)\n",
    "\n",
    "raw_data <- tbl(con, \"321_sessions_1122\")\n",
    "data_mali <- raw_data %>% \n",
    "  select(organization_country, \n",
    "         call_id, \n",
    "         call_date,\n",
    "         block_interaction_id, \n",
    "         duration_listened_seconds, \n",
    "         block_audio_percent_listened, \n",
    "         block_title, block_theme, \n",
    "         block_topic, km_block_reached, \n",
    "         km_block_listened,\n",
    "         listener) %>%\n",
    "  #extracting day from date - to check difference btw weekdays/weekends\n",
    "  # mutate(call_day = format(call_date, format = \"%d\")) %>% \n",
    "  #mutate(call_day = wday(call_date, week_start = 1)) %>% \n",
    "  filter(organization_country == \"Mali\") "
   ]
  },
  {
   "cell_type": "markdown",
   "id": "d88a05a7",
   "metadata": {},
   "source": [
    "# Block Interactions per Call <a name=\"q15\"></a>\n",
    "## Among Listeners <a name=\"q15_listeners\"></a>"
   ]
  },
  {
   "cell_type": "code",
   "execution_count": 5,
   "id": "e831c278",
   "metadata": {},
   "outputs": [
    {
     "name": "stderr",
     "output_type": "stream",
     "text": [
      "Warning message:\n",
      "\"\u001b[1m\u001b[22mRemoved 162 rows containing missing values (`position_stack()`).\"\n",
      "Warning message:\n",
      "\"\u001b[1m\u001b[22mRemoved 1 rows containing missing values (`geom_col()`).\"\n"
     ]
    },
    {
     "data": {
      "image/png": "[encoded data removed]",
      "text/plain": [
       "plot without title"
      ]
     },
     "metadata": {
      "image/png": {
       "height": 420,
       "width": 420
      }
     },
     "output_type": "display_data"
    }
   ],
   "source": [
    "#15:Block interaction distn.----\n",
    "#Q15: Within an individual call (call_id), what is the distribution \n",
    "# of the number of block interaction ids that occur within a single call?\n",
    "\n",
    "##Listeners----\n",
    "###Data----\n",
    "#limiting data to the context of the question\n",
    "data_blk_int_list <-  data_mali %>% \n",
    "  filter(!is.null(listener)) %>% \n",
    "  group_by(call_id) %>% \n",
    "  summarise(n_blk_int = n_distinct(block_interaction_id)) %>% \n",
    "  ungroup() %>% \n",
    "  group_by(n_blk_int) %>% \n",
    "  summarise(n_call = n_distinct(call_id)) %>% collect\n",
    "\n",
    "#assigning the right data class\n",
    "data_blk_int_list$p_call <- round(data_blk_int_list$n_call/sum(data_blk_int_list$n_call), 2)\n",
    "data_blk_int_list$n_blk_int <- as.numeric(data_blk_int_list$n_blk_int)\n",
    "data_blk_int_list$n_call <- as.numeric(data_blk_int_list$n_call)\n",
    "\n",
    "###vizualization----\n",
    "#barplot version of hist since data is too huge for the expanded version\n",
    "#for viz - bar highlights\n",
    "data_blk_int_list$bar_highlight <- 0\n",
    "data_blk_int_list$bar_highlight[data_blk_int_list$p_call >= 0.3] <- 1\n",
    "# colours <- c(\"#595959\", \"blue\")\n",
    "\n",
    "plot_blk_int_list <- ggplot(data_blk_int_list, aes(x=n_blk_int, y=n_call)) +\n",
    "  geom_col(aes(fill=bar_highlight)) +\n",
    "  scale_x_continuous(limits = c(0, 35), name = \"Count of Block Interactions\") +\n",
    "  scale_y_continuous(name = \"Count of Calls\") +\n",
    "  ggtitle(\"Block Interactions per Call among Listeners\") +\n",
    "  theme_clean() \n",
    "\n",
    "plot_blk_int_list"
   ]
  },
  {
   "cell_type": "markdown",
   "id": "d6581271",
   "metadata": {},
   "source": [
    "### Key observations: \n",
    "- 39% of the calls have a single block interaction (highlighted in blue)\n",
    "- 31% have 2 block interactions (highlighted in blue)\n",
    "<div class=\"alert alert-block alert-warning\">DATA SANITY CHECK: Maximum block interactions in a single call is 1154 - How probable is this outcome? Does this make sense?\n",
    "</div>"
   ]
  },
  {
   "cell_type": "markdown",
   "id": "0f058d10",
   "metadata": {},
   "source": [
    "## Among Non-Listeners <a name=\"q15_nonlisteners\"></a>"
   ]
  },
  {
   "cell_type": "code",
   "execution_count": 6,
   "id": "64f888b4",
   "metadata": {
    "scrolled": false
   },
   "outputs": [
    {
     "name": "stderr",
     "output_type": "stream",
     "text": [
      "Warning message:\n",
      "\"\u001b[1m\u001b[22mRemoved 180 rows containing missing values (`position_stack()`).\"\n",
      "Warning message:\n",
      "\"\u001b[1m\u001b[22mRemoved 1 rows containing missing values (`geom_col()`).\"\n"
     ]
    },
    {
     "data": {
      "image/png": "[encoded data removed]",
      "text/plain": [
       "plot without title"
      ]
     },
     "metadata": {
      "image/png": {
       "height": 420,
       "width": 420
      }
     },
     "output_type": "display_data"
    }
   ],
   "source": [
    "###Data----\n",
    "#limiting data to the context of the question\n",
    "data_blk_int_nonlist <-  data_mali %>% \n",
    "  filter(is.null(listener)) %>% \n",
    "  group_by(call_id) %>% \n",
    "  summarise(n_blk_int = n_distinct(block_interaction_id)) %>% \n",
    "  ungroup() %>% \n",
    "  group_by(n_blk_int) %>% \n",
    "  summarise(n_call = n_distinct(call_id)) %>% collect\n",
    "\n",
    "#assigning the right data class\n",
    "data_blk_int_nonlist$p_call <- round(data_blk_int_nonlist$n_call/sum(data_blk_int_nonlist$n_call), 2)\n",
    "data_blk_int_nonlist$n_blk_int <- as.numeric(data_blk_int_nonlist$n_blk_int)\n",
    "data_blk_int_nonlist$n_call <- as.numeric(data_blk_int_nonlist$n_call)\n",
    "\n",
    "data_blk_int_nonlist <- data_blk_int_nonlist %>% \n",
    "  arrange(desc(n_call))\n",
    "\n",
    "###vizualization----\n",
    "#barplot version of hist since data is too huge for the expanded version\n",
    "#for viz - bar highlights\n",
    "data_blk_int_nonlist$bar_highlight <- 0\n",
    "data_blk_int_nonlist$bar_highlight[data_blk_int_nonlist$p_call >= 0.1] <- 1\n",
    "# colours <- c(\"#595959\", \"blue\")\n",
    "\n",
    "plot_blk_int_nonlist <- ggplot(data_blk_int_nonlist, aes(x=n_blk_int, y=n_call)) +\n",
    "  geom_col(aes(fill=bar_highlight)) +\n",
    "  scale_x_continuous(limits = c(0, 50), name = \"Count of Block Interactions\") +\n",
    "  scale_y_continuous(name = \"Count of Calls\") +\n",
    "  ggtitle(\"Block Interactions per Call among Non-Listeners\") +\n",
    "  theme_clean() \n",
    "\n",
    "plot_blk_int_nonlist"
   ]
  },
  {
   "cell_type": "markdown",
   "id": "0825a76a",
   "metadata": {},
   "source": [
    "### Key observations: \n",
    "- 74% of the non-listerners have 2-5 block interactions per call (highlighted in blue).\n",
    "    - That is, 26% of non-listerners have 5 block interactions, 23% have 4, 17% have 2 block interactions \n",
    "<div class=\"alert alert-block alert-warning\">DATA SANITY CHECK: Again, the maximum block interactions in a single call is 995 - How probable is this outcome? Does this make sense? </div>\n",
    "\n",
    "\n",
    "## Key Takeaways <a name=\"q15_keytakeaways\"></a>\n",
    "- Interestingly, **Non-listeners have more block interactions per call than listerners.**<br>\n",
    "    - Does this mean that listerers are more accurate with their selections (quick call start -> to value received)? <br>\n",
    "    - Conversely, indicating that non-listeners go through multiple blocks, listening to less than 75% of the audio each time, but fail to be convinced of the value of the platform? <br>\n",
    "   Here, it is worthy to spend some time evaluating the 75% threshold between a listerner & non-listerner. <br>\n",
    "    - How probable is it that callers receive the desired information before listening to 75% of the audio?  <br>\n",
    "    Could this explain the higher number of block interactions among those currently tagged as non-listerners? <br>\n",
    "    <- METRIC DEFINITION RECHEK (parked for later)"
   ]
  },
  {
   "cell_type": "code",
   "execution_count": null,
   "id": "43a40f75",
   "metadata": {},
   "outputs": [],
   "source": []
  }
 ],
 "metadata": {
  "kernelspec": {
   "display_name": "R",
   "language": "R",
   "name": "ir"
  },
  "language_info": {
   "codemirror_mode": "r",
   "file_extension": ".r",
   "mimetype": "text/x-r-source",
   "name": "R",
   "pygments_lexer": "r",
   "version": "4.1.2"
  }
 },
 "nbformat": 4,
 "nbformat_minor": 5
}
