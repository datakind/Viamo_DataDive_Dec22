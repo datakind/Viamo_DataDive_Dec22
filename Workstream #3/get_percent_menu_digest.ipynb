{
 "cells": [
  {
   "cell_type": "markdown",
   "metadata": {},
   "source": [
    "## How many individual calls reach a block of content that is not the digest or menu?\n",
    "\n",
    "by Jack Wright\n",
    "\n",
    "This notebook defines a function that will return the percent of callers from a country that reach a block of content that is not a menu or digest\n",
    "\n"
   ]
  },
  {
   "cell_type": "code",
   "execution_count": 20,
   "metadata": {},
   "outputs": [],
   "source": [
    "# connect to the database using the credentials\n",
    "import os\n",
    "import pandas as pd\n",
    "os.environ['GOOGLE_APPLICATION_CREDENTIALS'] = r'credentials.json'"
   ]
  },
  {
   "cell_type": "code",
   "execution_count": 21,
   "metadata": {},
   "outputs": [],
   "source": [
    "query = \"\"\"\n",
    "SELECT\n",
    "*\n",
    "FROM `viamo-datakind.datadive.321_sessions_1122`\n",
    "\n",
    "ORDER BY RAND()\n",
    "LIMIT 1000\n",
    "\"\"\"\n",
    "\n",
    "test_df = pd.read_gbq(query)"
   ]
  },
  {
   "cell_type": "code",
   "execution_count": 22,
   "metadata": {},
   "outputs": [
    {
     "data": {
      "text/plain": [
       "<AxesSubplot:>"
      ]
     },
     "execution_count": 22,
     "metadata": {},
     "output_type": "execute_result"
    },
    {
     "data": {
      "image/png": "[encoded data removed]",
      "text/plain": [
       "<Figure size 432x288 with 1 Axes>"
      ]
     },
     "metadata": {
      "needs_background": "light"
     },
     "output_type": "display_data"
    }
   ],
   "source": [
    "\n",
    "block_tags = test_df.block_tags.unique()\n",
    "\n",
    "#histogram of top 10 block tags\n",
    "test_df.block_tags.value_counts().head(10).plot(kind='bar')\n"
   ]
  },
  {
   "cell_type": "code",
   "execution_count": 23,
   "metadata": {},
   "outputs": [
    {
     "name": "stdout",
     "output_type": "stream",
     "text": [
      "436    2_0,ba,coronavirus,covid_digest,health,km,part...\n",
      "474    2_0,ba,coronavirus,covid_digest,health,km,part...\n",
      "569    2_0,ba,coronavirus,covid_digest,health,km,part...\n",
      "631    2_0,ak_digest,albishirinku,ba,complementary_fe...\n",
      "633    ba,coronavirus,covid_digest,health,health_dige...\n",
      "649    2_0,ak_digest,albishirinku,ba,drama,health,km,...\n",
      "727    2_0,ak_digest,albishirinku,ba,covid_prevention...\n",
      "Name: block_tags, dtype: object\n"
     ]
    }
   ],
   "source": [
    "#block tags that contain digest or menu\n",
    "digest_menu = test_df[test_df.block_tags.str.contains('digest', case=False)]\n",
    "\n",
    "print(digest_menu['block_tags'])\n"
   ]
  },
  {
   "cell_type": "markdown",
   "metadata": {},
   "source": [
    "my plan is to query the db for a count of calls that contain a digest or menu and then return a percentage. "
   ]
  },
  {
   "cell_type": "code",
   "execution_count": 24,
   "metadata": {},
   "outputs": [],
   "source": [
    "# connect to the database using the credentials\n",
    "import os\n",
    "import pandas as pd\n",
    "os.environ['GOOGLE_APPLICATION_CREDENTIALS'] = r'credentials.json'"
   ]
  },
  {
   "cell_type": "code",
   "execution_count": 25,
   "metadata": {},
   "outputs": [],
   "source": [
    "def menu_digest_percentage(country):\n",
    "    country = '\"'+country+'\"'\n",
    "    query = \"\"\"\n",
    "SELECT\n",
    "count(block_tags) as count\n",
    "FROM `viamo-datakind.datadive.321_sessions_1122`\n",
    "WHERE\n",
    "organization_country = {}\n",
    "AND\n",
    "((block_tags LIKE '%menu%')\n",
    "OR (block_tags LIKE '%digest%'))\n",
    "\n",
    "\"\"\".format(country)\n",
    "    df =pd.read_gbq(query)\n",
    "    md = df['count'].values[0]\n",
    "\n",
    "    query = \"\"\"\n",
    "SELECT\n",
    "count(*) as count\n",
    "FROM `viamo-datakind.datadive.321_sessions_1122`\n",
    "WHERE NOT  block_tags =''\n",
    "AND organization_country = {}\n",
    "\n",
    "\"\"\".format(country)\n",
    "    df =pd.read_gbq(query)\n",
    "    t = df['count'].values[0]\n",
    "    return md/t"
   ]
  },
  {
   "cell_type": "code",
   "execution_count": 26,
   "metadata": {},
   "outputs": [],
   "source": [
    "# connect to the database using the credentials\n",
    "import os\n",
    "import pandas as pd\n",
    "os.environ['GOOGLE_APPLICATION_CREDENTIALS'] = r'credentials.json'\n",
    "\n",
    "uganda = menu_digest_percentage('Uganda')\n",
    "mali = menu_digest_percentage('Mali')\n",
    "nigeria = menu_digest_percentage('Nigeria')"
   ]
  },
  {
   "cell_type": "code",
   "execution_count": 27,
   "metadata": {},
   "outputs": [
    {
     "name": "stdout",
     "output_type": "stream",
     "text": [
      "Uganda:  0.5832817804275146 Mali:  0.6717901850125438 Nigeria:  0.7879801046792891\n"
     ]
    }
   ],
   "source": [
    "print('Uganda: ', 1 - uganda, 'Mali: ', 1 - mali, 'Nigeria: ', 1 - nigeria)"
   ]
  }
 ],
 "metadata": {
  "kernelspec": {
   "display_name": "Python 3.10.6 64-bit",
   "language": "python",
   "name": "python3"
  },
  "language_info": {
   "codemirror_mode": {
    "name": "ipython",
    "version": 3
   },
   "file_extension": ".py",
   "mimetype": "text/x-python",
   "name": "python",
   "nbconvert_exporter": "python",
   "pygments_lexer": "ipython3",
   "version": "3.10.6"
  },
  "orig_nbformat": 4,
  "vscode": {
   "interpreter": {
    "hash": "fdd1d70cb17ee18cad87f8985e6b17589bb9c5d830f1717a5a89f4c56bf8a37c"
   }
  }
 },
 "nbformat": 4,
 "nbformat_minor": 2
}
