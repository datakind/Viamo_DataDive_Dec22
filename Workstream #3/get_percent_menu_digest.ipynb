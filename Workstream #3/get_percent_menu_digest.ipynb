{
 "cells": [
  {
   "cell_type": "markdown",
   "metadata": {},
   "source": [
    "## How many individual calls reach a block of content that is not the digest or menu?\n",
    "\n",
    "by Jack Wright\n",
    "\n",
    "This notebook defines a function that will return the percent of callers from a country that reach a block of content that is not a menu or digest\n",
    "\n",
    "NOTE:\n",
    "\n",
    "the majority of the calls have no tag, it is not a `NULL` it is just an empty string. this needs to be filtered out. "
   ]
  },
  {
   "cell_type": "code",
   "execution_count": 17,
   "metadata": {},
   "outputs": [],
   "source": [
    "# connect to the database using the credentials\n",
    "import os\n",
    "import pandas as pd\n",
    "os.environ['GOOGLE_APPLICATION_CREDENTIALS'] = r'credentials.json'\n",
    "\n"
   ]
  },
  {
   "cell_type": "markdown",
   "metadata": {},
   "source": [
    "## Structure of the `block_tags`\n",
    "\n"
   ]
  },
  {
   "cell_type": "code",
   "execution_count": 18,
   "metadata": {},
   "outputs": [],
   "source": [
    "\n",
    "query = \"\"\"\n",
    "SELECT\n",
    "*\n",
    "FROM `viamo-datakind.datadive.321_sessions_1122`\n",
    "\n",
    "ORDER BY RAND()\n",
    "LIMIT 1000\n",
    "\"\"\"\n",
    "\n",
    "test_df = pd.read_gbq(query)"
   ]
  },
  {
   "cell_type": "code",
   "execution_count": 22,
   "metadata": {},
   "outputs": [
    {
     "data": {
      "text/plain": [
       "<AxesSubplot:>"
      ]
     },
     "execution_count": 22,
     "metadata": {},
     "output_type": "execute_result"
    },
    {
     "data": {
      "image/png": "[encoded data removed]",
      "text/plain": [
       "<Figure size 432x288 with 1 Axes>"
      ]
     },
     "metadata": {
      "needs_background": "light"
     },
     "output_type": "display_data"
    }
   ],
   "source": [
    "\n",
    "block_tags = test_df.block_tags.unique()\n",
    "\n",
    "#histogram of top 10 block tags\n",
    "test_df.block_tags.value_counts().head(10).plot(kind='bar')\n"
   ]
  },
  {
   "cell_type": "code",
   "execution_count": 26,
   "metadata": {},
   "outputs": [
    {
     "name": "stdout",
     "output_type": "stream",
     "text": [
      "['2_0,km' '' 'welcome_menu'\n",
      " '2_0,coronavirus,health,km,malaria,partner_lshtm'\n",
      " '2_0,entreprenuership,financial,km,partner_aecom,partner_rfsa'\n",
      " '2.0,km,news,partner_vision_group' 'kq,partner_hirondelle'\n",
      " 'news,topic_menu' 'family_planning_methods,fp_rh,health,km,partner_psi'\n",
      " '2_0,km,life_skill,partner_rfsa' 'fp_rh,health,km,partner_psi' 'callers'\n",
      " '2_0,km,news,partner_studiotamani' 'health,kq,partner_raes'\n",
      " 'age,registration' 'health,km,malaria,partner_hch,partner_psi'\n",
      " 'km,news,partner_studiotamani' '2_0,financial,km,partner_aecom'\n",
      " 'health,theme_menu' 'ag,maize,topic_menu'\n",
      " '2_0,km,partner_camris,security' '2_0,fp_rh,km'\n",
      " '2_0,ed,km,partner_camris' 'drama,theme_menu'\n",
      " 'fp_rh,health,km,partner_hch'\n",
      " '2_0,health,km,nutrition,partner_hki,partner_rfsa'\n",
      " '2_0,child_labour,child_rights,km,partner_bit,rights'\n",
      " 'callers,lang_selector' '2_0,health,km,nutrition,partner_gret'\n",
      " 'health,partner_raes'\n",
      " '2_0,health,km,nutrition,partner_hki,partner_rfsa,wash'\n",
      " 'coronavirus,kq,kq3,partner_giz,project_callvscorona'\n",
      " 'fp_rh,health,km,partner_psi,self_injections' 'coronavirus,games,km'\n",
      " '2_0,child_labour,child_rights,km,partner_aecom,partner_bit,rights'\n",
      " '2_0,airtelmoney,km,partner_airtelug,vas' 'news,sub_menu'\n",
      " '2_0,health,km,malaria'\n",
      " '2_0,child_labour,child_rights,financial,km,partner_aecom,partner_bit,rights'\n",
      " '2_0,coronavirus,health,km,partner_giz,prevention,project_callvscorona'\n",
      " '2_0,health,km,malaria,partner_psi'\n",
      " 'coronavirus,kq,partner_unicef,vaccine' 'akakunizo,drama,km,partner_pmc'\n",
      " '2_0,km,partner_earth_networks,weather'\n",
      " '2_0,ak_digest,albishirinku,ba,drama,health,km,partner_ba,s02'\n",
      " '2_0,diseases,health,km,lassa_fever_spot_2,lassafever,partner_ba,radio_spot'\n",
      " 'fp_rh,health,injectables,partner_psi,sub_menu'\n",
      " 'health,km,nutrition,partner_gret,partner_hch'\n",
      " '2_0,km,news,partner_vision_fm' 'coronavirus,kq,partner_hirondelle'\n",
      " 'km,partner_earth_networks,weather' 'crc,kq,q.1.2,survey debut filtrage'\n",
      " 'coronavirus,partner_giz,project_callvscorona,r2' 'km'\n",
      " 'coronavirus,km,partner_who,vaccines' 'drama,km,partner_trac_fm'\n",
      " 'fp_rh,health,partner_hch,partner_intrahealth,sub_topic'\n",
      " 'coronavirus,partner_who,sub_menu,vaccinations'\n",
      " 'crc,kq,q.13.9,questionnaire 2 ha'\n",
      " '2_0,ba,coronavirus,covid_digest,health,km,partner_ba'\n",
      " '2_0,counselling,gender,km,partner_oumoudiarra,style_monologue,tradition'\n",
      " '2.0,health,km,partner_fhi,srh'\n",
      " 'gbv,gender,partner_camris,partner_hch,topic_menu'\n",
      " 'coronavirus,kq3,partner_unicef,vaccine'\n",
      " '2_0,did_you_know,km,partner_agr' 'financial,theme_menu' 'km,security'\n",
      " 'partner_earth_networks,sub_menu,weather' 'news,sub_topic' 'health,km'\n",
      " 'km,weather' '2_0,fp_rh,health,injectables,km,partner_psi'\n",
      " 'ed,theme_menu' 'coronavirus,partner_surgo,remerciement2'\n",
      " 'livestock,partner_ba,welcome_menu,zoonose' 'ag,km,rice'\n",
      " 'fp_rh,health,km,maternal,partner_hch,partner_intrahealth,pregnancy,style_monologue'\n",
      " 'health,nutrition,sub_menu' 'health,km,partner_raes' 'topic_menu'\n",
      " 'financial,topic_menu' '2_0,coronavirus,health,km,partner_who,vaccines'\n",
      " 'coronavirus,sub_menu' 'koulikoro' 'dkm,km,news,partner_vision_fm'\n",
      " 'drama,intro,partner_pmc,welcome_menu'\n",
      " 'coronavirus,km,news,partner_hirondelle'\n",
      " 'fp_rh,health,injectables,km,partner_psi'\n",
      " 'fp_rh,health,partner_psi,sub_menu' 'km,nurhi 2'\n",
      " '02,entreprenuership,financial,km,partner_aecom,partner_rfsa'\n",
      " 'albishirinku,ba,partner_ba' 'games,km' 'drama,km,partner_mict_ears'\n",
      " 'sub_menu' '2_0,gender,km'\n",
      " '2_0,diseases,health,km,lassa_fever_spot_1,lassafever,partner_ba,radio_spot'\n",
      " 'gender' 'crc,kq,survey debut filtrage,âge'\n",
      " 'coronavirus,health,malaria,ncd,partner_hch,partner_lshtm,topic_menu'\n",
      " 'coronavirus,kq1,partner_unicef,vaccine' '2_0,airtelmoney,km'\n",
      " 'counselling,gender,km,partner_oumoudiarra,style_monologue,tradition'\n",
      " '2_0,gbv,gender,km,partner_giz,project_callvscorona'\n",
      " 'ak_digest,albishirinku,ba,causes_ari_4,drama,km,partner_ba,s04'\n",
      " 'partner_earth_networks,topic_menu,weather' '2_0,ag,km,partner_magri'\n",
      " '2_0,km,weather' 'coronavirus,partner_who,theme_menu,vaccines'\n",
      " 'civic,topic_menu' 'albarka_fm,km,news' '321_survey,frequent_calls'\n",
      " 'albishirinku,ba,ba_games,partner_ba' '2_0,financial,km,partner_sia'\n",
      " 'fp_rh,health,partner_hch,partner_intrahealth,topic_menu'\n",
      " 'km,livestock,partner_aecom' 'partner_vision_group,theme_menu'\n",
      " 'ag,bananas,sub_menu' 'gender,partner_camris,partner_hch,theme_menu']\n"
     ]
    }
   ],
   "source": []
  },
  {
   "cell_type": "code",
   "execution_count": 28,
   "metadata": {},
   "outputs": [
    {
     "name": "stdout",
     "output_type": "stream",
     "text": [
      "0                                               2_0,km\n",
      "1                                                     \n",
      "2                                         welcome_menu\n",
      "3      2_0,coronavirus,health,km,malaria,partner_lshtm\n",
      "4                                                     \n",
      "                            ...                       \n",
      "995            partner_earth_networks,sub_menu,weather\n",
      "996                                                   \n",
      "997       gender,partner_camris,partner_hch,theme_menu\n",
      "998                                  health,theme_menu\n",
      "999                                       welcome_menu\n",
      "Name: block_tags, Length: 1000, dtype: object\n"
     ]
    }
   ],
   "source": [
    "#block tags that contain digest or menu\n",
    "digest_menu = test_df[test_df.block_tags.str.contains('digest', case=False)]\n",
    "\n",
    "print(digest_menu['block_tags'])\n",
    "\n"
   ]
  },
  {
   "cell_type": "code",
   "execution_count": null,
   "metadata": {},
   "outputs": [],
   "source": []
  },
  {
   "cell_type": "markdown",
   "metadata": {},
   "source": [
    "my plan is to query the db for a count of calls that contain a digest or menu and then return a percentage. "
   ]
  },
  {
   "cell_type": "code",
   "execution_count": null,
   "metadata": {},
   "outputs": [],
   "source": [
    "# connect to the database using the credentials\n",
    "import os\n",
    "import pandas as pd\n",
    "os.environ['GOOGLE_APPLICATION_CREDENTIALS'] = r'credentials.json'\n",
    "\n"
   ]
  },
  {
   "cell_type": "code",
   "execution_count": 13,
   "metadata": {},
   "outputs": [],
   "source": [
    "def menu_digest_percentage(country):\n",
    "    country = '\"'+country+'\"'\n",
    "    query = \"\"\"\n",
    "SELECT\n",
    "count(block_tags) as count\n",
    "FROM `viamo-datakind.datadive.321_sessions_1122`\n",
    "WHERE\n",
    "organization_country = {}\n",
    "AND\n",
    "((block_tags LIKE '%menu%')\n",
    "OR (block_tags LIKE '%digest%'))\n",
    "\n",
    "\"\"\".format(country)\n",
    "    df =pd.read_gbq(query)\n",
    "    md = df['count'].values[0]\n",
    "    query = \"\"\"\n",
    "SELECT\n",
    "count(*) as count\n",
    "FROM `viamo-datakind.datadive.321_sessions_1122`\n",
    "WHERE\n",
    "organization_country = {}\n",
    "\"\"\".format(country)\n",
    "    df =pd.read_gbq(query)\n",
    "    t = df['count'].values[0]\n",
    "    return md/t"
   ]
  },
  {
   "cell_type": "code",
   "execution_count": 14,
   "metadata": {},
   "outputs": [],
   "source": [
    "# connect to the database using the credentials\n",
    "import os\n",
    "import pandas as pd\n",
    "os.environ['GOOGLE_APPLICATION_CREDENTIALS'] = r'credentials.json'\n",
    "\n",
    "uganda = menu_digest_percentage('Uganda')\n",
    "mali = menu_digest_percentage('Mali')\n",
    "nigeria = menu_digest_percentage('Nigeria')"
   ]
  },
  {
   "cell_type": "code",
   "execution_count": 16,
   "metadata": {},
   "outputs": [
    {
     "name": "stdout",
     "output_type": "stream",
     "text": [
      "Uganda:  0.8243427508042946 Mali:  0.8125000766747352 Nigeria:  0.8738774791449566\n"
     ]
    }
   ],
   "source": [
    "print('Uganda: ', 1 - uganda, 'Mali: ', 1 - mali, 'Nigeria: ', 1 - nigeria)"
   ]
  }
 ],
 "metadata": {
  "kernelspec": {
   "display_name": "Python 3.10.6 64-bit",
   "language": "python",
   "name": "python3"
  },
  "language_info": {
   "codemirror_mode": {
    "name": "ipython",
    "version": 3
   },
   "file_extension": ".py",
   "mimetype": "text/x-python",
   "name": "python",
   "nbconvert_exporter": "python",
   "pygments_lexer": "ipython3",
   "version": "3.10.6"
  },
  "orig_nbformat": 4,
  "vscode": {
   "interpreter": {
    "hash": "fdd1d70cb17ee18cad87f8985e6b17589bb9c5d830f1717a5a89f4c56bf8a37c"
   }
  }
 },
 "nbformat": 4,
 "nbformat_minor": 2
}
