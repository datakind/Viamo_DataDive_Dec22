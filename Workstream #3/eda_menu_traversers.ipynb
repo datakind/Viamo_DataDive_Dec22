{
 "cells": [
  {
   "cell_type": "markdown",
   "metadata": {},
   "source": [
    "## Exploring block Structure and users that traverse past the menu\n",
    "\n",
    "Jack Wright (Jack.Wright@qc.cuny.edu)\n",
    "\n",
    "below is a query to the viamo database that will return the count of unique `call_id`s (an id given to each unique call) that entered the system through a menu or digest, but traversed beyond them. "
   ]
  },
  {
   "cell_type": "code",
   "execution_count": 9,
   "metadata": {},
   "outputs": [],
   "source": [
    "\n",
    "# connect to the database using the credentials\n",
    "import os\n",
    "import pandas as pd\n",
    "os.environ['GOOGLE_APPLICATION_CREDENTIALS'] = r'credentials.json'\n",
    "\n",
    "\n",
    "query = \"\"\"\n",
    "SELECT\n",
    "count(DISTINCT(call_id)) as traversers\n",
    "FROM `viamo-datakind.datadive.321_sessions_1122`\n",
    "WHERE listen_menu_or_digest IS NULL\n",
    "AND call_id IN (SELECT DISTINCT(call_id)\n",
    "FROM `viamo-datakind.datadive.321_sessions_1122`\n",
    "WHERE (listen_menu_or_digest = 'Listen Digest') OR (listen_menu_or_digest = 'Listen Menu'))\n",
    "\n",
    "\"\"\"\n",
    "multiple_id = pd.read_gbq(query)\n",
    "#get the value of traversers\n",
    "traversers = multiple_id['traversers'][0]"
   ]
  },
  {
   "cell_type": "code",
   "execution_count": 11,
   "metadata": {},
   "outputs": [],
   "source": [
    "# total number of unique IDs\n",
    "\n",
    "query = \"\"\"\n",
    "SELECT\n",
    "count(DISTINCT(call_id)) unique_call_id\n",
    "FROM `viamo-datakind.datadive.321_sessions_1122`\n",
    "\n",
    "\"\"\"\n",
    "unique_id = pd.read_gbq(query)\n",
    "unique_ids = unique_id['unique_call_id'][0]\n",
    "\n"
   ]
  },
  {
   "cell_type": "code",
   "execution_count": 12,
   "metadata": {},
   "outputs": [
    {
     "data": {
      "text/plain": [
       "0.8041894104660833"
      ]
     },
     "execution_count": 12,
     "metadata": {},
     "output_type": "execute_result"
    }
   ],
   "source": [
    "#percent of users who traversed a menu or digest during their call\n",
    "percent_traversers = traversers/unique_ids\n",
    "\n",
    "percent_traversers"
   ]
  },
  {
   "cell_type": "markdown",
   "metadata": {},
   "source": [
    "Further analysis: \n",
    "-What causes these users to traverse?\n",
    "-Is there a subset of super-users?\n",
    "-Are there specific topics that cause users to traverse?\n"
   ]
  }
 ],
 "metadata": {
  "kernelspec": {
   "display_name": "Python 3.10.6 64-bit",
   "language": "python",
   "name": "python3"
  },
  "language_info": {
   "codemirror_mode": {
    "name": "ipython",
    "version": 3
   },
   "file_extension": ".py",
   "mimetype": "text/x-python",
   "name": "python",
   "nbconvert_exporter": "python",
   "pygments_lexer": "ipython3",
   "version": "3.10.6"
  },
  "orig_nbformat": 4,
  "vscode": {
   "interpreter": {
    "hash": "fdd1d70cb17ee18cad87f8985e6b17589bb9c5d830f1717a5a89f4c56bf8a37c"
   }
  }
 },
 "nbformat": 4,
 "nbformat_minor": 2
}
