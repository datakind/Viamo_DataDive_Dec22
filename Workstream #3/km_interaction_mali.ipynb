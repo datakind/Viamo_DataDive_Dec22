{
 "cells": [
  {
   "cell_type": "markdown",
   "id": "9aab8c3e",
   "metadata": {},
   "source": [
    "# KM Interactions in Mali\n",
    "### by Jahnavi G"
   ]
  },
  {
   "cell_type": "markdown",
   "id": "d4bc36f3",
   "metadata": {},
   "source": [
    "# Table of contents\n",
    "<div class=\"alert alert-block alert-danger\">NOTE: The content links don't work on github web (only on local machine). Happy scrolling!</div>\n",
    "\n",
    "1. [Data Setup](#setup)\n",
    "2. [Call Composition](#cc)\n",
    "    1. [Key Observations](#cc_key_obs)"
   ]
  },
  {
   "cell_type": "markdown",
   "id": "50ce52b1",
   "metadata": {},
   "source": [
    "## Data Setup <a name=\"setup\"></a>"
   ]
  },
  {
   "cell_type": "code",
   "execution_count": null,
   "id": "da42178c",
   "metadata": {},
   "outputs": [],
   "source": [
    "#packages----\n",
    "#data connection\n",
    "library(bigrquery)\n",
    "library(dbplyr)\n",
    "library(dplyr)\n",
    "library(lubridate) #for date transformations\n",
    "library(ggplot2)\n",
    "library(viridis) #ggplot colour\n",
    "library(ggthemes)\n",
    "\n",
    "#Raw data extraction for Mali----\n",
    "bq_auth(path = \"jsonkey/viamo-datakind-19b12e3872f5.json\")\n",
    "con <- DBI::dbConnect(\n",
    "  bigrquery::bigquery(),\n",
    "  project = \"viamo-datakind\", \n",
    "  dataset = \"datadive\", \n",
    "  bigint = \"integer64\",\n",
    "  billing = \"viamo-datakind\"\n",
    ")\n",
    "con\n",
    "dbListTables(con)\n",
    "\n",
    "raw_data <- tbl(con, \"321_sessions_1122\")\n",
    "data_mali <- raw_data %>% \n",
    "  select(organization_country, \n",
    "         call_id, \n",
    "         call_date,\n",
    "         block_interaction_id, \n",
    "         duration_listened_seconds, \n",
    "         block_audio_percent_listened, \n",
    "         block_title, block_theme, \n",
    "         block_topic, km_block_reached, \n",
    "         km_block_listened,\n",
    "         km_block_reached,\n",
    "         listener) %>%\n",
    "  #extracting day from date - to check difference btw weekdays/weekends\n",
    "  # mutate(call_day = format(call_date, format = \"%d\")) %>% \n",
    "  #mutate(call_day = wday(call_date, week_start = 1)) %>% \n",
    "  filter(organization_country == \"Mali\")"
   ]
  },
  {
   "cell_type": "markdown",
   "id": "f2e20a13",
   "metadata": {},
   "source": [
    "## Call Composition <a name=\"cc\"></a>\n",
    "### Proportion of KMs:other blocks per call"
   ]
  },
  {
   "cell_type": "code",
   "execution_count": 2,
   "id": "3652fdf1",
   "metadata": {},
   "outputs": [
    {
     "name": "stderr",
     "output_type": "stream",
     "text": [
      "\u001b[1m\u001b[22m`summarise()` has grouped output by \u001b[34m\"n_km_int\"\u001b[39m. You can override using the `.groups` argument.\n",
      "Warning message:\n",
      "\"\u001b[1m\u001b[22mRemoved 5620 rows containing missing values (`position_stack()`).\"\n",
      "Warning message:\n",
      "\"\u001b[1m\u001b[22mRemoved 41 rows containing missing values (`geom_col()`).\"\n"
     ]
    },
    {
     "data": {
      "image/png": "[encoded data removed]",
      "text/plain": [
       "plot without title"
      ]
     },
     "metadata": {
      "image/png": {
       "height": 420,
       "width": 420
      }
     },
     "output_type": "display_data"
    }
   ],
   "source": [
    "#Q15: Within an individual call (call_id), what is the distribution \n",
    "# of the number of KMs that occur within a single call?\n",
    "\n",
    "#KM:non-KM interactions among callers\n",
    "data <-  data_mali %>% \n",
    "  mutate(is_km = not(is.null(km_block_reached))) %>% #adding Boolean field for km/non-km\n",
    "  group_by(call_id) %>% \n",
    "  summarise(n_km_int = n_distinct(block_interaction_id[is_km]), #km blocks\n",
    "            n_nonkm_int = n_distinct(block_interaction_id[not(is_km)])) %>%  #non-km blocks\n",
    "  ungroup() %>% \n",
    "  group_by(n_km_int, n_nonkm_int) %>% \n",
    "  summarise(n_call = n_distinct(call_id)) %>% collect\n",
    "\n",
    "data <- as.data.frame(data)\n",
    "\n",
    "#assigning the right data class\n",
    "data$n_km_int <- as.numeric(data$n_km_int)\n",
    "data$n_nonkm_int <- as.numeric(data$n_nonkm_int)\n",
    "data$n_call <- as.numeric(data$n_call)\n",
    "\n",
    "#adding proportions\n",
    "data$total_blk_int <- data$n_km_int + data$n_nonkm_int\n",
    "data$p_km_int <- round(data$n_km_int*100/data$total_blk_int, 0)\n",
    "data$p_nonkm_int <- 100-data$p_km_int\n",
    "data$km_int_higher <- data$p_km_int > data$p_nonkm_int #where propn of KMs is > non-KM blocks\n",
    "\n",
    "###vizualization----\n",
    "#barplot version of hist since data is too huge for the expanded version\n",
    "plot_blk_int <- ggplot(data, aes(x=total_blk_int, y=n_call)) +\n",
    "  geom_col() +\n",
    "  scale_x_continuous(limits = c(0, 40), name = \"Count of Block Interactions\") +\n",
    "  scale_y_continuous(name = \"Count of Calls\") +\n",
    "  ggtitle(\"Block Interactions per Call| TRUE = more KMs in call than other blocks\") +\n",
    "  theme_clean() +\n",
    "  facet_wrap(~km_int_higher, nrow=1, \n",
    "             labeller = label_both)\n",
    "\n",
    "plot_blk_int  "
   ]
  },
  {
   "cell_type": "markdown",
   "id": "dd127206",
   "metadata": {},
   "source": [
    "#### Key Observations <a name=\"cc_key_obs\"></a>\n",
    "- Most calls have a greater proportion of other blocks than KMs. This is expected since there are far greater number of blocks that a user may interact with before arriving at a KM. \n",
    "- More interestingly, **24% of the calls have 0 Key Messages.**\n",
    "- **Conversely, 12% of the calls have a greater proportion of KMs than other blocks.** <br>\n",
    "It will be interesting to dig further into the block content of these 2 sets of calls - \n",
    "    - **What sets these calls apart?**\n",
    "    - **Are the calls with a higher proportion of KMs consolidated around a particular date?**\n",
    "    - **How can we increase the frequency of calls with higher proportion of KMs?**"
   ]
  }
 ],
 "metadata": {
  "kernelspec": {
   "display_name": "R",
   "language": "R",
   "name": "ir"
  },
  "language_info": {
   "codemirror_mode": "r",
   "file_extension": ".r",
   "mimetype": "text/x-r-source",
   "name": "R",
   "pygments_lexer": "r",
   "version": "4.1.2"
  }
 },
 "nbformat": 4,
 "nbformat_minor": 5
}
