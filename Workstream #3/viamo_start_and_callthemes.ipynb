{
 "cells": [
  {
   "cell_type": "markdown",
   "id": "f1f67665",
   "metadata": {},
   "source": [
    "## Workstream3\n",
    "\n",
    "### Tanvi Arora\n",
    "\n",
    "**This notebook has basic code for startups, query to fetch random data for analysis. But can be modified**"
   ]
  },
  {
   "cell_type": "code",
   "execution_count": 72,
   "id": "9db81ad7",
   "metadata": {},
   "outputs": [],
   "source": [
    "import os\n",
    "import pandas as pd\n",
    "import numpy as np\n",
    "\n",
    "# Library to suppress warnings or deprecation notes\n",
    "import warnings\n",
    "warnings.filterwarnings(\"ignore\")\n",
    "\n",
    "# set option to view all columns\n",
    "pd.set_option('display.max_columns', None)"
   ]
  },
  {
   "cell_type": "code",
   "execution_count": null,
   "id": "b5ee9947",
   "metadata": {},
   "outputs": [],
   "source": [
    "#credentials file obtained from datakind team\n",
    "GOOGLE_APPLICATION_CREDENTIALS=os.getenv(\"GOOGLE_APPLICATION_CREDENTIALS\")\n",
    "GOOGLE_APPLICATION_CREDENTIALS"
   ]
  },
  {
   "cell_type": "markdown",
   "id": "1a79090e",
   "metadata": {},
   "source": [
    "### Data from viamo"
   ]
  },
  {
   "cell_type": "code",
   "execution_count": 5,
   "id": "19132377",
   "metadata": {},
   "outputs": [],
   "source": [
    "from google.cloud import bigquery\n",
    "bigquery_client=bigquery.Client()"
   ]
  },
  {
   "cell_type": "code",
   "execution_count": 44,
   "id": "9c7d5a90",
   "metadata": {},
   "outputs": [
    {
     "data": {
      "text/plain": [
       "\"WITH random_calls AS (select distinct(call_id) from `viamo-datakind.datadive.321_sessions_1122` WHERE  organization_country='Uganda' and call_date >= '2022-01-01' order by rand() limit 25000) SELECT * FROM `viamo-datakind.datadive.321_sessions_1122` WHERE call_id IN (SELECT call_id FROM random_calls)\""
      ]
     },
     "execution_count": 44,
     "metadata": {},
     "output_type": "execute_result"
    }
   ],
   "source": [
    "#sample data\n",
    "'''\n",
    "organization_country : country for which data is to be fetched. \n",
    "min_call_date :  the data is fetched from this date onwards\n",
    "sample_count : limit your sample count. Note - this limits the sample of calls and not records. This query ensures all the records for a sample call are selected\n",
    "'''\n",
    "organization_country='Uganda'\n",
    "min_call_date = '2022-01-01'\n",
    "sample_count = 25000\n",
    "\n",
    "query_str=f\"\"\"WITH random_calls AS (select distinct(call_id) from `viamo-datakind.datadive.321_sessions_1122` WHERE  organization_country='{organization_country}' and call_date >= '{min_call_date}' order by rand() limit {sample_count}) SELECT * FROM `viamo-datakind.datadive.321_sessions_1122` WHERE call_id IN (SELECT call_id FROM random_calls)\"\"\"\n",
    "query_str"
   ]
  },
  {
   "cell_type": "code",
   "execution_count": 45,
   "id": "6ad8f63e",
   "metadata": {},
   "outputs": [],
   "source": [
    "data_df = pd.read_gbq(query_str)"
   ]
  },
  {
   "cell_type": "code",
   "execution_count": null,
   "id": "c02574e9",
   "metadata": {},
   "outputs": [],
   "source": [
    "##Backup data\n",
    "\n",
    "orig_data_df=data_df.copy()\n",
    "data_df.to_csv('uganda_25K_calls_sample_2022.csv',index=False)"
   ]
  },
  {
   "cell_type": "markdown",
   "id": "4cc81778",
   "metadata": {},
   "source": [
    "#### Basic statistics about data"
   ]
  },
  {
   "cell_type": "code",
   "execution_count": 46,
   "id": "556064a1",
   "metadata": {},
   "outputs": [
    {
     "data": {
      "text/plain": [
       "(173322, 44)"
      ]
     },
     "execution_count": 46,
     "metadata": {},
     "output_type": "execute_result"
    }
   ],
   "source": [
    "data_df.shape"
   ]
  },
  {
   "cell_type": "markdown",
   "id": "253addf2",
   "metadata": {},
   "source": [
    "**173K records obtained for 25K calls, indicates many-to-one relationship between calls and records. Each record represents a block. 1 call can have 1 or more blocks.**"
   ]
  },
  {
   "cell_type": "code",
   "execution_count": 47,
   "id": "9ea5789a",
   "metadata": {},
   "outputs": [
    {
     "name": "stdout",
     "output_type": "stream",
     "text": [
      "<class 'pandas.core.frame.DataFrame'>\n",
      "RangeIndex: 173322 entries, 0 to 173321\n",
      "Data columns (total 44 columns):\n",
      " #   Column                          Non-Null Count   Dtype              \n",
      "---  ------                          --------------   -----              \n",
      " 0   call_date                       173322 non-null  dbdate             \n",
      " 1   dl_global_created_at            173322 non-null  datetime64[ns, UTC]\n",
      " 2   block_interaction_id            173322 non-null  Int64              \n",
      " 3   call_id                         173322 non-null  Int64              \n",
      " 4   subscriber_id                   173322 non-null  Int64              \n",
      " 5   block_global_created_at         173322 non-null  datetime64[ns, UTC]\n",
      " 6   block_entry_at                  173322 non-null  datetime64[ns, UTC]\n",
      " 7   js_key                          173322 non-null  object             \n",
      " 8   tree_version_set_id             173322 non-null  Int64              \n",
      " 9   call_started                    173322 non-null  datetime64[ns, UTC]\n",
      " 10  call_ended                      173322 non-null  datetime64[ns, UTC]\n",
      " 11  duration_listened_minutes       163892 non-null  float64            \n",
      " 12  duration_listened_seconds       163892 non-null  float64            \n",
      " 13  region                          173322 non-null  object             \n",
      " 14  region_name                     173322 non-null  object             \n",
      " 15  organization_id                 173322 non-null  Int64              \n",
      " 16  organization_country            173322 non-null  object             \n",
      " 17  block_audio_percent_listened    163892 non-null  float64            \n",
      " 18  km_block_reached                39285 non-null   Int64              \n",
      " 19  km_block_listened               30692 non-null   Int64              \n",
      " 20  listener                        30692 non-null   Int64              \n",
      " 21  listen_menu_or_digest           135050 non-null  object             \n",
      " 22  block_title                     142529 non-null  object             \n",
      " 23  block_tags                      173322 non-null  object             \n",
      " 24  block_theme                     173322 non-null  object             \n",
      " 25  block_topic                     173322 non-null  object             \n",
      " 26  age                             115623 non-null  object             \n",
      " 27  gender                          117385 non-null  object             \n",
      " 28  location                        109098 non-null  object             \n",
      " 29  location_level_2                0 non-null       object             \n",
      " 30  opt_in                          25998 non-null   object             \n",
      " 31  subscriber_pereferred_language  161869 non-null  object             \n",
      " 32  registered_demographic_info     106690 non-null  Int64              \n",
      " 33  rural_or_urban                  0 non-null       object             \n",
      " 34  phone_type                      0 non-null       object             \n",
      " 35  education_level                 0 non-null       object             \n",
      " 36  income_source                   0 non-null       object             \n",
      " 37  airtime_expense                 0 non-null       object             \n",
      " 38  highest_expense_area            0 non-null       object             \n",
      " 39  data_usage_consent              0 non-null       object             \n",
      " 40  new_listener_ever               11483 non-null   Int64              \n",
      " 41  new_listener_year               18014 non-null   Int64              \n",
      " 42  new_caller_ever                 7059 non-null    Int64              \n",
      " 43  new_caller_year                 15542 non-null   Int64              \n",
      "dtypes: Int64(13), datetime64[ns, UTC](5), dbdate(1), float64(3), object(22)\n",
      "memory usage: 60.3+ MB\n"
     ]
    }
   ],
   "source": [
    "data_df.info()"
   ]
  },
  {
   "cell_type": "markdown",
   "id": "41e2bddb",
   "metadata": {},
   "source": [
    "**Data-Dictionary** [here](https://docs.google.com/spreadsheets/d/1QRJzAj0EB05CF7qmuy1VZ1Ivsa8me3UeKrKgRNeijaM/edit?usp=sharing)"
   ]
  },
  {
   "cell_type": "markdown",
   "id": "619cc0fb",
   "metadata": {},
   "source": [
    "call_date : date on which call was made.  \n",
    "block_interaction_id : primary key. Represents a block entry.  \n",
    "call_id : is an individual call. 1 call can have 1 or more blocks.   \n",
    "subscriber_id : id for the caller. Can be used to identify patterns of call a caller makes.  "
   ]
  },
  {
   "cell_type": "markdown",
   "id": "acc4993e",
   "metadata": {},
   "source": [
    "#### Sample data"
   ]
  },
  {
   "cell_type": "code",
   "execution_count": null,
   "id": "207126cf",
   "metadata": {},
   "outputs": [],
   "source": [
    "data_df.head(30)"
   ]
  },
  {
   "cell_type": "markdown",
   "id": "165db58a",
   "metadata": {},
   "source": [
    "### Workstream#3 :\n",
    "\n",
    "3 - How many individual calls end at the menu block? Is that the only block accessed in those calls?  \n",
    "4 - How many individual calls end at the digest block? Is that the only block accessed in those calls?\n",
    "\n",
    "\n",
    "To begin answering above question we need to know which block is the last block of the call.Below is some analysis for it"
   ]
  },
  {
   "cell_type": "code",
   "execution_count": 52,
   "id": "ecb91c6f",
   "metadata": {},
   "outputs": [
    {
     "data": {
      "text/html": [
       "<div>\n",
       "<style scoped>\n",
       "    .dataframe tbody tr th:only-of-type {\n",
       "        vertical-align: middle;\n",
       "    }\n",
       "\n",
       "    .dataframe tbody tr th {\n",
       "        vertical-align: top;\n",
       "    }\n",
       "\n",
       "    .dataframe thead th {\n",
       "        text-align: right;\n",
       "    }\n",
       "</style>\n",
       "<table border=\"1\" class=\"dataframe\">\n",
       "  <thead>\n",
       "    <tr style=\"text-align: right;\">\n",
       "      <th></th>\n",
       "      <th>call_id</th>\n",
       "      <th>block_interaction_id</th>\n",
       "    </tr>\n",
       "  </thead>\n",
       "  <tbody>\n",
       "    <tr>\n",
       "      <th>0</th>\n",
       "      <td>1323858875531135168</td>\n",
       "      <td>10</td>\n",
       "    </tr>\n",
       "    <tr>\n",
       "      <th>1</th>\n",
       "      <td>1323860291012267184</td>\n",
       "      <td>3</td>\n",
       "    </tr>\n",
       "    <tr>\n",
       "      <th>2</th>\n",
       "      <td>1323867992417109448</td>\n",
       "      <td>7</td>\n",
       "    </tr>\n",
       "    <tr>\n",
       "      <th>3</th>\n",
       "      <td>1323872643887663024</td>\n",
       "      <td>9</td>\n",
       "    </tr>\n",
       "    <tr>\n",
       "      <th>4</th>\n",
       "      <td>1323873895543473368</td>\n",
       "      <td>12</td>\n",
       "    </tr>\n",
       "    <tr>\n",
       "      <th>...</th>\n",
       "      <td>...</td>\n",
       "      <td>...</td>\n",
       "    </tr>\n",
       "    <tr>\n",
       "      <th>24995</th>\n",
       "      <td>1441513275946175444</td>\n",
       "      <td>4</td>\n",
       "    </tr>\n",
       "    <tr>\n",
       "      <th>24996</th>\n",
       "      <td>1441514351311195940</td>\n",
       "      <td>3</td>\n",
       "    </tr>\n",
       "    <tr>\n",
       "      <th>24997</th>\n",
       "      <td>1441516847324727908</td>\n",
       "      <td>13</td>\n",
       "    </tr>\n",
       "    <tr>\n",
       "      <th>24998</th>\n",
       "      <td>1441520677680582332</td>\n",
       "      <td>4</td>\n",
       "    </tr>\n",
       "    <tr>\n",
       "      <th>24999</th>\n",
       "      <td>1441525449401830768</td>\n",
       "      <td>3</td>\n",
       "    </tr>\n",
       "  </tbody>\n",
       "</table>\n",
       "<p>23172 rows × 2 columns</p>\n",
       "</div>"
      ],
      "text/plain": [
       "                   call_id  block_interaction_id\n",
       "0      1323858875531135168                    10\n",
       "1      1323860291012267184                     3\n",
       "2      1323867992417109448                     7\n",
       "3      1323872643887663024                     9\n",
       "4      1323873895543473368                    12\n",
       "...                    ...                   ...\n",
       "24995  1441513275946175444                     4\n",
       "24996  1441514351311195940                     3\n",
       "24997  1441516847324727908                    13\n",
       "24998  1441520677680582332                     4\n",
       "24999  1441525449401830768                     3\n",
       "\n",
       "[23172 rows x 2 columns]"
      ]
     },
     "execution_count": 52,
     "metadata": {},
     "output_type": "execute_result"
    }
   ],
   "source": [
    "#Analyze last block for a call logic\n",
    "'''\n",
    "logic is to look into calls with multiple blocks\n",
    "blocks_per_call_df1 : count of blocks per call\n",
    "multiple_blocks_per_call_df1 : call_id (calls) with multiple blocks\n",
    "'''\n",
    "#get call_ids with multiple blocks\n",
    "blocks_per_call_df1=data_df.groupby(['call_id'],as_index=False).agg({\"block_interaction_id\":\"count\"})\n",
    "#blocks_per_call_df1\n",
    "multiple_blocks_per_call_df1 = blocks_per_call_df1.query('block_interaction_id>1')\n",
    "multiple_blocks_per_call_df1"
   ]
  },
  {
   "cell_type": "code",
   "execution_count": 53,
   "id": "e6bd381c",
   "metadata": {},
   "outputs": [
    {
     "name": "stdout",
     "output_type": "stream",
     "text": [
      "percent of calls with multiple blocks : 92.688\n"
     ]
    }
   ],
   "source": [
    "num_calls_multiple_blocks=(len(multiple_blocks_per_call_df1)/len(blocks_per_call_df1))*100\n",
    "print(\"percent of calls with multiple blocks :\",num_calls_multiple_blocks)"
   ]
  },
  {
   "cell_type": "markdown",
   "id": "d23facea",
   "metadata": {},
   "source": [
    "**From the sample obtained, 92.7% of calls had more than 1 block**"
   ]
  },
  {
   "cell_type": "code",
   "execution_count": 54,
   "id": "78d008da",
   "metadata": {},
   "outputs": [
    {
     "data": {
      "text/plain": [
       "(173322, 46)"
      ]
     },
     "execution_count": 54,
     "metadata": {},
     "output_type": "execute_result"
    }
   ],
   "source": [
    "# get call records with multiple blocks\n",
    "'''\n",
    "multiple_blocks_per_call_df1['marker']==1 indicates the call has multiple blocks. join this to the original data\n",
    "'''\n",
    "multiple_blocks_per_call_df1['marker']=1\n",
    "joined_calls_records_multiple_blocks_df1=pd.merge(data_df,multiple_blocks_per_call_df1,on=['call_id'],how='left')\n",
    "joined_calls_records_multiple_blocks_df1.shape"
   ]
  },
  {
   "cell_type": "code",
   "execution_count": 57,
   "id": "75d6a3c8",
   "metadata": {},
   "outputs": [],
   "source": [
    "'''\n",
    "calls_records_multiple_blocks_df1 : is the original data with additional columns marker, which indicates the record \n",
    "                                    belongs to a block within a call that has multiple blocks.\n",
    "block_interaction_id_x : block_interaction_id of original data\n",
    "block_interaction_id_y : count of blocks for the call\n",
    "\n",
    "'''\n",
    "calls_records_multiple_blocks_df1=joined_calls_records_multiple_blocks_df1.query('marker==1').sort_values(by=['call_id','block_global_created_at'])\n"
   ]
  },
  {
   "cell_type": "code",
   "execution_count": null,
   "id": "f58faf67",
   "metadata": {},
   "outputs": [],
   "source": [
    "calls_records_multiple_blocks_df1.head(50)"
   ]
  },
  {
   "cell_type": "code",
   "execution_count": 59,
   "id": "c2297258",
   "metadata": {},
   "outputs": [],
   "source": [
    "## how many calls with single blocks\n",
    "calls_records_single_blocks_df1=joined_calls_records_multiple_blocks_df1.query('marker!=1').sort_values(by=['call_id','block_global_created_at'])\n"
   ]
  },
  {
   "cell_type": "code",
   "execution_count": 60,
   "id": "69d961dd",
   "metadata": {},
   "outputs": [
    {
     "data": {
      "text/plain": [
       "(1828, 46)"
      ]
     },
     "execution_count": 60,
     "metadata": {},
     "output_type": "execute_result"
    }
   ],
   "source": [
    "calls_records_single_blocks_df1.shape"
   ]
  },
  {
   "cell_type": "code",
   "execution_count": null,
   "id": "7ca9a277",
   "metadata": {},
   "outputs": [],
   "source": [
    "calls_records_single_blocks_df1.head(30)"
   ]
  },
  {
   "cell_type": "code",
   "execution_count": 108,
   "id": "5d715af1",
   "metadata": {},
   "outputs": [
    {
     "data": {
      "text/plain": [
       "array(['', 'games', 'health', 'ag'], dtype=object)"
      ]
     },
     "execution_count": 108,
     "metadata": {},
     "output_type": "execute_result"
    }
   ],
   "source": [
    "calls_records_single_blocks_df1['block_theme'].unique()"
   ]
  },
  {
   "cell_type": "markdown",
   "id": "8d1fbe6c",
   "metadata": {},
   "source": [
    "One may think single block calls may have just ended and not been utilized. but some of the records show data in block_theme and block_topic, which indicates this was not a blank call."
   ]
  },
  {
   "cell_type": "markdown",
   "id": "8385cc13",
   "metadata": {},
   "source": [
    "#### Logic to identify last block of a call\n",
    "When you analyze the data of a call with multiple blocks you notice that 1 of the record has  \n",
    "\n",
    "block_global_created_at=call_ended  \n",
    "\n",
    "Validated the same information with calls with single blocks.   \n",
    "Hence we can safely say that the block with **\"block_global_created_at=call_ended\"** is the last block of the call, irrespective of the call having 1 or more blocks.  "
   ]
  },
  {
   "cell_type": "code",
   "execution_count": null,
   "id": "2069e70a",
   "metadata": {},
   "outputs": [],
   "source": [
    "# get the last blocks per call\n",
    "\n",
    "last_block_call_df=joined_calls_records_multiple_blocks_df1.query('block_global_created_at==call_ended')\n",
    "last_block_call_df.head(10)"
   ]
  },
  {
   "cell_type": "code",
   "execution_count": 77,
   "id": "859ec7e5",
   "metadata": {},
   "outputs": [],
   "source": [
    "last_block_call_df['listen_menu_or_digest']=last_block_call_df['listen_menu_or_digest'].fillna('None')"
   ]
  },
  {
   "cell_type": "code",
   "execution_count": 92,
   "id": "c8d7e923",
   "metadata": {},
   "outputs": [],
   "source": [
    "list_count=last_block_call_df[['call_id','listen_menu_or_digest']].groupby(last_block_call_df['listen_menu_or_digest'])['call_id'].count()"
   ]
  },
  {
   "cell_type": "code",
   "execution_count": 102,
   "id": "303a1833",
   "metadata": {},
   "outputs": [
    {
     "data": {
      "text/plain": [
       "{'Listen Digest': 19.72, 'Listen Menu': 44.72, 'None': 35.56}"
      ]
     },
     "execution_count": 102,
     "metadata": {},
     "output_type": "execute_result"
    }
   ],
   "source": [
    "total_calls=len(last_block_call_df)\n",
    "list_option_percentage={}\n",
    "for l,v in list_count.items():\n",
    "    list_option_percentage[l]=round((v/total_calls)*100,2)\n",
    "\n",
    "list_option_percentage"
   ]
  },
  {
   "cell_type": "markdown",
   "id": "60c0fefa",
   "metadata": {},
   "source": [
    "Listen Digest indicates, the caller gets an automated response of 10 top News\n",
    "Listen menu is where the user engages in looking for information of their interest\n",
    "\n",
    "Percentage of option selected by user calls in the last block :  \n",
    "'Listen Digest': 19.72%.    \n",
    "'Listen Menu': 44.72%.    \n",
    "'None': 35.56%   \n",
    "\n",
    "\n",
    "This indicates that \"Listen Menu\" is where the user is engaging personally. \n",
    "However there are 35.56% records that have a null value. Reaching out to Viamo team, \n",
    "\"Those values are labelled on our blocks by the staff who create the content, so null could mean the block was not appropriately labelled.\"\n",
    "\n",
    "This indicates that these 35.56% could either be a \"Listen Digest\" or \"Listen Menu\"\n",
    "Having correct values for nulls can change the interpretation completely. And so we cannot assume anything here.\n",
    "From current stats, clearly we have more users engaging, this means viamo needs to identify efforts needed in making sure users get appropriate information they are looking for to maintain or improve user engagement.\n",
    "\n",
    "But if the null values were properly labelled and it turns out that we have almost equal number of users seeking both options, then appropriate efforts need to be divided for both areas."
   ]
  },
  {
   "cell_type": "markdown",
   "id": "3150826c",
   "metadata": {},
   "source": [
    "####  What blocks identify the start of a call"
   ]
  },
  {
   "cell_type": "code",
   "execution_count": null,
   "id": "5ebc22ce",
   "metadata": {},
   "outputs": [],
   "source": [
    "calls_records_single_blocks_df1"
   ]
  },
  {
   "cell_type": "markdown",
   "id": "5b16a9ed",
   "metadata": {},
   "source": [
    "From above we can say that for calls with single blocks , which are technically start and end blocks of the call,\n",
    "**\"call_ended==block_global_created_at\"**\n",
    "\n",
    "But if we look at calls with multiple blocks, **\"call_started==block_global_created_at\"**"
   ]
  },
  {
   "cell_type": "markdown",
   "id": "c05177c5",
   "metadata": {},
   "source": [
    "## Themes and Topics of calls"
   ]
  },
  {
   "cell_type": "code",
   "execution_count": 105,
   "id": "d24bc48e",
   "metadata": {},
   "outputs": [
    {
     "data": {
      "text/plain": [
       "array(['10th Call Message', '11th Call Message', '1-9th Call Message',\n",
       "       None], dtype=object)"
      ]
     },
     "execution_count": 105,
     "metadata": {},
     "output_type": "execute_result"
    }
   ],
   "source": [
    "# what does a call start with ??\n",
    "joined_calls_records_multiple_blocks_df1.query('call_started==block_global_created_at')['block_title'].unique()"
   ]
  },
  {
   "cell_type": "code",
   "execution_count": null,
   "id": "aa74a748",
   "metadata": {},
   "outputs": [],
   "source": [
    "# what does block_title of last blcok look like\n",
    "joined_calls_records_multiple_blocks_df1.query('call_ended==block_global_created_at')['block_title'].unique()"
   ]
  },
  {
   "cell_type": "code",
   "execution_count": null,
   "id": "f5b10858",
   "metadata": {},
   "outputs": [],
   "source": []
  }
 ],
 "metadata": {
  "kernelspec": {
   "display_name": "Python 3 (ipykernel)",
   "language": "python",
   "name": "python3"
  },
  "language_info": {
   "codemirror_mode": {
    "name": "ipython",
    "version": 3
   },
   "file_extension": ".py",
   "mimetype": "text/x-python",
   "name": "python",
   "nbconvert_exporter": "python",
   "pygments_lexer": "ipython3",
   "version": "3.8.15"
  }
 },
 "nbformat": 4,
 "nbformat_minor": 5
}
