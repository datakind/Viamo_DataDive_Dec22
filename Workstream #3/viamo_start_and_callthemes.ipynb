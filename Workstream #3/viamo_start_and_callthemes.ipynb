{
 "cells": [
  {
   "cell_type": "markdown",
   "id": "f1f67665",
   "metadata": {},
   "source": [
    "## Workstream3\n",
    "\n",
    "### Tanvi Arora\n",
    "\n",
    "**This notebook has basic code for startups, query to fetch random data for analysis. But can be modified**"
   ]
  },
  {
   "cell_type": "code",
   "execution_count": 72,
   "id": "9db81ad7",
   "metadata": {},
   "outputs": [],
   "source": [
    "import os\n",
    "import pandas as pd\n",
    "import numpy as np\n",
    "\n",
    "# Library to suppress warnings or deprecation notes\n",
    "import warnings\n",
    "warnings.filterwarnings(\"ignore\")\n",
    "\n",
    "# set option to view all columns\n",
    "pd.set_option('display.max_columns', None)"
   ]
  },
  {
   "cell_type": "code",
   "execution_count": null,
   "id": "b5ee9947",
   "metadata": {},
   "outputs": [],
   "source": [
    "#credentials file obtained from datakind team\n",
    "GOOGLE_APPLICATION_CREDENTIALS=os.getenv(\"GOOGLE_APPLICATION_CREDENTIALS\")\n",
    "GOOGLE_APPLICATION_CREDENTIALS"
   ]
  },
  {
   "cell_type": "markdown",
   "id": "1a79090e",
   "metadata": {},
   "source": [
    "### Data from viamo"
   ]
  },
  {
   "cell_type": "code",
   "execution_count": 5,
   "id": "19132377",
   "metadata": {},
   "outputs": [],
   "source": [
    "from google.cloud import bigquery\n",
    "bigquery_client=bigquery.Client()"
   ]
  },
  {
   "cell_type": "code",
   "execution_count": 44,
   "id": "9c7d5a90",
   "metadata": {},
   "outputs": [
    {
     "data": {
      "text/plain": [
       "\"WITH random_calls AS (select distinct(call_id) from `viamo-datakind.datadive.321_sessions_1122` WHERE  organization_country='Uganda' and call_date >= '2022-01-01' order by rand() limit 25000) SELECT * FROM `viamo-datakind.datadive.321_sessions_1122` WHERE call_id IN (SELECT call_id FROM random_calls)\""
      ]
     },
     "execution_count": 44,
     "metadata": {},
     "output_type": "execute_result"
    }
   ],
   "source": [
    "#sample data\n",
    "'''\n",
    "organization_country : country for which data is to be fetched. \n",
    "min_call_date :  the data is fetched from this date onwards\n",
    "sample_count : limit your sample count. Note - this limits the sample of calls and not records. This query ensures all the records for a sample call are selected\n",
    "'''\n",
    "organization_country='Uganda'\n",
    "min_call_date = '2022-01-01'\n",
    "sample_count = 25000\n",
    "\n",
    "query_str=f\"\"\"WITH random_calls AS (select distinct(call_id) from `viamo-datakind.datadive.321_sessions_1122` WHERE  organization_country='{organization_country}' and call_date >= '{min_call_date}' order by rand() limit {sample_count}) SELECT * FROM `viamo-datakind.datadive.321_sessions_1122` WHERE call_id IN (SELECT call_id FROM random_calls)\"\"\"\n",
    "query_str"
   ]
  },
  {
   "cell_type": "code",
   "execution_count": 45,
   "id": "6ad8f63e",
   "metadata": {},
   "outputs": [],
   "source": [
    "data_df = pd.read_gbq(query_str)"
   ]
  },
  {
   "cell_type": "code",
   "execution_count": null,
   "id": "c02574e9",
   "metadata": {},
   "outputs": [],
   "source": [
    "##Backup data\n",
    "\n",
    "orig_data_df=data_df.copy()\n",
    "data_df.to_csv('uganda_25K_calls_sample_2022.csv',index=False)"
   ]
  },
  {
   "cell_type": "markdown",
   "id": "4cc81778",
   "metadata": {},
   "source": [
    "#### Basic statistics about data"
   ]
  },
  {
   "cell_type": "code",
   "execution_count": 46,
   "id": "556064a1",
   "metadata": {},
   "outputs": [
    {
     "data": {
      "text/plain": [
       "(173322, 44)"
      ]
     },
     "execution_count": 46,
     "metadata": {},
     "output_type": "execute_result"
    }
   ],
   "source": [
    "data_df.shape"
   ]
  },
  {
   "cell_type": "markdown",
   "id": "253addf2",
   "metadata": {},
   "source": [
    "**173K records obtained for 25K calls, indicates many-to-one relationship between calls and records. Each record represents a block. 1 call can have 1 or more blocks.**"
   ]
  },
  {
   "cell_type": "code",
   "execution_count": 47,
   "id": "9ea5789a",
   "metadata": {},
   "outputs": [
    {
     "name": "stdout",
     "output_type": "stream",
     "text": [
      "<class 'pandas.core.frame.DataFrame'>\n",
      "RangeIndex: 173322 entries, 0 to 173321\n",
      "Data columns (total 44 columns):\n",
      " #   Column                          Non-Null Count   Dtype              \n",
      "---  ------                          --------------   -----              \n",
      " 0   call_date                       173322 non-null  dbdate             \n",
      " 1   dl_global_created_at            173322 non-null  datetime64[ns, UTC]\n",
      " 2   block_interaction_id            173322 non-null  Int64              \n",
      " 3   call_id                         173322 non-null  Int64              \n",
      " 4   subscriber_id                   173322 non-null  Int64              \n",
      " 5   block_global_created_at         173322 non-null  datetime64[ns, UTC]\n",
      " 6   block_entry_at                  173322 non-null  datetime64[ns, UTC]\n",
      " 7   js_key                          173322 non-null  object             \n",
      " 8   tree_version_set_id             173322 non-null  Int64              \n",
      " 9   call_started                    173322 non-null  datetime64[ns, UTC]\n",
      " 10  call_ended                      173322 non-null  datetime64[ns, UTC]\n",
      " 11  duration_listened_minutes       163892 non-null  float64            \n",
      " 12  duration_listened_seconds       163892 non-null  float64            \n",
      " 13  region                          173322 non-null  object             \n",
      " 14  region_name                     173322 non-null  object             \n",
      " 15  organization_id                 173322 non-null  Int64              \n",
      " 16  organization_country            173322 non-null  object             \n",
      " 17  block_audio_percent_listened    163892 non-null  float64            \n",
      " 18  km_block_reached                39285 non-null   Int64              \n",
      " 19  km_block_listened               30692 non-null   Int64              \n",
      " 20  listener                        30692 non-null   Int64              \n",
      " 21  listen_menu_or_digest           135050 non-null  object             \n",
      " 22  block_title                     142529 non-null  object             \n",
      " 23  block_tags                      173322 non-null  object             \n",
      " 24  block_theme                     173322 non-null  object             \n",
      " 25  block_topic                     173322 non-null  object             \n",
      " 26  age                             115623 non-null  object             \n",
      " 27  gender                          117385 non-null  object             \n",
      " 28  location                        109098 non-null  object             \n",
      " 29  location_level_2                0 non-null       object             \n",
      " 30  opt_in                          25998 non-null   object             \n",
      " 31  subscriber_pereferred_language  161869 non-null  object             \n",
      " 32  registered_demographic_info     106690 non-null  Int64              \n",
      " 33  rural_or_urban                  0 non-null       object             \n",
      " 34  phone_type                      0 non-null       object             \n",
      " 35  education_level                 0 non-null       object             \n",
      " 36  income_source                   0 non-null       object             \n",
      " 37  airtime_expense                 0 non-null       object             \n",
      " 38  highest_expense_area            0 non-null       object             \n",
      " 39  data_usage_consent              0 non-null       object             \n",
      " 40  new_listener_ever               11483 non-null   Int64              \n",
      " 41  new_listener_year               18014 non-null   Int64              \n",
      " 42  new_caller_ever                 7059 non-null    Int64              \n",
      " 43  new_caller_year                 15542 non-null   Int64              \n",
      "dtypes: Int64(13), datetime64[ns, UTC](5), dbdate(1), float64(3), object(22)\n",
      "memory usage: 60.3+ MB\n"
     ]
    }
   ],
   "source": [
    "data_df.info()"
   ]
  },
  {
   "cell_type": "markdown",
   "id": "41e2bddb",
   "metadata": {},
   "source": [
    "**Data-Dictionary** [here](https://docs.google.com/spreadsheets/d/1QRJzAj0EB05CF7qmuy1VZ1Ivsa8me3UeKrKgRNeijaM/edit?usp=sharing)"
   ]
  },
  {
   "cell_type": "markdown",
   "id": "619cc0fb",
   "metadata": {},
   "source": [
    "call_date : date on which call was made.  \n",
    "block_interaction_id : primary key. Represents a block entry.  \n",
    "call_id : is an individual call. 1 call can have 1 or more blocks.   \n",
    "subscriber_id : id for the caller. Can be used to identify patterns of call a caller makes.  "
   ]
  },
  {
   "cell_type": "markdown",
   "id": "acc4993e",
   "metadata": {},
   "source": [
    "#### Sample data"
   ]
  },
  {
   "cell_type": "code",
   "execution_count": null,
   "id": "207126cf",
   "metadata": {},
   "outputs": [],
   "source": [
    "data_df.head(30)"
   ]
  },
  {
   "cell_type": "markdown",
   "id": "165db58a",
   "metadata": {},
   "source": [
    "## Workstream#3 :\n",
    "\n",
    "#3 - How many individual calls end at the menu block? Is that the only block accessed in those calls?  \n",
    "#4 - How many individual calls end at the digest block? Is that the only block accessed in those calls?\n",
    "\n",
    "\n",
    "To begin answering above question we need to know which block is the last block of the call.Below is some analysis for it"
   ]
  },
  {
   "cell_type": "code",
   "execution_count": 52,
   "id": "ecb91c6f",
   "metadata": {},
   "outputs": [
    {
     "data": {
      "text/html": [
       "<div>\n",
       "<style scoped>\n",
       "    .dataframe tbody tr th:only-of-type {\n",
       "        vertical-align: middle;\n",
       "    }\n",
       "\n",
       "    .dataframe tbody tr th {\n",
       "        vertical-align: top;\n",
       "    }\n",
       "\n",
       "    .dataframe thead th {\n",
       "        text-align: right;\n",
       "    }\n",
       "</style>\n",
       "<table border=\"1\" class=\"dataframe\">\n",
       "  <thead>\n",
       "    <tr style=\"text-align: right;\">\n",
       "      <th></th>\n",
       "      <th>call_id</th>\n",
       "      <th>block_interaction_id</th>\n",
       "    </tr>\n",
       "  </thead>\n",
       "  <tbody>\n",
       "    <tr>\n",
       "      <th>0</th>\n",
       "      <td>1323858875531135168</td>\n",
       "      <td>10</td>\n",
       "    </tr>\n",
       "    <tr>\n",
       "      <th>1</th>\n",
       "      <td>1323860291012267184</td>\n",
       "      <td>3</td>\n",
       "    </tr>\n",
       "    <tr>\n",
       "      <th>2</th>\n",
       "      <td>1323867992417109448</td>\n",
       "      <td>7</td>\n",
       "    </tr>\n",
       "    <tr>\n",
       "      <th>3</th>\n",
       "      <td>1323872643887663024</td>\n",
       "      <td>9</td>\n",
       "    </tr>\n",
       "    <tr>\n",
       "      <th>4</th>\n",
       "      <td>1323873895543473368</td>\n",
       "      <td>12</td>\n",
       "    </tr>\n",
       "    <tr>\n",
       "      <th>...</th>\n",
       "      <td>...</td>\n",
       "      <td>...</td>\n",
       "    </tr>\n",
       "    <tr>\n",
       "      <th>24995</th>\n",
       "      <td>1441513275946175444</td>\n",
       "      <td>4</td>\n",
       "    </tr>\n",
       "    <tr>\n",
       "      <th>24996</th>\n",
       "      <td>1441514351311195940</td>\n",
       "      <td>3</td>\n",
       "    </tr>\n",
       "    <tr>\n",
       "      <th>24997</th>\n",
       "      <td>1441516847324727908</td>\n",
       "      <td>13</td>\n",
       "    </tr>\n",
       "    <tr>\n",
       "      <th>24998</th>\n",
       "      <td>1441520677680582332</td>\n",
       "      <td>4</td>\n",
       "    </tr>\n",
       "    <tr>\n",
       "      <th>24999</th>\n",
       "      <td>1441525449401830768</td>\n",
       "      <td>3</td>\n",
       "    </tr>\n",
       "  </tbody>\n",
       "</table>\n",
       "<p>23172 rows × 2 columns</p>\n",
       "</div>"
      ],
      "text/plain": [
       "                   call_id  block_interaction_id\n",
       "0      1323858875531135168                    10\n",
       "1      1323860291012267184                     3\n",
       "2      1323867992417109448                     7\n",
       "3      1323872643887663024                     9\n",
       "4      1323873895543473368                    12\n",
       "...                    ...                   ...\n",
       "24995  1441513275946175444                     4\n",
       "24996  1441514351311195940                     3\n",
       "24997  1441516847324727908                    13\n",
       "24998  1441520677680582332                     4\n",
       "24999  1441525449401830768                     3\n",
       "\n",
       "[23172 rows x 2 columns]"
      ]
     },
     "execution_count": 52,
     "metadata": {},
     "output_type": "execute_result"
    }
   ],
   "source": [
    "#Analyze last block for a call logic\n",
    "'''\n",
    "logic is to look into calls with multiple blocks\n",
    "blocks_per_call_df1 : count of blocks per call\n",
    "multiple_blocks_per_call_df1 : call_id (calls) with multiple blocks\n",
    "'''\n",
    "#get call_ids with multiple blocks\n",
    "blocks_per_call_df1=data_df.groupby(['call_id'],as_index=False).agg({\"block_interaction_id\":\"count\"})\n",
    "#blocks_per_call_df1\n",
    "multiple_blocks_per_call_df1 = blocks_per_call_df1.query('block_interaction_id>1')\n",
    "multiple_blocks_per_call_df1"
   ]
  },
  {
   "cell_type": "code",
   "execution_count": 53,
   "id": "e6bd381c",
   "metadata": {},
   "outputs": [
    {
     "name": "stdout",
     "output_type": "stream",
     "text": [
      "percent of calls with multiple blocks : 92.688\n"
     ]
    }
   ],
   "source": [
    "num_calls_multiple_blocks=(len(multiple_blocks_per_call_df1)/len(blocks_per_call_df1))*100\n",
    "print(\"percent of calls with multiple blocks :\",num_calls_multiple_blocks)"
   ]
  },
  {
   "cell_type": "markdown",
   "id": "d23facea",
   "metadata": {},
   "source": [
    "**From the sample obtained, 92.7% of calls had more than 1 block**"
   ]
  },
  {
   "cell_type": "code",
   "execution_count": 54,
   "id": "78d008da",
   "metadata": {},
   "outputs": [
    {
     "data": {
      "text/plain": [
       "(173322, 46)"
      ]
     },
     "execution_count": 54,
     "metadata": {},
     "output_type": "execute_result"
    }
   ],
   "source": [
    "# get call records with multiple blocks\n",
    "'''\n",
    "multiple_blocks_per_call_df1['marker']==1 indicates the call has multiple blocks. join this to the original data\n",
    "'''\n",
    "multiple_blocks_per_call_df1['marker']=1\n",
    "joined_calls_records_multiple_blocks_df1=pd.merge(data_df,multiple_blocks_per_call_df1,on=['call_id'],how='left')\n",
    "joined_calls_records_multiple_blocks_df1.shape"
   ]
  },
  {
   "cell_type": "code",
   "execution_count": 57,
   "id": "75d6a3c8",
   "metadata": {},
   "outputs": [],
   "source": [
    "'''\n",
    "calls_records_multiple_blocks_df1 : is the original data with additional columns marker, which indicates the record \n",
    "                                    belongs to a block within a call that has multiple blocks.\n",
    "block_interaction_id_x : block_interaction_id of original data\n",
    "block_interaction_id_y : count of blocks for the call\n",
    "\n",
    "'''\n",
    "calls_records_multiple_blocks_df1=joined_calls_records_multiple_blocks_df1.query('marker==1').sort_values(by=['call_id','block_global_created_at'])\n"
   ]
  },
  {
   "cell_type": "code",
   "execution_count": null,
   "id": "f58faf67",
   "metadata": {},
   "outputs": [],
   "source": [
    "calls_records_multiple_blocks_df1.head(50)"
   ]
  },
  {
   "cell_type": "code",
   "execution_count": 59,
   "id": "c2297258",
   "metadata": {},
   "outputs": [],
   "source": [
    "## how many calls with single blocks\n",
    "calls_records_single_blocks_df1=joined_calls_records_multiple_blocks_df1.query('marker!=1').sort_values(by=['call_id','block_global_created_at'])\n"
   ]
  },
  {
   "cell_type": "code",
   "execution_count": 60,
   "id": "69d961dd",
   "metadata": {},
   "outputs": [
    {
     "data": {
      "text/plain": [
       "(1828, 46)"
      ]
     },
     "execution_count": 60,
     "metadata": {},
     "output_type": "execute_result"
    }
   ],
   "source": [
    "calls_records_single_blocks_df1.shape"
   ]
  },
  {
   "cell_type": "code",
   "execution_count": null,
   "id": "7ca9a277",
   "metadata": {},
   "outputs": [],
   "source": [
    "calls_records_single_blocks_df1.head(30)"
   ]
  },
  {
   "cell_type": "code",
   "execution_count": 108,
   "id": "5d715af1",
   "metadata": {},
   "outputs": [
    {
     "data": {
      "text/plain": [
       "array(['', 'games', 'health', 'ag'], dtype=object)"
      ]
     },
     "execution_count": 108,
     "metadata": {},
     "output_type": "execute_result"
    }
   ],
   "source": [
    "calls_records_single_blocks_df1['block_theme'].unique()"
   ]
  },
  {
   "cell_type": "markdown",
   "id": "8d1fbe6c",
   "metadata": {},
   "source": [
    "One may think single block calls may have just ended and not been utilized. but some of the records show data in block_theme and block_topic, which indicates this was not a blank call."
   ]
  },
  {
   "cell_type": "markdown",
   "id": "8385cc13",
   "metadata": {},
   "source": [
    "#### Logic to identify last block of a call\n",
    "When you analyze the data of a call with multiple blocks you notice that 1 of the record has  \n",
    "\n",
    "block_global_created_at=call_ended  \n",
    "\n",
    "Validated the same information with calls with single blocks.   \n",
    "Hence we can safely say that the block with **\"block_global_created_at=call_ended\"** is the last block of the call, irrespective of the call having 1 or more blocks.  "
   ]
  },
  {
   "cell_type": "code",
   "execution_count": null,
   "id": "2069e70a",
   "metadata": {},
   "outputs": [],
   "source": [
    "# get the last blocks per call\n",
    "\n",
    "last_block_call_df=joined_calls_records_multiple_blocks_df1.query('block_global_created_at==call_ended')\n",
    "last_block_call_df.head(10)"
   ]
  },
  {
   "cell_type": "code",
   "execution_count": 77,
   "id": "859ec7e5",
   "metadata": {},
   "outputs": [],
   "source": [
    "last_block_call_df['listen_menu_or_digest']=last_block_call_df['listen_menu_or_digest'].fillna('None')"
   ]
  },
  {
   "cell_type": "code",
   "execution_count": 92,
   "id": "c8d7e923",
   "metadata": {},
   "outputs": [],
   "source": [
    "list_count=last_block_call_df[['call_id','listen_menu_or_digest']].groupby(last_block_call_df['listen_menu_or_digest'])['call_id'].count()"
   ]
  },
  {
   "cell_type": "code",
   "execution_count": 102,
   "id": "303a1833",
   "metadata": {},
   "outputs": [
    {
     "data": {
      "text/plain": [
       "{'Listen Digest': 19.72, 'Listen Menu': 44.72, 'None': 35.56}"
      ]
     },
     "execution_count": 102,
     "metadata": {},
     "output_type": "execute_result"
    }
   ],
   "source": [
    "total_calls=len(last_block_call_df)\n",
    "list_option_percentage={}\n",
    "for l,v in list_count.items():\n",
    "    list_option_percentage[l]=round((v/total_calls)*100,2)\n",
    "\n",
    "list_option_percentage"
   ]
  },
  {
   "cell_type": "markdown",
   "id": "60c0fefa",
   "metadata": {},
   "source": [
    "Listen Digest indicates, the caller gets an automated response of 10 top News\n",
    "Listen menu is where the user engages in looking for information of their interest\n",
    "\n",
    "Percentage of option selected by user calls in the last block :  \n",
    "'Listen Digest': 19.72%.    \n",
    "'Listen Menu': 44.72%.    \n",
    "'None': 35.56%   \n",
    "\n",
    "\n",
    "This indicates that \"Listen Menu\" is where the user is engaging personally. \n",
    "However there are 35.56% records that have a null value. Reaching out to Viamo team, \n",
    "\"Those values are labelled on our blocks by the staff who create the content, so null could mean the block was not appropriately labelled.\"\n",
    "\n",
    "This indicates that these 35.56% could either be a \"Listen Digest\" or \"Listen Menu\"\n",
    "Having correct values for nulls can change the interpretation completely. And so we cannot assume anything here.\n",
    "From current stats, clearly we have more users engaging, this means viamo needs to identify efforts needed in making sure users get appropriate information they are looking for to maintain or improve user engagement.\n",
    "\n",
    "But if the null values were properly labelled and it turns out that we have almost equal number of users seeking both options, then appropriate efforts need to be divided for both areas."
   ]
  },
  {
   "cell_type": "markdown",
   "id": "3150826c",
   "metadata": {},
   "source": [
    "####  What blocks identify the start of a call"
   ]
  },
  {
   "cell_type": "code",
   "execution_count": null,
   "id": "5ebc22ce",
   "metadata": {},
   "outputs": [],
   "source": [
    "calls_records_single_blocks_df1"
   ]
  },
  {
   "cell_type": "markdown",
   "id": "5b16a9ed",
   "metadata": {},
   "source": [
    "From above we can say that for calls with single blocks , which are technically start and end blocks of the call,\n",
    "**\"call_ended==block_global_created_at\"**\n",
    "\n",
    "But if we look at calls with multiple blocks, **\"call_started==block_global_created_at\"**"
   ]
  },
  {
   "cell_type": "markdown",
   "id": "c05177c5",
   "metadata": {},
   "source": [
    "## Themes and Topics of calls"
   ]
  },
  {
   "cell_type": "code",
   "execution_count": 105,
   "id": "d24bc48e",
   "metadata": {},
   "outputs": [
    {
     "data": {
      "text/plain": [
       "array(['10th Call Message', '11th Call Message', '1-9th Call Message',\n",
       "       None], dtype=object)"
      ]
     },
     "execution_count": 105,
     "metadata": {},
     "output_type": "execute_result"
    }
   ],
   "source": [
    "# what does a call start with ??\n",
    "joined_calls_records_multiple_blocks_df1.query('call_started==block_global_created_at')['block_title'].unique()"
   ]
  },
  {
   "cell_type": "code",
   "execution_count": 106,
   "id": "aa74a748",
   "metadata": {},
   "outputs": [
    {
     "data": {
      "text/plain": [
       "array(['Replay Episode 50', 'Episode 2', 'How vaccine works',\n",
       "       'Akakunizo Episode 1 part 1', 'Forced sex',\n",
       "       'How do i get pregnant', 'Survey Prompt',\n",
       "       'Akakunizo Episode 4 part 2', 'Replay', 'Myths and misconceptions',\n",
       "       'Eastern Districts', 'Am i ready for sex', 'Early parenthood',\n",
       "       'Where should I save?', 'Chilli Nursery Bed Preparation',\n",
       "       'Akakunizo Episode 23 part 2', 'Akakunizo Ep1 part 2',\n",
       "       '5.1.1.3.2 Vasectomy', 'Region',\n",
       "       'How to identify a good solar product, press 4',\n",
       "       '5.1.1.2.2 Implant', 'What self inject family planning',\n",
       "       '3.2.2 Heavy Rains Menu', 'Chilli Seed Selection',\n",
       "       'News Bulletin - English', 'REPLAY',\n",
       "       'What a solar system is and how it works', 'Thank you',\n",
       "       'Akakunizo Episode 5 part 1',\n",
       "       '3.2.3.1 Preparing for Dry Spells and Drought in your home Message',\n",
       "       'News Bulletin - 4R', 'News Bulletin - Luo',\n",
       "       '2.1.2 Beans Planting Message', '3.2.3 Dry Spells and Drought',\n",
       "       'Akakunizo Episode 11 part 2', 'Intro 5',\n",
       "       'Sotakai Episode 17 part 1', 'Entertainment', 'Episode 3',\n",
       "       'To know about the different types of COVID 19 Vaccines',\n",
       "       '1. Welcome Message', 'Preparing for the Rain Message', 'News',\n",
       "       '1st  Message',\n",
       "       'Q2. Thank you for becoming a 1-6-1 Ambassador! Who are you planning to tell about the Service?',\n",
       "       'Age', 'Body changes in girls', '5.1 FAMILY PLANING MENU',\n",
       "       'Akakunizo Episode 63 part 3', 'Episode 8',\n",
       "       '5.2  MATERNAL AND NEWBORN CARE MENU',\n",
       "       'How to use solar to make money', 'Episode 1',\n",
       "       'Beans Land Preparation', 'Replay Akakunizo Episode 34',\n",
       "       'News Bulletin', 'Good bye message', '24.Conclusion',\n",
       "       '3.2.2.1 Preparing for the Rain Message', 'Where do you live?',\n",
       "       '5.1.1.1.2 Injectables', 'Episode 1 part 1', 'Outro',\n",
       "       'Side effects of self Inject', 'PI Safety Met',\n",
       "       '5.2.2.1 HIV Positive mothers', '5.1.1.1.3 Male condoms',\n",
       "       'Process of puberty', 'Do you still live in Northern Region',\n",
       "       '10th Call Message', 'Central Districts', None,\n",
       "       'Akakunizo Episode 1 part 3', 'Akakunizo Episode 6 part 3',\n",
       "       'Intro 1', 'Episode 52 part 3', 'Coronavirus menu',\n",
       "       '2.6 Irish Potato Menu', 'Men and family planning',\n",
       "       '2.1 Beans Menu', 'Emergency Contraceptive use',\n",
       "       'Episode 1 part 3', 'Avoid different scams', 'Survey End',\n",
       "       '2.5.1.5.1 Low Land Rice Pest Message', 'Financial services menu',\n",
       "       '5.1.1.3.1 Tubal Ligation', 'Puberty & Sex', 'Episode 2 part 1',\n",
       "       'types of COVID 19 Vaccines',\n",
       "       '4.1 You have 4 options to choose from (What is airtel money)',\n",
       "       'Wanji game sub menu',\n",
       "       'How men can support their partners in using SI',\n",
       "       'End of key message',\n",
       "       '3.2.1.1 Myths and Truths about Lightning Message',\n",
       "       'How can my household manage our finances better?',\n",
       "       'Entrepreneurial Tips', 'News Bulletin - Ateso',\n",
       "       'Fake Prize Met A1',\n",
       "       '2.7.3 Nursery Bed Preparation and Seedling care',\n",
       "       'Episode 1 part 2', 'Conclusion', '3G-Replay forecast',\n",
       "       '2.3.5.2 Maize Diseases Message', 'What happens at HIV tests',\n",
       "       '5.1.5.2 Men and family planning',\n",
       "       'To learn business financial management', 'HIV & STIs',\n",
       "       'Believe myth', '11th Call Message', 'Replay message', 'Episode 5',\n",
       "       'Introduction Message', 'Corona virus',\n",
       "       'Q1 Have you ever experienced any attempted scams or instances of fraud that involved receiving a phone call or SMS message?',\n",
       "       'Long term methods', 'High temperature information for public',\n",
       "       'Akakunizo Episode 7 part 2', 'Q.1 What is your gender?',\n",
       "       'Akakunizo Episode 8 part 3',\n",
       "       'How do I set up a merchant code for my business',\n",
       "       'Does solar work in rainy seasons', 'Northenrn Region',\n",
       "       'Q3 If you were to receive an SMS or phone call from parties you did not know asking you to send money or share information such as passwords, how likely are you to dial 100 to report them?',\n",
       "       '2.5.2.2 Upland Rice Land Preparation Menu', 'Solar Main Menu',\n",
       "       'SCENARIO8', 'E-referral?', '5.1.1.4.2 Exclusive Feeding',\n",
       "       'How to buy Airtime/Voice bundles/Data bundles', '3E-UNMA',\n",
       "       'Episode 52 part 2', 'What are STIs & HIV', '3F-emergency opt in',\n",
       "       'Chilli Field Preparation', 'Akakunizo Episode 21 part 1',\n",
       "       'Maize Seed Selection', 'Episode 40 part 1',\n",
       "       'High Temp Information for Farmers', 'LEVEL 1:Theme Options',\n",
       "       'Q5A: To sneeze into your elbow', 'Coronavirus Menu', 'Episode 4',\n",
       "       'Replay Akakunizo Episode 9',\n",
       "       'The role of Uganda Solar Energy Association, press 3',\n",
       "       'Q2 Final: How confident do you feel now that you can protect yourself from fraud?',\n",
       "       'Akakunizo Episode 2 part 3', 'Discover your power to use SI',\n",
       "       'Gender', 'Mobile money general topics',\n",
       "       'Akakunizo Episode 3 part 2',\n",
       "       'How much does it cost to transfer money',\n",
       "       'Health and safety benefits from using solar',\n",
       "       'End Registration Message', 'Not qualified',\n",
       "       '4.1.2 How to use Airtel Money', 'Process of Puberty',\n",
       "       'How to prevent HIV & STIs', '5.1.1.2.1 The coil/IUD',\n",
       "       'Fake Emergency Met Q1', 'Akakunizo Episode 31 part 1',\n",
       "       'Episode 7', 'Fake Investment Met',\n",
       "       'Personal Prevention of corona virus message',\n",
       "       '4.1.2.1 How to cash in', 'Self inject or pills',\n",
       "       'Sotakai Episode 3 part 1', 'Sotakai Episode 1 part 1',\n",
       "       'Episode 3 part 3', 'Q1B: Avoid contact',\n",
       "       'Side effects of self inject', 'Registration Welcome Message',\n",
       "       '3.2.2.3 Preparing Land and Crops Message', '5.3 CERVICAL CANCER',\n",
       "       'Corona virus disease sub menu',\n",
       "       'How to link Airtel Money to your bank account.',\n",
       "       'Was this information helpful to you?', 'End Message',\n",
       "       'Cervical Cancer', 'How do I get HIV', 'PI Safety NoMet',\n",
       "       'Akakunizo Episode 2 part 1', 'Chilli Field Planting', 'Intro 2',\n",
       "       'Stop or professional', 'Wait or Pharmacy', 'REGIONS',\n",
       "       'Next Message', 'PI Safety NoMet Q1', 'How to pay bills',\n",
       "       'Do you already know which specific method you want to get?',\n",
       "       'How do i get HIV& STIs', 'Financial System changes',\n",
       "       'Karamoja Region', 'Preparing Land and Crops Message',\n",
       "       'PI Safety Met A2', '2.7.6 Harvesting',\n",
       "       'Replay Akakunizo Episode 20',\n",
       "       'How do I set up a mobile money account?',\n",
       "       'Akakunizo Episode 33 part 3', 'Akakunizo Episode 11 part 3',\n",
       "       '5.1.6 Assumptions about FP', '2.2.3.1 Banana Soil Health Message',\n",
       "       'Fake Prize Met', 'Sex', 'Akakunizo Episode 3 part 3',\n",
       "       'What is sex', 'Akakunizo Episode 1 part 2',\n",
       "       'Akakunizo Episode 17 part 1', 'Episode 3 part 2',\n",
       "       'Personal prevention', 'Akakunizo Episode 50 part 3',\n",
       "       'Female Condoms', '5.2.2 ANC and planning for delivery Menu',\n",
       "       'Akakunizo Episode 3 part 1', '5.1.1.1.4 Female Condoms',\n",
       "       '5.1.4  Choosing the right method', 'PI Safety NoMet A1',\n",
       "       'Akakunizo Episode 27 part 3', 'Information for Farmers Message',\n",
       "       'News Bulletin - Lubgara', 'How to prevent HIV&STIs',\n",
       "       'OPT IN:Would you like to be contacted', 'Introduction',\n",
       "       '3.2.1 Thunder and Lightning Storms',\n",
       "       '4.1.3 The benefits of Airtel Money for farmers',\n",
       "       'Sotakai Episode 1 part 3', 'Benefits',\n",
       "       '4.1.2.4 How to set your PIN', 'Akakunizo Episode 2 part 2',\n",
       "       'Central Region', 'Western Region',\n",
       "       'How do I use my phone for saving', 'Injectables',\n",
       "       'Episode 3 part 1', 'Northern Region',\n",
       "       'Akakunizo Episode 19 part 3', 'How much should I save?',\n",
       "       '5.1.1 METHODS  MENU', 'Replay Akakunizo Episode 1',\n",
       "       '2. School/ Marriage', 'How old are you?',\n",
       "       '4.1.2.2 How to cash out', '5.1.3  Emergency Contraceptive use ',\n",
       "       'To learn about the safety of COVID19 Vaccines,',\n",
       "       'South Western Region', 'Different sizes of solar',\n",
       "       'Akakunizo Episode 21 part 3', 'Loan repayment',\n",
       "       '2.7.5.2  Diseases',\n",
       "       'Q2 How confident do you feel now that you can protect yourself from fraud?',\n",
       "       'Beans Seed Selection', 'Lesson 1',\n",
       "       '2.2.2 Banana Planting Message',\n",
       "       'What should I consider in taking out a loan?',\n",
       "       'For personal information use', 'Body changes in Boys',\n",
       "       '5.1.1.4.1 Moon beads or cycle beads',\n",
       "       'Do you still live iin eastern region',\n",
       "       'Akakunizo Episode 11 part 1', 'Fighting stigma', 'Episode 6',\n",
       "       'Fake Prize NoMet Q1', 'How to use apps',\n",
       "       'More advanced ways to use Airtel Money',\n",
       "       'Akakunizo Episode 10 part 1', 'Am I ready for sex',\n",
       "       'Episode 52 part 1', 'Akakunizo Episode 34 part 3',\n",
       "       'How do I protect myself from scams',\n",
       "       '2.5.2.1 Upland Rice Seed Selection Message',\n",
       "       'why program is very important', 'Main Menu', '2.2 Bananas Menu',\n",
       "       'Treatments and cures', 'Q2A: To rub them with your finger',\n",
       "       'How much a solar system costs, press 1',\n",
       "       '2.1.6.2 Beans Post Harvesting Message',\n",
       "       '2.7.7.2  Sorting for the market', 'How to send Airtel money',\n",
       "       'Akakunizo Episode 32 part 1',\n",
       "       'How using solar is beneficial to the environment',\n",
       "       'How the solar system works, press 1', 'Episode 49 part 3',\n",
       "       'Module 1', '2.3.4 Maize Weeding Message',\n",
       "       '2.4.2 Cassava Planting Message',\n",
       "       'Q3 Final: If you were to receive an SMS or phone call from parties you did not know asking you to send money or share information such as passwords, how likely are you to dial 100 to report them?',\n",
       "       'To learn about why  the COVID-19 vaccination program is very important',\n",
       "       'Akakunizo Episode 38 part 1',\n",
       "       'To learn how “digital footprint” can grow opportunities for your business',\n",
       "       'Akakunizo Episode 19 part 2', 'To learn about insurance',\n",
       "       'SIA Welcome message', 'Managing rainwater on your farm',\n",
       "       'Priority groups for vaccine', 'Episode 40 part 2',\n",
       "       'Akakunizo Episode 5 part 2', 'Akakunizo Episode 30 part 1',\n",
       "       'What are HIV & STIs',\n",
       "       '2.6.6.2 Irish Potato Post Harvesting Message',\n",
       "       '2.2.1.1 Banana Land Preparation Message',\n",
       "       'How do I know which news is true', 'Eastern Region',\n",
       "       'Akakunizo Episode 9 part 1',\n",
       "       '2.6.2 Irish Potato Planting Message', 'Sotakai Episode 1 part 2',\n",
       "       '2.6.5.1 Irish Potato Pests Message', 'Fake Investment Met Q1',\n",
       "       'How to set a Secret word', 'Fake Emergency NoMet',\n",
       "       'Akakunizo Episode 7 part 3', 'Sotakai  Episode 4 part 2',\n",
       "       '5.2.1.1 Warning signs of miscarriage ',\n",
       "       'How do I pay bills on my phone', 'Akakunizo Episode 37 part 2',\n",
       "       'Male condoms', '2.5.1 Low Land Rice Menu',\n",
       "       'These are the Profam clinics in Makindye division where you can present the referral code. Please select the clinic closest to you.',\n",
       "       'Episode 5 part 1', 'loans, savings, insurance, and budgeting',\n",
       "       'Myths and truths about Lightening',\n",
       "       '2.6.3 Irish Potato Soil Health Message',\n",
       "       'How to prevent HIV and STIs', '3.2.5 Fog and Haze',\n",
       "       'Akakunizo Episode 10 part 2', 'Fake Emergency Met A1',\n",
       "       'Episode 5 part 3', 'How to set up a mobile money account',\n",
       "       'Akakunizo Episode 70 part 1', '2. Agriculture menu',\n",
       "       '2.3 Maize Menu', '2.6.1.1 Irish Potato Land Preparation Message',\n",
       "       'The coil/IUD', 'Episode 2 part 3', 'Akakunizo Episode 41 part 2',\n",
       "       'Replay Sotakai Episode 1', 'Lesson 4', '2.5 Rice Menu',\n",
       "       'Episode 6 part 2', 'Akakunizo Episode 9 part 3',\n",
       "       '5.1.1.1.1 oral contracptive message', 'End or more details',\n",
       "       'Akakunizo Episode 14 part 3', 'Replay Episode 52',\n",
       "       '5.1.1.3 Permenent Menu', 'Fake Investment NoMet A2',\n",
       "       '2.3.1.1 Maize Land Preparation Message',\n",
       "       '2.3.3 Maize Soil Health Message',\n",
       "       'How to I use solar to Save money', 'Akakunizo Episode 15 part 3',\n",
       "       '5.1.1.1 Short term methods menu', 'Akakunizo Episode 19 part 1',\n",
       "       'To learn how to send or receive money on your phone',\n",
       "       '3.2.1.3 Thunder and Lightning Fishermen Message', 'Drama options',\n",
       "       '2.6.5.2 Irish Potato Disease Message',\n",
       "       '3.2.6 High Temperatures Menu', 'Welcome Message',\n",
       "       'Would you like to receive a reminder message to go and  redeem your referral code?',\n",
       "       '5.2.2.3  Antenatal Care visits', 'Planning for delivery',\n",
       "       'Pharmacy or family planning', 'MODULE 3', 'Q2B:To resist',\n",
       "       'Sotakai Episode 6 part 1', 'How to pay for my solar system',\n",
       "       'Akakunizo Episode 6 part 2', 'Emotional changes',\n",
       "       '5.1.1.1.5 Emergency Contraceptives', 'Puberty',\n",
       "       'Medium Risk Recommendation(take extra precaution)',\n",
       "       'Akakunizo Episode 5 part 3', 'Lesson 8', 'Intro',\n",
       "       'Fake Investment Met A2', 'Replay Episode 1',\n",
       "       'Sotakai Episode 5 part 1',\n",
       "       '2.2.3.2 Banana Soil and Water Conservation Message',\n",
       "       'Akakunizo Episode 12 part 2',\n",
       "       'Benefits of using solar system, press 3',\n",
       "       'Sotakai Episode 3 part 2', 'Pharmacy or fate',\n",
       "       'Maize Field Pests', '4.1.1 How to register on Airtel Money',\n",
       "       'Replay Sotakai Episode 13', 'Replay Akakunizo Episode 5',\n",
       "       'Chilli Seedling care', 'WANJI GAME SELECTION',\n",
       "       '5.1.7 Where to access FP',\n",
       "       '2.5.2.2.1 Upland Rice Land Preparation Message',\n",
       "       '5.2.1.4 Care after abortion ', 'Lesson 3', 'News Intro',\n",
       "       'Akakunizo Episode 53 part 2',\n",
       "       'Q4 What would you do if someone you do not know asks you to send information or money',\n",
       "       'Fake Investment NoMet Q1',\n",
       "       'To learn how to reduce cash out fees and avoid agent fraud',\n",
       "       'Akakunizo Episode 8 part 2', 'Akakunizo Episode 28 part 3',\n",
       "       'Sotakai Episode 4 part 1', 'Sotakai  Episode 2 part 1',\n",
       "       'Akakunizo Episode 36 part 2', 'Akakunizo Episode 73 part 3',\n",
       "       'Akili message', 'Akakunizo Episode 13 part 3',\n",
       "       '4.1.2.3 How to send Airtel money', 'Maize planting',\n",
       "       'Episode 5 part 2', 'VT_For benefits of poultry business',\n",
       "       'Akakunizo Episode 12 part 3',\n",
       "       '5.2.3  Delivery in facility and check up after delivery',\n",
       "       'Fake Emergency NoMet A2', 'Replay Akakunizo Episode 66',\n",
       "       'Akakunizo Episode 23 part 3', 'Akakunizo Episode 29 part 2',\n",
       "       'Fake Prize NoMet', 'How to cash in', 'Sotakai Ep1 part2',\n",
       "       'Akakunizo Episode 46 part 2', 'Akakunizo Episode 6 part 1',\n",
       "       'To avoid yourself from scams', 'Akakunizo Episode 10 part 3',\n",
       "       '3.2.6.1 High Temp Information for the public Message',\n",
       "       'Problems with using traditional sources of energy, press 5',\n",
       "       'Fake Emergency NoMet Q1', 'PI Safety Met Q1',\n",
       "       '3.2.1.4 Thunder and Lightning Beach Management Units',\n",
       "       'Akakunizo Episode 30 part 3', 'Replay Akakunizo Episode 8',\n",
       "       'Akakunizo Episode 16 part 1',\n",
       "       'How to I use solar to Save money, press 4',\n",
       "       'Q1 Final: What would you do if someone you do not know asks you to send information or money',\n",
       "       'Akakunizo Episode 75 part 2', 'Akakunizo Episode 4 part 1',\n",
       "       'Akakunizo Episode 9 part 2', 'Improving hygiene and sanitation',\n",
       "       '7. Are you sure you want Hasan to hide his money at home?',\n",
       "       'If a solar system works in rainy days',\n",
       "       '2.5.1.1 Low Land Rice Seed Selection & Preparation Message',\n",
       "       'How should I evaluate digital loan options?', 'Episode 49 part 1',\n",
       "       'Sotakai  Episode 2 part 2', '2.4 Cassava Menu',\n",
       "       'Akakunizo Episode 44 part 3', 'Akakunizo Episode 14 part 1',\n",
       "       'Akakunizo Episode 14 part 2', 'Maize Planting',\n",
       "       'What a solar system is and how it works, press 1',\n",
       "       'To know how much it costs to transfer money',\n",
       "       '3.2.1.2 What to do when you hear thunder or see lightning `\\t\\t\\t\\tmessage',\n",
       "       '5.2.5.2 Keeping the baby warm',\n",
       "       '3.2.2.2.2 Preventing Disease Message',\n",
       "       'Reject myth or planning info', 'Akakunizo Episode 25 part 2',\n",
       "       'Using a smartphone effectively', 'Akakunizo Episode 31 part 3',\n",
       "       'Intro 4', 'SCENARIO6', 'Replay Akakunizo Episode 2', 'Outro 1',\n",
       "       'Tubal Ligation', 'Lesson 10', '2.7.2.1  Field Preparation',\n",
       "       'Akakunizo Episode 26 part 2', '3.2 Weather Advisories Menu',\n",
       "       'Q.4 Do you have a fever or are you feeling feverish?',\n",
       "       '2.1.1.1 Beans Land Preparation Message', '2.7 Chili menu',\n",
       "       'How much a solar system costs', '3. Money in the Bank/ Home',\n",
       "       'Akakunizo Episode 62 part 2',\n",
       "       'How using solar is beneficial to the environment, press 3',\n",
       "       'Akakunizo Episode 33 part 2',\n",
       "       'Which sub-county in Wakiso do you live in?',\n",
       "       'Akakunizo Episode 37 part 3', 'Fake Investment NoMet',\n",
       "       '2.2.1.2 Banana Banana Seed Selection Message', 'Vasectomy',\n",
       "       'AI_For benefits of poultry business', 'Chilli Pests',\n",
       "       'Akakunizo Episode 29 part 1', 'Akakunizo Episode 55 part 2',\n",
       "       'Akakunizo Episode 7 part 1', 'For data and airtime costs',\n",
       "       '2.6.6.1 Irish Potato Harvesting Message',\n",
       "       '3.2.3.4 Extension worker and local authority Message',\n",
       "       '3.2.4 Winds', 'Do you still live in central region',\n",
       "       'How can i support my partner', 'Episode 4 part 1',\n",
       "       'To learn how to use your phone to expand your sales',\n",
       "       'Maize Weeding', 'How to re-set your PIN using a Secret word',\n",
       "       'These are the Profam clinics in Luweero where you can present the referral code. Please select the clinic closest to you.',\n",
       "       'Replay Episode 3',\n",
       "       'How to tell a good quality solar product and who you can contact, press 1',\n",
       "       'Akakunizo Episode 24 part 2', 'Preventing Disease Message',\n",
       "       'Akakunizo Episode 21 part 2', 'Beans Planting',\n",
       "       'Fake Prize NoMet A1', 'Akakunizo Episode 16 part 3',\n",
       "       'Fake Investment NoMet A1',\n",
       "       'How to Save Water during Dry Spells and Drought',\n",
       "       'Akakunizo Episode 34 part 1',\n",
       "       '3.2.2.4 Managing rainwater on your farm Message', 'SCENARIO2',\n",
       "       '2.1.5.2 Beans Disease', 'Mobile money transactions',\n",
       "       'Prevention of others', 'Improving Hygiene and Sanitation',\n",
       "       'Sotakai Episode 12 part 2', 'Episode 4 part 3',\n",
       "       'North West/West nile Region', 'Fake Emergency Met',\n",
       "       'Sotakai Episode 5 part 2', 'MODULE 1', '2nd Message',\n",
       "       'Sotakai Episode 17 part 3', 'Episode 49 part 2',\n",
       "       'Episode 40 part 3', 'Akakunizo Episode 74 part 2',\n",
       "       'Akakunizo Episode 13 part 1', 'Akakunizo Episode 41 part 1',\n",
       "       'How to cash out', 'Akakunizo Episode 43 part 1',\n",
       "       '3.2.4.1 Information for Fishermen Message',\n",
       "       'Akakunizo Episode 18 part 3', 'Akakunizo Episode 71 part 1',\n",
       "       'How do I get HIV&STIs',\n",
       "       'VT_Choosing  a  breed of poultry for business',\n",
       "       '3.2.4.3 Information for Farmers Message',\n",
       "       'How to re-set your PIN using an Alternative number',\n",
       "       '3.2.5.2 Information for Beach Management Units Message',\n",
       "       'The different sizes of solar systems, press 3',\n",
       "       'Replay Akakunizo Episode 15',\n",
       "       'These are the Profam clinics in Rubaga division where you can present the referral code. Please select the clinic closest to you.',\n",
       "       'Replay Akakunizo Episode 60', 'Akakunizo Episode 46 part 3',\n",
       "       '2.2.6.1 Banana Harvesting Message', 'Lesson 2',\n",
       "       'Preparing for Dry Spells and Drought in your home',\n",
       "       'Akakunizo Episode 26 part 1', 'Fake Emergency NoMet A1',\n",
       "       'Do you still live in NE-Karamoja region',\n",
       "       'Akakunizo Episode 13 part 2', 'Replay Akakunizo Episode 11',\n",
       "       'Akakunizo Episode 20 part 1', 'Replay Sotakai Episode 2',\n",
       "       'Q9A: To keep your distance', 'Akakunizo Episode 15 part 2',\n",
       "       'Condom or trust',\n",
       "       'These are the Profam clinics in Bukomansimbi  where you can present the referral code. Please select the clinic closest to you.',\n",
       "       'Replay Akakunizo Episode 35', 'Akakunizo Episode 72 part 2',\n",
       "       'Sotakai  Episode 2 part 3', 'Akakunizo Episode 36 part 1',\n",
       "       'If a solar system works during rainy or cloudy days, press 2',\n",
       "       '5.2.5 Taking care of a new born baby Menu',\n",
       "       'How do I send or receive money on my phone',\n",
       "       'Sotakai  Episode 7 part 3', '6. Hand washing/ No',\n",
       "       'Episode 2 part 2',\n",
       "       '4. Are you sure that Hasan shouldn’t send his daughter to school?',\n",
       "       'Akakunizo Episode 55 part 1', '2.7.3.1  Nursery Bed Preparation',\n",
       "       'SCENARIO9', '2.5.1.6.2 Low Land Rice Threshing Message',\n",
       "       'Akakunizo Episode 68 part 3',\n",
       "       'Problems with using traditional sources of energy',\n",
       "       '16. End Message', '2.5.1.6.1 Low Land Rice Harvesting Message',\n",
       "       'A/B Test: IPA Welcome Menu',\n",
       "       '4.1.3.4.2 How to re-set your PIN using an Alternative number',\n",
       "       'Akakunizo Episode 4 part 3', '2.5.1.5.2 Low Land Rice Disease',\n",
       "       '3.2.5.3 Information for Road Users and Transporters Message',\n",
       "       'Akakunizo Episode 48 part 3', 'Akakunizo Episode 18 part 1',\n",
       "       'Akakunizo Episode 26 part 3',\n",
       "       '2.3.5.1.1 Maize Field Pests Message',\n",
       "       'Akakunizo Episode 45 part 3', 'Maize Soil Health',\n",
       "       'Which division in kampala do you live in?', '2.7.4 Transplanting',\n",
       "       '2.7.1 Seed Selection', 'Sotakai Ep1 part 2',\n",
       "       'Sotakai Episode 3 part 3', 'Akakunizo Episode 22 part 1',\n",
       "       'Fake Emergency Met A2', 'Maize Storage Pests',\n",
       "       'Akakunizo Episode 63 part 1', 'Banana Land Preparation',\n",
       "       'Akakunizo Episode 49 part 1', 'Akakunizo Episode 40 part 3',\n",
       "       'How to set an Alternative number',\n",
       "       '2.4.6.1 Cassava Harvesting Message',\n",
       "       'Akakunizo Episode 68 part 2', 'Banana Planting',\n",
       "       'Akakunizo Episode 17 part 3', 'SCENARIO7',\n",
       "       'Replay Akakunizo Episode 39',\n",
       "       '2.2.5 Banana Pest and Disease Menu',\n",
       "       '5.2.2.2  Planning for delivery', '12. Hand washing or No',\n",
       "       '5.1.1.4 Natural  menu', 'safety of COVID19 Vaccines,',\n",
       "       'Sotakai Episode 8 part 2', 'SCENARIO1',\n",
       "       'Akakunizo Episode 56 part 1',\n",
       "       '2.1.1.2 Beans Seed Selection Message',\n",
       "       '4.1.3.4.1 How to set an Alternative number',\n",
       "       'Akakunizo Episode 40 part 1', 'Akakunizo Episode 61 part 3',\n",
       "       '17. End Message', 'Akakunizo Episode 32 part 3',\n",
       "       'Educational benefits can I get from using solar',\n",
       "       '3.2.3.2 Preparing for Dry Spells and Drought on your farm Message',\n",
       "       'Akakunizo Episode 23 part 1', 'Low Risk Recommendation',\n",
       "       'Sotakai Episode 5 part 3', 'to create a start Date',\n",
       "       'Akakunizo Episode 25 part 3',\n",
       "       'VT_Raising shelter for your Birds.',\n",
       "       'Akakunizo Episode 56 part 3',\n",
       "       '3.2.2.2.1 Improving Hygiene and Sanitation Message',\n",
       "       'Privacy and scams', 'Replay Akakunizo Episode 17', 'Lesson 9',\n",
       "       'Sotakai Episode 10 part 2', '2.2.5.1 Banana Pest Message',\n",
       "       'Akakunizo Episode 8 part 1', 'Sotakai Episode 7 part 1',\n",
       "       'Replay Akakunizo Episode 12', 'Learn about loans',\n",
       "       'Replay Episode 4', 'Intro 3', 'Replay Akakunizo Episode 3',\n",
       "       '8. Hand washing or No', 'Best practices',\n",
       "       'Akakunizo Episode 57 part 3', 'Akakunizo Episode 22 part 3',\n",
       "       'Replay Akakunizo Episode 37', '2.4.5.2 Cassava Disease Message',\n",
       "       'AI_Choosing  a  breed of poultry for business',\n",
       "       '2.5.2.3 Upland Rice Soil Health Message',\n",
       "       'How to pay for my solar system, press 2',\n",
       "       '2.2.3 Banana Soil Health Menu',\n",
       "       'How to get support when my solar system is not working well or stopped working, press 2',\n",
       "       'Akakunizo Episode 75 part 3', 'Where do you live',\n",
       "       '2.3.2 Maize Planting Message',\n",
       "       '5.2.1 MISCARRIAGE AND ABORTION MENU',\n",
       "       'Akakunizo Episode 56 part 2', 'Akakunizo Episode 49 part 3',\n",
       "       'How to tell a good quality solar product',\n",
       "       '9. Are you sure you want Hasan to hide his money at home?',\n",
       "       'MODULE 27', '2.2.4 Banana Field Management Message',\n",
       "       'These are the Profam clinics in Masaka where you can present the referral code. Please select the clinic closest to you.',\n",
       "       '2.6.4 Irish Potato Weeding Message',\n",
       "       'Akakunizo Episode 46 part 1',\n",
       "       '3.2.4.2 Information for Beach Management Units Message',\n",
       "       'Replay Akakunizo Episode 52', '2.7.2.2 Field  Planting',\n",
       "       'Sotakai Episode 8 part 3', '3. How can you fight fake news?',\n",
       "       'Fake Prize Met Q1', 'Akakunizo Episode 28 part 1',\n",
       "       'Akakunizo Episode 52 part 3', 'Sotakai Episode 14 part 3',\n",
       "       'NW Westnile Region', '2.4.4 Cassava Weeding Message',\n",
       "       'Akakunizo Episode 12 part 1',\n",
       "       'health and safety benefits that can be attained from using solar, press 2',\n",
       "       'Akakunizo Episode 38 part 3', '2.1.4 Beans Weeding Message',\n",
       "       'Replay Akakunizo Episode 30', 'Akakunizo Episode 67 part 2',\n",
       "       'Report', 'Replay Akakunizo Episode 27',\n",
       "       'Sotakai Episode 32 part 3', 'Akakunizo Episode 57 part 2',\n",
       "       'Fake Prize Met A2', '2.1.3 Beans Soil Health Message',\n",
       "       'Fake Investment Met A1', 'Replay Akakunizo Episode 71',\n",
       "       '2.5.1.3.3 Low Land Rice Soil Health Message',\n",
       "       'Benefits and effectiveness of getting vaccinated, press 4',\n",
       "       'Fake Prize NoMet A2', 'To learn how to pay bills on your phone',\n",
       "       'Where to access FP', 'Akakunizo Episode 29 part 3',\n",
       "       'Intro Message', '2.1.6 Beans Harvesting Menu',\n",
       "       'High Risk Recommendation', '5. Money in the bank/ Home',\n",
       "       'To learn how set up a merchant account for your business',\n",
       "       '2.7.5.1  Pests',\n",
       "       '4.1.3.4.4 How to re-set your PIN using a Secret word',\n",
       "       'Akakunizo Episode 74 part 1', 'Q2B: To resist',\n",
       "       'S.Western Region', 'SCENARIO5', 'Akakunizo Episode 67 part 1',\n",
       "       'Replay Akakunizo Episode 22',\n",
       "       '3.2.3.3 How to Save Water during Dry Spells and Drought Message',\n",
       "       'Costs of solar system, press 2', 'Replay Akakunizo Episode 4',\n",
       "       'Replay Episode 2', 'Akakunizo Episode 17 part 2',\n",
       "       '5.2.5.3 Feeding and nutrition',\n",
       "       'How solar powered irrigation improve farm productivity',\n",
       "       '2.5.2 Upland Rice Menu', 'Akakunizo Episode 34 part 2',\n",
       "       '3.2.5.1 Information for Fishermen and Lake Transporters Message',\n",
       "       'Q4B: To wash your hands', 'Episode 8 part 1', 'MODULE 6',\n",
       "       '3.2.6.2 High Temp Information for Farmers Message',\n",
       "       '2.1.5.1 Beans Pest Message', 'Akakunizo Episode 44 part 1',\n",
       "       '2.5.1.2 Low land Rice Seed bed preparation & management Message',\n",
       "       'MODULE 7', '2.6.6 Irish Potato Harvesting Menu',\n",
       "       'Expired condoms', 'Banana Seed Selection',\n",
       "       '2.3.6.1 Maize Harvesting Message',\n",
       "       '2.3.5.1.2 Maize Storage Pests Message',\n",
       "       'Replay Akakunizo Episode 38',\n",
       "       'What to do when you hear thunder or see lightning',\n",
       "       'How to use solar to make money, press 3',\n",
       "       'Replay Akakunizo Episode 26', '3. Weather Selection', '5 HEALTH',\n",
       "       'Thank you Message', '1-9th Call Message',\n",
       "       'Digest welcome message', 'What is a solar system',\n",
       "       'Oral contraceptive message', 'How to register on Airtel Money',\n",
       "       'Maize Land Preparation', 'Choose digest', 'Drama menu',\n",
       "       'Q1. Help your community by becoming a 1-6-1 Ambassador! Can we count on you to tell someone important to you about the 3-2-1 Service?',\n",
       "       'Self Inject menu', 'Welcome Menu', 'Try IVR', 'Drama Intro',\n",
       "       'News Bulletin - Luganda'], dtype=object)"
      ]
     },
     "execution_count": 106,
     "metadata": {},
     "output_type": "execute_result"
    }
   ],
   "source": [
    "# what does block_title of last blcok look like\n",
    "joined_calls_records_multiple_blocks_df1.query('call_ended==block_global_created_at')['block_title'].unique()"
   ]
  },
  {
   "cell_type": "code",
   "execution_count": null,
   "id": "f5b10858",
   "metadata": {},
   "outputs": [],
   "source": []
  }
 ],
 "metadata": {
  "kernelspec": {
   "display_name": "Python 3 (ipykernel)",
   "language": "python",
   "name": "python3"
  },
  "language_info": {
   "codemirror_mode": {
    "name": "ipython",
    "version": 3
   },
   "file_extension": ".py",
   "mimetype": "text/x-python",
   "name": "python",
   "nbconvert_exporter": "python",
   "pygments_lexer": "ipython3",
   "version": "3.8.15"
  }
 },
 "nbformat": 4,
 "nbformat_minor": 5
}
