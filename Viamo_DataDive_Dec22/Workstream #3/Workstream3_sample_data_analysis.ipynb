{
  "nbformat": 4,
  "nbformat_minor": 0,
  "metadata": {
    "colab": {
      "provenance": [],
      "authorship_tag": "ABX9TyNawmuSbUNbYUinb2mlgrw7",
      "include_colab_link": true
    },
    "kernelspec": {
      "name": "python3",
      "display_name": "Python 3"
    },
    "language_info": {
      "name": "python"
    }
  },
  "cells": [
    {
      "cell_type": "markdown",
      "metadata": {
        "id": "view-in-github",
        "colab_type": "text"
      },
      "source": [
        "<a href=\"https://colab.research.google.com/github/datakind/Viamo_DataDive_Dec22/blob/main/Viamo_DataDive_Dec22/Workstream%20%233/Workstream3_sample_data_analysis.ipynb\" target=\"_parent\"><img src=\"https://colab.research.google.com/assets/colab-badge.svg\" alt=\"Open In Colab\"/></a>"
      ]
    },
    {
      "cell_type": "code",
      "execution_count": 1,
      "metadata": {
        "id": "Aa1PJRm3TZQe"
      },
      "outputs": [],
      "source": [
        "import os\n",
        "import pandas as pd\n",
        "from google.cloud import bigquery\n",
        "from google.cloud import bigquery\n",
        "\n",
        "import plotly.express as px"
      ]
    },
    {
      "cell_type": "code",
      "source": [
        "os.environ[\"GOOGLE_APPLICATION_CREDENTIALS\"]=f'.{os.sep}viamo-datakind-19b12e3872f5.json'"
      ],
      "metadata": {
        "id": "5IRWxOYyTbpD"
      },
      "execution_count": 2,
      "outputs": []
    },
    {
      "cell_type": "code",
      "source": [
        "query = \"WITH random_calls AS (select distinct(call_id) from `viamo-datakind.datadive.321_sessions_1122` WHERE call_date > '2022-01-01' order by rand() limit 25000) SELECT * FROM `viamo-datakind.datadive.321_sessions_1122` WHERE call_id IN (SELECT call_id FROM random_calls)\""
      ],
      "metadata": {
        "id": "DIta5DNFTrqQ"
      },
      "execution_count": 5,
      "outputs": []
    },
    {
      "cell_type": "code",
      "source": [
        "Bigquery_client = bigquery.Client()\n",
        "\n",
        "df = pd.read_gbq(query)"
      ],
      "metadata": {
        "id": "gXAXaeAwT1Z2"
      },
      "execution_count": 89,
      "outputs": []
    },
    {
      "cell_type": "code",
      "source": [
        "display(df)"
      ],
      "metadata": {
        "colab": {
          "base_uri": "https://localhost:8080/",
          "height": 661
        },
        "id": "ibR9h5LbT3e2",
        "outputId": "6334fe09-9406-4862-86e0-cea6aea4734a"
      },
      "execution_count": 90,
      "outputs": [
        {
          "output_type": "display_data",
          "data": {
            "text/plain": [
              "         call_date      dl_global_created_at  block_interaction_id  \\\n",
              "0       2022-09-01 2022-09-01 14:48:05+00:00   1412084847132247812   \n",
              "1       2022-06-20 2022-06-20 06:06:50+00:00   1385500522421158288   \n",
              "2       2022-01-10 2022-01-10 17:39:07+00:00   1327330727528293372   \n",
              "3       2022-06-08 2022-06-08 13:51:26+00:00   1381269314397014048   \n",
              "4       2022-10-25 2022-10-25 07:29:15+00:00   1431542404187918260   \n",
              "...            ...                       ...                   ...   \n",
              "166382  2022-09-15 2022-09-15 21:14:31+00:00   1417256504461421160   \n",
              "166383  2022-11-12 2022-11-12 21:56:04+00:00   1438283926153521476   \n",
              "166384  2022-11-07 2022-11-07 17:47:06+00:00   1436407084551301312   \n",
              "166385  2022-09-14 2022-09-14 07:44:14+00:00   1416687959969165100   \n",
              "166386  2022-10-05 2022-10-05 11:51:49+00:00   1424361890171642180   \n",
              "\n",
              "                    call_id        subscriber_id   block_global_created_at  \\\n",
              "0       1412084777443885192  1372602031210467244 2022-09-01 14:41:05+00:00   \n",
              "1       1385500218317341956  1379024278536061168 2022-06-20 06:04:53+00:00   \n",
              "2       1327329785319843552  1091807072855056384 2022-01-10 17:38:35+00:00   \n",
              "3       1381269240359161232  1370835363627011012 2022-06-08 13:51:08+00:00   \n",
              "4       1431541507475079816  1431541507374417824 2022-10-25 07:19:53+00:00   \n",
              "...                     ...                  ...                       ...   \n",
              "166382  1417256400434292944  1129903797230428160 2022-09-15 21:11:25+00:00   \n",
              "166383  1438283709760989640  1308509178117548536 2022-11-12 21:46:57+00:00   \n",
              "166384  1436405757926499776  1310714157695821420 2022-11-07 17:29:13+00:00   \n",
              "166385  1416685092864585432  1010203960113946624 2022-09-14 07:32:16+00:00   \n",
              "166386  1424360198080359572  1409981315998608692 2022-10-05 11:45:43+00:00   \n",
              "\n",
              "                  block_entry_at                  js_key  tree_version_set_id  \\\n",
              "0      2022-09-01 14:41:02+00:00  block_1569407018123_71                33137   \n",
              "1      2022-06-20 06:04:25+00:00  block_1600680768199_29                34769   \n",
              "2      2022-01-10 17:38:26+00:00  block_1621599286496_32                33565   \n",
              "3      2022-06-08 13:51:07+00:00  block_1473244957937_17                 2567   \n",
              "4      2022-10-25 07:18:25+00:00  block_1623681512038_80                34194   \n",
              "...                          ...                     ...                  ...   \n",
              "166382 2022-09-15 21:11:22+00:00  block_1660669691892_14                20450   \n",
              "166383 2022-11-12 21:46:50+00:00  block_1660669691892_14                20450   \n",
              "166384 2022-11-07 17:28:56+00:00  block_1660669691892_14                20450   \n",
              "166385 2022-09-14 07:32:10+00:00  block_1660669691892_14                20450   \n",
              "166386 2022-10-05 11:45:37+00:00  block_1660669691892_14                20450   \n",
              "\n",
              "                    call_started  ... phone_type  education_level  \\\n",
              "0      2022-09-01 14:40:46+00:00  ...       None             None   \n",
              "1      2022-06-20 06:03:13+00:00  ...       None             None   \n",
              "2      2022-01-10 17:34:41+00:00  ...       None             None   \n",
              "3      2022-06-08 13:50:49+00:00  ...       None             None   \n",
              "4      2022-10-25 07:14:52+00:00  ...       None             None   \n",
              "...                          ...  ...        ...              ...   \n",
              "166382 2022-09-15 21:10:57+00:00  ...       None             None   \n",
              "166383 2022-11-12 21:45:58+00:00  ...       None             None   \n",
              "166384 2022-11-07 17:23:39+00:00  ...       None             None   \n",
              "166385 2022-09-14 07:20:46+00:00  ...       None             None   \n",
              "166386 2022-10-05 11:38:54+00:00  ...       None             None   \n",
              "\n",
              "        income_source airtime_expense highest_expense_area  \\\n",
              "0                None            None                 None   \n",
              "1                None            None                 None   \n",
              "2                None            None                 None   \n",
              "3                None            None                 None   \n",
              "4                None            None                 None   \n",
              "...               ...             ...                  ...   \n",
              "166382           None            None                 None   \n",
              "166383           None            None                 None   \n",
              "166384           None            None                 None   \n",
              "166385           None            None                 None   \n",
              "166386           None            None                 None   \n",
              "\n",
              "        data_usage_consent    new_listener_ever    new_listener_year  \\\n",
              "0               No_Consent                 <NA>                 <NA>   \n",
              "1                     None                 <NA>                 <NA>   \n",
              "2                     None                 <NA>                 <NA>   \n",
              "3                     None                 <NA>                 <NA>   \n",
              "4                     None  1431541507374417824  1431541507374417824   \n",
              "...                    ...                  ...                  ...   \n",
              "166382                None                 <NA>                 <NA>   \n",
              "166383                None                 <NA>                 <NA>   \n",
              "166384                None                 <NA>                 <NA>   \n",
              "166385                None                 <NA>                 <NA>   \n",
              "166386                None                 <NA>                 <NA>   \n",
              "\n",
              "            new_caller_ever      new_caller_year  \n",
              "0                      <NA>                 <NA>  \n",
              "1                      <NA>                 <NA>  \n",
              "2                      <NA>                 <NA>  \n",
              "3                      <NA>                 <NA>  \n",
              "4       1431541507374417824  1431541507374417824  \n",
              "...                     ...                  ...  \n",
              "166382                 <NA>                 <NA>  \n",
              "166383                 <NA>                 <NA>  \n",
              "166384                 <NA>                 <NA>  \n",
              "166385                 <NA>                 <NA>  \n",
              "166386                 <NA>                 <NA>  \n",
              "\n",
              "[166387 rows x 44 columns]"
            ],
            "text/html": [
              "\n",
              "  <div id=\"df-a054acd1-a79b-4d3f-9b7f-053ec1fee0cd\">\n",
              "    <div class=\"colab-df-container\">\n",
              "      <div>\n",
              "<style scoped>\n",
              "    .dataframe tbody tr th:only-of-type {\n",
              "        vertical-align: middle;\n",
              "    }\n",
              "\n",
              "    .dataframe tbody tr th {\n",
              "        vertical-align: top;\n",
              "    }\n",
              "\n",
              "    .dataframe thead th {\n",
              "        text-align: right;\n",
              "    }\n",
              "</style>\n",
              "<table border=\"1\" class=\"dataframe\">\n",
              "  <thead>\n",
              "    <tr style=\"text-align: right;\">\n",
              "      <th></th>\n",
              "      <th>call_date</th>\n",
              "      <th>dl_global_created_at</th>\n",
              "      <th>block_interaction_id</th>\n",
              "      <th>call_id</th>\n",
              "      <th>subscriber_id</th>\n",
              "      <th>block_global_created_at</th>\n",
              "      <th>block_entry_at</th>\n",
              "      <th>js_key</th>\n",
              "      <th>tree_version_set_id</th>\n",
              "      <th>call_started</th>\n",
              "      <th>...</th>\n",
              "      <th>phone_type</th>\n",
              "      <th>education_level</th>\n",
              "      <th>income_source</th>\n",
              "      <th>airtime_expense</th>\n",
              "      <th>highest_expense_area</th>\n",
              "      <th>data_usage_consent</th>\n",
              "      <th>new_listener_ever</th>\n",
              "      <th>new_listener_year</th>\n",
              "      <th>new_caller_ever</th>\n",
              "      <th>new_caller_year</th>\n",
              "    </tr>\n",
              "  </thead>\n",
              "  <tbody>\n",
              "    <tr>\n",
              "      <th>0</th>\n",
              "      <td>2022-09-01</td>\n",
              "      <td>2022-09-01 14:48:05+00:00</td>\n",
              "      <td>1412084847132247812</td>\n",
              "      <td>1412084777443885192</td>\n",
              "      <td>1372602031210467244</td>\n",
              "      <td>2022-09-01 14:41:05+00:00</td>\n",
              "      <td>2022-09-01 14:41:02+00:00</td>\n",
              "      <td>block_1569407018123_71</td>\n",
              "      <td>33137</td>\n",
              "      <td>2022-09-01 14:40:46+00:00</td>\n",
              "      <td>...</td>\n",
              "      <td>None</td>\n",
              "      <td>None</td>\n",
              "      <td>None</td>\n",
              "      <td>None</td>\n",
              "      <td>None</td>\n",
              "      <td>No_Consent</td>\n",
              "      <td>&lt;NA&gt;</td>\n",
              "      <td>&lt;NA&gt;</td>\n",
              "      <td>&lt;NA&gt;</td>\n",
              "      <td>&lt;NA&gt;</td>\n",
              "    </tr>\n",
              "    <tr>\n",
              "      <th>1</th>\n",
              "      <td>2022-06-20</td>\n",
              "      <td>2022-06-20 06:06:50+00:00</td>\n",
              "      <td>1385500522421158288</td>\n",
              "      <td>1385500218317341956</td>\n",
              "      <td>1379024278536061168</td>\n",
              "      <td>2022-06-20 06:04:53+00:00</td>\n",
              "      <td>2022-06-20 06:04:25+00:00</td>\n",
              "      <td>block_1600680768199_29</td>\n",
              "      <td>34769</td>\n",
              "      <td>2022-06-20 06:03:13+00:00</td>\n",
              "      <td>...</td>\n",
              "      <td>None</td>\n",
              "      <td>None</td>\n",
              "      <td>None</td>\n",
              "      <td>None</td>\n",
              "      <td>None</td>\n",
              "      <td>None</td>\n",
              "      <td>&lt;NA&gt;</td>\n",
              "      <td>&lt;NA&gt;</td>\n",
              "      <td>&lt;NA&gt;</td>\n",
              "      <td>&lt;NA&gt;</td>\n",
              "    </tr>\n",
              "    <tr>\n",
              "      <th>2</th>\n",
              "      <td>2022-01-10</td>\n",
              "      <td>2022-01-10 17:39:07+00:00</td>\n",
              "      <td>1327330727528293372</td>\n",
              "      <td>1327329785319843552</td>\n",
              "      <td>1091807072855056384</td>\n",
              "      <td>2022-01-10 17:38:35+00:00</td>\n",
              "      <td>2022-01-10 17:38:26+00:00</td>\n",
              "      <td>block_1621599286496_32</td>\n",
              "      <td>33565</td>\n",
              "      <td>2022-01-10 17:34:41+00:00</td>\n",
              "      <td>...</td>\n",
              "      <td>None</td>\n",
              "      <td>None</td>\n",
              "      <td>None</td>\n",
              "      <td>None</td>\n",
              "      <td>None</td>\n",
              "      <td>None</td>\n",
              "      <td>&lt;NA&gt;</td>\n",
              "      <td>&lt;NA&gt;</td>\n",
              "      <td>&lt;NA&gt;</td>\n",
              "      <td>&lt;NA&gt;</td>\n",
              "    </tr>\n",
              "    <tr>\n",
              "      <th>3</th>\n",
              "      <td>2022-06-08</td>\n",
              "      <td>2022-06-08 13:51:26+00:00</td>\n",
              "      <td>1381269314397014048</td>\n",
              "      <td>1381269240359161232</td>\n",
              "      <td>1370835363627011012</td>\n",
              "      <td>2022-06-08 13:51:08+00:00</td>\n",
              "      <td>2022-06-08 13:51:07+00:00</td>\n",
              "      <td>block_1473244957937_17</td>\n",
              "      <td>2567</td>\n",
              "      <td>2022-06-08 13:50:49+00:00</td>\n",
              "      <td>...</td>\n",
              "      <td>None</td>\n",
              "      <td>None</td>\n",
              "      <td>None</td>\n",
              "      <td>None</td>\n",
              "      <td>None</td>\n",
              "      <td>None</td>\n",
              "      <td>&lt;NA&gt;</td>\n",
              "      <td>&lt;NA&gt;</td>\n",
              "      <td>&lt;NA&gt;</td>\n",
              "      <td>&lt;NA&gt;</td>\n",
              "    </tr>\n",
              "    <tr>\n",
              "      <th>4</th>\n",
              "      <td>2022-10-25</td>\n",
              "      <td>2022-10-25 07:29:15+00:00</td>\n",
              "      <td>1431542404187918260</td>\n",
              "      <td>1431541507475079816</td>\n",
              "      <td>1431541507374417824</td>\n",
              "      <td>2022-10-25 07:19:53+00:00</td>\n",
              "      <td>2022-10-25 07:18:25+00:00</td>\n",
              "      <td>block_1623681512038_80</td>\n",
              "      <td>34194</td>\n",
              "      <td>2022-10-25 07:14:52+00:00</td>\n",
              "      <td>...</td>\n",
              "      <td>None</td>\n",
              "      <td>None</td>\n",
              "      <td>None</td>\n",
              "      <td>None</td>\n",
              "      <td>None</td>\n",
              "      <td>None</td>\n",
              "      <td>1431541507374417824</td>\n",
              "      <td>1431541507374417824</td>\n",
              "      <td>1431541507374417824</td>\n",
              "      <td>1431541507374417824</td>\n",
              "    </tr>\n",
              "    <tr>\n",
              "      <th>...</th>\n",
              "      <td>...</td>\n",
              "      <td>...</td>\n",
              "      <td>...</td>\n",
              "      <td>...</td>\n",
              "      <td>...</td>\n",
              "      <td>...</td>\n",
              "      <td>...</td>\n",
              "      <td>...</td>\n",
              "      <td>...</td>\n",
              "      <td>...</td>\n",
              "      <td>...</td>\n",
              "      <td>...</td>\n",
              "      <td>...</td>\n",
              "      <td>...</td>\n",
              "      <td>...</td>\n",
              "      <td>...</td>\n",
              "      <td>...</td>\n",
              "      <td>...</td>\n",
              "      <td>...</td>\n",
              "      <td>...</td>\n",
              "      <td>...</td>\n",
              "    </tr>\n",
              "    <tr>\n",
              "      <th>166382</th>\n",
              "      <td>2022-09-15</td>\n",
              "      <td>2022-09-15 21:14:31+00:00</td>\n",
              "      <td>1417256504461421160</td>\n",
              "      <td>1417256400434292944</td>\n",
              "      <td>1129903797230428160</td>\n",
              "      <td>2022-09-15 21:11:25+00:00</td>\n",
              "      <td>2022-09-15 21:11:22+00:00</td>\n",
              "      <td>block_1660669691892_14</td>\n",
              "      <td>20450</td>\n",
              "      <td>2022-09-15 21:10:57+00:00</td>\n",
              "      <td>...</td>\n",
              "      <td>None</td>\n",
              "      <td>None</td>\n",
              "      <td>None</td>\n",
              "      <td>None</td>\n",
              "      <td>None</td>\n",
              "      <td>None</td>\n",
              "      <td>&lt;NA&gt;</td>\n",
              "      <td>&lt;NA&gt;</td>\n",
              "      <td>&lt;NA&gt;</td>\n",
              "      <td>&lt;NA&gt;</td>\n",
              "    </tr>\n",
              "    <tr>\n",
              "      <th>166383</th>\n",
              "      <td>2022-11-12</td>\n",
              "      <td>2022-11-12 21:56:04+00:00</td>\n",
              "      <td>1438283926153521476</td>\n",
              "      <td>1438283709760989640</td>\n",
              "      <td>1308509178117548536</td>\n",
              "      <td>2022-11-12 21:46:57+00:00</td>\n",
              "      <td>2022-11-12 21:46:50+00:00</td>\n",
              "      <td>block_1660669691892_14</td>\n",
              "      <td>20450</td>\n",
              "      <td>2022-11-12 21:45:58+00:00</td>\n",
              "      <td>...</td>\n",
              "      <td>None</td>\n",
              "      <td>None</td>\n",
              "      <td>None</td>\n",
              "      <td>None</td>\n",
              "      <td>None</td>\n",
              "      <td>None</td>\n",
              "      <td>&lt;NA&gt;</td>\n",
              "      <td>&lt;NA&gt;</td>\n",
              "      <td>&lt;NA&gt;</td>\n",
              "      <td>&lt;NA&gt;</td>\n",
              "    </tr>\n",
              "    <tr>\n",
              "      <th>166384</th>\n",
              "      <td>2022-11-07</td>\n",
              "      <td>2022-11-07 17:47:06+00:00</td>\n",
              "      <td>1436407084551301312</td>\n",
              "      <td>1436405757926499776</td>\n",
              "      <td>1310714157695821420</td>\n",
              "      <td>2022-11-07 17:29:13+00:00</td>\n",
              "      <td>2022-11-07 17:28:56+00:00</td>\n",
              "      <td>block_1660669691892_14</td>\n",
              "      <td>20450</td>\n",
              "      <td>2022-11-07 17:23:39+00:00</td>\n",
              "      <td>...</td>\n",
              "      <td>None</td>\n",
              "      <td>None</td>\n",
              "      <td>None</td>\n",
              "      <td>None</td>\n",
              "      <td>None</td>\n",
              "      <td>None</td>\n",
              "      <td>&lt;NA&gt;</td>\n",
              "      <td>&lt;NA&gt;</td>\n",
              "      <td>&lt;NA&gt;</td>\n",
              "      <td>&lt;NA&gt;</td>\n",
              "    </tr>\n",
              "    <tr>\n",
              "      <th>166385</th>\n",
              "      <td>2022-09-14</td>\n",
              "      <td>2022-09-14 07:44:14+00:00</td>\n",
              "      <td>1416687959969165100</td>\n",
              "      <td>1416685092864585432</td>\n",
              "      <td>1010203960113946624</td>\n",
              "      <td>2022-09-14 07:32:16+00:00</td>\n",
              "      <td>2022-09-14 07:32:10+00:00</td>\n",
              "      <td>block_1660669691892_14</td>\n",
              "      <td>20450</td>\n",
              "      <td>2022-09-14 07:20:46+00:00</td>\n",
              "      <td>...</td>\n",
              "      <td>None</td>\n",
              "      <td>None</td>\n",
              "      <td>None</td>\n",
              "      <td>None</td>\n",
              "      <td>None</td>\n",
              "      <td>None</td>\n",
              "      <td>&lt;NA&gt;</td>\n",
              "      <td>&lt;NA&gt;</td>\n",
              "      <td>&lt;NA&gt;</td>\n",
              "      <td>&lt;NA&gt;</td>\n",
              "    </tr>\n",
              "    <tr>\n",
              "      <th>166386</th>\n",
              "      <td>2022-10-05</td>\n",
              "      <td>2022-10-05 11:51:49+00:00</td>\n",
              "      <td>1424361890171642180</td>\n",
              "      <td>1424360198080359572</td>\n",
              "      <td>1409981315998608692</td>\n",
              "      <td>2022-10-05 11:45:43+00:00</td>\n",
              "      <td>2022-10-05 11:45:37+00:00</td>\n",
              "      <td>block_1660669691892_14</td>\n",
              "      <td>20450</td>\n",
              "      <td>2022-10-05 11:38:54+00:00</td>\n",
              "      <td>...</td>\n",
              "      <td>None</td>\n",
              "      <td>None</td>\n",
              "      <td>None</td>\n",
              "      <td>None</td>\n",
              "      <td>None</td>\n",
              "      <td>None</td>\n",
              "      <td>&lt;NA&gt;</td>\n",
              "      <td>&lt;NA&gt;</td>\n",
              "      <td>&lt;NA&gt;</td>\n",
              "      <td>&lt;NA&gt;</td>\n",
              "    </tr>\n",
              "  </tbody>\n",
              "</table>\n",
              "<p>166387 rows × 44 columns</p>\n",
              "</div>\n",
              "      <button class=\"colab-df-convert\" onclick=\"convertToInteractive('df-a054acd1-a79b-4d3f-9b7f-053ec1fee0cd')\"\n",
              "              title=\"Convert this dataframe to an interactive table.\"\n",
              "              style=\"display:none;\">\n",
              "        \n",
              "  <svg xmlns=\"http://www.w3.org/2000/svg\" height=\"24px\"viewBox=\"0 0 24 24\"\n",
              "       width=\"24px\">\n",
              "    <path d=\"M0 0h24v24H0V0z\" fill=\"none\"/>\n",
              "    <path d=\"M18.56 5.44l.94 2.06.94-2.06 2.06-.94-2.06-.94-.94-2.06-.94 2.06-2.06.94zm-11 1L8.5 8.5l.94-2.06 2.06-.94-2.06-.94L8.5 2.5l-.94 2.06-2.06.94zm10 10l.94 2.06.94-2.06 2.06-.94-2.06-.94-.94-2.06-.94 2.06-2.06.94z\"/><path d=\"M17.41 7.96l-1.37-1.37c-.4-.4-.92-.59-1.43-.59-.52 0-1.04.2-1.43.59L10.3 9.45l-7.72 7.72c-.78.78-.78 2.05 0 2.83L4 21.41c.39.39.9.59 1.41.59.51 0 1.02-.2 1.41-.59l7.78-7.78 2.81-2.81c.8-.78.8-2.07 0-2.86zM5.41 20L4 18.59l7.72-7.72 1.47 1.35L5.41 20z\"/>\n",
              "  </svg>\n",
              "      </button>\n",
              "      \n",
              "  <style>\n",
              "    .colab-df-container {\n",
              "      display:flex;\n",
              "      flex-wrap:wrap;\n",
              "      gap: 12px;\n",
              "    }\n",
              "\n",
              "    .colab-df-convert {\n",
              "      background-color: #E8F0FE;\n",
              "      border: none;\n",
              "      border-radius: 50%;\n",
              "      cursor: pointer;\n",
              "      display: none;\n",
              "      fill: #1967D2;\n",
              "      height: 32px;\n",
              "      padding: 0 0 0 0;\n",
              "      width: 32px;\n",
              "    }\n",
              "\n",
              "    .colab-df-convert:hover {\n",
              "      background-color: #E2EBFA;\n",
              "      box-shadow: 0px 1px 2px rgba(60, 64, 67, 0.3), 0px 1px 3px 1px rgba(60, 64, 67, 0.15);\n",
              "      fill: #174EA6;\n",
              "    }\n",
              "\n",
              "    [theme=dark] .colab-df-convert {\n",
              "      background-color: #3B4455;\n",
              "      fill: #D2E3FC;\n",
              "    }\n",
              "\n",
              "    [theme=dark] .colab-df-convert:hover {\n",
              "      background-color: #434B5C;\n",
              "      box-shadow: 0px 1px 3px 1px rgba(0, 0, 0, 0.15);\n",
              "      filter: drop-shadow(0px 1px 2px rgba(0, 0, 0, 0.3));\n",
              "      fill: #FFFFFF;\n",
              "    }\n",
              "  </style>\n",
              "\n",
              "      <script>\n",
              "        const buttonEl =\n",
              "          document.querySelector('#df-a054acd1-a79b-4d3f-9b7f-053ec1fee0cd button.colab-df-convert');\n",
              "        buttonEl.style.display =\n",
              "          google.colab.kernel.accessAllowed ? 'block' : 'none';\n",
              "\n",
              "        async function convertToInteractive(key) {\n",
              "          const element = document.querySelector('#df-a054acd1-a79b-4d3f-9b7f-053ec1fee0cd');\n",
              "          const dataTable =\n",
              "            await google.colab.kernel.invokeFunction('convertToInteractive',\n",
              "                                                     [key], {});\n",
              "          if (!dataTable) return;\n",
              "\n",
              "          const docLinkHtml = 'Like what you see? Visit the ' +\n",
              "            '<a target=\"_blank\" href=https://colab.research.google.com/notebooks/data_table.ipynb>data table notebook</a>'\n",
              "            + ' to learn more about interactive tables.';\n",
              "          element.innerHTML = '';\n",
              "          dataTable['output_type'] = 'display_data';\n",
              "          await google.colab.output.renderOutput(dataTable, element);\n",
              "          const docLink = document.createElement('div');\n",
              "          docLink.innerHTML = docLinkHtml;\n",
              "          element.appendChild(docLink);\n",
              "        }\n",
              "      </script>\n",
              "    </div>\n",
              "  </div>\n",
              "  "
            ]
          },
          "metadata": {}
        }
      ]
    },
    {
      "cell_type": "code",
      "source": [
        "len(df)"
      ],
      "metadata": {
        "colab": {
          "base_uri": "https://localhost:8080/"
        },
        "id": "-Pt8mCWDT4rx",
        "outputId": "661869cb-3461-4de5-8257-c88f9ace3ea8"
      },
      "execution_count": 91,
      "outputs": [
        {
          "output_type": "execute_result",
          "data": {
            "text/plain": [
              "166387"
            ]
          },
          "metadata": {},
          "execution_count": 91
        }
      ]
    },
    {
      "cell_type": "code",
      "source": [
        "df['call_id'].nunique()"
      ],
      "metadata": {
        "colab": {
          "base_uri": "https://localhost:8080/"
        },
        "id": "HH29mXmPWBNY",
        "outputId": "89eb9b68-8f28-4893-b255-85325cbd2d13"
      },
      "execution_count": 92,
      "outputs": [
        {
          "output_type": "execute_result",
          "data": {
            "text/plain": [
              "25000"
            ]
          },
          "metadata": {},
          "execution_count": 92
        }
      ]
    },
    {
      "cell_type": "markdown",
      "source": [
        "We have a sample of 25,000 calls with ~165K block interactions in 2022."
      ],
      "metadata": {
        "id": "lB_Djtg8jc_f"
      }
    },
    {
      "cell_type": "markdown",
      "source": [
        "Across the sample, there are ~3K unique block messages."
      ],
      "metadata": {
        "id": "wBlTpPM_jiOy"
      }
    },
    {
      "cell_type": "code",
      "source": [
        "df['js_key'].nunique()"
      ],
      "metadata": {
        "colab": {
          "base_uri": "https://localhost:8080/"
        },
        "id": "GbhCtX0yXHAk",
        "outputId": "aa27d0ca-a1bc-445e-96c9-5823405da66b"
      },
      "execution_count": 93,
      "outputs": [
        {
          "output_type": "execute_result",
          "data": {
            "text/plain": [
              "3101"
            ]
          },
          "metadata": {},
          "execution_count": 93
        }
      ]
    },
    {
      "cell_type": "markdown",
      "source": [
        "Calls by country in sample"
      ],
      "metadata": {
        "id": "d6gnJxC2jyby"
      }
    },
    {
      "cell_type": "code",
      "source": [
        "call_counts = df.groupby(['organization_country'])['call_id'].nunique().reset_index(name='unique_calls')\n",
        "px.bar(call_counts, x='organization_country', y='unique_calls')"
      ],
      "metadata": {
        "colab": {
          "base_uri": "https://localhost:8080/",
          "height": 542
        },
        "id": "nVPJ_tC4ZK4B",
        "outputId": "bc10c6e2-1bbe-4259-8469-757b7a79b6ef"
      },
      "execution_count": 94,
      "outputs": [
        {
          "output_type": "display_data",
          "data": {
            "text/html": [
              "<html>\n",
              "<head><meta charset=\"utf-8\" /></head>\n",
              "<body>\n",
              "    <div>            <script src=\"https://cdnjs.cloudflare.com/ajax/libs/mathjax/2.7.5/MathJax.js?config=TeX-AMS-MML_SVG\"></script><script type=\"text/javascript\">if (window.MathJax) {MathJax.Hub.Config({SVG: {font: \"STIX-Web\"}});}</script>                <script type=\"text/javascript\">window.PlotlyConfig = {MathJaxConfig: 'local'};</script>\n",
              "        <script src=\"https://cdn.plot.ly/plotly-2.8.3.min.js\"></script>                <div id=\"d8a65c76-5568-4636-a740-74117ca78c28\" class=\"plotly-graph-div\" style=\"height:525px; width:100%;\"></div>            <script type=\"text/javascript\">                                    window.PLOTLYENV=window.PLOTLYENV || {};                                    if (document.getElementById(\"d8a65c76-5568-4636-a740-74117ca78c28\")) {                    Plotly.newPlot(                        \"d8a65c76-5568-4636-a740-74117ca78c28\",                        [{\"alignmentgroup\":\"True\",\"hovertemplate\":\"organization_country=%{x}<br>unique_calls=%{y}<extra></extra>\",\"legendgroup\":\"\",\"marker\":{\"color\":\"#636efa\",\"pattern\":{\"shape\":\"\"}},\"name\":\"\",\"offsetgroup\":\"\",\"orientation\":\"v\",\"showlegend\":false,\"textposition\":\"auto\",\"x\":[\"Mali\",\"Nigeria\",\"Uganda\"],\"xaxis\":\"x\",\"y\":[15267,5044,4689],\"yaxis\":\"y\",\"type\":\"bar\"}],                        {\"template\":{\"data\":{\"bar\":[{\"error_x\":{\"color\":\"#2a3f5f\"},\"error_y\":{\"color\":\"#2a3f5f\"},\"marker\":{\"line\":{\"color\":\"#E5ECF6\",\"width\":0.5},\"pattern\":{\"fillmode\":\"overlay\",\"size\":10,\"solidity\":0.2}},\"type\":\"bar\"}],\"barpolar\":[{\"marker\":{\"line\":{\"color\":\"#E5ECF6\",\"width\":0.5},\"pattern\":{\"fillmode\":\"overlay\",\"size\":10,\"solidity\":0.2}},\"type\":\"barpolar\"}],\"carpet\":[{\"aaxis\":{\"endlinecolor\":\"#2a3f5f\",\"gridcolor\":\"white\",\"linecolor\":\"white\",\"minorgridcolor\":\"white\",\"startlinecolor\":\"#2a3f5f\"},\"baxis\":{\"endlinecolor\":\"#2a3f5f\",\"gridcolor\":\"white\",\"linecolor\":\"white\",\"minorgridcolor\":\"white\",\"startlinecolor\":\"#2a3f5f\"},\"type\":\"carpet\"}],\"choropleth\":[{\"colorbar\":{\"outlinewidth\":0,\"ticks\":\"\"},\"type\":\"choropleth\"}],\"contour\":[{\"colorbar\":{\"outlinewidth\":0,\"ticks\":\"\"},\"colorscale\":[[0.0,\"#0d0887\"],[0.1111111111111111,\"#46039f\"],[0.2222222222222222,\"#7201a8\"],[0.3333333333333333,\"#9c179e\"],[0.4444444444444444,\"#bd3786\"],[0.5555555555555556,\"#d8576b\"],[0.6666666666666666,\"#ed7953\"],[0.7777777777777778,\"#fb9f3a\"],[0.8888888888888888,\"#fdca26\"],[1.0,\"#f0f921\"]],\"type\":\"contour\"}],\"contourcarpet\":[{\"colorbar\":{\"outlinewidth\":0,\"ticks\":\"\"},\"type\":\"contourcarpet\"}],\"heatmap\":[{\"colorbar\":{\"outlinewidth\":0,\"ticks\":\"\"},\"colorscale\":[[0.0,\"#0d0887\"],[0.1111111111111111,\"#46039f\"],[0.2222222222222222,\"#7201a8\"],[0.3333333333333333,\"#9c179e\"],[0.4444444444444444,\"#bd3786\"],[0.5555555555555556,\"#d8576b\"],[0.6666666666666666,\"#ed7953\"],[0.7777777777777778,\"#fb9f3a\"],[0.8888888888888888,\"#fdca26\"],[1.0,\"#f0f921\"]],\"type\":\"heatmap\"}],\"heatmapgl\":[{\"colorbar\":{\"outlinewidth\":0,\"ticks\":\"\"},\"colorscale\":[[0.0,\"#0d0887\"],[0.1111111111111111,\"#46039f\"],[0.2222222222222222,\"#7201a8\"],[0.3333333333333333,\"#9c179e\"],[0.4444444444444444,\"#bd3786\"],[0.5555555555555556,\"#d8576b\"],[0.6666666666666666,\"#ed7953\"],[0.7777777777777778,\"#fb9f3a\"],[0.8888888888888888,\"#fdca26\"],[1.0,\"#f0f921\"]],\"type\":\"heatmapgl\"}],\"histogram\":[{\"marker\":{\"pattern\":{\"fillmode\":\"overlay\",\"size\":10,\"solidity\":0.2}},\"type\":\"histogram\"}],\"histogram2d\":[{\"colorbar\":{\"outlinewidth\":0,\"ticks\":\"\"},\"colorscale\":[[0.0,\"#0d0887\"],[0.1111111111111111,\"#46039f\"],[0.2222222222222222,\"#7201a8\"],[0.3333333333333333,\"#9c179e\"],[0.4444444444444444,\"#bd3786\"],[0.5555555555555556,\"#d8576b\"],[0.6666666666666666,\"#ed7953\"],[0.7777777777777778,\"#fb9f3a\"],[0.8888888888888888,\"#fdca26\"],[1.0,\"#f0f921\"]],\"type\":\"histogram2d\"}],\"histogram2dcontour\":[{\"colorbar\":{\"outlinewidth\":0,\"ticks\":\"\"},\"colorscale\":[[0.0,\"#0d0887\"],[0.1111111111111111,\"#46039f\"],[0.2222222222222222,\"#7201a8\"],[0.3333333333333333,\"#9c179e\"],[0.4444444444444444,\"#bd3786\"],[0.5555555555555556,\"#d8576b\"],[0.6666666666666666,\"#ed7953\"],[0.7777777777777778,\"#fb9f3a\"],[0.8888888888888888,\"#fdca26\"],[1.0,\"#f0f921\"]],\"type\":\"histogram2dcontour\"}],\"mesh3d\":[{\"colorbar\":{\"outlinewidth\":0,\"ticks\":\"\"},\"type\":\"mesh3d\"}],\"parcoords\":[{\"line\":{\"colorbar\":{\"outlinewidth\":0,\"ticks\":\"\"}},\"type\":\"parcoords\"}],\"pie\":[{\"automargin\":true,\"type\":\"pie\"}],\"scatter\":[{\"marker\":{\"colorbar\":{\"outlinewidth\":0,\"ticks\":\"\"}},\"type\":\"scatter\"}],\"scatter3d\":[{\"line\":{\"colorbar\":{\"outlinewidth\":0,\"ticks\":\"\"}},\"marker\":{\"colorbar\":{\"outlinewidth\":0,\"ticks\":\"\"}},\"type\":\"scatter3d\"}],\"scattercarpet\":[{\"marker\":{\"colorbar\":{\"outlinewidth\":0,\"ticks\":\"\"}},\"type\":\"scattercarpet\"}],\"scattergeo\":[{\"marker\":{\"colorbar\":{\"outlinewidth\":0,\"ticks\":\"\"}},\"type\":\"scattergeo\"}],\"scattergl\":[{\"marker\":{\"colorbar\":{\"outlinewidth\":0,\"ticks\":\"\"}},\"type\":\"scattergl\"}],\"scattermapbox\":[{\"marker\":{\"colorbar\":{\"outlinewidth\":0,\"ticks\":\"\"}},\"type\":\"scattermapbox\"}],\"scatterpolar\":[{\"marker\":{\"colorbar\":{\"outlinewidth\":0,\"ticks\":\"\"}},\"type\":\"scatterpolar\"}],\"scatterpolargl\":[{\"marker\":{\"colorbar\":{\"outlinewidth\":0,\"ticks\":\"\"}},\"type\":\"scatterpolargl\"}],\"scatterternary\":[{\"marker\":{\"colorbar\":{\"outlinewidth\":0,\"ticks\":\"\"}},\"type\":\"scatterternary\"}],\"surface\":[{\"colorbar\":{\"outlinewidth\":0,\"ticks\":\"\"},\"colorscale\":[[0.0,\"#0d0887\"],[0.1111111111111111,\"#46039f\"],[0.2222222222222222,\"#7201a8\"],[0.3333333333333333,\"#9c179e\"],[0.4444444444444444,\"#bd3786\"],[0.5555555555555556,\"#d8576b\"],[0.6666666666666666,\"#ed7953\"],[0.7777777777777778,\"#fb9f3a\"],[0.8888888888888888,\"#fdca26\"],[1.0,\"#f0f921\"]],\"type\":\"surface\"}],\"table\":[{\"cells\":{\"fill\":{\"color\":\"#EBF0F8\"},\"line\":{\"color\":\"white\"}},\"header\":{\"fill\":{\"color\":\"#C8D4E3\"},\"line\":{\"color\":\"white\"}},\"type\":\"table\"}]},\"layout\":{\"annotationdefaults\":{\"arrowcolor\":\"#2a3f5f\",\"arrowhead\":0,\"arrowwidth\":1},\"autotypenumbers\":\"strict\",\"coloraxis\":{\"colorbar\":{\"outlinewidth\":0,\"ticks\":\"\"}},\"colorscale\":{\"diverging\":[[0,\"#8e0152\"],[0.1,\"#c51b7d\"],[0.2,\"#de77ae\"],[0.3,\"#f1b6da\"],[0.4,\"#fde0ef\"],[0.5,\"#f7f7f7\"],[0.6,\"#e6f5d0\"],[0.7,\"#b8e186\"],[0.8,\"#7fbc41\"],[0.9,\"#4d9221\"],[1,\"#276419\"]],\"sequential\":[[0.0,\"#0d0887\"],[0.1111111111111111,\"#46039f\"],[0.2222222222222222,\"#7201a8\"],[0.3333333333333333,\"#9c179e\"],[0.4444444444444444,\"#bd3786\"],[0.5555555555555556,\"#d8576b\"],[0.6666666666666666,\"#ed7953\"],[0.7777777777777778,\"#fb9f3a\"],[0.8888888888888888,\"#fdca26\"],[1.0,\"#f0f921\"]],\"sequentialminus\":[[0.0,\"#0d0887\"],[0.1111111111111111,\"#46039f\"],[0.2222222222222222,\"#7201a8\"],[0.3333333333333333,\"#9c179e\"],[0.4444444444444444,\"#bd3786\"],[0.5555555555555556,\"#d8576b\"],[0.6666666666666666,\"#ed7953\"],[0.7777777777777778,\"#fb9f3a\"],[0.8888888888888888,\"#fdca26\"],[1.0,\"#f0f921\"]]},\"colorway\":[\"#636efa\",\"#EF553B\",\"#00cc96\",\"#ab63fa\",\"#FFA15A\",\"#19d3f3\",\"#FF6692\",\"#B6E880\",\"#FF97FF\",\"#FECB52\"],\"font\":{\"color\":\"#2a3f5f\"},\"geo\":{\"bgcolor\":\"white\",\"lakecolor\":\"white\",\"landcolor\":\"#E5ECF6\",\"showlakes\":true,\"showland\":true,\"subunitcolor\":\"white\"},\"hoverlabel\":{\"align\":\"left\"},\"hovermode\":\"closest\",\"mapbox\":{\"style\":\"light\"},\"paper_bgcolor\":\"white\",\"plot_bgcolor\":\"#E5ECF6\",\"polar\":{\"angularaxis\":{\"gridcolor\":\"white\",\"linecolor\":\"white\",\"ticks\":\"\"},\"bgcolor\":\"#E5ECF6\",\"radialaxis\":{\"gridcolor\":\"white\",\"linecolor\":\"white\",\"ticks\":\"\"}},\"scene\":{\"xaxis\":{\"backgroundcolor\":\"#E5ECF6\",\"gridcolor\":\"white\",\"gridwidth\":2,\"linecolor\":\"white\",\"showbackground\":true,\"ticks\":\"\",\"zerolinecolor\":\"white\"},\"yaxis\":{\"backgroundcolor\":\"#E5ECF6\",\"gridcolor\":\"white\",\"gridwidth\":2,\"linecolor\":\"white\",\"showbackground\":true,\"ticks\":\"\",\"zerolinecolor\":\"white\"},\"zaxis\":{\"backgroundcolor\":\"#E5ECF6\",\"gridcolor\":\"white\",\"gridwidth\":2,\"linecolor\":\"white\",\"showbackground\":true,\"ticks\":\"\",\"zerolinecolor\":\"white\"}},\"shapedefaults\":{\"line\":{\"color\":\"#2a3f5f\"}},\"ternary\":{\"aaxis\":{\"gridcolor\":\"white\",\"linecolor\":\"white\",\"ticks\":\"\"},\"baxis\":{\"gridcolor\":\"white\",\"linecolor\":\"white\",\"ticks\":\"\"},\"bgcolor\":\"#E5ECF6\",\"caxis\":{\"gridcolor\":\"white\",\"linecolor\":\"white\",\"ticks\":\"\"}},\"title\":{\"x\":0.05},\"xaxis\":{\"automargin\":true,\"gridcolor\":\"white\",\"linecolor\":\"white\",\"ticks\":\"\",\"title\":{\"standoff\":15},\"zerolinecolor\":\"white\",\"zerolinewidth\":2},\"yaxis\":{\"automargin\":true,\"gridcolor\":\"white\",\"linecolor\":\"white\",\"ticks\":\"\",\"title\":{\"standoff\":15},\"zerolinecolor\":\"white\",\"zerolinewidth\":2}}},\"xaxis\":{\"anchor\":\"y\",\"domain\":[0.0,1.0],\"title\":{\"text\":\"organization_country\"}},\"yaxis\":{\"anchor\":\"x\",\"domain\":[0.0,1.0],\"title\":{\"text\":\"unique_calls\"}},\"legend\":{\"tracegroupgap\":0},\"margin\":{\"t\":60},\"barmode\":\"relative\"},                        {\"responsive\": true}                    ).then(function(){\n",
              "                            \n",
              "var gd = document.getElementById('d8a65c76-5568-4636-a740-74117ca78c28');\n",
              "var x = new MutationObserver(function (mutations, observer) {{\n",
              "        var display = window.getComputedStyle(gd).display;\n",
              "        if (!display || display === 'none') {{\n",
              "            console.log([gd, 'removed!']);\n",
              "            Plotly.purge(gd);\n",
              "            observer.disconnect();\n",
              "        }}\n",
              "}});\n",
              "\n",
              "// Listen for the removal of the full notebook cells\n",
              "var notebookContainer = gd.closest('#notebook-container');\n",
              "if (notebookContainer) {{\n",
              "    x.observe(notebookContainer, {childList: true});\n",
              "}}\n",
              "\n",
              "// Listen for the clearing of the current output cell\n",
              "var outputEl = gd.closest('.output');\n",
              "if (outputEl) {{\n",
              "    x.observe(outputEl, {childList: true});\n",
              "}}\n",
              "\n",
              "                        })                };                            </script>        </div>\n",
              "</body>\n",
              "</html>"
            ]
          },
          "metadata": {}
        }
      ]
    },
    {
      "cell_type": "markdown",
      "source": [
        "Unique js_key (block content) by country in sample"
      ],
      "metadata": {
        "id": "lYuQ9QABj9hS"
      }
    },
    {
      "cell_type": "code",
      "source": [
        "block_counts = df.groupby(['organization_country'])['js_key'].nunique().reset_index(name='unique_blocks')\n",
        "px.bar(block_counts, x='organization_country', y='unique_blocks')"
      ],
      "metadata": {
        "colab": {
          "base_uri": "https://localhost:8080/",
          "height": 542
        },
        "id": "9yvTKVx5XStu",
        "outputId": "f1321842-ce0d-47f4-bed1-b64e476786c6"
      },
      "execution_count": 95,
      "outputs": [
        {
          "output_type": "display_data",
          "data": {
            "text/html": [
              "<html>\n",
              "<head><meta charset=\"utf-8\" /></head>\n",
              "<body>\n",
              "    <div>            <script src=\"https://cdnjs.cloudflare.com/ajax/libs/mathjax/2.7.5/MathJax.js?config=TeX-AMS-MML_SVG\"></script><script type=\"text/javascript\">if (window.MathJax) {MathJax.Hub.Config({SVG: {font: \"STIX-Web\"}});}</script>                <script type=\"text/javascript\">window.PlotlyConfig = {MathJaxConfig: 'local'};</script>\n",
              "        <script src=\"https://cdn.plot.ly/plotly-2.8.3.min.js\"></script>                <div id=\"9924af3a-d5dd-42de-be79-ae17d2b6e02b\" class=\"plotly-graph-div\" style=\"height:525px; width:100%;\"></div>            <script type=\"text/javascript\">                                    window.PLOTLYENV=window.PLOTLYENV || {};                                    if (document.getElementById(\"9924af3a-d5dd-42de-be79-ae17d2b6e02b\")) {                    Plotly.newPlot(                        \"9924af3a-d5dd-42de-be79-ae17d2b6e02b\",                        [{\"alignmentgroup\":\"True\",\"hovertemplate\":\"organization_country=%{x}<br>unique_blocks=%{y}<extra></extra>\",\"legendgroup\":\"\",\"marker\":{\"color\":\"#636efa\",\"pattern\":{\"shape\":\"\"}},\"name\":\"\",\"offsetgroup\":\"\",\"orientation\":\"v\",\"showlegend\":false,\"textposition\":\"auto\",\"x\":[\"Mali\",\"Nigeria\",\"Uganda\"],\"xaxis\":\"x\",\"y\":[1353,769,1059],\"yaxis\":\"y\",\"type\":\"bar\"}],                        {\"template\":{\"data\":{\"bar\":[{\"error_x\":{\"color\":\"#2a3f5f\"},\"error_y\":{\"color\":\"#2a3f5f\"},\"marker\":{\"line\":{\"color\":\"#E5ECF6\",\"width\":0.5},\"pattern\":{\"fillmode\":\"overlay\",\"size\":10,\"solidity\":0.2}},\"type\":\"bar\"}],\"barpolar\":[{\"marker\":{\"line\":{\"color\":\"#E5ECF6\",\"width\":0.5},\"pattern\":{\"fillmode\":\"overlay\",\"size\":10,\"solidity\":0.2}},\"type\":\"barpolar\"}],\"carpet\":[{\"aaxis\":{\"endlinecolor\":\"#2a3f5f\",\"gridcolor\":\"white\",\"linecolor\":\"white\",\"minorgridcolor\":\"white\",\"startlinecolor\":\"#2a3f5f\"},\"baxis\":{\"endlinecolor\":\"#2a3f5f\",\"gridcolor\":\"white\",\"linecolor\":\"white\",\"minorgridcolor\":\"white\",\"startlinecolor\":\"#2a3f5f\"},\"type\":\"carpet\"}],\"choropleth\":[{\"colorbar\":{\"outlinewidth\":0,\"ticks\":\"\"},\"type\":\"choropleth\"}],\"contour\":[{\"colorbar\":{\"outlinewidth\":0,\"ticks\":\"\"},\"colorscale\":[[0.0,\"#0d0887\"],[0.1111111111111111,\"#46039f\"],[0.2222222222222222,\"#7201a8\"],[0.3333333333333333,\"#9c179e\"],[0.4444444444444444,\"#bd3786\"],[0.5555555555555556,\"#d8576b\"],[0.6666666666666666,\"#ed7953\"],[0.7777777777777778,\"#fb9f3a\"],[0.8888888888888888,\"#fdca26\"],[1.0,\"#f0f921\"]],\"type\":\"contour\"}],\"contourcarpet\":[{\"colorbar\":{\"outlinewidth\":0,\"ticks\":\"\"},\"type\":\"contourcarpet\"}],\"heatmap\":[{\"colorbar\":{\"outlinewidth\":0,\"ticks\":\"\"},\"colorscale\":[[0.0,\"#0d0887\"],[0.1111111111111111,\"#46039f\"],[0.2222222222222222,\"#7201a8\"],[0.3333333333333333,\"#9c179e\"],[0.4444444444444444,\"#bd3786\"],[0.5555555555555556,\"#d8576b\"],[0.6666666666666666,\"#ed7953\"],[0.7777777777777778,\"#fb9f3a\"],[0.8888888888888888,\"#fdca26\"],[1.0,\"#f0f921\"]],\"type\":\"heatmap\"}],\"heatmapgl\":[{\"colorbar\":{\"outlinewidth\":0,\"ticks\":\"\"},\"colorscale\":[[0.0,\"#0d0887\"],[0.1111111111111111,\"#46039f\"],[0.2222222222222222,\"#7201a8\"],[0.3333333333333333,\"#9c179e\"],[0.4444444444444444,\"#bd3786\"],[0.5555555555555556,\"#d8576b\"],[0.6666666666666666,\"#ed7953\"],[0.7777777777777778,\"#fb9f3a\"],[0.8888888888888888,\"#fdca26\"],[1.0,\"#f0f921\"]],\"type\":\"heatmapgl\"}],\"histogram\":[{\"marker\":{\"pattern\":{\"fillmode\":\"overlay\",\"size\":10,\"solidity\":0.2}},\"type\":\"histogram\"}],\"histogram2d\":[{\"colorbar\":{\"outlinewidth\":0,\"ticks\":\"\"},\"colorscale\":[[0.0,\"#0d0887\"],[0.1111111111111111,\"#46039f\"],[0.2222222222222222,\"#7201a8\"],[0.3333333333333333,\"#9c179e\"],[0.4444444444444444,\"#bd3786\"],[0.5555555555555556,\"#d8576b\"],[0.6666666666666666,\"#ed7953\"],[0.7777777777777778,\"#fb9f3a\"],[0.8888888888888888,\"#fdca26\"],[1.0,\"#f0f921\"]],\"type\":\"histogram2d\"}],\"histogram2dcontour\":[{\"colorbar\":{\"outlinewidth\":0,\"ticks\":\"\"},\"colorscale\":[[0.0,\"#0d0887\"],[0.1111111111111111,\"#46039f\"],[0.2222222222222222,\"#7201a8\"],[0.3333333333333333,\"#9c179e\"],[0.4444444444444444,\"#bd3786\"],[0.5555555555555556,\"#d8576b\"],[0.6666666666666666,\"#ed7953\"],[0.7777777777777778,\"#fb9f3a\"],[0.8888888888888888,\"#fdca26\"],[1.0,\"#f0f921\"]],\"type\":\"histogram2dcontour\"}],\"mesh3d\":[{\"colorbar\":{\"outlinewidth\":0,\"ticks\":\"\"},\"type\":\"mesh3d\"}],\"parcoords\":[{\"line\":{\"colorbar\":{\"outlinewidth\":0,\"ticks\":\"\"}},\"type\":\"parcoords\"}],\"pie\":[{\"automargin\":true,\"type\":\"pie\"}],\"scatter\":[{\"marker\":{\"colorbar\":{\"outlinewidth\":0,\"ticks\":\"\"}},\"type\":\"scatter\"}],\"scatter3d\":[{\"line\":{\"colorbar\":{\"outlinewidth\":0,\"ticks\":\"\"}},\"marker\":{\"colorbar\":{\"outlinewidth\":0,\"ticks\":\"\"}},\"type\":\"scatter3d\"}],\"scattercarpet\":[{\"marker\":{\"colorbar\":{\"outlinewidth\":0,\"ticks\":\"\"}},\"type\":\"scattercarpet\"}],\"scattergeo\":[{\"marker\":{\"colorbar\":{\"outlinewidth\":0,\"ticks\":\"\"}},\"type\":\"scattergeo\"}],\"scattergl\":[{\"marker\":{\"colorbar\":{\"outlinewidth\":0,\"ticks\":\"\"}},\"type\":\"scattergl\"}],\"scattermapbox\":[{\"marker\":{\"colorbar\":{\"outlinewidth\":0,\"ticks\":\"\"}},\"type\":\"scattermapbox\"}],\"scatterpolar\":[{\"marker\":{\"colorbar\":{\"outlinewidth\":0,\"ticks\":\"\"}},\"type\":\"scatterpolar\"}],\"scatterpolargl\":[{\"marker\":{\"colorbar\":{\"outlinewidth\":0,\"ticks\":\"\"}},\"type\":\"scatterpolargl\"}],\"scatterternary\":[{\"marker\":{\"colorbar\":{\"outlinewidth\":0,\"ticks\":\"\"}},\"type\":\"scatterternary\"}],\"surface\":[{\"colorbar\":{\"outlinewidth\":0,\"ticks\":\"\"},\"colorscale\":[[0.0,\"#0d0887\"],[0.1111111111111111,\"#46039f\"],[0.2222222222222222,\"#7201a8\"],[0.3333333333333333,\"#9c179e\"],[0.4444444444444444,\"#bd3786\"],[0.5555555555555556,\"#d8576b\"],[0.6666666666666666,\"#ed7953\"],[0.7777777777777778,\"#fb9f3a\"],[0.8888888888888888,\"#fdca26\"],[1.0,\"#f0f921\"]],\"type\":\"surface\"}],\"table\":[{\"cells\":{\"fill\":{\"color\":\"#EBF0F8\"},\"line\":{\"color\":\"white\"}},\"header\":{\"fill\":{\"color\":\"#C8D4E3\"},\"line\":{\"color\":\"white\"}},\"type\":\"table\"}]},\"layout\":{\"annotationdefaults\":{\"arrowcolor\":\"#2a3f5f\",\"arrowhead\":0,\"arrowwidth\":1},\"autotypenumbers\":\"strict\",\"coloraxis\":{\"colorbar\":{\"outlinewidth\":0,\"ticks\":\"\"}},\"colorscale\":{\"diverging\":[[0,\"#8e0152\"],[0.1,\"#c51b7d\"],[0.2,\"#de77ae\"],[0.3,\"#f1b6da\"],[0.4,\"#fde0ef\"],[0.5,\"#f7f7f7\"],[0.6,\"#e6f5d0\"],[0.7,\"#b8e186\"],[0.8,\"#7fbc41\"],[0.9,\"#4d9221\"],[1,\"#276419\"]],\"sequential\":[[0.0,\"#0d0887\"],[0.1111111111111111,\"#46039f\"],[0.2222222222222222,\"#7201a8\"],[0.3333333333333333,\"#9c179e\"],[0.4444444444444444,\"#bd3786\"],[0.5555555555555556,\"#d8576b\"],[0.6666666666666666,\"#ed7953\"],[0.7777777777777778,\"#fb9f3a\"],[0.8888888888888888,\"#fdca26\"],[1.0,\"#f0f921\"]],\"sequentialminus\":[[0.0,\"#0d0887\"],[0.1111111111111111,\"#46039f\"],[0.2222222222222222,\"#7201a8\"],[0.3333333333333333,\"#9c179e\"],[0.4444444444444444,\"#bd3786\"],[0.5555555555555556,\"#d8576b\"],[0.6666666666666666,\"#ed7953\"],[0.7777777777777778,\"#fb9f3a\"],[0.8888888888888888,\"#fdca26\"],[1.0,\"#f0f921\"]]},\"colorway\":[\"#636efa\",\"#EF553B\",\"#00cc96\",\"#ab63fa\",\"#FFA15A\",\"#19d3f3\",\"#FF6692\",\"#B6E880\",\"#FF97FF\",\"#FECB52\"],\"font\":{\"color\":\"#2a3f5f\"},\"geo\":{\"bgcolor\":\"white\",\"lakecolor\":\"white\",\"landcolor\":\"#E5ECF6\",\"showlakes\":true,\"showland\":true,\"subunitcolor\":\"white\"},\"hoverlabel\":{\"align\":\"left\"},\"hovermode\":\"closest\",\"mapbox\":{\"style\":\"light\"},\"paper_bgcolor\":\"white\",\"plot_bgcolor\":\"#E5ECF6\",\"polar\":{\"angularaxis\":{\"gridcolor\":\"white\",\"linecolor\":\"white\",\"ticks\":\"\"},\"bgcolor\":\"#E5ECF6\",\"radialaxis\":{\"gridcolor\":\"white\",\"linecolor\":\"white\",\"ticks\":\"\"}},\"scene\":{\"xaxis\":{\"backgroundcolor\":\"#E5ECF6\",\"gridcolor\":\"white\",\"gridwidth\":2,\"linecolor\":\"white\",\"showbackground\":true,\"ticks\":\"\",\"zerolinecolor\":\"white\"},\"yaxis\":{\"backgroundcolor\":\"#E5ECF6\",\"gridcolor\":\"white\",\"gridwidth\":2,\"linecolor\":\"white\",\"showbackground\":true,\"ticks\":\"\",\"zerolinecolor\":\"white\"},\"zaxis\":{\"backgroundcolor\":\"#E5ECF6\",\"gridcolor\":\"white\",\"gridwidth\":2,\"linecolor\":\"white\",\"showbackground\":true,\"ticks\":\"\",\"zerolinecolor\":\"white\"}},\"shapedefaults\":{\"line\":{\"color\":\"#2a3f5f\"}},\"ternary\":{\"aaxis\":{\"gridcolor\":\"white\",\"linecolor\":\"white\",\"ticks\":\"\"},\"baxis\":{\"gridcolor\":\"white\",\"linecolor\":\"white\",\"ticks\":\"\"},\"bgcolor\":\"#E5ECF6\",\"caxis\":{\"gridcolor\":\"white\",\"linecolor\":\"white\",\"ticks\":\"\"}},\"title\":{\"x\":0.05},\"xaxis\":{\"automargin\":true,\"gridcolor\":\"white\",\"linecolor\":\"white\",\"ticks\":\"\",\"title\":{\"standoff\":15},\"zerolinecolor\":\"white\",\"zerolinewidth\":2},\"yaxis\":{\"automargin\":true,\"gridcolor\":\"white\",\"linecolor\":\"white\",\"ticks\":\"\",\"title\":{\"standoff\":15},\"zerolinecolor\":\"white\",\"zerolinewidth\":2}}},\"xaxis\":{\"anchor\":\"y\",\"domain\":[0.0,1.0],\"title\":{\"text\":\"organization_country\"}},\"yaxis\":{\"anchor\":\"x\",\"domain\":[0.0,1.0],\"title\":{\"text\":\"unique_blocks\"}},\"legend\":{\"tracegroupgap\":0},\"margin\":{\"t\":60},\"barmode\":\"relative\"},                        {\"responsive\": true}                    ).then(function(){\n",
              "                            \n",
              "var gd = document.getElementById('9924af3a-d5dd-42de-be79-ae17d2b6e02b');\n",
              "var x = new MutationObserver(function (mutations, observer) {{\n",
              "        var display = window.getComputedStyle(gd).display;\n",
              "        if (!display || display === 'none') {{\n",
              "            console.log([gd, 'removed!']);\n",
              "            Plotly.purge(gd);\n",
              "            observer.disconnect();\n",
              "        }}\n",
              "}});\n",
              "\n",
              "// Listen for the removal of the full notebook cells\n",
              "var notebookContainer = gd.closest('#notebook-container');\n",
              "if (notebookContainer) {{\n",
              "    x.observe(notebookContainer, {childList: true});\n",
              "}}\n",
              "\n",
              "// Listen for the clearing of the current output cell\n",
              "var outputEl = gd.closest('.output');\n",
              "if (outputEl) {{\n",
              "    x.observe(outputEl, {childList: true});\n",
              "}}\n",
              "\n",
              "                        })                };                            </script>        </div>\n",
              "</body>\n",
              "</html>"
            ]
          },
          "metadata": {}
        }
      ]
    },
    {
      "cell_type": "markdown",
      "source": [
        "Block interaction counts by country in sample\n",
        "(This does not mean much because each key message can have arbitrary number of block interaction chunks which is invisible to the user)."
      ],
      "metadata": {
        "id": "kPH9j37skgE_"
      }
    },
    {
      "cell_type": "code",
      "source": [
        "block_counts_by_call_id = df.groupby(['call_id'])['js_key'].nunique().reset_index(name='block_counts')\n",
        "block_counts_per_call = block_counts_by_call_id.groupby(['block_counts'])['call_id'].nunique().reset_index(name='calls')\n",
        "px.scatter(block_counts_per_call, x='block_counts', y='calls')"
      ],
      "metadata": {
        "colab": {
          "base_uri": "https://localhost:8080/",
          "height": 542
        },
        "id": "L_X2nIH1ZBwx",
        "outputId": "fa35c1b9-c45a-4679-b11d-fdeb855ba01a"
      },
      "execution_count": 96,
      "outputs": [
        {
          "output_type": "display_data",
          "data": {
            "text/html": [
              "<html>\n",
              "<head><meta charset=\"utf-8\" /></head>\n",
              "<body>\n",
              "    <div>            <script src=\"https://cdnjs.cloudflare.com/ajax/libs/mathjax/2.7.5/MathJax.js?config=TeX-AMS-MML_SVG\"></script><script type=\"text/javascript\">if (window.MathJax) {MathJax.Hub.Config({SVG: {font: \"STIX-Web\"}});}</script>                <script type=\"text/javascript\">window.PlotlyConfig = {MathJaxConfig: 'local'};</script>\n",
              "        <script src=\"https://cdn.plot.ly/plotly-2.8.3.min.js\"></script>                <div id=\"c0e594b5-9710-4b36-98b7-08b29fa55593\" class=\"plotly-graph-div\" style=\"height:525px; width:100%;\"></div>            <script type=\"text/javascript\">                                    window.PLOTLYENV=window.PLOTLYENV || {};                                    if (document.getElementById(\"c0e594b5-9710-4b36-98b7-08b29fa55593\")) {                    Plotly.newPlot(                        \"c0e594b5-9710-4b36-98b7-08b29fa55593\",                        [{\"hovertemplate\":\"block_counts=%{x}<br>calls=%{y}<extra></extra>\",\"legendgroup\":\"\",\"marker\":{\"color\":\"#636efa\",\"symbol\":\"circle\"},\"mode\":\"markers\",\"name\":\"\",\"orientation\":\"v\",\"showlegend\":false,\"x\":[1,2,3,4,5,6,7,8,9,10,11,12,13,14,15,16,17,18,19,20,21,22,23,24,25,26,27,28,29,30,31,32,33,34,35,36,37,38,39,40,41,42,43,45,46,47,48,49,50,52,54,56,57,58,59,60,63,67,78,79,80,81,84],\"xaxis\":\"x\",\"y\":[1850,3252,3091,1795,2869,3515,2450,1421,1048,901,626,422,336,225,224,152,153,86,82,72,60,56,50,27,33,28,14,20,24,13,11,9,6,5,8,7,9,2,3,5,1,2,2,3,3,4,3,2,2,3,2,1,1,1,1,1,1,1,1,2,1,1,1],\"yaxis\":\"y\",\"type\":\"scatter\"}],                        {\"template\":{\"data\":{\"bar\":[{\"error_x\":{\"color\":\"#2a3f5f\"},\"error_y\":{\"color\":\"#2a3f5f\"},\"marker\":{\"line\":{\"color\":\"#E5ECF6\",\"width\":0.5},\"pattern\":{\"fillmode\":\"overlay\",\"size\":10,\"solidity\":0.2}},\"type\":\"bar\"}],\"barpolar\":[{\"marker\":{\"line\":{\"color\":\"#E5ECF6\",\"width\":0.5},\"pattern\":{\"fillmode\":\"overlay\",\"size\":10,\"solidity\":0.2}},\"type\":\"barpolar\"}],\"carpet\":[{\"aaxis\":{\"endlinecolor\":\"#2a3f5f\",\"gridcolor\":\"white\",\"linecolor\":\"white\",\"minorgridcolor\":\"white\",\"startlinecolor\":\"#2a3f5f\"},\"baxis\":{\"endlinecolor\":\"#2a3f5f\",\"gridcolor\":\"white\",\"linecolor\":\"white\",\"minorgridcolor\":\"white\",\"startlinecolor\":\"#2a3f5f\"},\"type\":\"carpet\"}],\"choropleth\":[{\"colorbar\":{\"outlinewidth\":0,\"ticks\":\"\"},\"type\":\"choropleth\"}],\"contour\":[{\"colorbar\":{\"outlinewidth\":0,\"ticks\":\"\"},\"colorscale\":[[0.0,\"#0d0887\"],[0.1111111111111111,\"#46039f\"],[0.2222222222222222,\"#7201a8\"],[0.3333333333333333,\"#9c179e\"],[0.4444444444444444,\"#bd3786\"],[0.5555555555555556,\"#d8576b\"],[0.6666666666666666,\"#ed7953\"],[0.7777777777777778,\"#fb9f3a\"],[0.8888888888888888,\"#fdca26\"],[1.0,\"#f0f921\"]],\"type\":\"contour\"}],\"contourcarpet\":[{\"colorbar\":{\"outlinewidth\":0,\"ticks\":\"\"},\"type\":\"contourcarpet\"}],\"heatmap\":[{\"colorbar\":{\"outlinewidth\":0,\"ticks\":\"\"},\"colorscale\":[[0.0,\"#0d0887\"],[0.1111111111111111,\"#46039f\"],[0.2222222222222222,\"#7201a8\"],[0.3333333333333333,\"#9c179e\"],[0.4444444444444444,\"#bd3786\"],[0.5555555555555556,\"#d8576b\"],[0.6666666666666666,\"#ed7953\"],[0.7777777777777778,\"#fb9f3a\"],[0.8888888888888888,\"#fdca26\"],[1.0,\"#f0f921\"]],\"type\":\"heatmap\"}],\"heatmapgl\":[{\"colorbar\":{\"outlinewidth\":0,\"ticks\":\"\"},\"colorscale\":[[0.0,\"#0d0887\"],[0.1111111111111111,\"#46039f\"],[0.2222222222222222,\"#7201a8\"],[0.3333333333333333,\"#9c179e\"],[0.4444444444444444,\"#bd3786\"],[0.5555555555555556,\"#d8576b\"],[0.6666666666666666,\"#ed7953\"],[0.7777777777777778,\"#fb9f3a\"],[0.8888888888888888,\"#fdca26\"],[1.0,\"#f0f921\"]],\"type\":\"heatmapgl\"}],\"histogram\":[{\"marker\":{\"pattern\":{\"fillmode\":\"overlay\",\"size\":10,\"solidity\":0.2}},\"type\":\"histogram\"}],\"histogram2d\":[{\"colorbar\":{\"outlinewidth\":0,\"ticks\":\"\"},\"colorscale\":[[0.0,\"#0d0887\"],[0.1111111111111111,\"#46039f\"],[0.2222222222222222,\"#7201a8\"],[0.3333333333333333,\"#9c179e\"],[0.4444444444444444,\"#bd3786\"],[0.5555555555555556,\"#d8576b\"],[0.6666666666666666,\"#ed7953\"],[0.7777777777777778,\"#fb9f3a\"],[0.8888888888888888,\"#fdca26\"],[1.0,\"#f0f921\"]],\"type\":\"histogram2d\"}],\"histogram2dcontour\":[{\"colorbar\":{\"outlinewidth\":0,\"ticks\":\"\"},\"colorscale\":[[0.0,\"#0d0887\"],[0.1111111111111111,\"#46039f\"],[0.2222222222222222,\"#7201a8\"],[0.3333333333333333,\"#9c179e\"],[0.4444444444444444,\"#bd3786\"],[0.5555555555555556,\"#d8576b\"],[0.6666666666666666,\"#ed7953\"],[0.7777777777777778,\"#fb9f3a\"],[0.8888888888888888,\"#fdca26\"],[1.0,\"#f0f921\"]],\"type\":\"histogram2dcontour\"}],\"mesh3d\":[{\"colorbar\":{\"outlinewidth\":0,\"ticks\":\"\"},\"type\":\"mesh3d\"}],\"parcoords\":[{\"line\":{\"colorbar\":{\"outlinewidth\":0,\"ticks\":\"\"}},\"type\":\"parcoords\"}],\"pie\":[{\"automargin\":true,\"type\":\"pie\"}],\"scatter\":[{\"marker\":{\"colorbar\":{\"outlinewidth\":0,\"ticks\":\"\"}},\"type\":\"scatter\"}],\"scatter3d\":[{\"line\":{\"colorbar\":{\"outlinewidth\":0,\"ticks\":\"\"}},\"marker\":{\"colorbar\":{\"outlinewidth\":0,\"ticks\":\"\"}},\"type\":\"scatter3d\"}],\"scattercarpet\":[{\"marker\":{\"colorbar\":{\"outlinewidth\":0,\"ticks\":\"\"}},\"type\":\"scattercarpet\"}],\"scattergeo\":[{\"marker\":{\"colorbar\":{\"outlinewidth\":0,\"ticks\":\"\"}},\"type\":\"scattergeo\"}],\"scattergl\":[{\"marker\":{\"colorbar\":{\"outlinewidth\":0,\"ticks\":\"\"}},\"type\":\"scattergl\"}],\"scattermapbox\":[{\"marker\":{\"colorbar\":{\"outlinewidth\":0,\"ticks\":\"\"}},\"type\":\"scattermapbox\"}],\"scatterpolar\":[{\"marker\":{\"colorbar\":{\"outlinewidth\":0,\"ticks\":\"\"}},\"type\":\"scatterpolar\"}],\"scatterpolargl\":[{\"marker\":{\"colorbar\":{\"outlinewidth\":0,\"ticks\":\"\"}},\"type\":\"scatterpolargl\"}],\"scatterternary\":[{\"marker\":{\"colorbar\":{\"outlinewidth\":0,\"ticks\":\"\"}},\"type\":\"scatterternary\"}],\"surface\":[{\"colorbar\":{\"outlinewidth\":0,\"ticks\":\"\"},\"colorscale\":[[0.0,\"#0d0887\"],[0.1111111111111111,\"#46039f\"],[0.2222222222222222,\"#7201a8\"],[0.3333333333333333,\"#9c179e\"],[0.4444444444444444,\"#bd3786\"],[0.5555555555555556,\"#d8576b\"],[0.6666666666666666,\"#ed7953\"],[0.7777777777777778,\"#fb9f3a\"],[0.8888888888888888,\"#fdca26\"],[1.0,\"#f0f921\"]],\"type\":\"surface\"}],\"table\":[{\"cells\":{\"fill\":{\"color\":\"#EBF0F8\"},\"line\":{\"color\":\"white\"}},\"header\":{\"fill\":{\"color\":\"#C8D4E3\"},\"line\":{\"color\":\"white\"}},\"type\":\"table\"}]},\"layout\":{\"annotationdefaults\":{\"arrowcolor\":\"#2a3f5f\",\"arrowhead\":0,\"arrowwidth\":1},\"autotypenumbers\":\"strict\",\"coloraxis\":{\"colorbar\":{\"outlinewidth\":0,\"ticks\":\"\"}},\"colorscale\":{\"diverging\":[[0,\"#8e0152\"],[0.1,\"#c51b7d\"],[0.2,\"#de77ae\"],[0.3,\"#f1b6da\"],[0.4,\"#fde0ef\"],[0.5,\"#f7f7f7\"],[0.6,\"#e6f5d0\"],[0.7,\"#b8e186\"],[0.8,\"#7fbc41\"],[0.9,\"#4d9221\"],[1,\"#276419\"]],\"sequential\":[[0.0,\"#0d0887\"],[0.1111111111111111,\"#46039f\"],[0.2222222222222222,\"#7201a8\"],[0.3333333333333333,\"#9c179e\"],[0.4444444444444444,\"#bd3786\"],[0.5555555555555556,\"#d8576b\"],[0.6666666666666666,\"#ed7953\"],[0.7777777777777778,\"#fb9f3a\"],[0.8888888888888888,\"#fdca26\"],[1.0,\"#f0f921\"]],\"sequentialminus\":[[0.0,\"#0d0887\"],[0.1111111111111111,\"#46039f\"],[0.2222222222222222,\"#7201a8\"],[0.3333333333333333,\"#9c179e\"],[0.4444444444444444,\"#bd3786\"],[0.5555555555555556,\"#d8576b\"],[0.6666666666666666,\"#ed7953\"],[0.7777777777777778,\"#fb9f3a\"],[0.8888888888888888,\"#fdca26\"],[1.0,\"#f0f921\"]]},\"colorway\":[\"#636efa\",\"#EF553B\",\"#00cc96\",\"#ab63fa\",\"#FFA15A\",\"#19d3f3\",\"#FF6692\",\"#B6E880\",\"#FF97FF\",\"#FECB52\"],\"font\":{\"color\":\"#2a3f5f\"},\"geo\":{\"bgcolor\":\"white\",\"lakecolor\":\"white\",\"landcolor\":\"#E5ECF6\",\"showlakes\":true,\"showland\":true,\"subunitcolor\":\"white\"},\"hoverlabel\":{\"align\":\"left\"},\"hovermode\":\"closest\",\"mapbox\":{\"style\":\"light\"},\"paper_bgcolor\":\"white\",\"plot_bgcolor\":\"#E5ECF6\",\"polar\":{\"angularaxis\":{\"gridcolor\":\"white\",\"linecolor\":\"white\",\"ticks\":\"\"},\"bgcolor\":\"#E5ECF6\",\"radialaxis\":{\"gridcolor\":\"white\",\"linecolor\":\"white\",\"ticks\":\"\"}},\"scene\":{\"xaxis\":{\"backgroundcolor\":\"#E5ECF6\",\"gridcolor\":\"white\",\"gridwidth\":2,\"linecolor\":\"white\",\"showbackground\":true,\"ticks\":\"\",\"zerolinecolor\":\"white\"},\"yaxis\":{\"backgroundcolor\":\"#E5ECF6\",\"gridcolor\":\"white\",\"gridwidth\":2,\"linecolor\":\"white\",\"showbackground\":true,\"ticks\":\"\",\"zerolinecolor\":\"white\"},\"zaxis\":{\"backgroundcolor\":\"#E5ECF6\",\"gridcolor\":\"white\",\"gridwidth\":2,\"linecolor\":\"white\",\"showbackground\":true,\"ticks\":\"\",\"zerolinecolor\":\"white\"}},\"shapedefaults\":{\"line\":{\"color\":\"#2a3f5f\"}},\"ternary\":{\"aaxis\":{\"gridcolor\":\"white\",\"linecolor\":\"white\",\"ticks\":\"\"},\"baxis\":{\"gridcolor\":\"white\",\"linecolor\":\"white\",\"ticks\":\"\"},\"bgcolor\":\"#E5ECF6\",\"caxis\":{\"gridcolor\":\"white\",\"linecolor\":\"white\",\"ticks\":\"\"}},\"title\":{\"x\":0.05},\"xaxis\":{\"automargin\":true,\"gridcolor\":\"white\",\"linecolor\":\"white\",\"ticks\":\"\",\"title\":{\"standoff\":15},\"zerolinecolor\":\"white\",\"zerolinewidth\":2},\"yaxis\":{\"automargin\":true,\"gridcolor\":\"white\",\"linecolor\":\"white\",\"ticks\":\"\",\"title\":{\"standoff\":15},\"zerolinecolor\":\"white\",\"zerolinewidth\":2}}},\"xaxis\":{\"anchor\":\"y\",\"domain\":[0.0,1.0],\"title\":{\"text\":\"block_counts\"}},\"yaxis\":{\"anchor\":\"x\",\"domain\":[0.0,1.0],\"title\":{\"text\":\"calls\"}},\"legend\":{\"tracegroupgap\":0},\"margin\":{\"t\":60}},                        {\"responsive\": true}                    ).then(function(){\n",
              "                            \n",
              "var gd = document.getElementById('c0e594b5-9710-4b36-98b7-08b29fa55593');\n",
              "var x = new MutationObserver(function (mutations, observer) {{\n",
              "        var display = window.getComputedStyle(gd).display;\n",
              "        if (!display || display === 'none') {{\n",
              "            console.log([gd, 'removed!']);\n",
              "            Plotly.purge(gd);\n",
              "            observer.disconnect();\n",
              "        }}\n",
              "}});\n",
              "\n",
              "// Listen for the removal of the full notebook cells\n",
              "var notebookContainer = gd.closest('#notebook-container');\n",
              "if (notebookContainer) {{\n",
              "    x.observe(notebookContainer, {childList: true});\n",
              "}}\n",
              "\n",
              "// Listen for the clearing of the current output cell\n",
              "var outputEl = gd.closest('.output');\n",
              "if (outputEl) {{\n",
              "    x.observe(outputEl, {childList: true});\n",
              "}}\n",
              "\n",
              "                        })                };                            </script>        </div>\n",
              "</body>\n",
              "</html>"
            ]
          },
          "metadata": {}
        }
      ]
    },
    {
      "cell_type": "code",
      "source": [
        "block_counts_by_call_id['block_counts'].describe()"
      ],
      "metadata": {
        "colab": {
          "base_uri": "https://localhost:8080/"
        },
        "id": "igBIYdCrgBbV",
        "outputId": "f69e7218-97ff-4d6f-8d4e-d5c8aa75ac59"
      },
      "execution_count": 97,
      "outputs": [
        {
          "output_type": "execute_result",
          "data": {
            "text/plain": [
              "count    25000.000000\n",
              "mean         6.076400\n",
              "std          4.841998\n",
              "min          1.000000\n",
              "25%          3.000000\n",
              "50%          5.000000\n",
              "75%          7.000000\n",
              "max         84.000000\n",
              "Name: block_counts, dtype: float64"
            ]
          },
          "metadata": {},
          "execution_count": 97
        }
      ]
    },
    {
      "cell_type": "markdown",
      "source": [
        "Count of key messages listened to by call in sample"
      ],
      "metadata": {
        "id": "aRAyHdE7kvIu"
      }
    },
    {
      "cell_type": "code",
      "source": [
        "block_counts_by_call_id = df.groupby(['call_id'])['km_block_reached'].nunique().reset_index(name='km_block_counts')\n",
        "block_counts_per_call = block_counts_by_call_id.groupby(['km_block_counts'])['call_id'].nunique().reset_index(name='calls')\n",
        "px.scatter(block_counts_per_call, x='km_block_counts', y='calls')"
      ],
      "metadata": {
        "colab": {
          "base_uri": "https://localhost:8080/",
          "height": 542
        },
        "id": "KaclSdU5gmG6",
        "outputId": "3583efe9-66c1-4899-bff9-4df2a8b66407"
      },
      "execution_count": 98,
      "outputs": [
        {
          "output_type": "display_data",
          "data": {
            "text/html": [
              "<html>\n",
              "<head><meta charset=\"utf-8\" /></head>\n",
              "<body>\n",
              "    <div>            <script src=\"https://cdnjs.cloudflare.com/ajax/libs/mathjax/2.7.5/MathJax.js?config=TeX-AMS-MML_SVG\"></script><script type=\"text/javascript\">if (window.MathJax) {MathJax.Hub.Config({SVG: {font: \"STIX-Web\"}});}</script>                <script type=\"text/javascript\">window.PlotlyConfig = {MathJaxConfig: 'local'};</script>\n",
              "        <script src=\"https://cdn.plot.ly/plotly-2.8.3.min.js\"></script>                <div id=\"cfce5c35-4e19-493b-a857-003eeff4b7e7\" class=\"plotly-graph-div\" style=\"height:525px; width:100%;\"></div>            <script type=\"text/javascript\">                                    window.PLOTLYENV=window.PLOTLYENV || {};                                    if (document.getElementById(\"cfce5c35-4e19-493b-a857-003eeff4b7e7\")) {                    Plotly.newPlot(                        \"cfce5c35-4e19-493b-a857-003eeff4b7e7\",                        [{\"hovertemplate\":\"km_block_counts=%{x}<br>calls=%{y}<extra></extra>\",\"legendgroup\":\"\",\"marker\":{\"color\":\"#636efa\",\"symbol\":\"circle\"},\"mode\":\"markers\",\"name\":\"\",\"orientation\":\"v\",\"showlegend\":false,\"x\":[0,1,2,3,4,5,6,7,8,9,10,11,12,13,14,15,16,17,18,19,20,21,22,23,24,25,26,27,28,29,30,31,32,33,36,37,40,44,45,48,49,53,54,60,61,76,78,100,118,120],\"xaxis\":\"x\",\"y\":[7712,5396,5520,1449,1002,998,804,810,530,236,119,56,75,48,38,24,21,23,17,14,18,6,5,5,17,5,6,2,4,5,4,1,3,3,3,2,1,1,2,5,1,1,1,1,1,1,1,1,1,1],\"yaxis\":\"y\",\"type\":\"scatter\"}],                        {\"template\":{\"data\":{\"bar\":[{\"error_x\":{\"color\":\"#2a3f5f\"},\"error_y\":{\"color\":\"#2a3f5f\"},\"marker\":{\"line\":{\"color\":\"#E5ECF6\",\"width\":0.5},\"pattern\":{\"fillmode\":\"overlay\",\"size\":10,\"solidity\":0.2}},\"type\":\"bar\"}],\"barpolar\":[{\"marker\":{\"line\":{\"color\":\"#E5ECF6\",\"width\":0.5},\"pattern\":{\"fillmode\":\"overlay\",\"size\":10,\"solidity\":0.2}},\"type\":\"barpolar\"}],\"carpet\":[{\"aaxis\":{\"endlinecolor\":\"#2a3f5f\",\"gridcolor\":\"white\",\"linecolor\":\"white\",\"minorgridcolor\":\"white\",\"startlinecolor\":\"#2a3f5f\"},\"baxis\":{\"endlinecolor\":\"#2a3f5f\",\"gridcolor\":\"white\",\"linecolor\":\"white\",\"minorgridcolor\":\"white\",\"startlinecolor\":\"#2a3f5f\"},\"type\":\"carpet\"}],\"choropleth\":[{\"colorbar\":{\"outlinewidth\":0,\"ticks\":\"\"},\"type\":\"choropleth\"}],\"contour\":[{\"colorbar\":{\"outlinewidth\":0,\"ticks\":\"\"},\"colorscale\":[[0.0,\"#0d0887\"],[0.1111111111111111,\"#46039f\"],[0.2222222222222222,\"#7201a8\"],[0.3333333333333333,\"#9c179e\"],[0.4444444444444444,\"#bd3786\"],[0.5555555555555556,\"#d8576b\"],[0.6666666666666666,\"#ed7953\"],[0.7777777777777778,\"#fb9f3a\"],[0.8888888888888888,\"#fdca26\"],[1.0,\"#f0f921\"]],\"type\":\"contour\"}],\"contourcarpet\":[{\"colorbar\":{\"outlinewidth\":0,\"ticks\":\"\"},\"type\":\"contourcarpet\"}],\"heatmap\":[{\"colorbar\":{\"outlinewidth\":0,\"ticks\":\"\"},\"colorscale\":[[0.0,\"#0d0887\"],[0.1111111111111111,\"#46039f\"],[0.2222222222222222,\"#7201a8\"],[0.3333333333333333,\"#9c179e\"],[0.4444444444444444,\"#bd3786\"],[0.5555555555555556,\"#d8576b\"],[0.6666666666666666,\"#ed7953\"],[0.7777777777777778,\"#fb9f3a\"],[0.8888888888888888,\"#fdca26\"],[1.0,\"#f0f921\"]],\"type\":\"heatmap\"}],\"heatmapgl\":[{\"colorbar\":{\"outlinewidth\":0,\"ticks\":\"\"},\"colorscale\":[[0.0,\"#0d0887\"],[0.1111111111111111,\"#46039f\"],[0.2222222222222222,\"#7201a8\"],[0.3333333333333333,\"#9c179e\"],[0.4444444444444444,\"#bd3786\"],[0.5555555555555556,\"#d8576b\"],[0.6666666666666666,\"#ed7953\"],[0.7777777777777778,\"#fb9f3a\"],[0.8888888888888888,\"#fdca26\"],[1.0,\"#f0f921\"]],\"type\":\"heatmapgl\"}],\"histogram\":[{\"marker\":{\"pattern\":{\"fillmode\":\"overlay\",\"size\":10,\"solidity\":0.2}},\"type\":\"histogram\"}],\"histogram2d\":[{\"colorbar\":{\"outlinewidth\":0,\"ticks\":\"\"},\"colorscale\":[[0.0,\"#0d0887\"],[0.1111111111111111,\"#46039f\"],[0.2222222222222222,\"#7201a8\"],[0.3333333333333333,\"#9c179e\"],[0.4444444444444444,\"#bd3786\"],[0.5555555555555556,\"#d8576b\"],[0.6666666666666666,\"#ed7953\"],[0.7777777777777778,\"#fb9f3a\"],[0.8888888888888888,\"#fdca26\"],[1.0,\"#f0f921\"]],\"type\":\"histogram2d\"}],\"histogram2dcontour\":[{\"colorbar\":{\"outlinewidth\":0,\"ticks\":\"\"},\"colorscale\":[[0.0,\"#0d0887\"],[0.1111111111111111,\"#46039f\"],[0.2222222222222222,\"#7201a8\"],[0.3333333333333333,\"#9c179e\"],[0.4444444444444444,\"#bd3786\"],[0.5555555555555556,\"#d8576b\"],[0.6666666666666666,\"#ed7953\"],[0.7777777777777778,\"#fb9f3a\"],[0.8888888888888888,\"#fdca26\"],[1.0,\"#f0f921\"]],\"type\":\"histogram2dcontour\"}],\"mesh3d\":[{\"colorbar\":{\"outlinewidth\":0,\"ticks\":\"\"},\"type\":\"mesh3d\"}],\"parcoords\":[{\"line\":{\"colorbar\":{\"outlinewidth\":0,\"ticks\":\"\"}},\"type\":\"parcoords\"}],\"pie\":[{\"automargin\":true,\"type\":\"pie\"}],\"scatter\":[{\"marker\":{\"colorbar\":{\"outlinewidth\":0,\"ticks\":\"\"}},\"type\":\"scatter\"}],\"scatter3d\":[{\"line\":{\"colorbar\":{\"outlinewidth\":0,\"ticks\":\"\"}},\"marker\":{\"colorbar\":{\"outlinewidth\":0,\"ticks\":\"\"}},\"type\":\"scatter3d\"}],\"scattercarpet\":[{\"marker\":{\"colorbar\":{\"outlinewidth\":0,\"ticks\":\"\"}},\"type\":\"scattercarpet\"}],\"scattergeo\":[{\"marker\":{\"colorbar\":{\"outlinewidth\":0,\"ticks\":\"\"}},\"type\":\"scattergeo\"}],\"scattergl\":[{\"marker\":{\"colorbar\":{\"outlinewidth\":0,\"ticks\":\"\"}},\"type\":\"scattergl\"}],\"scattermapbox\":[{\"marker\":{\"colorbar\":{\"outlinewidth\":0,\"ticks\":\"\"}},\"type\":\"scattermapbox\"}],\"scatterpolar\":[{\"marker\":{\"colorbar\":{\"outlinewidth\":0,\"ticks\":\"\"}},\"type\":\"scatterpolar\"}],\"scatterpolargl\":[{\"marker\":{\"colorbar\":{\"outlinewidth\":0,\"ticks\":\"\"}},\"type\":\"scatterpolargl\"}],\"scatterternary\":[{\"marker\":{\"colorbar\":{\"outlinewidth\":0,\"ticks\":\"\"}},\"type\":\"scatterternary\"}],\"surface\":[{\"colorbar\":{\"outlinewidth\":0,\"ticks\":\"\"},\"colorscale\":[[0.0,\"#0d0887\"],[0.1111111111111111,\"#46039f\"],[0.2222222222222222,\"#7201a8\"],[0.3333333333333333,\"#9c179e\"],[0.4444444444444444,\"#bd3786\"],[0.5555555555555556,\"#d8576b\"],[0.6666666666666666,\"#ed7953\"],[0.7777777777777778,\"#fb9f3a\"],[0.8888888888888888,\"#fdca26\"],[1.0,\"#f0f921\"]],\"type\":\"surface\"}],\"table\":[{\"cells\":{\"fill\":{\"color\":\"#EBF0F8\"},\"line\":{\"color\":\"white\"}},\"header\":{\"fill\":{\"color\":\"#C8D4E3\"},\"line\":{\"color\":\"white\"}},\"type\":\"table\"}]},\"layout\":{\"annotationdefaults\":{\"arrowcolor\":\"#2a3f5f\",\"arrowhead\":0,\"arrowwidth\":1},\"autotypenumbers\":\"strict\",\"coloraxis\":{\"colorbar\":{\"outlinewidth\":0,\"ticks\":\"\"}},\"colorscale\":{\"diverging\":[[0,\"#8e0152\"],[0.1,\"#c51b7d\"],[0.2,\"#de77ae\"],[0.3,\"#f1b6da\"],[0.4,\"#fde0ef\"],[0.5,\"#f7f7f7\"],[0.6,\"#e6f5d0\"],[0.7,\"#b8e186\"],[0.8,\"#7fbc41\"],[0.9,\"#4d9221\"],[1,\"#276419\"]],\"sequential\":[[0.0,\"#0d0887\"],[0.1111111111111111,\"#46039f\"],[0.2222222222222222,\"#7201a8\"],[0.3333333333333333,\"#9c179e\"],[0.4444444444444444,\"#bd3786\"],[0.5555555555555556,\"#d8576b\"],[0.6666666666666666,\"#ed7953\"],[0.7777777777777778,\"#fb9f3a\"],[0.8888888888888888,\"#fdca26\"],[1.0,\"#f0f921\"]],\"sequentialminus\":[[0.0,\"#0d0887\"],[0.1111111111111111,\"#46039f\"],[0.2222222222222222,\"#7201a8\"],[0.3333333333333333,\"#9c179e\"],[0.4444444444444444,\"#bd3786\"],[0.5555555555555556,\"#d8576b\"],[0.6666666666666666,\"#ed7953\"],[0.7777777777777778,\"#fb9f3a\"],[0.8888888888888888,\"#fdca26\"],[1.0,\"#f0f921\"]]},\"colorway\":[\"#636efa\",\"#EF553B\",\"#00cc96\",\"#ab63fa\",\"#FFA15A\",\"#19d3f3\",\"#FF6692\",\"#B6E880\",\"#FF97FF\",\"#FECB52\"],\"font\":{\"color\":\"#2a3f5f\"},\"geo\":{\"bgcolor\":\"white\",\"lakecolor\":\"white\",\"landcolor\":\"#E5ECF6\",\"showlakes\":true,\"showland\":true,\"subunitcolor\":\"white\"},\"hoverlabel\":{\"align\":\"left\"},\"hovermode\":\"closest\",\"mapbox\":{\"style\":\"light\"},\"paper_bgcolor\":\"white\",\"plot_bgcolor\":\"#E5ECF6\",\"polar\":{\"angularaxis\":{\"gridcolor\":\"white\",\"linecolor\":\"white\",\"ticks\":\"\"},\"bgcolor\":\"#E5ECF6\",\"radialaxis\":{\"gridcolor\":\"white\",\"linecolor\":\"white\",\"ticks\":\"\"}},\"scene\":{\"xaxis\":{\"backgroundcolor\":\"#E5ECF6\",\"gridcolor\":\"white\",\"gridwidth\":2,\"linecolor\":\"white\",\"showbackground\":true,\"ticks\":\"\",\"zerolinecolor\":\"white\"},\"yaxis\":{\"backgroundcolor\":\"#E5ECF6\",\"gridcolor\":\"white\",\"gridwidth\":2,\"linecolor\":\"white\",\"showbackground\":true,\"ticks\":\"\",\"zerolinecolor\":\"white\"},\"zaxis\":{\"backgroundcolor\":\"#E5ECF6\",\"gridcolor\":\"white\",\"gridwidth\":2,\"linecolor\":\"white\",\"showbackground\":true,\"ticks\":\"\",\"zerolinecolor\":\"white\"}},\"shapedefaults\":{\"line\":{\"color\":\"#2a3f5f\"}},\"ternary\":{\"aaxis\":{\"gridcolor\":\"white\",\"linecolor\":\"white\",\"ticks\":\"\"},\"baxis\":{\"gridcolor\":\"white\",\"linecolor\":\"white\",\"ticks\":\"\"},\"bgcolor\":\"#E5ECF6\",\"caxis\":{\"gridcolor\":\"white\",\"linecolor\":\"white\",\"ticks\":\"\"}},\"title\":{\"x\":0.05},\"xaxis\":{\"automargin\":true,\"gridcolor\":\"white\",\"linecolor\":\"white\",\"ticks\":\"\",\"title\":{\"standoff\":15},\"zerolinecolor\":\"white\",\"zerolinewidth\":2},\"yaxis\":{\"automargin\":true,\"gridcolor\":\"white\",\"linecolor\":\"white\",\"ticks\":\"\",\"title\":{\"standoff\":15},\"zerolinecolor\":\"white\",\"zerolinewidth\":2}}},\"xaxis\":{\"anchor\":\"y\",\"domain\":[0.0,1.0],\"title\":{\"text\":\"km_block_counts\"}},\"yaxis\":{\"anchor\":\"x\",\"domain\":[0.0,1.0],\"title\":{\"text\":\"calls\"}},\"legend\":{\"tracegroupgap\":0},\"margin\":{\"t\":60}},                        {\"responsive\": true}                    ).then(function(){\n",
              "                            \n",
              "var gd = document.getElementById('cfce5c35-4e19-493b-a857-003eeff4b7e7');\n",
              "var x = new MutationObserver(function (mutations, observer) {{\n",
              "        var display = window.getComputedStyle(gd).display;\n",
              "        if (!display || display === 'none') {{\n",
              "            console.log([gd, 'removed!']);\n",
              "            Plotly.purge(gd);\n",
              "            observer.disconnect();\n",
              "        }}\n",
              "}});\n",
              "\n",
              "// Listen for the removal of the full notebook cells\n",
              "var notebookContainer = gd.closest('#notebook-container');\n",
              "if (notebookContainer) {{\n",
              "    x.observe(notebookContainer, {childList: true});\n",
              "}}\n",
              "\n",
              "// Listen for the clearing of the current output cell\n",
              "var outputEl = gd.closest('.output');\n",
              "if (outputEl) {{\n",
              "    x.observe(outputEl, {childList: true});\n",
              "}}\n",
              "\n",
              "                        })                };                            </script>        </div>\n",
              "</body>\n",
              "</html>"
            ]
          },
          "metadata": {}
        }
      ]
    },
    {
      "cell_type": "code",
      "source": [
        "block_counts_by_call_id['km_block_counts'].describe()"
      ],
      "metadata": {
        "colab": {
          "base_uri": "https://localhost:8080/"
        },
        "id": "FEvsr7LZhdkP",
        "outputId": "09f3710a-7b70-4a4a-cff2-d780abc54fea"
      },
      "execution_count": 99,
      "outputs": [
        {
          "output_type": "execute_result",
          "data": {
            "text/plain": [
              "count    25000.00000\n",
              "mean         2.22328\n",
              "std          3.43845\n",
              "min          0.00000\n",
              "25%          0.00000\n",
              "50%          1.00000\n",
              "75%          3.00000\n",
              "max        120.00000\n",
              "Name: km_block_counts, dtype: float64"
            ]
          },
          "metadata": {},
          "execution_count": 99
        }
      ]
    },
    {
      "cell_type": "code",
      "source": [
        "px.violin(block_counts_by_call_id, y='km_block_counts')"
      ],
      "metadata": {
        "colab": {
          "base_uri": "https://localhost:8080/",
          "height": 542
        },
        "id": "vFpI7yaBlb4X",
        "outputId": "44a958f1-f13b-4ebf-d22e-e0539fd1bdd7"
      },
      "execution_count": 100,
      "outputs": [
        {
          "output_type": "display_data",
          "data": {
            "text/html": [
              "<html>\n",
              "<head><meta charset=\"utf-8\" /></head>\n",
              "<body>\n",
              "    <div>            <script src=\"https://cdnjs.cloudflare.com/ajax/libs/mathjax/2.7.5/MathJax.js?config=TeX-AMS-MML_SVG\"></script><script type=\"text/javascript\">if (window.MathJax) {MathJax.Hub.Config({SVG: {font: \"STIX-Web\"}});}</script>                <script type=\"text/javascript\">window.PlotlyConfig = {MathJaxConfig: 'local'};</script>\n",
              "        <script src=\"https://cdn.plot.ly/plotly-2.8.3.min.js\"></script>                <div id=\"eead5e0e-d324-4646-86dc-84727678cf36\" class=\"plotly-graph-div\" style=\"height:525px; width:100%;\"></div>            <script type=\"text/javascript\">                                    window.PLOTLYENV=window.PLOTLYENV || {};                                    if (document.getElementById(\"eead5e0e-d324-4646-86dc-84727678cf36\")) {                    Plotly.newPlot(                        \"eead5e0e-d324-4646-86dc-84727678cf36\",                        [{\"alignmentgroup\":\"True\",\"box\":{\"visible\":false},\"hovertemplate\":\"km_block_counts=%{y}<extra></extra>\",\"legendgroup\":\"\",\"marker\":{\"color\":\"#636efa\"},\"name\":\"\",\"offsetgroup\":\"\",\"orientation\":\"v\",\"scalegroup\":\"True\",\"showlegend\":false,\"x0\":\" \",\"xaxis\":\"x\",\"y\":[2,6,0,0,0,1,1,1,3,2,4,2,0,2,0,3,3,5,0,4,0,2,0,0,1,0,1,2,1,0,2,3,0,2,0,0,1,7,1,5,2,0,0,0,3,2,2,2,3,19,2,2,0,2,0,2,2,9,1,1,2,2,6,2,2,1,2,1,1,1,4,1,6,2,0,0,0,0,2,2,0,6,0,3,9,0,1,0,8,0,2,2,0,1,1,4,2,2,2,6,2,0,0,1,2,2,2,2,2,0,2,2,2,2,1,1,2,2,0,2,2,0,4,2,2,2,0,2,2,1,2,2,0,0,4,0,1,1,2,0,5,3,0,0,4,2,8,2,2,12,2,0,2,4,1,2,2,0,2,2,0,2,1,1,2,5,2,1,0,0,2,4,2,1,0,0,2,2,1,0,6,10,2,2,8,2,2,0,4,0,0,2,0,37,4,0,2,4,4,0,2,0,10,0,0,2,4,2,1,3,2,0,0,0,1,2,1,6,0,2,2,0,2,2,0,0,0,0,0,0,1,1,0,0,2,2,1,6,0,2,2,2,1,2,7,2,0,0,0,1,1,1,2,0,2,2,2,0,0,8,0,0,2,3,2,0,6,7,2,2,0,2,1,0,0,2,2,0,3,0,4,6,2,0,2,2,2,0,2,2,3,2,1,2,4,1,8,2,5,2,9,6,1,2,0,1,3,2,1,3,1,4,1,1,0,2,0,2,1,3,0,0,2,1,2,1,0,2,0,1,0,2,4,1,0,6,1,2,0,0,0,2,1,5,1,2,2,2,1,6,4,2,0,1,2,0,2,3,2,2,0,1,0,2,1,1,2,1,5,5,12,2,0,7,4,3,1,0,2,2,1,0,2,2,1,1,4,0,0,1,2,0,2,7,5,1,2,2,0,0,4,1,0,2,1,1,1,1,2,2,0,2,1,4,2,4,1,0,0,1,0,1,0,1,0,4,0,2,3,1,3,19,2,2,3,2,2,9,0,2,0,0,3,2,2,0,1,9,3,5,1,4,3,7,2,1,0,2,3,2,1,0,0,2,7,2,2,0,3,0,2,0,1,1,2,1,2,0,5,6,1,0,3,0,20,2,3,1,6,0,0,0,2,1,0,1,1,1,5,1,1,0,1,0,1,1,2,0,2,2,0,0,3,1,0,0,1,1,1,0,1,2,1,0,0,1,2,0,1,2,4,0,1,0,2,5,0,7,0,5,1,0,0,1,1,0,1,4,6,2,2,2,4,0,4,0,4,0,2,2,8,1,0,1,9,0,2,2,2,2,0,0,7,8,0,1,2,2,0,2,0,0,1,2,1,0,0,3,1,0,2,0,2,2,4,2,0,0,1,1,1,1,3,0,0,2,1,2,2,2,1,4,0,1,2,2,0,0,2,2,0,0,0,4,0,2,5,2,0,2,1,2,4,0,0,2,2,2,2,1,2,3,0,2,2,0,1,0,1,0,1,0,0,2,0,2,0,0,0,1,2,2,0,6,6,0,2,0,0,4,2,1,20,1,0,0,8,5,0,1,1,1,2,2,0,1,2,4,4,0,3,2,2,2,2,0,2,2,2,1,1,0,0,1,2,0,2,0,2,3,0,1,1,0,1,3,2,13,1,2,1,2,1,1,1,2,0,1,2,1,1,2,7,0,1,0,0,1,1,1,0,2,7,1,2,1,0,2,2,2,0,0,1,2,2,1,0,0,2,1,2,2,6,2,2,2,1,1,2,2,0,11,3,1,0,2,2,0,0,0,2,2,0,3,2,2,1,4,5,6,6,2,2,1,2,0,0,0,1,1,0,4,0,2,2,2,0,2,0,5,2,3,2,2,2,1,4,2,2,1,0,6,7,1,0,0,0,2,2,4,3,3,4,0,2,0,2,2,2,0,2,0,2,2,2,2,0,4,1,7,0,0,0,0,2,5,1,2,0,2,2,2,2,2,6,2,0,1,3,1,0,4,4,2,2,0,2,2,0,0,2,0,2,0,0,2,0,3,3,0,2,2,2,2,1,2,0,0,2,1,4,6,2,4,1,0,4,1,0,1,5,0,1,2,2,1,0,2,8,6,0,2,0,2,0,1,1,2,2,0,1,1,1,4,1,2,1,2,2,2,3,2,1,1,1,2,2,5,0,2,2,9,1,0,2,2,1,0,0,0,2,3,2,2,1,1,1,3,2,1,2,1,2,0,2,2,2,2,0,1,0,7,0,1,3,1,2,1,11,2,0,0,0,2,0,2,2,2,4,2,2,2,0,2,2,2,5,6,2,3,2,3,3,2,4,4,0,1,11,1,0,1,2,1,1,1,2,0,0,2,1,1,4,1,2,3,0,2,2,0,0,2,0,2,0,4,2,2,2,8,2,1,1,8,0,2,0,2,1,1,2,0,2,4,2,2,1,2,7,2,2,2,0,2,2,5,0,0,2,4,7,8,2,1,0,1,0,0,0,2,2,0,1,8,6,2,7,1,3,0,2,2,3,1,2,0,3,2,0,13,2,4,2,1,2,0,5,2,2,2,3,1,0,0,1,2,1,2,2,1,0,0,2,6,1,2,2,0,3,2,1,2,2,0,0,3,1,2,0,1,2,3,0,4,1,2,2,0,2,4,4,0,0,0,0,0,2,2,2,3,1,4,1,0,1,3,0,0,0,1,0,2,2,0,1,2,1,1,1,2,3,2,1,2,0,2,20,2,2,1,2,4,1,1,0,1,2,1,1,0,1,2,0,0,2,1,8,2,3,1,2,1,0,0,1,2,2,3,2,10,1,1,2,2,0,2,0,1,2,2,2,1,2,1,2,2,1,8,0,5,0,0,7,1,1,2,2,2,9,6,0,3,2,0,2,1,0,0,0,3,1,2,6,1,0,2,3,6,0,0,0,2,0,0,2,0,2,12,2,1,1,0,2,1,2,1,6,9,0,2,1,4,0,0,0,0,0,1,5,0,2,0,2,5,1,5,0,6,1,0,0,2,2,2,6,2,2,0,15,0,0,3,0,1,2,5,2,1,2,2,1,3,2,2,0,1,6,1,6,1,2,2,2,4,0,0,0,2,11,2,2,0,2,1,0,0,5,5,1,2,1,2,4,2,2,3,6,2,2,1,0,1,2,0,2,2,0,0,0,0,0,0,2,2,0,0,2,0,1,2,0,7,1,2,3,5,2,0,1,7,2,0,0,0,4,2,1,14,3,3,0,2,1,2,2,1,0,3,10,0,0,2,3,2,2,2,0,1,9,2,0,1,1,1,1,0,1,0,4,0,2,2,1,0,4,0,2,1,2,3,2,0,2,2,1,0,0,2,0,0,0,2,3,2,2,1,2,2,0,5,1,0,3,2,2,0,10,2,1,1,2,0,0,2,0,0,5,2,1,2,2,2,4,2,1,12,2,2,0,1,2,2,2,0,0,2,2,0,2,2,0,1,0,0,0,2,2,17,1,1,1,2,1,1,1,2,2,1,4,1,1,8,0,1,0,2,0,8,0,0,4,2,0,0,1,17,2,0,1,2,1,2,2,4,2,1,1,2,1,4,2,3,0,0,3,1,1,1,2,0,0,2,5,1,1,0,0,2,1,2,2,4,0,2,2,3,0,3,1,1,1,1,3,1,3,60,0,2,1,8,0,2,2,1,1,1,0,7,2,1,2,0,5,0,4,5,3,2,2,1,1,1,5,2,0,1,4,1,1,0,2,0,2,2,2,0,2,2,2,0,0,1,2,4,2,0,0,0,5,2,2,0,0,1,5,0,0,8,2,2,2,1,2,28,3,2,9,0,2,6,2,2,0,1,4,0,9,0,17,0,2,0,2,6,1,1,2,0,3,2,2,2,2,1,2,0,0,1,4,1,2,4,1,2,3,0,1,2,1,0,4,2,6,1,1,0,2,0,8,2,0,2,6,1,1,0,5,0,0,6,0,1,0,1,3,0,2,0,2,3,1,4,0,2,2,2,1,2,2,2,2,2,6,1,2,2,4,1,2,2,1,1,1,1,9,0,2,1,8,2,2,0,0,4,2,2,2,2,0,2,2,1,0,4,4,0,2,0,1,2,1,4,0,0,1,2,0,1,2,0,2,2,6,2,0,2,2,5,2,4,1,1,1,1,0,1,2,2,0,2,12,1,4,2,2,4,0,0,8,1,2,0,1,0,4,2,0,4,2,2,2,0,2,5,5,2,2,2,2,2,1,0,1,6,2,2,2,2,4,0,2,0,4,0,1,4,2,1,0,1,2,1,0,0,1,0,2,4,2,0,0,4,2,2,1,1,0,2,2,1,3,2,0,3,2,2,2,0,2,2,2,2,0,0,2,1,0,3,2,2,2,2,1,5,1,24,2,2,0,2,0,2,0,2,3,4,0,2,5,0,2,3,2,0,1,2,0,8,2,2,2,4,4,0,10,2,1,1,0,1,0,1,2,2,0,5,0,0,10,3,0,0,6,0,2,2,1,4,2,2,0,2,1,1,0,2,0,0,2,2,2,13,1,0,2,2,1,2,3,2,0,2,0,0,1,2,1,0,5,2,1,7,0,21,0,2,2,7,1,2,0,0,0,1,2,1,7,8,0,0,0,20,0,0,2,2,1,2,2,2,2,1,2,2,10,1,0,2,2,2,0,6,2,2,1,2,6,2,2,2,3,2,2,0,0,0,1,1,2,2,0,1,3,1,22,2,0,0,0,4,0,0,2,2,4,2,2,2,8,2,2,8,2,0,2,1,5,3,0,0,0,4,2,2,9,1,8,5,2,0,2,2,4,1,0,2,1,8,3,3,3,4,2,12,0,2,0,1,2,2,1,2,2,8,4,1,1,0,2,1,0,2,2,4,0,2,2,2,2,3,4,0,1,5,2,1,0,2,2,0,2,5,1,2,0,2,2,2,1,5,1,0,0,2,2,1,0,4,1,0,1,8,1,28,0,0,2,0,1,1,0,3,4,0,0,10,0,2,1,2,1,1,3,10,2,2,2,3,3,0,1,2,2,7,2,1,1,2,3,3,1,1,0,2,2,2,2,2,1,3,0,0,0,2,33,1,5,2,1,5,0,0,2,0,0,0,1,0,4,2,2,2,1,1,0,0,1,4,2,2,4,2,10,1,1,2,2,0,5,4,2,2,2,2,1,2,4,0,2,2,1,2,0,6,0,0,2,2,0,2,2,2,2,2,0,0,2,1,2,0,5,0,2,2,0,2,4,2,2,0,0,2,2,0,1,12,3,0,2,0,2,2,0,0,0,0,2,2,2,0,0,0,2,2,0,2,2,2,0,4,1,2,4,1,1,1,2,3,1,2,7,2,2,0,1,12,0,1,0,2,2,0,2,0,2,0,4,2,3,1,0,7,0,1,0,6,1,1,0,2,1,2,2,2,2,5,0,4,0,2,0,8,1,2,0,0,0,0,0,2,0,3,2,2,8,2,1,2,2,1,1,8,5,2,7,37,2,2,2,2,4,2,2,2,2,0,0,3,1,0,2,0,1,1,2,2,2,1,4,2,5,4,2,0,1,2,0,2,7,1,0,6,3,1,2,2,4,0,0,1,2,0,0,5,0,1,0,1,1,0,0,3,2,0,0,0,2,2,2,2,1,2,0,1,2,7,3,0,0,0,1,0,2,4,2,2,2,2,7,0,0,4,0,2,2,13,2,0,0,0,2,2,1,0,1,2,0,2,2,0,2,0,1,0,2,2,0,1,0,3,120,1,0,2,2,2,2,8,2,0,2,1,0,7,0,0,0,0,1,0,2,5,4,1,1,0,0,0,0,8,9,0,2,0,8,0,4,0,1,1,0,0,4,0,1,1,0,1,9,1,2,6,2,13,2,2,2,0,1,4,0,5,1,0,4,0,0,0,2,4,1,1,4,2,2,0,4,1,2,0,1,2,0,4,25,0,0,2,0,24,0,9,0,3,0,1,4,0,2,2,5,1,2,1,1,0,1,3,2,2,2,0,0,0,1,1,2,2,0,4,2,4,0,1,1,4,2,2,1,1,4,1,3,4,24,1,0,2,0,6,0,5,1,0,2,1,0,0,1,1,8,0,2,9,4,0,1,1,0,2,0,2,3,4,0,0,1,2,1,4,0,2,2,0,0,0,0,0,11,0,0,6,1,2,0,5,5,1,2,1,0,2,1,1,2,2,1,0,3,0,0,2,0,0,0,1,2,0,0,2,2,1,0,0,0,2,1,2,24,6,0,2,2,5,1,6,0,1,1,2,2,2,2,1,1,0,2,1,2,5,1,4,4,1,1,2,1,5,2,2,4,3,8,2,4,8,0,0,1,2,0,0,1,2,0,2,4,2,0,4,2,2,2,2,6,1,4,2,0,1,0,0,2,1,5,2,2,2,0,0,1,0,0,3,3,2,2,2,1,4,0,2,2,16,2,2,2,2,1,0,0,2,2,0,2,0,0,0,1,2,1,0,2,0,2,4,1,6,0,4,1,0,20,0,4,2,0,0,0,2,1,0,2,1,1,2,2,2,0,1,0,0,0,1,2,2,0,0,0,0,2,2,2,0,2,0,2,2,1,1,0,0,1,0,1,1,2,2,0,1,2,2,2,13,0,2,2,3,0,4,0,6,0,0,2,0,3,1,0,2,1,1,0,5,1,0,0,4,0,2,1,1,0,4,4,1,4,0,0,2,3,1,3,2,0,2,0,11,0,7,0,2,2,1,2,28,2,2,6,2,4,0,0,1,0,2,2,2,2,0,9,0,0,0,2,2,2,4,1,0,2,2,2,0,2,0,2,1,4,2,3,8,5,2,2,1,1,11,0,0,1,2,2,2,1,5,2,4,6,0,2,1,8,2,4,4,0,0,2,2,0,0,0,3,0,2,0,0,0,0,0,2,1,2,2,1,0,0,1,2,2,2,2,0,2,2,0,0,16,5,2,1,0,5,0,0,2,2,1,5,0,2,2,2,3,0,0,1,0,1,2,0,2,0,3,0,0,0,0,3,2,3,0,0,0,0,7,0,7,3,2,1,0,0,4,12,0,6,0,0,2,0,2,9,0,0,0,2,1,0,0,1,1,5,2,2,0,4,2,2,0,0,8,0,1,1,0,0,1,0,2,0,2,2,0,3,5,0,0,4,8,1,0,0,4,2,2,0,7,2,13,1,2,0,2,0,2,0,6,1,0,4,0,0,1,0,5,0,5,6,14,1,5,1,4,2,0,4,0,1,1,3,0,0,2,0,3,0,0,5,2,2,2,2,1,2,0,3,0,0,2,2,1,0,2,2,2,1,0,0,2,17,1,3,1,0,1,0,2,0,0,2,6,1,0,2,0,4,0,8,1,0,0,1,4,5,4,0,0,23,0,4,0,1,4,2,0,1,2,0,2,2,2,2,6,4,2,0,4,1,1,0,2,1,2,8,2,16,0,0,0,11,0,2,3,5,1,2,3,1,0,1,1,2,4,2,2,2,0,1,0,2,1,11,1,2,0,2,2,0,2,0,0,8,1,0,0,0,4,2,2,1,1,2,2,10,4,2,7,2,1,2,0,4,2,5,16,0,0,1,0,2,6,1,2,5,0,1,4,20,1,0,0,0,0,4,0,1,0,0,3,0,1,4,2,1,1,0,1,3,2,6,2,1,1,1,1,6,1,2,2,0,0,2,0,1,0,0,1,5,1,1,2,2,2,0,2,2,2,1,10,0,0,1,1,1,1,2,1,1,0,0,1,0,0,1,2,0,3,2,0,2,2,2,4,2,4,2,1,2,0,0,0,2,1,0,0,1,4,5,0,1,0,2,1,0,5,1,1,8,1,5,0,0,0,1,3,0,0,1,4,1,2,2,8,2,2,0,0,0,1,1,1,1,2,0,0,2,2,0,2,2,6,2,9,0,2,1,7,4,1,0,2,2,1,0,1,0,1,1,4,2,2,1,1,0,5,1,0,1,2,0,0,1,1,0,0,0,7,0,3,0,0,1,2,2,5,1,1,2,3,3,2,9,2,8,2,0,0,2,4,2,2,1,2,3,2,2,2,2,0,5,2,2,2,4,0,2,2,0,7,0,2,2,6,1,0,0,1,1,2,4,2,0,2,1,0,1,1,0,0,2,6,8,0,1,1,0,2,4,1,0,3,1,2,1,2,0,12,3,3,19,3,2,2,3,1,6,0,3,1,4,2,2,1,2,6,2,2,0,0,2,1,0,0,2,2,0,2,0,48,2,0,2,1,0,2,4,1,2,0,0,0,6,1,2,0,3,1,1,0,1,0,0,0,1,0,3,0,0,1,0,3,2,4,0,1,0,1,0,1,0,0,2,1,0,2,0,2,0,0,5,8,2,0,0,48,0,4,8,0,1,8,2,0,1,12,0,4,1,2,2,0,2,2,2,0,3,5,0,2,0,0,6,0,2,0,0,0,0,2,1,0,0,5,0,2,4,0,2,0,5,1,2,0,0,0,3,2,2,0,0,0,2,2,8,2,2,1,4,0,0,1,0,2,2,3,2,2,0,0,2,1,0,4,5,0,0,0,3,7,1,18,0,3,1,2,1,2,2,0,6,0,3,0,2,0,4,0,2,0,2,4,1,1,2,4,1,44,0,8,2,9,7,7,8,0,2,0,1,0,1,0,2,6,2,0,0,0,2,3,2,2,2,0,0,6,0,2,6,0,0,2,2,0,0,0,2,2,12,1,5,1,0,0,1,4,1,5,4,0,1,12,2,2,0,8,0,1,1,1,0,2,0,1,0,5,1,5,0,0,0,2,9,0,1,1,0,0,0,8,8,1,3,1,1,4,2,18,0,1,2,2,3,7,0,1,0,1,1,0,0,5,2,1,0,2,1,2,1,1,0,3,6,1,0,2,0,4,2,2,0,1,2,1,2,6,0,2,0,0,16,2,0,1,2,1,0,2,1,4,2,1,2,2,3,1,2,0,0,0,2,0,2,4,0,0,2,2,2,6,0,0,2,0,5,0,2,2,3,0,8,1,2,0,2,0,0,2,2,2,1,2,0,2,7,0,6,0,6,1,2,2,0,0,0,4,0,36,4,6,1,0,0,2,2,2,4,12,1,3,9,1,0,1,0,0,1,7,1,2,6,4,2,1,2,2,3,4,2,2,0,1,2,0,2,2,1,6,0,6,2,0,1,8,1,0,2,2,1,2,0,2,1,1,2,1,1,2,0,0,4,0,0,0,0,0,0,1,0,3,0,0,0,1,0,0,3,2,0,0,2,2,1,0,0,0,5,0,1,4,0,0,1,1,2,0,0,8,0,2,1,2,0,2,0,1,0,0,0,0,0,0,2,0,0,1,1,0,1,1,6,2,0,1,2,6,0,1,1,0,0,2,1,1,0,0,2,0,5,2,0,7,0,2,4,0,2,1,0,1,0,1,12,0,2,1,0,0,2,7,4,24,1,2,1,3,1,0,0,1,1,3,0,0,1,4,0,2,0,0,1,2,0,1,4,1,0,4,2,1,0,2,3,1,0,1,0,0,2,2,0,0,3,2,0,4,0,1,2,2,1,1,2,5,2,0,2,2,2,3,1,0,2,0,0,0,0,1,4,0,2,0,1,2,2,16,0,2,0,1,0,1,1,2,2,2,1,1,1,2,2,0,0,2,0,0,0,1,2,0,0,0,0,2,0,2,2,2,1,0,2,6,2,2,1,2,2,2,1,1,2,2,2,0,1,1,2,0,2,2,0,2,1,2,2,6,2,2,0,4,2,2,2,1,1,2,1,0,0,0,1,0,1,0,1,2,3,4,7,1,2,4,0,4,2,6,0,1,4,0,0,2,2,2,2,1,2,7,3,2,1,3,2,0,1,0,2,4,0,5,8,0,0,2,2,2,2,0,1,0,0,0,20,1,1,0,2,2,0,0,0,1,2,2,3,0,2,4,2,2,2,0,2,0,2,7,4,2,1,3,3,1,6,2,0,2,1,8,2,1,1,0,9,1,10,25,0,2,0,0,5,2,0,8,1,2,0,2,1,2,0,0,0,0,2,2,17,2,4,2,0,2,0,0,2,0,0,0,0,2,2,0,0,0,4,2,2,0,1,2,0,1,2,1,2,0,7,2,0,2,0,0,7,4,0,2,0,3,2,10,3,1,7,0,2,0,0,2,4,6,2,0,0,5,0,1,0,0,0,1,0,4,5,0,0,0,2,2,2,2,1,3,4,2,2,3,3,0,2,0,2,4,0,2,0,6,2,2,0,0,2,3,1,2,2,4,2,2,2,0,7,0,0,0,0,0,1,12,0,0,2,10,0,0,0,0,2,0,1,30,0,7,2,1,1,1,0,0,0,0,2,0,0,5,1,1,1,2,2,2,1,0,2,0,0,2,2,2,2,0,0,2,3,2,5,0,2,2,3,1,2,1,2,2,1,12,1,2,0,0,0,0,0,1,2,0,8,0,0,4,0,7,0,1,4,0,2,1,1,0,0,0,6,0,1,1,2,0,2,2,0,2,2,2,0,1,0,2,0,1,3,1,100,7,0,7,2,2,0,0,8,1,1,0,4,0,2,3,2,2,0,2,2,0,2,0,1,2,0,0,0,1,1,2,0,0,2,0,3,1,2,0,4,2,2,2,6,4,5,2,2,2,2,2,2,8,2,0,0,1,2,0,0,1,2,0,0,0,0,0,0,6,2,2,8,2,8,6,12,2,6,0,0,0,0,0,0,6,0,0,1,7,12,1,0,0,8,2,9,1,1,0,8,2,2,0,2,8,2,2,2,0,2,0,2,0,0,2,3,3,0,0,2,13,9,0,4,2,2,0,2,0,0,0,0,2,4,3,0,0,0,2,2,4,1,0,8,0,4,0,2,2,5,1,4,6,1,2,12,2,11,2,2,2,4,0,4,6,2,0,0,0,2,2,0,2,0,2,0,8,4,7,2,2,2,0,1,7,2,0,0,4,3,3,2,0,6,0,0,2,3,0,4,1,9,2,1,0,0,4,1,2,1,2,6,2,0,2,4,2,2,2,2,48,2,3,0,0,2,2,2,1,2,2,6,0,0,2,2,2,0,2,2,2,2,2,2,2,0,2,0,2,0,2,1,8,2,1,4,20,0,0,7,2,2,0,14,4,0,2,1,0,1,0,0,4,0,0,2,2,0,7,2,2,2,1,3,0,6,0,16,0,2,0,7,2,8,2,0,11,5,1,2,8,2,2,2,2,3,0,0,1,2,10,0,0,4,7,0,2,2,0,0,2,1,0,5,0,1,2,0,12,0,2,0,1,2,7,0,4,1,0,2,0,1,0,2,2,1,1,1,13,2,7,2,1,0,1,0,0,2,24,12,0,17,0,2,7,0,2,7,0,4,1,0,1,1,1,1,1,2,2,5,20,0,7,2,2,1,0,0,5,0,3,0,2,1,0,15,1,1,2,7,0,0,1,6,0,0,0,1,2,2,1,2,0,0,7,8,0,0,1,0,0,0,7,5,1,0,0,0,2,9,0,0,1,2,1,1,0,0,0,0,1,0,0,3,1,0,4,1,2,1,0,1,3,0,1,2,2,0,4,0,0,1,6,2,0,1,2,2,2,2,6,2,0,0,0,6,8,0,8,1,4,4,0,2,0,0,2,7,1,4,0,2,2,1,2,2,3,2,1,0,4,0,1,2,2,7,1,0,0,2,0,2,3,2,0,1,0,1,0,0,12,0,3,0,0,0,6,0,0,1,0,10,2,2,2,1,2,0,0,0,0,0,1,2,2,1,3,0,2,1,0,1,2,5,0,4,1,2,1,0,1,0,0,0,1,4,2,1,4,0,1,0,1,0,1,7,2,7,1,0,2,2,0,0,2,1,29,1,4,4,0,1,0,0,0,1,5,1,0,1,0,0,0,0,1,2,7,1,0,0,1,17,1,4,3,0,1,4,0,1,2,0,1,4,6,1,1,1,1,0,1,1,7,0,1,1,7,0,2,0,2,0,1,2,1,1,0,8,7,3,1,1,2,0,1,0,5,0,3,1,0,3,0,0,7,0,1,1,1,1,2,1,1,1,0,0,1,0,1,2,1,1,5,7,1,1,0,7,1,1,2,10,5,0,0,2,0,0,2,0,0,1,4,4,1,2,1,2,1,3,0,6,0,3,32,7,0,3,1,45,1,1,1,8,1,6,1,1,0,2,15,2,0,0,2,1,0,7,0,7,0,0,1,3,2,4,3,4,5,0,0,3,2,2,1,0,7,1,7,0,1,1,1,3,0,0,8,1,0,0,1,1,1,1,0,0,1,0,2,0,0,0,1,2,0,0,1,0,2,7,0,1,0,0,2,0,0,1,1,1,1,2,2,5,1,1,0,2,7,1,1,2,2,7,1,1,4,0,8,2,21,8,4,1,0,1,0,1,0,2,2,1,2,6,0,13,1,0,0,0,8,4,1,0,1,0,5,0,7,1,0,0,7,5,1,2,1,2,12,7,0,1,0,7,13,1,0,4,1,1,1,0,6,2,1,1,0,2,0,0,0,1,1,0,0,0,2,0,6,0,3,3,1,40,6,2,0,0,8,0,1,0,0,7,32,2,1,0,1,2,1,9,0,1,0,0,8,0,1,6,1,0,1,0,2,0,0,1,0,2,4,1,1,7,0,0,1,2,0,4,3,0,0,1,1,3,1,1,0,3,1,0,4,0,7,0,2,0,2,0,5,8,0,1,0,0,2,0,0,2,1,0,0,2,3,0,2,4,2,0,1,1,1,9,4,1,1,1,1,1,0,1,0,0,0,4,1,0,4,4,7,0,0,0,0,1,3,7,0,0,1,2,1,1,0,4,7,4,0,1,0,2,1,1,0,0,1,1,6,6,2,8,0,7,3,0,3,0,0,0,2,8,0,8,1,2,1,2,1,7,0,10,0,0,1,1,1,0,0,3,7,5,2,0,1,0,1,4,7,0,0,2,1,0,0,0,0,0,0,1,1,1,1,5,2,0,2,2,0,4,1,1,7,1,2,0,4,0,0,2,0,11,1,2,0,1,1,1,1,0,2,1,0,7,0,0,3,4,1,2,0,2,1,0,7,1,1,4,11,1,2,2,1,1,2,11,1,1,1,2,17,2,2,0,2,2,2,4,4,0,1,3,2,4,4,3,0,0,0,2,1,0,2,0,3,2,4,4,2,3,0,0,0,2,0,2,2,2,1,0,0,1,4,3,1,7,2,0,1,0,2,0,1,2,0,3,1,2,0,0,1,0,2,0,2,0,2,3,0,0,1,2,2,1,5,2,0,2,3,2,2,2,2,1,0,2,2,2,5,1,2,2,0,6,0,2,0,2,2,0,2,1,2,5,0,8,2,2,1,0,3,1,0,2,2,0,2,0,1,0,2,2,0,2,1,5,0,5,1,2,2,0,0,0,0,1,0,0,0,0,0,0,0,0,0,0,0,0,0,0,0,0,0,0,0,0,0,0,0,0,0,0,0,0,0,0,0,0,1,0,0,7,0,0,0,0,0,0,0,0,0,0,0,0,2,9,1,0,2,0,1,1,2,0,5,2,1,0,0,0,2,0,2,0,2,0,0,2,6,0,0,1,2,0,0,0,2,0,3,9,7,5,7,2,5,2,0,4,0,0,2,2,8,0,0,0,1,6,0,2,0,3,1,1,1,0,0,0,2,2,0,1,1,1,7,1,2,0,0,2,0,3,2,1,2,2,1,0,0,6,0,7,0,1,0,0,2,0,6,2,2,2,0,2,0,3,1,3,2,0,1,0,0,0,1,2,2,4,2,2,0,4,7,2,7,7,1,7,2,4,0,2,1,0,8,2,2,2,2,6,0,1,1,0,2,0,2,3,4,3,2,1,5,2,7,1,7,0,0,0,0,1,0,0,2,2,0,8,2,0,2,2,1,7,2,0,2,1,7,0,8,1,1,0,0,2,2,0,0,1,2,0,2,1,2,1,2,0,1,0,2,5,0,0,0,6,2,4,1,0,1,1,1,0,2,2,0,3,2,2,4,4,0,0,7,1,2,0,3,1,5,8,4,0,7,0,1,7,3,1,0,0,0,1,2,7,0,2,6,2,0,7,2,2,0,2,2,1,8,5,2,0,0,2,0,2,2,4,4,0,2,5,1,7,1,3,1,1,4,2,1,7,0,2,0,2,5,0,6,0,7,2,2,1,8,4,0,0,5,2,0,0,2,7,2,2,1,5,2,0,2,3,2,2,1,1,0,2,7,2,7,3,0,4,0,1,2,1,2,0,0,1,2,2,1,7,1,1,8,0,0,2,5,2,2,0,5,0,2,7,1,2,6,0,3,5,5,2,1,2,1,7,3,2,2,0,0,0,0,1,0,4,5,10,1,1,4,0,2,1,5,4,5,1,7,3,0,1,2,0,1,0,1,1,0,7,0,3,0,2,0,7,4,0,2,1,0,4,2,0,1,5,4,0,3,0,0,1,0,8,2,1,0,2,1,5,0,0,1,7,0,7,0,0,0,1,4,1,2,0,1,0,0,0,2,0,0,0,5,1,3,8,0,0,0,1,3,2,2,3,1,0,2,1,0,4,1,1,0,1,1,2,1,2,2,0,0,0,5,2,0,1,0,5,2,2,0,0,2,5,3,0,0,0,4,2,1,1,7,0,1,0,1,0,2,4,1,5,2,2,2,2,5,4,5,5,1,5,1,2,2,2,2,0,2,1,0,2,5,1,2,0,0,0,5,2,2,2,1,1,2,0,0,0,2,4,0,2,2,0,4,2,3,1,2,3,0,0,0,2,2,5,2,2,0,2,2,5,2,2,0,0,1,7,2,2,2,7,0,0,1,2,1,5,1,0,2,1,1,0,0,0,5,0,0,7,2,1,2,0,8,1,0,0,1,1,0,1,5,2,2,2,5,4,5,0,2,0,0,5,5,2,0,5,3,2,1,3,2,2,7,2,7,0,2,1,0,0,2,0,7,2,0,1,2,5,2,0,2,0,0,2,5,0,0,1,23,2,2,2,2,4,5,7,1,7,1,1,2,2,0,1,1,2,1,1,2,5,1,2,2,7,1,0,5,0,1,5,0,0,0,5,5,7,6,2,6,0,1,5,6,0,0,1,3,0,0,0,0,2,2,3,3,0,2,0,0,0,2,2,2,2,0,2,1,2,2,0,2,3,10,0,3,13,2,1,2,2,2,1,5,2,2,3,0,1,1,0,0,0,2,1,4,2,0,1,0,2,2,9,2,0,2,0,2,1,0,1,0,4,1,2,0,1,3,2,1,2,1,3,2,6,1,0,0,3,3,2,1,4,2,2,2,7,0,0,2,0,10,2,0,1,8,1,5,0,5,2,2,0,0,2,1,2,7,6,2,7,0,2,2,0,2,2,2,2,1,6,5,13,0,5,3,0,7,2,0,2,3,0,7,3,5,0,2,3,0,2,3,2,0,1,0,1,2,1,0,3,3,0,0,2,2,2,2,2,2,1,0,3,0,2,0,0,2,1,7,2,2,2,8,1,0,0,0,1,0,2,0,2,7,2,1,2,2,0,1,0,2,4,2,5,0,0,13,2,1,2,0,0,2,0,2,0,0,1,4,3,0,2,1,2,29,1,2,3,1,2,3,0,2,1,3,0,0,1,0,0,0,1,2,0,0,0,1,1,8,1,5,0,2,5,2,2,0,2,2,1,1,0,3,0,2,5,2,2,0,1,2,0,2,1,7,1,2,2,0,2,1,0,2,0,0,0,2,3,0,61,2,4,2,1,1,3,0,5,2,2,7,9,3,8,2,8,1,1,3,0,6,2,1,2,0,0,0,0,1,0,1,0,1,0,0,0,2,0,1,4,0,2,0,0,0,0,3,0,2,0,0,0,2,1,1,2,1,0,3,1,1,0,0,3,2,7,2,0,1,0,4,2,2,1,3,3,5,0,0,0,7,1,7,0,5,1,2,2,6,0,2,2,2,2,1,3,0,2,3,0,1,8,0,0,0,0,2,0,0,1,1,3,7,4,0,1,2,1,0,0,3,1,0,2,0,1,1,0,0,2,2,0,0,1,3,2,0,2,3,2,0,0,0,0,0,1,0,0,1,0,0,5,1,1,5,2,4,0,11,0,15,0,2,7,0,0,0,0,7,7,0,2,0,0,1,1,2,2,2,0,0,0,2,1,0,1,2,8,2,7,0,1,3,0,11,0,1,2,2,2,2,0,0,1,0,2,2,0,4,0,0,0,0,2,2,2,1,2,2,2,2,0,1,15,0,2,2,2,2,10,5,2,0,2,0,1,0,5,5,2,2,3,0,0,19,2,2,0,3,2,2,0,1,1,1,0,2,2,0,0,1,1,5,2,0,0,1,1,2,3,1,1,1,1,0,2,0,1,0,2,0,2,2,7,2,3,0,0,5,5,0,0,7,0,0,1,2,2,2,1,1,2,4,2,3,1,0,2,2,2,1,0,0,1,0,2,3,5,1,1,2,2,0,2,7,5,6,3,2,0,2,1,2,0,1,0,2,5,1,1,2,2,3,0,0,0,0,0,2,2,2,0,0,0,0,3,1,0,0,0,2,2,2,2,2,7,2,2,7,2,0,2,0,0,2,2,0,0,2,0,1,0,0,0,0,0,1,0,0,0,0,1,1,2,0,2,3,31,5,5,1,7,0,0,2,5,1,0,2,5,0,5,6,0,3,1,0,2,1,0,15,2,0,11,2,2,5,0,1,1,2,2,2,0,2,0,2,0,2,0,4,0,6,2,5,0,2,1,0,2,9,1,6,2,0,0,2,2,8,0,0,1,78,5,0,17,1,0,0,1,6,2,3,0,3,1,2,2,0,0,0,2,2,0,0,1,1,3,20,2,2,0,2,5,1,0,0,13,1,0,2,2,1,1,8,1,0,10,2,2,0,12,1,4,0,0,2,1,0,0,8,1,1,0,1,2,0,0,6,0,2,2,2,0,0,2,1,1,0,0,0,2,10,1,1,7,0,10,6,3,2,2,0,0,1,1,2,2,0,0,1,1,5,1,0,2,0,2,0,0,1,0,0,0,4,0,1,54,2,5,2,0,0,2,3,2,0,1,3,0,1,0,0,0,7,0,7,0,1,2,1,2,0,1,2,1,1,0,0,3,1,0,2,0,0,0,1,0,0,12,0,5,1,6,0,1,0,0,0,0,0,0,10,2,1,0,1,0,0,1,1,1,2,0,0,2,3,0,2,2,2,5,0,5,0,0,0,2,0,0,2,0,5,0,2,1,0,2,0,0,3,4,2,1,0,1,1,2,2,2,0,2,0,0,0,0,0,2,1,0,0,2,9,3,0,2,2,2,2,0,0,2,2,10,22,0,2,1,0,2,0,2,0,0,3,49,0,0,0,2,5,2,1,2,1,2,0,1,0,0,1,2,2,4,2,2,1,2,2,2,2,1,1,0,2,2,4,0,0,6,1,3,29,0,0,1,2,2,2,0,3,0,2,0,1,0,5,1,0,6,3,2,0,0,0,1,1,0,2,2,7,5,0,3,2,10,3,0,2,0,2,0,1,2,0,2,2,0,0,2,17,5,0,7,0,10,0,1,4,3,2,1,0,7,9,5,3,2,2,3,1,0,2,0,1,1,2,3,2,2,1,2,1,1,1,0,0,2,0,1,0,1,5,5,1,2,1,0,0,1,2,1,0,6,1,1,1,1,1,1,2,0,1,0,1,1,1,2,3,0,1,5,1,1,1,3,0,0,2,1,3,0,1,1,1,8,1,1,0,3,2,12,0,0,0,2,1,2,1,13,3,3,1,16,2,2,1,2,2,1,2,0,2,0,24,0,0,2,8,0,10,8,0,8,0,2,2,2,2,1,1,1,2,1,2,1,0,0,0,0,5,7,2,1,4,0,1,2,2,5,2,0,4,0,118,2,1,0,2,4,0,0,1,0,0,1,0,1,3,1,1,0,1,1,1,1,1,1,3,1,0,0,1,0,1,2,1,0,0,1,0,0,1,1,2,1,1,1,3,1,1,1,1,1,0,1,1,1,1,0,1,0,0,0,0,1,1,1,1,0,1,1,0,2,1,1,1,1,0,1,0,0,1,0,1,1,1,1,1,0,1,1,1,1,1,1,1,1,1,1,1,1,1,1,1,1,0,1,3,0,0,0,0,1,0,1,1,1,0,1,1,1,1,0,1,1,1,1,0,0,1,1,0,0,1,1,0,0,1,6,0,1,1,1,3,1,1,1,1,1,0,1,1,1,1,1,1,1,1,1,1,1,1,0,1,1,0,1,1,3,1,1,1,1,1,0,0,7,1,1,0,1,1,0,1,0,0,0,1,1,1,1,1,1,2,1,0,1,1,2,0,0,1,1,1,1,1,1,1,1,0,1,1,1,0,0,7,0,1,1,1,0,1,1,2,1,1,1,0,0,1,1,1,2,0,1,1,1,1,1,1,1,1,0,0,1,1,1,1,0,1,0,1,1,1,1,1,0,1,1,5,0,1,0,1,1,1,1,0,1,0,1,7,0,1,0,1,1,1,1,2,0,1,0,0,1,0,1,0,8,1,0,0,2,1,0,13,1,1,0,0,3,1,0,0,1,5,1,1,1,1,0,0,0,0,0,0,0,1,0,1,0,1,1,5,1,1,3,1,1,3,2,1,0,0,0,0,2,10,1,3,2,0,1,1,0,1,2,0,0,0,2,5,3,0,3,3,2,2,0,3,1,1,2,0,2,0,0,0,1,5,0,1,6,1,0,0,1,1,0,0,9,1,0,2,2,0,3,2,2,2,6,0,0,0,0,10,0,2,0,0,8,13,2,0,1,5,3,0,1,0,0,1,3,2,7,0,0,2,2,0,2,2,0,2,2,2,2,2,2,2,0,1,0,0,2,0,0,0,6,2,0,2,0,0,0,0,2,2,1,8,0,6,2,2,2,0,1,0,1,1,2,0,1,0,0,2,2,2,2,4,2,2,2,2,2,0,0,1,0,0,2,2,1,0,0,0,0,2,2,4,2,2,1,3,0,2,2,0,1,1,5,0,4,2,0,2,0,2,3,0,2,2,1,3,2,0,1,1,0,3,2,1,0,6,7,1,1,1,2,1,2,0,3,0,1,0,1,1,14,2,0,2,0,1,3,2,0,1,0,2,2,3,14,1,0,1,0,1,0,0,0,0,2,2,4,3,0,2,0,2,1,0,3,0,2,1,7,1,0,1,0,0,3,0,0,0,0,0,0,0,0,3,2,0,0,3,0,1,3,1,2,0,0,2,1,2,2,2,1,3,0,2,2,0,0,2,2,0,6,2,2,0,1,2,1,2,0,7,0,7,0,6,2,0,3,0,0,2,1,0,3,2,0,2,1,0,2,10,2,2,7,1,0,1,2,4,0,1,0,0,1,1,2,2,3,1,0,0,7,1,2,0,4,4,0,1,0,2,1,2,1,1,4,0,2,2,0,3,4,0,0,4,0,0,2,2,2,2,1,3,0,2,3,0,2,0,1,1,1,1,0,0,8,0,2,0,2,0,6,4,1,4,1,0,2,1,0,2,2,2,0,17,8,1,1,0,1,0,2,1,0,0,3,0,3,2,1,0,0,1,0,1,10,0,0,3,0,4,8,1,0,5,0,13,0,2,3,2,0,2,0,1,1,0,0,0,1,2,1,0,2,0,0,1,6,0,0,0,0,1,2,1,2,0,0,1,0,5,0,8,4,0,1,4,2,2,0,0,10,0,0,1,0,0,2,3,0,0,0,0,2,6,0,0,0,2,0,1,3,1,2,2,0,0,0,2,0,0,0,0,0,1,1,0,1,0,0,0,1,1,2,1,1,1,4,5,0,6,4,0,1,0,0,30,2,4,1,0,0,0,1,7,0,2,1,6,3,3,0,2,0,2,0,2,2,3,16,2,0,2,0,2,1,9,0,6,2,0,1,0,0,0,2,0,2,3,0,2,0,2,3,0,6,0,1,2,1,4,1,0,0,2,1,2,1,0,2,2,12,0,0,8,0,3,2,2,2,1,1,2,0,4,4,2,2,1,25,2,2,0,3,2,1,2,0,0,2,2,1,0,2,2,2,0,2,2,11,1,2,0,0,1,2,3,1,0,2,29,0,0,1,0,1,0,1,0,1,0,0,0,0,0,1,33,4,0,2,6,0,2,1,0,0,0,0,1,2,0,0,1,1,0,2,0,2,0,2,2,2,0,0,2,2,0,2,0,0,0,6,2,1,2,0,0,0,1,0,3,0,1,0,1,1,1,2,0,1,0,2,4,6,1,0,1,2,2,2,1,0,1,1,1,2,4,7,2,0,0,2,1,0,2,2,1,2,1,1,10,8,0,1,0,3,1,1,1,2,0,1,3,18,2,1,0,1,0,0,0,0,1,2,0,2,1,0,0,1,1,2,0,0,2,3,2,7,12,0,0,2,2,2,0,0,0,2,6,6,2,9,0,0,0,1,1,1,0,1,2,0,53,4,2,0,2,2,0,0,2,0,1,0,0,0,0,0,2,2,0,2,0,2,1,2,14,1,1,3,2,5,0,0,7,0,1,0,0,1,1,2,3,0,1,0,1,10,1,1,0,2,0,9,8,0,3,2,0,0,1,4,3,2,0,0,0,0,3,3,2,6,0,2,1,2,4,9,0,8,0,0,1,2,0,0,7,1,0,2,0,1,2,1,1,3,7,3,7,1,3,0,2,5,1,0,4,1,3,6,1,1,2,0,1,1,0,3,2,8,0,0,1,0,1,4,0,2,6,0,0,1,2,3,2,0,3,1,0,0,0,3,1,2,0,1,0,0,0,1,3,2,1,1,0,0,0,0,1,1,2,1,1,0,1,0,9,2,3,3,0,2,0,3,0,1,2,1,2,0,2,2,3,0,2,1,0,0,1,2,8,2,0,0,0,1,1,0,0,1,1,4,0,0,0,2,10,2,9,2,0,1,0,2,2,2,2,2,2,2,2,0,0,2,1,0,2,6,0,2,2,0,2,0,0,2,4,3,0,1,2,1,0,2,0,2,0,0,0,1,0,3,1,21,0,1,0,0,0,7,2,2,6,1,20,2,0,2,0,2,2,2,3,0,0,2,7,0,1,2,0,2,2,2,2,1,2,1,0,0,0,1,0,0,0,0,2,0,2,2,3,6,0,3,0,2,2,0,0,0,0,2,2,3,0,0,1,2,9,1,5,2,3,1,0,0,0,2,1,1,3,0,1,2,1,1,0,14,2,3,0,2,2,0,10,2,0,0,0,0,1,0,1,1,1,1,2,2,3,8,0,0,0,2,2,0,0,0,0,1,0,4,0,14,0,2,1,2,48,1,2,2,2,2,1,1,0,3,1,4,0,2,0,1,0,0,1,7,0,0,3,2,0,2,0,2,3,0,0,1,0,0,15,3,2,1,0,0,11,3,3,1,3,3,0,0,0,1,0,0,1,1,1,0,2,2,1,0,2,1,1,1,0,2,2,2,2,0,2,2,2,1,2,3,1,0,0,0,0,13,0,2,2,0,3,0,2,2,0,1,8,2,8,0,2,2,2,3,3,2,0,3,0,1,0,2,0,0,0,1,2,3,2,2,1,1,3,0,2,48,0,0,2,3,0,1,0,0,2,1,1,13,3,2,0,1,1,1,0,1,1,2,0,1,0,1,0,0,0,0,2,5,1,0,0,1,3,0,2,0,0,2,3,0,0,1,6,0,0,32,2,1,3,1,0,1,1,0,2,1,1,2,1,1,1,1,0,2,0,0,3,6,1,0,0,0,0,0,5,0,0,0,1,0,2,4,1,0,0,8,1,1,1,7,1,0,0,3,1,0,0,2,6,1,3,1,2,3,0,2,0,0,2,3,1,2,1,1,2,0,0,1,3,0,0,1,0,2,9,0,18,1,1,1,6,1,2,0,1,0,2,6,1,1,1,1,0,2,2,3,1,1,1,13,1,1,1,3,0,0,1,3,1,4,0,2,1,0,0,7,1,1,1,27,0,0,0,0,0,1,3,1,9,0,2,0,2,0,0,9,3,2,0,2,4,2,8,0,1,5,0,1,0,2,0,2,1,3,0,7,2,1,2,0,0,2,1,0,2,1,2,8,3,1,1,3,1,3,2,2,1,0,2,0,0,2,1,2,2,2,1,0,2,1,1,2,1,2,0,0,0,17,2,0,0,2,1,1,2,0,2,2,2,18,1,3,2,3,12,0,2,0,0,6,0,2,1,1,3,2,3,1,0,3,0,0,0,2,6,0,1,6,1,2,2,0,1,0,3,1,0,1,0,2,0,2,0,3,0,3,0,2,0,0,6,1,1,6,0,3,2,3,7,2,1,2,0,0,6,2,0,1,2,0,0,1,28,2,1,0,2,2,0,1,0,1,2,6,1,2,2,8,2,3,3,0,0,0,33,6,1,1,0,2,0,2,1,2,8,2,5,2,2,0,2,2,0,0,4,1,2,1,10,1,0,3,0,2,2,2,0,1,9,0,5,4,0,0,1,2,0,0,1,1,6,6,8,1,1,4,1,0,2,2,0,0,2,2,2,2,0,0,1,0,1,1,8,2,2,2,0,1,0,2,2,1,2,0,1,3,0,2,1,2,2,0,0,3,0,0,1,8,8,2,1,6,1,6,1,2,2,0,0,1,1,3,2,2,2,0,0,0,6,0,3,2,30,0,1,2,1,2,0,0,0,3,1,2,2,0,2,0,2,0,2,0,2,1,0,27,2,2,0,2,2,23,0,6,3,0,3,2,2,2,1,1,3,3,0,2,2,6,0,2,0,4,0,2,2,1,2,2,3,1,3,0,0,2,0,0,0,0,0,0,0,2,1,0,2,0,8,3,2,2,3,3,12,1,0,4,7,3,0,0,2,1,1,3,15,0,4,4,2,2,11,0,3,0,2,2,2,0,1,3,2,2,2,0,2,2,0,2,0,1,3,0,2,0,1,1,1,3,6,3,0,0,1,0,1,3,2,2,0,0,2,8,0,13,2,1,0,2,5,2,0,2,6,0,1,0,2,2,0,2,3,0,5,2,2,0,1,2,2,0,0,2,0,2,0,4,2,1,0,0,2,7,9,0,1,2,1,18,1,0,1,4,1,0,0,0,1,0,11,1,0,0,3,0,1,0,0,0,1,2,2,0,3,2,2,0,0,1,2,7,0,12,4,2,0,1,1,2,0,0,9,0,1,5,0,0,1,1,6,2,0,2,2,2,0,2,0,1,1,5,0,1,2,2,1,8,3,1,0,2,0,0,2,0,1,4,2,1,2,2,1,2,0,1,0,1,0,1,0,2,0,2,2,12,0,2,5,3,1,2,2,2,3,0,3,0,0,9,3,0,0,1,0,1,0,3,1,2,13,0,0,2,0,4,0,3,0,9,0,3,0,6,7,2,2,8,2,0,3,2,1,2,0,2,0,1,1,0,5,0,0,2,0,1,2,0,2,1,0,2,2,1,0,8,6,2,2,2,0,1,2,0,0,2,1,4,2,2,2,1,0,1,2,0,6,2,1,0,1,0,1,0,1,3,1,1,2,2,2,0,0,2,2,0,0,3,1,1,0,0,3,2,1,0,2,2,0,1,2,1,0,2,2,0,0,2,2,0,0,1,2,0,6,0,0,2,0,1,1,4,0,0,2,0,2,2,2,0,3,5,0,1,1,0,0,0,2,5,1,1,0,0,0,2,1,0,0,1,1,3,1,4,0,2,1,2,1,0,0,0,2,0,9,0,2,1,2,2,3,0,0,0,2,0,2,0,1,0,2,2,6,0,2,0,0,3,4,2,1,1,0,1,2,2,0,0,45,0,7,2,0,0,2,0,0,19,0,1,2,0,4,12,4,2,0,0,1,2,2,1,0,4,4,0,1,4,2,0,2,0,2,8,2,2,0,0,0,4,3,2,2,0,1,0,0,3,0,6,0,6,6,2,7,1,1,0,3,0,4,2,1,0,1,4,2,2,1,0,20,0,2,2,1,2,0,0,0,3,0,2,0,0,1,3,2,0,1,0,2,1,2,0,0,0,2,2,2,2,0,0,0,1,0,2,3,2,5,6,1,2,1,4,0,0,1,1,0,0,2,0,3,2,6,0,1,0,2,1,0,1,0,0,2,8,0,0,0,0,0,1,0,0,1,0,3,2,3,1,1,2,0,0,2,8,2,1,0,0,0,0,3,0,0,0,0,0,0,1,0,0,7,0,2,0,2,2,0,0,2,0,3,0,1,0,1,0,0,7,0,2,0,0,0,2,3,2,2,2,2,2,1,1,1,0,1,2,2,5,2,0,1,0,1,0,2,0,0,0,0,2,11,1,1,0,0,1,1,0,1,8,1,1,1,2,0,2,0,3,0,2,0,0,1,4,1,1,3,2,0,0,8,9,15,0,1,2,2,1,0,8,0,1,1,2,7,2,1,0,2,12,1,0,2,4,0,2,0,0,24,2,0,1,3,1,0,0,1,3,0,2,5,2,2,3,1,1,2,3,3,0,0,0,0,0,2,24,0,2,1,7,1,0,0,0,0,2,0,3,0,2,0,0,4,0,0,2,0,0,2,2,5,0,1,1,3,0,4,3,1,2,0,1,0,7,2,2,1,3,3,2,1,2,7,2,2,0,2,2,2,0,1,0,0,0,2,3,2,2,0,2,0,0,6,0,2,0,0,0,4,2,2,1,2,2,0,1,1,5,6,1,0,1,0,0,6,2,1,2,1,0,2,2,0,2,9,1,2,9,0,0,0,2,0,2,4,0,0,0,9,0,6,0,1,0,0,2,0,1,1,0,0,0,0,2,0,0,0,0,4,0,0,2,0,0,2,4,8,0,2,1,3,6,0,1,0,2,1,1,0,2,1,2,0,19,6,7,3,1,1,3,1,2,2,3,7,0,0,2,11,3,3,12,2,1,0,0,2,0,6,2,2,1,1,1,2,2,3,3,3,2,3,1,1,7,2,0,1,1,8,1,8,1,7,1,0,0,14,0,2,1,4,4,2,0,0,0,1,2,0,0,2,2,16,0,0,2,7,0,3,2,1,0,0,0,0,0,2,0,0,1,0,4,0,0,0,1,0,2,6,1,0,0,0,0,0,2,1,0,0,0,0,0,0,2,0,1,1,3,0,2,8,0,12,0,2,0,6,0,0,3,3,0,0,0,1,1,2,1,6,0,1,0,2,2,0,4,0,3,0,0,2,1,0,3,2,2,2,2,2,1,1,2,2,0,4,0,0,4,5,2,0,1,1,0,2,0,1,2,0,1,0,1,0,3,0,1,0,0,0,0,0,0,0,1,3,0,2,0,0,11,9,1,0,0,1,0,2,0,1,3,0,1,2,0,0,4,6,0,2,0,2,3,3,2,0,1,1,1,0,0,3,0,1,1,1,0,2,0,2,1,2,2,0,9,0,2,0,0,6,0,2,2,3,0,0,2,2,0,0,3,1,0,12,0,2,2,0,0,8,2,2,2,0,3,0,2,0,3,1,7,2,1,2,2,2,76,2,2,0,0,16,3,0,6,2,0,9,0,3,2,2,4,0,1,1,18,1,2,1,4,1,3,2,0,2,0,9,0,2,0,2,0,3,0,2,2,0,2,0,3,0,1,1,8,1,2,1,1,0,2,2,2,1,2,2,0,0,2,4,0,0,2,2,0,2,2,2,0,2,0,0,3,2,6,1,26,14,1,4,2,0,2,1,0,1,0,1,4,2,2,11,2,2,1,0,0,0,2,6,2,3,0,1,1,2,0,0,24,0,0,0,2,1,2,0,1,2,1,4,14,1,1,2,1,2,2,1,0,9,2,0,2,2,0,0,1,0,0,0,4,5,6,1,0,0,30,5,5,7,1,0,1,0,0,0,0,12,0,0,1,8,9,1,1,2,2,17,0,2,1,1,2,1,4,0,3,1,0,2,2,1,3,2,3,0,1,0,0,1,2,0,10,0,0,2,6,1,0,16,0,0,2,0,0,0,1,2,1,0,6,2,0,0,2,0,0,2,1,0,9,0,0,0,2,0,0,0,2,8,3,10,0,2,1,6,1,0,2,2,2,0,2,3,0,15,7,15,6,5,6,3,0,1,15,2,0,2,7,1,0,3,1,2,0,2,0,36,2,2,2,2,0,6,2,2,2,1,4,2,3,2,2,0,2,0,4,4,0,3,0,0,9,0,3,2,0,2,1,2,5,0,6,2,0,1,2,3,2,1,2,2,2,4,0,2,14,0,2,2,2,0,6,6,2,0,0,0,0,0,2,0,0,0,3,2,21,2,0,5,2,1,0,0,0,7,1,3,2,1,0,8,0,6,0,0,0,2,7,2,0,1,1,6,6,1,18,5,6,0,0,0,0,0,0,0,2,1,2,3,0,0,11,1,3,1,1,1,0,2,1,0,0,3,1,0,2,2,2,1,1,2,4,2,2,2,3,20,0,1,2,2,0,1,3,6,1,1,2,0,2,1,0,6,0,2,2,3,15,6,1,4,0,1,2,0,4,3,4,0,0,0,0,1,0,0,0,0,2,1,0,0,3,1,1,0,0,2,3,0,3,3,0,2,2,15,2,2,2,3,1,0,1,2,2,2,3,2,2,1,0,2,1,0,0,2,2,1,8,1,0,12,1,2,2,2,2,2,0,0,0,5,2,0,1,1,2,2,0,8,0,0,2,2,0,0,2,0,2,2,2,2,2,2,3,0,0,5,2,2,0,0,2,0,3,0,0,5,0,0,6,6,0,0,1,0,2,2,0,0,0,1,3,1,0,0,5,0,4,1,6,2,0,1,0,0,2,1,9,2,0,2,2,5,0,0,1,8,8,2,1,2,1,0,2,1,1,1,14,0,0,2,5,2,2,2,8,0,3,1,0,3,1,6,1,2,0,2,2,5,8,3,2,3,1,1,4,2,2,3,0,0,0,2,2,0,0,0,1,1,7,2,0,2,0,0,0,0,1,2,5,0,0,0,0,0,0,0,8,1,2,1,6,0,2,6,2,3,2,2,3,0,1,5,6,2,4,0,0,0,6,0,2,0,24,2,2,2,0,2,0,2,0,1,2,0,8,1,6,0,5,1,0,2,1,1,2,2,6,1,1,2,0,0,0,1,7,2,2,0,4,0,1,5,0,2,0,6,0,2,4,1,2,1,5,0,2,2,0,7,6,0,1,2,2,1,0,1,2,4,1,2,2,0,1,2,0,0,2,2,1,3,3,0,2,0,2,2,6,1,2,0,3,0,0,0,2,2,0,0,0,1,6,2,3,2,1,1,3,0,0,2,0,0,6,0,0,0,0,0,0,4,1,1,2,2,4,2,2,3,2,0,0,0,3,2,0,0,0,1,2,4,0,7,2,2,2,0,5,2,1,0,8,0,0,0,0,1,0,6,0,0,0,0,0,0,2,1,0,1,1,0,4,0,5,8,0,2,0,1,0,1,0,2,2,6,2,0,1,1,2,0,0,1,3,0,1,3,1,2,2,2,1,2,0,0,3,0,3,6,2,0,8,3,8,1,2,0,0,0,2,1,0,0,2,3,0,1,0,1,3,3,6,0,0,1,2,1,0,1,2,3,8,0,0,0,0,2,0,1,2,3,1,1,0,0,1,1,0,6,0,3,0,3,7,1,1,7,0,2,0,0,1,8,0,2,1,0,0,0,0,5,2,2,3,0,1,0,0,1,0,0,0,3,0,1,1,0,0,1,0,1,2,0,2,3,0,0,1,13,2,2,1,4,1,2,0,0,1,1,2,0,0,3,0,2,1,0,2,1,0,1,3,0,0,2,0,1,2,0,2,1,6,0,1,8,2,2,2,0,1,2,2,2,1,0,0,1,2,1,5,0,0,0,2,0,0,1,1,2,3,0,2,0,0,3,5,2,4,3,0,0,1,5,5,0,1,5,1,2,8,5,0,8,0,1,1,0,3,2,0,0,1,2,0,2,8,2,1,0,0,2,2,0,2,0,10,0,1,2,0,3,0,1,4,2,1,4,1,2,0,1,2,3,1,2,3,3,1,2,0,2,0,2,1,2,2,1,2,0,2,0,0,6,0,0,0,2,1,1,5,1,2,6,2,0,3,5,5,4,4,0,0,6,0,2,0,4,2,6,1,2,0,0,2,0,1,0,2,3,0,2,0,6,2,1,0,0,2,10,0,0,2,2,0,2,5,2,0,0,0,0,0,0,2,7,2,0,1,2,0,2,0,1,3,2,0,0,0,2,0,0,0,0,0,2,8,1,2,0,2,0,1,0,1,1,1,0,8,0,3,6,2,3,0,2,3,1,0,1,0,1,0,0,2,3,1,0,0,0,0,2,3,5,2,1,0,1,0,2,2,0,0,0,0,0,0,9,2,2,0,2,2,1,2,0,2,5,1,2,1,0,2,6,0,2,2,17,8,0,5,3,3,0,0,0,0,2,2,3,2,4,0,3,0,2,0,0,0,0,0,1,1,0,0,0,0,0,4,2,5,0,0,2,1,0,2,0,2,2,2,1,0,5,1,2,2,0,1,2,0,0,4,0,0,6,1,2,0,0,0,0,1,8,0,1,3,0,2,2,2,2,2,2,0,0,2,0,1,2,0,0,2,0,0,5,5,0,8,2,0,1,0,8,16,2,8,0,0,0,3,6,0,5,3,4,0,2,2,0,29,0,0,1,1,0,3,0,0,2,0,5,1,1,2,0,1,7,1,9,2,2,1,1,3,7,2,0,2,0,1,2,0,3,0,2,2,3,0,0,2,0,2,8,2,6,1,0,2,3,3,2,0,2,1,1,2,1,2,2,0,8,5,0,0,3,0,2,10,1,2,2,1,5,0,1,0,1,1,1,2,0,1,6,7,0,1,0,1,2,2,1,1,2,2,0,1,5,5,6,0,3,2,0,3,2,0,2,1,0,1,2,0,2,1,2,3,0,1,2,2,2,0,1,1,1,3,4,0,1,8,0,2,2,0,0,5,0,4,3,5,2,1,0,0,0,0,1,8,2,2,0,1,0,0,1,2,1,0,0,2,0,0,0,2,0,0,2,0,0,1,10,2,0,2,1,1,0,4,2,2,0,0,2,1,1,10,5,0,1,2,2,0,2,2,1,2,2,0,0,2,0,2,4,3,0,0,0,1,5,2,1,0,0,0,0,0,5,2,1,1,0,4,3,0,2,0,3,0,2,2,0,0,0,1,2,2,2,0,5,0,0,2,3,0,1,5,1,0,6,5,0,1,2,0,2,6,0,6,0,2,2,3,0,0,1,0,0,2,2,2,0,0,3,1,0,1,0,0,0,2,0,5,1,2,1,4,2,6,8,0,2,3,1,5,2,6,2,2,1,2,1,1,1,5,0,0,0,2,2,0,0,1,0,0,10,2,2,0,2,0,1,0,6,0,0,0,0,2,2,4,0,2,2,2,2,2,2,1,2,0,0,7,0,2,0,2,2,0,0,1,1,1,2,2,0,1,3,2,0,0,3,8,19,1,2,2,0,8,1,1,4,1,8,0,6,2,4,0,12,10,1,3,0,1,0,5,2,1,1,0,0,1,0,0,1,3,3,0,8,0,1,0,0,2,0,0,2,2,1,8,0,2,0,0,1,2,0,0,2,2,1,0,0,0,0,0,1,6,3,0,0,6,0,1,5,2,0,2,1,13,1,1,1,5,0,0,0,3,0,2,0,3,2,8,1,0,0,1,0,0,9,0,0,0,0,2,2,0,0,0,1,0,1,1,2,2,5,0,0,0,4,1,1,0,1,1,0,1,6,0,4,5,0,1,0,0,0,0,0,0,2,0,0,1,2,8,0,2,1,1,0,6,0,1,0,9,2,2,0,3,0,0,0,1,3,0,4,2,2,0,0,2,2,2,2,5,2,0,0,8,2,2,2,0,1,0,1,2,0,3,0,2,2,8,2,0,1,1,8,1,7,0,2,2,0,0,0,0,7,1,0,3,0,2,8,2,9,1,1,0,1,1,1,1,2,1,0,2,1,1,2,0,0,2,0,4,2,1,1,0,1,4,1,0,0,6,1,1,3,0,3,0,0,8,0,0,0,2,2,1,0,1,2,0,1,0,0,0,2,2,2,2,11,0,5,1,8,0,0,0,0,2,0,0,0,0,2,2,0,0,2,2,0,0,2,0,0,0,0,2,2,1,2,12,0,3,2,1,1,3,0,1,1,1,9,0,0,1,2,1,2,1,3,2,2,0,2,2,0,9,4,0,5,3,0,1,1,0,2,0,3,3,2,2,0,0,4,1,2,0,2,4,0,2,1,2,0,2,0,1,0,2,2,3,2,2,0,3,0,0,2,1,2,0,2,2,3,1,3,0,3,0,1,0,0,0,2,26,7,2,1,0,1,0,2,0,0,0,0,0,0,0,2,4,2,8,1,2,2,2,1,2,0,0,1,18,1,2,0,2,0,0,2,1,0,0,3,2,3,1,0,2,0,1,0,0,0,1,0,2,1,2,1,2,0,5,0,0,0,7,1,8,2,0,0,5,0,0,3,1,0,3,3,5,1,3,3,0,1,4,0,0,0,0,5,2,9,0,0,2,0,0,2,2,2,0,3,2,0,0,2,1,2,2,4,0,2,0,2,12,2,2,0,0,0,2,0,1,0,4,1,0,2,0,17,0,2,2,0,2,2,2,7,2,2,3,0,4,0,2,2,2,0,0,2,2,2,2,0,3,2,0,3,0,8,1,2,9,2,0,0,0,0,2,0,0,0,0,2,3,1,0,0,2,0,0,0,5,2,0,0,3,0,3,0,0,2,2,5,2,0,2,0,8,1,0,0,0,1,0,0,1,0,3,0,2,2,0,2,0,2,2,2,0,7,8,1,2,2,0,0,1,0,0,3,2,2,6,0,1,0,2,0,1,2,0,10,1,2,2,3,2,1,8,2,0,0,3,0,1,2,1,2,0,0,0,1,1,8,0,2,2,1,0,1,5,1,4,0,2,1,3,0,0,18,0,3,1,0,1,8,2,9,22,0,7,10,5,5,0,8,0,0,2,0,0,0,0,0,1,2,0,5,25,0,2,2,1,0,6,0,9,8,3,0,0,1,2,0,0,0,2,0,2,0,2,5,1,2,0,2,1,1,2,3,0,3,2,8,1,0,0,3,2,0,2,1,8,3,2,2,2,0,2,5,2,0,0,1,6,0,3,0,2,0,2,0,2,2,0,6,2,1,0,0,1,0,2,2,2,20,1,0,9,2,0,3,0,0,2,1,1,6,0,3,0,2,0,2,2,3,0,11,1,1,5,0,1,1,0,1,0,1,0,8,0,1,0,2,2,5,2,0,5,2,3,6,5,6,1,2,0,2,0,2,1,2,2,0,1,3,0,2,0,0,1,8,0,0,0,0,2,0,0,0,0,0,2,0,0,0,2,1,1,1,6,3,2,6,1,0,2,4,0,2,0,0,0,1,0,1,1,2,2,0,1,3,2,2,0,2,0,0,2,2,5,0,0,1,6,0,2,0,0,0,0,0,2,0,0,3,1,0,0,4,3,3,0,2,0,2,2,10,0,4,0,0,1,0,3,2,0,0,2,0,0,2,8,26,3,0,2,1,6,1,0,1,5,1,2,1,2,1,5,2,0,5,0,2,0,1,0,3,1,2,0,3,0,2,0,0,0,0,0,0,2,1,2,1,6,0,2,6,20,0,0,0,2,2,2,0,0,2,1,0,3,0,1,2,0,2,2,0,1,5,2,1,0,0,4,0,2,0,0,0,0,2,1,6,3,1,3,2,3,1,0,9,0,8,6,2,0,2,4,0,2,1,0,7,0,5,2,1,0,8,3,2,0,2,0,2,0,2,0,5,1,6,2,0,2,4,2,3,0,2,0,0,1,1,2,2,0,3,0,1,0,2,0,0,2,0,0,2,1,1,0,2,2,0,2,3,1,6,0,0,2,0,9,2,1,3,0,1,1,2,0,2,2,2,2,2,8,3,2,1,6,0,0,1,2,12,5,0,1,0,2,2,0,1,1,1,5,1,2,5,1,4,3,8,0,0,0,0,0,2,0,1,0,1,2,1,0,1,6,2,1,1,1,1,0,0,0,2,0,5,5,5,0,2,2,1,5,7,0,4,0,1,1,0,0,2,0,1,0,2,0,1,0,0,0,12,1,1,0,1,1,0,0,0,0,2,0,0,3,3,8,0,7,2,0,0,2,2,2,7,2,1,2,2,0,2,3,1,1,1,0,2,2,2,0,2,0,2,2,1,2,1,4,0,2,0,2,7,0,2,2,0,2,2,2,0,3,2,2,3,0,5,1,0,0,5,0,2,10,1,13,1,0,2,0,2,0,2,3,1,2,2,3,2,5,2,2,2,0,10,0,5,2,4,2,0,2,2,2,2,2,2,2,1,2,15,2,0,2,1,0,2,0,5,17,0,20,1,2,0,7,0,2,0,3,2,0,3,0,2,2,2,1,0,0,5,3,2,0,0,1,2,0,0,0,0,1,0,0,2,1,0,2,2,0,2,0,0,0,0,9,0,0,0,0,2,2,0,2,0,2,0,10,2,2,0,2,0,0,0,2,1,2,3,1,8,5,8,2,8,11,2,9,2,6,1,4,0,1,2,2,0,6,2,18,1,1,6,1,2,0,0,2,0,0,0,0,1,0,13,3,1,2,1,0,0,0,2,7,3,12,2,2,1,2,2,3,6,3,7,3,5,7,4,2,1,6,2,5,6,2,0,2,9,1,3,3,2,2,1,3,7,1,1,2,5,2,1,3,1,4,1,1,4,2,1,2,0,1,5,7,2,2,0,3,0,2,1,2,2,0,1,1,5,2,2,7,7,3,0,2,1,0,5,7,0,7,2,1,0,0,0,2,1,0,1,1,0,0,1,1,0,1,7,1,7,1,4,3,1,1,5,2,2,2,0,6,2,10,0,3,0,0,2,0,1,1,0,0,1,3,2,0,0,0,2,1,1,1,2,1,2,0,1,1,8,2,7,0,6,1,2,1,8,9,5,1,2,0,7,3,1,1,6,3,1,2,0,4,4,7,7,1,0,0,1,3,1,0,0,0,1,0,0,0,1,0,0,2,1,2,1,0,1,4,3,0,1,5,14,1,0,8,2,3,2,3,5,0,3,1,1,2,5,2,2,2,8,1,0,0,5,9,2,1,1,0,8,6,4,3,2,9,4,1,0,1,1,6,0,0,1,1,0,0,0,1,2,0,1,0,0,1,1,2,0,2,0,0,1,1,2,1,0,2,2,0,9,3,6,8,0,1,2,8,0,0,2,7,0,2,7,0,3,0,5,1,0,1,0,0,1,9,2,1,7,3,2,0,5,1,5,4,0,3,1,1,0,5,1,4,3,3,6,4,2,5,1,1,4,0,3,2,2,5,2,1,7,0,0,0,2,3,1,5,1,1,7,8,6,1,12,0,2,1,1,5,6,0,1,0,5,2,2,7,0,0,1,1,5,2,6,0,2,1,12,5,0,3,9,15,0,2,3,2,1,1,3,0,1,3,3,1,3,1,1,1,5,5,0,0,2,2,4,1,0,2,8,6,2,3,5,5,2,1,3,0,0,4,2,0,5,1,0,0,0,2,3,2,1,3,2,0,0,0,0,0,2,0,3,3,1,9,1,7,2,3,2,1,1,0,0,5,1,3,6,13,3,4,1,0,1,4,2,2,5,0,1,1,2,1,2,2,3,2,4,0,1,0,2,2,1,0,2,0,3,0,3,1,2,5,2,0,1,3,2,9,0,0,0,2,5,2,2,1,0,13,0,5,2,3,2,1,7,3,0,0,1,7,1,2,0,1,4,9,8,0,9,5,7,6,3,5,0,3,7,0,24,3,1,1,7,12,4,0,1,9,5,7,2,4,0,1,3,0,2,0,0,1,1,6,7,1,0,5,8,3,6,1,2,8,6,0,6,7,7,3,0,5,3,4,1,1,8,0,3,1,1,0,2,0,7,0,8,3,2,7,0,2,0,0,7,3,3,3,1,4,0,2,0,0,0,0,2,0,0,1,3,5,1,1,5,5,0,1,0,3,0,2,0,2,1,1,6,3,4,2,1,2,0,7,5,8,0,8,0,1,0,0,0,7,0,7,7,7,0,6,5,1,5,4,5,6,3,4,1,0,1,1,0,0,1,0,2,8,6,2,4,5,1,4,1,3,2,0,7,4,4,10,3,3,1,7,7,5,1,5,0,1,3,0,4,1,0,0,1,6,7,3,7,7,2,0,1,1,1,0,4,2,2,6,2,1,2,1,4,0,7,0,5,5,1,1,3,1,5,2,7,8,8,5,0,1,10,1,6,2,1,2,5,1,5,2,7,2,3,3,3,1,3,0,2,0,2,4,12,6,3,4,1,0,1,0,7,11,7,2,0,0,2,6,0,0,6,3,0,7,3,0,0,5,0,0,2,0,1,1,7,2,3,2,1,2,1,7,4,0,0,0,0,7,6,6,1,5,6,1,7,2,8,7,1,2,0,7,6,1,7,6,7,1,0,5,2,0,0,1,8,0,0,0,1,1,7,7,0,8,2,1,0,0,2,1,1,8,6,1,9,0,0,4,0,0,0,1,1,5,1,4,3,0,1,3,7,1,2,0,0,0,1,5,3,13,1,7,1,0,5,0,4,2,0,2,2,1,0,6,1,3,4,0,0,4,3,0,2,0,0,3,2,1,5,2,1,1,2,0,5,7,1,0,1,0,3,0,1,1,2,7,1,6,1,7,3,4,6,7,5,5,0,2,0,2,4,1,3,0,0,2,8,3,1,10,0,0,0,1,7,7,3,4,0,2,3,0,0,1,0,1,0,3,5,4,0,1,5,4,0,1,7,1,3,1,3,0,1,5,4,1,1,6,5,2,0,1,1,2,3,1,0,2,1,7,7,1,0,0,4,0,6,3,1,0,0,7,2,0,0,5,4,5,1,1,0,1,0,1,0,1,5,9,1,0,2,1,4,0,9,7,2,7,1,5,0,0,3,3,1,0,3,6,7,0,1,2,0,1,1,0,0,3,1,1,14,7,1,1,9,1,1,2,3,6,9,1,2,1,0,5,2,2,5,7,2,1,8,3,1,1,1,6,2,3,0,0,1,5,2,3,6,0,1,1,0,3,5,1,1,1,1,0,1,7,7,0,2,1,1,0,7,2,3,1,2,2,4,5,1,0,9,0,0,2,0,7,1,5,2,2,7,4,0,2,0,0,1,0,5,1,0,0,0,5,1,1,2,12,5,1,1,1,0,1,1,2,0,2,2,2,2,6,2,0,7,3,2,0,1,1,5,3,1,0,0,6,1,1,2,2,2,0,0,0,0,1,3,1,1,2,5,2,2,3,8,0,3,0,2,0,0,0,2,1,1,2,1,0,3,1,5,1,0,2,5,2,1,1,0,0,0,1,3,0,3,3,3,0,1,0,6,18,0,1,1,1,2,1,1,2,3,0,1,2,7,3,2,1,1,0,1,1,3,0,6,0,4,1,1,3,3,1,3,0,0,0,0,1,1,0,1,6,0,6,1,2,1,2,1,8,0,0,1,9,7,2,0,12,1,1,5,1,0,7,0,9,3,7,0,0,5,4,0,4,0,1,0,0,0,3,9,1,0,8,1,1,0,0,2,1,3,0,0,0,5,1,0,5,0,1,0,3,0,7,0,1,0,9,2,5,3,3,5,0,6,7,1,2,19,0,2,5,7,0,0,1,0,0,2,1,8,1,0,1,3,0,0,8,1,0,6,0,0,2,0,1,2,3,7,0,0,0,10,0,1,2,0,0,0,1,0,2,6,1,1,4,0,3,7,0,0,3,1,0,0,2,8,2,1,0,0,4,9,6,0,0,1,2,7,1,0,1,2,0,2,1,5,2,0,1,0,7,0,6,2,3,3,6,4,1,0,2,0,14,3,1,7,0,2,8,0,0,7,0,7,5,6,0,4,1,2,5,0,5,1,5,0,5,0,2,1,3,0,1,5,0,1,5,6,1,1,7,0,2,1,1,1,1,3,2,1,2,1,7,2,4,10,2,1,1,5,3,9,7,3,7,2,0,4,1,1,2,7,1,1,5,2,14,5,1,0,6,6,0,4,0,1,5,0,12,0,8,4,0,2,1,1,1,1,3,8,0,2,0,0,1,1,0,4,17,2,4,5,2,5,7,0,5,2,1,2,3,2,0,3,1,1,7,0,2,7,1,0,1,0,1,6,0,7,1,4,1,5,1,8,7,7,7,3,0,1,4,1,0,0,5,1,0,1,12,4,2,3,0,2,0,6,7,2,1,5,7,7,0,8,2,2,0,3,4,0,0,6,4,1,11,0,0,1,1,0,5,0,8,5,0,6,0,0,2,1,1,2,5,2,0,5,1,5,1,14,0,0,3,2,0,2,6,1,0,5,0,5,3,0,0,1,1,5,1,2,0,1,0,6,5,4,5,0,0,1,2,1,1,0,0,7,0,0,7,5,5,0,0,1,1,1,5,1,0,0,2,0,0,2,1,0,1,3,0,0,0,1,5,1,1,4,2,3,7,3,3,0,0,1,3,2,2,2,1,0,0,0,5,1,1,3,0,0,3,6,7,8,0,1,3,3,1,0,0,0,4,1,0,1,1,1,2,1,0,0,2,0,0,1,2,1,3,3,0,7,1,2,7,1,0,3,19,2,1,4,1,0,0,3,9,0,2,6,8,1,1,2,0,2,0,0,0,3,1,5,1,1,1,1,5,2,6,3,3,0,0,1,8,4,0,4,3,8,0,6,2,1,3,1,9,2,3,0,0,3,4,1,2,9,1,0,1,5,2,0,0,5,8,0,1,2,0,0,0,5,5,0,3,6,1,3,4,0,2,8,1,1,1,0,5,1,1,3,0,2,2,0,1,2,4,1,5,0,0,5,2,0,2,0,1,1,2,5,4,1,2,3,1,2,1,2,0,0,2,0,1,0,5,0,1,1,0,1,2,5,2,4,5,11,3,6,5,1,1,0,5,0,2,3,1,1,1,5,0,0,3,1,0,5,1,9,7,2,0,1,1,1,8,7,2,0,0,7,0,0,1,1,1,3,3,1,5,0,0,1,0,0,1,5,3,0,0,7,2,1,1,0,5,0,0,2,2,2,0,0,7,2,2,1,5,2,0,0,2,3,2,6,11,2,0,2,1,1,5,24,7,1,2,7,8,1,0,2,2,0,0,0,5,5,4,9,0,5,5,5,1,1,12,0,12,1,2,0,5,0,2,0,1,3,5,0,1,0,2,0,1,2,2,1,1,6,2,2,1,1,3,9,0,0,8,1,4,1,1,5,12,3,0,2,0,2,0,7,5,1,0,0,5,1,3,0,8,0,0,0,1,5,6,0,0,7,0,6,1,5,1,0,2,0,2,0,3,3,0,2,7,0,4,7,0,7,0,0,1,0,3,3,7,1,3,3,0,3,0,1,1,9,7,2,1,5,3,2,1,7,2,0,4,0,1,1,3,0,7,5,0,1,0,0,0,5,7,3,1,9,1,6,6,8,3,6,2,9,7,1,4,1,3,0,3,1,1,2,1,1,7,2,7,5,2,2,1,0,0,0,2,6,1,0,1,6,1,1,2,0,3,1,1,2,5,5,2,2,6,7,5,0,7,2,2,3,6,1,0,2,3,0,3,1,7,0,1,7,5,0,3,5,5,5,0,0,0,3,5,6,2,1,7,7,4,1,5,0,7,0,0,1,0,2,4,2,0,0,8,0,1,4,2,0,0,0,7,4,5,0,0,5,3,0,3,4,10,9,0,0,6,4,0,0,1,0,5,2,0,5,2,1,0,2,0,3,0,8,1,3,0,3,3,6,2,2,2,5,2,0,0,0,2,0,7,0,0,0,1,1,1,4,1,1,3,4,1,5,0,1,5,4,1,2,3,5,5,0,1,7,7,4,3,7,4,1,0,8,0,2,2,3,0,1,0,1,9,0,8,2,1,0,1,2,2,0,0,1,0,6,2,1,1,1,6,8,5,0,2,0,7,2,0,1,1,1,1,3,5,0,1,0,1,0,4,1,0,7,0,5,1,1,0,5,1,2,1,4,2,4,5,0,1,0,0,3,1,6,2,1,0,1,5,0,6,5,1,1,7,4,0,3,6,0,0,1,0,8,2,1,0,5,6,12,1,0,1,0,1,3,5,6,6,3,0,5,8,0,3,0,7,3,0,6,3,7,0,1,0,7,1,9,2,7,1,0,1,0,6,0,1,1,0,4,4,0,2,0,4,1,2,2,7,7,1,0,1,7,2,1,0,0,2,0,3,2,1,2,4,3,2,5,3,7,1,7,5,5,1,0,0,0,0,1,0,0,1,9,8,5,2,0,0,3,0,1,3,3,2,2,2,2,0,4,0,7,7,1,0,3,1,7,3,4,7,9,7,3,6,6,2,0,0,4,1,7,2,6,4,0,4,1,2,0,0,0,1,1,0,1,1,2,2,1,7,0,3,0,1,0,3,5,4,1,3,2,2,3,2,0,4,10,4,0,7,4,2,1,7,1,0,8,0,2,3,1,3,4,5,2,0,4,1,0,0,0,7,0,0,1,3,0,1,0,1,0,1,0,0,7,0,8,1,0,1,1,5,7,9,3,1,4,0,9,7,2,0,1,2,1,1,1,2,0,7,0,7,1,0,6,1,5,1,0,7,2,0,6,1,3,2,1,1,4,1,2,5,3,7,9,1,1,1,3,3,0,9,1,1,1,0,1,3,7,0,1,0,2,5,5,1,2,2,7,5,7,5,7,1,6,1,6,0,1,0,6,0,0,3,7,1,0,0,0,1,0,3,3,2,1,6,2,2,0,2,2,1,2,2,1,2,4,0,0,7,6,4,7,1,1,1,5,6,1,6,0,6,7,4,2,5,0,6,1,7,1,2,4,6,18,0,0,1,3,9,0,1,1,0,0,0,3,1,1,2,1,1,1,4,2,0,3,0,10,7,4,1,6,2,4,0,6,3,3,0,5,5,8,1,5,5,2,1,1,3,0,7,6,5,4,2,2,0,7,1,2,11,3,2,1,1,2,2,4,7,1,1,5,0,1,2,2,3,1,8,7,9,5,5,5,0,7,0,0,6,2,0,0,4,4,5,0,1,2,0,3,7,0,1,0,1,4,3,1,0,0,0,12,0,0,14,1,2,12,3,0,5,0,8,1,1,3,0,1,1,0,0,1,6,1,1,1,0,1,7,10,1,4,9,1,4,1,1,0,2,0,2,1,0,1,1,1,2,3,20,2,1,1,2,3,1,2,0,2,7,1,2,0,1,0,2,2,2,0,6,0,2,2,1,0,0,0,4,3,2,2,0,2,2,1,2,1,2,2,2,1,0,2,1,7,2,1,4,0,4,7,2,2,0,2,8,2,0,0,3,0,0,2,0,0,0,1,1,2,2,1,2,1,2,3,2,1,1,1,1,0,1,0,3,2,1,9,2,6,1,2,3,1,2,1,9,2,0,6,0,1,8,1,1,3,1,0,3,0,1,2,6,1,6,0,0,2,0,1,0,7,3,1,10,2,0,22,1,0,2,2,0,1,7,1,6,0,8,3,0,1,0,0,3,2,0,7,3,6,0,5,8,1,0,1,1,0,0,6,0,1,0,6,2,0,0,7,1,1,0,1,2,6,0,1,2,7,6,2,1,3,2,0,1,0,2,2,1,8,10,3,3,7,1,0,1,5,0,2,2,8,0,1,2,1,1,4,0,2,2,2,6,1,0,1,8,0,0,0,8,0,0,2,2,7,0,0,1,1,2,1,2,2,2,7,1,0,5,6,8,0,1,3,2,2,1,6,5,2,1,1,7,9,7,4,0,1,1,6,0,6,1,3,0,7,2,1,2,5,6,2,2,1,2,6,4,2,2,0,1,0,1,1,2,1,4,6,0,1,6,4,2,2,1,10,8,2,1,5,3,0,0,0,2,5,6,2,7,1,2,1,2,1,6,2,6,5,4,0,1,0,2,0,0,2,6,0,1,0,0,3,0,0,0,0,0,0,0,6,1,8,1,1,0,0,0,6,2,2,2,2,3,5,0,0,2,2,2,5,0,7,0,1,0,6,0,8,1,0,2,9,9,6,2,1,2,2,7,8,2,1,6,1,0,1,2,1,1,0,1,0,1,7,7,0,1,0,4,6,0,2,3,8,0,2,2,8,2,3,0,2,2,1,1,2,0,0,5,0,4,7,3,0,2,4,0,3,0,0,8,0,0,0,4,4,0,1,1,10,2,8,2,0,7,3,2,1,4,1,8,0,2,2,2,0,2,1,0,2,0,7,8,1,2,0,9,0,5,2,6,1,6,6,9,2,1,0,2,0,1,2,6,4,0,2,1,0,2,0,1,0,1,0,16,1,0,1,0,6,2,0,7,0,7,6,6,6,1,1,0,0,2,2,1,1,0,0,2,0,1,2,2,0,3,0,2,1,1,8,0,1,5,1,2,0,8,0,2,2,2,2,1,0,6,0,7,1,0,3,0,1,1,5,0,1,6,6,2,2,7,1,1,2,3,0,1,8,2,4,1,2,1,2,0,6,0,2,6,2,4,3,1,2,6,0,0,0,1,1,2,2,2,2,1,2,2,0,0,5,2,1,3,1,2,8,2,6,2,1,6,2,0,8,0,1,6,1,0,12,1,1,1,0,22,7,9,2,1,0,6,2,0,0,1,2,1,2,2,2,8,2,1,2,5,0,2,7,8,2,0,2,7,1,1,8,1,1,2,1,6,1,0,2,1,0,4,0,2,2,2,2,3,9,1,1,0,0,0,9,6,0,0,6,0,0,1,6,1,0,0,0,2,4,0,2,6,0,0,1,6,3,1,5,2,0,6,4,3,6,9,3,0,3,0,0,0,1,1,1,2,0,0,7,1,0,8,2,1,2,2,1,1,1,1,7,5,5,0,0,1,1,1,1,1,1,6,2,0,2,0,8,2,2,2,2,2,3,0,1,6,5,2,0,0,1,2,0,0,6,4,1,3,0,6,5,3,1,0,0,1,1,4,2,11,1,3,3,2,3,0,8,0,8,0,8,2,3,3,3,1,0,1,0,1,1,2,1,0,0,0,5,0,1,2,2,0,0,2,0,0,2,0,5,1,5,1,7,1,1,1,5,0,1,0,2,2,1,2,0,4,2,0,4,1,0,2,0,6,5,1,2,5,0,7,5,2,4,2,6,3,0,0,0,0,2,1,4,6,2,5,1,1,0,2,4,8,1,1,3,1,1,3,0,2,6,1,0,0,1,0,1,1,2,6,0,4,3,2,1,2,2,2,1,2,0,0,7,0,1,0,5,0,5,0,1,0,1,8,2,1,2,2,2,1,0,3,2,6,0,6,2,7,1,0,2,1,8,2,8,8,2,2,2,6,1,0,1,5,3,0,9,1,6,1,0,7,2,0,0,1,0,2,8,1,5,2,1,1,0,3,1,15,4,1,2,2,2,0,1,2,0,1,6,6,5,2,0,4,1,3,4,0,3,1,3,2,8,0,2,1,6,2,1,8,3,0,0,1,0,3,2,3,1,1,1,1,0,0,1,2,0,8,2,8,14,0,2,3,2,3,1,0,6,1,1,2,2,2,9,1,2,1,2,0,1,6,5,1,1,2,3,2,7,2,3,7,2,0,5,7,3,2,0,1,2,0,2,2,0,1,1,2,5,2,1,6,2,0,1,0,2,2,0,3,0,2,3,4,2,2,0,2,0,1,0,6,4,0,1,7,1,6,1,2,0,7,2,2,3,1,5,5,1,5,8,4,1,4,1,0,0,0,2,0,0,2,4,0,0,3,0,4,2,2,9,6,1,0,0,4,6,0,2,8,0,0,0,2,0,0,0,1,4,1,1,1,1,1,1,0,1,1,1,8,2,1,1,0,1,2,7,2,1,1,1,0,8,1,1,2,1,2,10,0,2,0,2,4,0,14,0,0,1,1,1,2,0,2,1,2,4,7,2,5,1,0,3,1,0,2,1,1,6,0,2,2,2,2,3,9,6,2,2,2,0,1,1,2,0,8,1,0,8,5,0,1,24,1,1,1,1,1,2,2,1,6,15,3,2,2,0,1,0,2,5,1,0,1,2,0,8,3,6,1,4,0,2,7,2,2,0,1,1,2,0,1,0,2,1,5,1,7,6,0,3,0,1,0,0,6,1,2,2,5,2,6,3,0,8,4,5,0,0,1,2,6,1,9,0,1,0,0,2,7,0,0,1,1,0,0,1,2,2,23,2,1,0,0,1,0,1,1,0,8,1,1,1,2,0,1,8,1,0,0,2,3,0,2,0,4,6,0,2,7,2,1,0,5,1,2,1,1,0,1,1,1,1,2,0,1,1,0,0,0,3,7,0,0,1,3,8,2,2,4,2,1,2,1,2,0,3,2,3,4,1,0,8,2,2,13,6,2,1,7,2,0,0,2,2,1,2,1,7,1,1,0,2,2,6,2,1,4,1,2,3,1,6,1,8,0,2,1,2,2,2,2,2,2,1,8,0,1,8,1,1,1,4,0,0,2,8,3,1,3,2,8,0,0,3,1,0,9,2,0,3,0,2,0,7,7,2,0,2,0,2,1,1,11,1,1,2,2,1,0,2,1,6,4,2,1,0,4,4,5,10,1,0,2,0,4,0,0,0,1,1,6,3,6,1,0,2,3,1,0,0,8,6,2,4,0,0,8,1,7,9,0,1,0,0,1,2,5,2,0,1,4,2,0,1,5,0,2,0,0,0,1,3,1,2,0,0,1,2,3,2,2,2,2,4,1,2,3,5,7,1,6,2,1,2,0,3,0,0,9,2,2,0,2,0,6,0,0,8,4,2,0,0,2,3,1,2,7,0,0,1,1,0,1,2,4,8,2,9,1,2,7,0,1,2,0,0,9,2,3,5,0,1,2,7,5,2,0,2,0,8,1,0,3,1,2,1,0,8,9,2,6,2,1,2,1,1,7,1,0,3,2,5,2,6,2,0,3,10,2,1,1,4,1,2,2,9,2,2,1,7,2,2,0,0,9,2,0,0,3,2,2,0,0,5,5,0,1,6,2,0,1,1,0,1,7,1,2,0,6,0,0,2,4,0,1,0,0,0,2,6,0,1,8,2,2,8,2,4,1,1,2,6,1,2,2,0,4,2,6,6,0,0,9,1,2,8,0,0,6,0,0,3,2,5,1,2,18,0,7,1,2,3,2,7,6,8,4,2,1,5,1,2,1,0,6,1,0,0,0,0,0,2,2,2,0,1,0,1,0,0,8,1,1,2,1,2,1,8,0,0,1,0,0,5,2,1,1,0,2,0,0,4,3,1,0,1,0,2,0,2,9,6,6,1,2,1,12,2,2,2,3,0,1,0,12,15,1,0,9,2,8,6,2,0,1,0,1,6,0,2,0,7,2,3,1,0,6,1,20,0,6,8,2,5,0,2,0,5,0,4,0,1,1,0,1,0,1,0,3,1,0,2,8,1,0,6,8,0,0,2,1,2,6,1,0,1,1,1,3,1,2,0,0,0,0,0,2,6,1,2,7,6,6,7,1,2,0,2,7,6,2,5,0,1,6,1,0,1,1,0,1,2,0,8,1,2,7,0,0,2,2,0,2,2,2,1,2,3,0,3,2,1,0,2,1,0,6,2,1,0,2,1,1,1,1,5,8,1,2,0,2,6,2,0,1,7,3,3,0,1,0,0,0,8,8,1,2,2,2,2,7,6,5,6,4,0,1,2,1,3,2,1,2,1,2,0,0,0,2,8,0,1,1,0,1,0,2,2,0,0,1,0,1,1,1,0,7,0,2,2,1,1,2,1,2,1,0,9,2,2,2,2,6,1,0,3,0,2,1,2,0,0,0,9,1,1,14,6,0,0,2,2,10,1,3,2,1,0,2,4,0,0,0,1,0,1,2,8,1,2,5,0,11,2,1,8,21,6,2,1,2,0,1,0,0,0,2,1,4,10,1,1,1,2,6,2,1,1,0,3,1,13,0,8,1,0,2,1,3,1,1,1,0,0,0,1,1,2,2,2,2,1,0,2,1,1,10,2,6,1,1,4,1,3,0,4,7,0,0,1,2,4,6,1,0,0,0,2,1,0,8,6,0,8,1,8,1,0,1,1,8,8,1,0,8,2,2,2,0,10,6,2,1,2,8,2,8,3,6,1,2,0,0,9,1,3,1,2,2,0,2,1,0,2,2,1,1,4,0,8,2,2,0,2,6,1,2,3,0,8,1,2,1,8,0,2,1,6,1,0,8,0,0,1,2,6,0,0,1,2,17,5,0,1,2,8,1,0,2,1,1,1,2,2,5,1,0,0,0,2,0,4,0,1,4,2,5,9,1,6,7,2,2,6,1,6,8,0,6,8,0,2,1,0,5,0,2,0,5,4,8,9,4,2,0,5,6,8,2,1,3,2,6,3,7,2,2,0,8,2,0,1,2,6,0,4,2,1,2,8,0,1,1,9,4,0,0,6,0,2,2,3,1,0,2,6,2,2,2,2,7,7,6,3,2,2,1,5,1,0,0,2,2,6,2,1,4,2,2,6,9,1,3,1,1,0,0,6,8,7,9,0,3,1,2,2,2,0,1,4,1,1,1,0,1,0,2,2,1,1,2,0,1,0,8,1,4,1,2,1,2,2,2,2,1,2,7,0,1,0,1,7,3,1,1,2,2,9,2,10,8,0,1,2,2,1,1,14,2,2,2,7,4,1,1,0,6,2,7,2,11,0,6,5,4,2,6,6,6,1,0,1,9,2,2,7,0,1,1,1,0,0,1,2,0,1,2,1,0,2,2,1,1,2,3,2,1,2,0,1,2,7,0,1,1,2,1,1,0,0,7,0,3,0,3,2,11,2,7,0,2,1,1,0,1,0,7,1,0,3,6,1,4,0,4,1,11,4,3,8,1,5,4,0,1,0,0,4,1,2,4,6,1,0,0,2,2,0,1,1,5,0,2,0,1,6,1,0,2,1,1,6,0,2,6,5,5,3,0,3,3,5,1,0,1,1,1,2,1,3,5,0,0,2,3,0,8,0,4,5,7,0,1,1,7,2,5,5,2,1,0,4,4,0,1,5,2,4,4,7,7,0,0,2,0,0,3,9,0,0,0,1,5,3,2,0,1,1,2,2,1,1,3,7,1,4,2,6,1,7,5,1,2,4,5,0,8,0,3,5,0,1,0,4,6,9,1,0,0,0,6,2,0,4,2,4,5,0,2,0,6,0,9,0,6,0,0,5,0,2,0,0,3,2,1,1,1,1,3,1,2,0,2,2,1,1,8,0,6,1,2,0,0,0,4,3,0,5,1,0,1,1,0,1,0,2,2,10,0,3,5,5,7,5,5,1,6,8,7,3,0,0,1,0,1,0,7,3,0,6,0,2,1,1,0,6,3,2,7,0,1,7,0,1,4,2,0,2,6,10,2,2,5,1,3,1,1,9,1,2,2,6,0,5,0,1,2,0,1,0,1,2,8,1,1,1,0,2,2,8,0,13,2,0,8,1,3,7,0,0,0,2,3,4,1,1,2,1,0,1,6,3,1,1,6,7,0,5,1,6,5,9,1,7,9,1,2,7,5,2,0,9,1,1,7,3,9,1,8,4,0,0,2,2,1,5,1,2,5,1,5,0,3,7,1,1,5,0,2,1,6,1,1,2,7,0,4,7,1,6,1,5,0,0,7,0,4,1,1,8,3,0,2,1,5,1,5,7,2,5,5,2,8,1,0,0,1,3,0,1,6,6,2,5,0,17,0,1,0,0,1,0,1,0,1,1,2,4,0,1,7,7,0,7,0,7,0,13,5,0,3,2,4,1,2,4,0,4,8,3,2,5,3,4,7,2,7,7,4,6,1,1,1,12,8,1,4,0,10,0,2,4,7,4,2,2,4,5,5,1,1,1,0,1,0,1,0,0,1,0,6,9,2,4,4,0,2,1,0,5,5,1,4,10,6,4,0,1,1,9,0,1,1,1,1,1,4,2,3,0,1,0,1,3,1,1,1,0,4,8,1,0,1,1,9,6,0,7,1,0,0,0,1,0,0,0,1,3,1,0,0,2,0,2,1,0,0,1,2,0,1,0,1,1,2,1,1,0,1,6,4,0,1,1,0,1,0,2,1,3,5,5,6,0,1,1,0,3,9,0,1,1,12,10,1,1,0,1,0,6,0,5,7,0,3,5,0,3,1,0,0,3,6,0,0,6,8,2,0,1,1,1,1,2,0,1,8,6,2,0,4,2,0,5,7,2,0,1,1,11,9,7,1,2,2,2,8,0,6,3,6,1,1,0,3,1,5,0,0,0,8,2,0,2,1,2,7,11,2,4,2,7,1,2,9,6,2,7,0,1,0,4,3,7,1,1,1,2,6,9,4,1,2,2,0,0,0,0,7,5,7,6,0,2,6,5,0,0,1,0,0,0,7,1,3,0,2,0,0,0,10,0,1,1,7,1,11,9,0,0,1,0,6,2,2,0,4,0,7,1,4,1,7,2,9,1,2,1,1,0,2,1,0,7,0,0,0,0,7,1,6,7,3,1,0,1,0,2,4,5,4,1,5,0,2,3,2,0,0,1,1,0,1,0,10,3,1,6,2,0,1,1,1,7,0,7,1,0,2,0,2,3,3,0,2,0,0,1,5,2,6,1,0,5,2,3,1,1,0,2,1,7,0,1,0,1,0,0,0,1,0,1,0,6,0,1,0,5,4,0,1,0,1,1,2,6,0,7,3,2,1,1,1,0,5,5,1,0,8,1,5,0,0,2,8,1,7,1,5,1,9,1,1,1,0,1,0,2,10,0,2,0,3,1,1,0,1,2,3,5,7,4,7,1,1,1,4,2,2,4,4,0,0,2,1,4,1,10,1,1,7,7,1,4,1,6,1,4,0,1,4,0,0,5,1,0,7,8,2,1,0,0,0,1,0,0,4,0,0,7,7,0,5,0,1,6,1,2,4,5,5,4,6,4,5,0,6,1,7,0,0,1,8,8,4,5,2,0,3,0,2,0,0,0,2,1,7,2,2,1,0,4,1,1,2,2,13,2,4,0,6,0,2,1,6,3,1,1,0,6,1,0,1,4,2,6,3,0,1,4,5,4,1,1,0,2,0,2,4,0,4,7,1,2,0,2,0,5,5,0,0,1,1,0,2,6,1,0,3,6,1,1,0,3,6,1,2,0,0,3,5,0,1,0,0,1,2,1,0,1,8,0,5,0,1,1,0,4,1,0,6,6,0,7,0,2,0,1,1,0,1,4,1,1,0,0,5,1,0,0,5,7,0,5,4,0,4,0,2,1,1,0,2,0,0,5,1,0,0,6,6,0,8,2,1,0,8,1,1,2,1,5,4,1,5,0,0,2,1,11,0,0,0,3,0,0,0,24,1,0,0,0,1,1,2,2,0,0,0,8,2,2,4,0,0,8,2,8,5,1,1,6,4,0,0,0,1,8,0,3,4,3,2,6,2,3,2,5,1,6,0,1,14,1,1,3,1,3,0,1,0,0,3,3,5,1,1,6,1,3,5,2,0,0,1,6,0,0,7,0,1,2,5,1,6,3,0,13,4,1,3,1,2,9,1,2,2,2,0,0,0,1,0,2,6,0,6,1,4,6,7,1,1,5,1,0,2,0,8,2,1,1,0,0,8,7,3,0,2,2,15,8,0,1,5,0,5,0,1,0,1,0,1,6,1,1,0,3,8,2,0,0,0,2,2,3,1,2,0,3,2,0,1,1,1,0,1,0,9,7,0,7,1,1,7,7,0,5,3,8,2,0,0,0,0,6,0,0,1,3,3,0,7,2,8,7,8,2,1,1,1,2,0,3,2,3,1,2,1,1,0,2,4,1,0,0,0,6,2,1,0,7,6,7,7,0,2,3,1,5,0,3,2,1,5,1,1,0,1,6,1,7,1,5,1,0,5,0,16,0,5,6,2,2,3,1,5,5,0,2,1,2,1,3,1,6,7,0,4,0,1,6,1,5,1,2,9,2,4,0,0,0,6,3,0,2,6,1,6,8,1,0,2,6,3,4,0,8,3,1,3,0,1,6,1,4,6,19,7,1,1,6,2,1,3,0,0,2,1,2,2,2,2,6,7,2,5,1,7,3,3,7,1,4,0,0,0,7,7,1,5,4,2,1,1,2,0,1,1,6,6,1,1,3,1,1,3,1,9,8,7,7,4,3,0,0,3,10,0,0,6,5,0,0,1,0,0,10,0,7,19,1,0,1,6,4,6,0,3,7,2,2,2,0,7,1,0,1,0,1,1,0,7,2,3,1,3,1,1,0,2,2,0,1,2,2,9,0,1,0,1,1,0,4,2,1,0,0,1,2,0,4,1,0,0,2,4,2,1,9,0,7,1,1,2,3,3,0,2,6,5,8,2,10,0,3,2,1,2,7,1,1,1,0,0,8,1,0,1,0,1,1,1,5,0,0,0,0,0,0,0,16,0,0,0,8,0,1,0,2,8,8,2,1,5,0,0,1,0,2,1,0,1,10,0,0,0,2,0,1,0,1,0,1,6,1,0,1,1,6,1,1,4,1,2,5,1,0,4,1,1,1,1,1,1,9,1,4,0,6,0,1,1,0,8,2,6,7,0,1,3,0,1,7,2,1,6,0,0,2,4,1,2,0,0,1,3,2,0,2,2,1,1,1,5,1,6,0,1,0,0,1,1,5,1,0,5,3,6,1,0,5,2,8,2,0,0,0,0,0,8,2,2,1,2,0,2,5,0,5,7,6,6,7,1,0,0,1,2,1,5,1,1,2,0,7,1,1,1,1,7,4,8,0,1,3,1,1,0,6,0,1,2,7,8,0,4,0,1,2,6,0,0,0,6,8,0,1,4,0,0,9,10,0,1,3,10,5,3,2,7,8,0,4,3,7,0,0,10,2,0,6,1,1,0,7,1,1,0,5,2,0,1,9,0,1,5,6,0,0,1,4,0,6,7,7,2,0,3,2,0,4,2,0,4,5,2,7,7,1,0,7,7,6,7,3,5,1,3,3,1,6,0,1,0,1,4,0,5,0,4,0,7,0,0,0,0,5,1,0,7,1,5,6,1,1,0,2,12,1,0,2,7,2,2,7,7,2,2,2,0,1,6,7,7,0,5,1,1,7,1,1,5,1,4,13,2,9,7,7,7,0,8,1,2,3,4,5,8,0,7,0,18,3,0,15,0,1,0,1,1,1,1,10,5,6,0,6,0,0,2,0,8,0,2,6,0,7,1,2,2,2,1,0,2,5,2,1,0,8,1,1,4,4,0,2,7,6,1,1,5,2,3,4,2,1,8,0,1,1,9,2,26,1,0,7,6,1,1,9,0,3,0,7,1,8,1,2,0,0,4,4,1,6,3,7,4,8,0,5,2,0,4,0,0,2,5,1,5,4,1,0,0,1,1,3,0,3,1,1,9,0,7,3,8,6,5,5,2,7,2,1,0,0,3,2,7,1,2,8,8,1,0,5,4,0,8,3,1,1,7,2,6,0,7,0,1,0,0,4,0,3,2,1,3,0,2,4,1,8,0,0,2,1,1,0,0,12,2,0,0,2,1,0,0,1,1,7,0,1,1,1,5,8,2,0,0,3,5,0,1,0,3,4,7,0,1,1,0,3,1,4,4,0,7,0,5,2,1,7,1,6,1,6,2,10,4,2,1,0,3,7,1,2,5,2,7,4,6,4,0,0,1,5,8,9,0,5,3,0,8,2,0,0,0,2,7,0,5,0,1,0,0,1,1,5,1,1,9,6,1,1,3,2,0,0,2,8,0,6,0,1,2,2,5,0,21,1,7,0,5,10,0,0,2,3,1,16,1,11,3,1,11,17,0,1,0,6,0,10,5,13,2,13,0,0,6,2,0,6,1,0,0,4,0,4,1,0,2,2,5,1,4,5,0,6,2,3,0,0,0,2,6,0,0,1,0,2,1,1,0,1,3,6,6,8,2,1,1,3,0,2,1,0,0,2,3,0,5,0,2,1,1,5,7,8,1,7,0,2,0,0,0,3,2,2,0,2,1,6,5,0,0,8,1,0,0,13,1,0,1,5,0,2,0,1,2,5,0,2,2,2,2,0,1,5,1,0,5,0,1,1,0,0,0,4,7,0,5,5,2,5,16,0,0,1,5,2,4,0,1,2,0,1,4,6,0,2,7,0,0,0,0,1,1,4,1,0,2,0,0,1,1,0,1,13,0,1,0,0,1,2,0,7,2,1,3,1,0,1,0,7,0,5,0,1,0,1,2,0,0,5,7,0,3,5,9,0,7,0,2,0,0,2,7,0,0,4,5,5,1,1,6,1,2,0,1,0,0,5,9,3,2,7,4,1,1,2,8,5,0,8,2,1,1,1,0,5,7,1,4,0,1,5,8,5,8,1,5,2,5,1,0,1,10,0,7,2,0,0,11,8,2,0,7,1,5,4,5,8,0,0,8,1,2,0,0,8,2,1,1,1,4,0,1,1,25,4,0,1,5,5,23,0,1,5,0,0,1,3,2,1,0,1,0,0,1,1,0,3,0,1,1,2,7,17,0,1,1,8,0,0,1,0,14,0,1,1,2,5,1,1,0,0,10,7,1,0,0,6,4,2,1,1,2,3,3,2,2,0,7,5,1,3,0,3,1,0,0,2,4,5,2,3,2,5,1,7,1,0,4,2,17,1,3,8,7,0,4,2,1,0,0,5,0,1,1,0,5,4,5,2,6,3,2,0,3,1,0,0,1,1,5,2,0,3,0,0,4,4,1,1,1,1,7,7,1,6,5,0,10,5,0,0,1,1,2,2,0,3,2,1,0,0,0,1,2,0,0,7,8,2,9,1,2,1,0,1,5,0,0,7,0,8,4,4,10,0,1,3,0,0,0,1,0,0,1,1,0,1,3,3,1,0,0,4,1,1,2,2,7,2,1,0,15,0,2,7,7,1,7,0,2,2,5,2,2,0,4,2,5,5,0,5,5,1,4,10,9,5,1,3,0,8,24,0,1,4,1,2,0,5,1,0,1,5,1,2,8,1,0,0,1,16,5,6,0,1,0,0,6,2,7,0,2,1,2,0,0,3,1,7,9,0,7,0,1,3,0,3,0,2,3,3,0,0,0,5,0,1,5,0,9,0,5,0,0,1,0,0,0,0,1,1,5,6,5,0,5,1,7,5,10,7,2,2,0,0,0,6,0,2,8,19,1,0,0,0,0,2,1,0,4,1,2,3,3,4,0,1,7,8,1,9,3,0,1,1,6,7,8,5,5,7,7,2,0,8,6,0,0,2,2,6,6,2,1,0,2,2,1,3,1,1,8,3,7,1,3,2,0,0,1,5,0,4,4,12,1,3,3,0,3,0,0,2,7,0,1,1,3,5,3,7,1,3,5,0,0,7,4,4,2,11,1,1,2,0,3,1,10,9,8,1,2,8,0,7,1,0,2,6,0,2,0,0,6,0,2,3,0,1,2,1,1,0,0,3,0,1,11,6,7,8,2,4,1,1,7,0,2,2,0,14,2,1,7,2,2,7,1,5,0,14,1,0,0,7,3,0,0,3,1,3,1,1,9,0,9,1,5,2,2,5,8,1,9,2,0,7,3,0,0,10,14,5,1,1,1,5,0,5,0,6,1,0,4,3,2,5,2,1,2,1,3,6,14,5,8,0,1,7,0,1,0,1,0,2,1,0,1,1,7,0,1,6,0,0,7,1,6,4,1,9,3,2,7,4,9,2,2,4,0,2,9,1,2,1,1,0,0,5,8,1,1,8,6,0,6,0,11,6,3,0,1,0,0,4,0,7,0,1,0,12,14,0,1,6,1,2,0,1,0,8,5,9,1,4,0,0,0,7,1,0,0,0,2,1,0,2,0,1,0,0,4,4,7,0,6,1,4,7,0,0,0,0,0,1,0,0,1,1,1,9,0,3,1,8,1,1,4,0,1,3,5,4,7,0,0,6,1,4,1,1,2,0,7,6,0,0,1,0,0,1,5,2,10,5,1,1,2,7,2,0,1,1,1,1,5,2,3,3,3,0,0,2,1,0,5,2,0,1,1,2,0,3,3,1,1,0,1,3,0,2,0,1,0,3,1,0,3,1,0,3,0,1,3,0,1,3,5,4,8,4,1,7,2,3,7,1,0,0,2,19,5,0,0,14,2,0,0,10,1,7,0,0,3,1,0,0,3,0,1,2,2,0,5,1,3,3,1,6,1,0,7,4,0,1,1,1,0,5,0,2,0,2,4,1,1,5,8,8,0,0,1,0,2,1,0,8,1,0,1,19,0,7,3,1,0,4,6,5,0,1,1,1,7,2,1,0,1,5,1,5,16,2,0,0,0,1,0,0,7,0,5,11,0,2,13,0,2,0,1,7,1,1,4,5,4,1,0,0,0,2,4,2,0,2,5,1,0,0,1,1,1,0,1,4,1,2,15,4,3,0,0,0,1,0,1,0,1,2,1,6,8,7,0,0,0,10,1,0,2,0,9,6,1,1,3,6,2,0,0,2,2,0,0,2,2,8,7,1,0,0,3,2,1,1,1,5,1,0,1,3,2,3,2,2,1,2,0,0,1,1,3,1,5,0,1,4,12,7,5,1,1,0,2,1,0,1,1,0,2,1,0,8,10,1,0,3,5,2,1,0,6,1,0,0,4,4,2,1,0,0,14,1,0,3,18,2,5,3,8,3,1,1,1,0,3,1,0,2,0,3,1,2,1,0,2,5,1,1,7,1,0,0,0,0,4,1,1,0,0,1,3,5,1,1,0,2,1,1,3,0,1,0,1,0,1,7,3,0,0,0,0,8,2,1,1,1,0,7,0,1,7,8,0,0,4,1,3,1,1,6,0,0,0,1,1,2,0,1,0,0,2,1,2,5,1,1,5,1,3,0,0,10,5,0,0,4,7,1,0,8,1,1,3,7,2,1,1,2,7,7,0,1,1,0,0,4,2,14,0,0,0,0,0,2,0,8,1,0,5,1,1,1,0,0,5,0,4,3,0,3,2,2,0,1,7,5,1,2,0,0,1,0,5,0,0,2,0,0,4,0,0,0,2,0,1,7,0,1,0,0,3,4,0,0,0,0,9,0,1,2,0,1,1,9,0,2,4,0,1,0,0,2,1,3,0,2,0,1,2,0,0,3,2,0,6,0,0,3,1,0,0,2,0,3,0,0,0,2,0,0,1,0,1,2,4,4,1,2,2,5,6,2,5,6,2,3,6,2,9,3,0,1,0,1,1,1,0,4,0,2,1,9,2,0,2,0,0,3,0,0,0,0,0,2,24,6,0,8,0,1,0,0,0,0,0,3,6,2,1,2,0,4,0,1,1,1,0,4,4,1,1,1,1,4,1,4,1,0,1,1,1,5,1,0,0,1,6,2,0,0,9,0,1,1,2,3,1,0,0,2,0,0,1,0,0,0,1,1,0,0,0,0,2,2,4,2,2,2,1,2,0,1,0,1,0,0,0,0,4,0,0,1,0,1,9,0,5,0,0,0,5,0,4,7,5,5,0,5,2,6,1,0,1,0,0,1,11,3,2,1,1,5,5,0,5,0,0,7,2,1,1,1,5,1,3,1,4,2,1,1,0,1,1,5,7,1,0,5,0,0,1,1,2,0,0,3,6,0,0,2,0,0,1,0,0,6,2,0,1,0,0,0,1,0,0,0,0,1,2,0,5,5,0,7,4,0,6,14,0,0,0,6,0,7,0,1,2,2,0,1,5,7,1,13,0,0,0,0,0,1,2,4,3,0,7,2,5,0,0,1,0,0,2,0,0,0,0,5,2,7,0,5,0,6,6,0,9,1,4,0,0,4,2,5,2,0,8,3,5,3,1,3,0,0,0,0,5,0,1,5,1,5,3,0,1,2,0,5,1,5,0,0,0,0,4,2,0,5,3,5,4,5,7,2,2,1,1,2,0,4,0,2,0,1,0,0,1,5,3,5,10,0,1,0,5,0,5,0,1,1,2,0,0,0,1,1,1,0,4,0,4,4,1,2,0,0,4,7,0,7,6,1,1,2,1,0,2,3,1,5,0,7,1,4,7,5,0,1,10,0,4,1,0,1,0,0,5,0,3,0,0,0,0,3,1,1,4,0,2,2,6,1,5,4,2,0,0,0,2,0,0,8,0,2,5,0,0,1,1,2,0,5,0,0,1,0,1,0,5,3,11,0,1,1,0,1,1,0,6,3,1,1,7,2,1,6,8,1,0,7,0,6,8,18,0,5,1,2,4,1,0,4,5,2,0,4,0,5,0,1,0,1,0,2,2,5,7,0,0,6,0,1,0,3,5,0,7,7,5,3,1,0,10,1,0,1,0,7,5,1,0,4,0,0,0,0,0,8,0,1,1,1,1,0,2,0,2,4,2,0,0,0,1,1,1,7,1,0,6,0,1,17,1,0,1,0,10,7,1,0,4,3,0,1,0,8,1,0,2,0,0,0,0,0,2,1,6,0,4,0,1,0,6,7,1,6,1,1,0,0,6,1,1,0,7,5,2,0,0,5,1,0,12,5,1,0,1,0,0,2,0,0,1,3,1,2,6,5,5,2,0,2,5,1,1,2,0,4,0,0,2,5,1,0,0,1,0,1,1,0,0,1,3,0,1,1,9,6,5,0,7,1,7,6,1,3,5,5,5,5,1,6,7,2,5,0,7,0,0,0,12,1,0,7,0,0,3,2,4,1,0,0,2,1,1,0,2,9,7,0,0,0,7,0,6,4,7,1,1,3,0,0,0,0,0,1,7,3,1,0,0,1,0,4,1,0,2,0,1,0,14,0,1,0,1,6,0,1,0,3,7,3,0,1,3,8,0,1,0,0,0,5,6,9,0,1,1,1,3,2,2,0,0,2,0,1,2,1,7,0,2,0,2,0,4,2,1,2,1,1,8,3,1,5,1,2,1,4,0,0,1,0,2,0,5,0,0,2,0,7,1,2,1,3,3,1,1,1,5,1,1,1,4,36,1,0,4,4,1,0,3,4,0,1,8,3,0,1,0,0,0,5,0,0,0,1,2,0,1,5,0,0,0,5,0,15,4,0,1,0,4,0,0,6,1,0,1,1,1,6,1,7,1,5,2,4,1,0,1,0,0,0,1,2,0,8,0,0,0,26,1,2,10,0,4,2,1,2,0,1,2,0,8,0,6,0,0,0,0,0,3,2,0,1,0,1,3,0,4,2,0,2,2,0,0,1,1,1,3,0,9,1,0,1,3,0,3,0,2,2,1,5,1,5,26,2,8,0,4,0,6,0,5,0,0,0,1,0,4,0,7,0,1,5,4,2,7,0,4,0,0,0,0,5,5,0,1,0,4,0,2,0,1,3,6,1,0,5,0,4,5,0,0,3,1,3,0,0,1,0,0,5,6,1,2,2,0,1,12,2,0,1,0,0,2,0,1,3,8,0,4,2,4,7,4,1,4,0,2,0,1,0,12,2,2,0,4,14,0,3,1,1,3,0,0,0,4,9,4,2,8,2,3,4,4,1,2,8,1,0,1,7,1,2,2,8,0,2,3,2,1,2,0,4,2,1,7,0,1,0,0,1,0,2,0,0,0,1,14,7,1,1,0,0,0,5,1,4,2,0,0,9,4,1,14,0,0,2,9,4,0,0,8,0,7,1,5,2,0,1,0,0,2,0,5,0,1,5,6,13,2,0,0,0,0,7,1,16,2,9,0,0,2,0,3,5,0,2,0,0,9,0,1,3,6,2,13,0,5,7,6,7,2,5,2,0,4,7,1,1,9,0,1,2,1,1,2,1,6,0,8,0,4,1,1,0,0,0,1,0,1,5,0,0,7,6,4,0,0,1,1,2,4,0,1,7,0,6,6,2,11,1,6,6,2,0,2,1,4,1,0,3,2,3,4,1,2,11,0,0,0,4,7,3,0,2,1,4,2,1,1,6,1,1,0,3,7,1,0,1,7,1,0,3,1,1,0,0,0,4,1,1,5,0,4,6,0,0,7,0,0,0,0,0,1,1,5,1,0,12,0,5,1,1,1,2,5,0,0,0,0,2,0,7,1,1,1,0,1,6,0,1,1,2,1,1,1,1,2,1,1,3,0,2,0,10,0,3,0,1,2,0,4,0,0,0,0,1,0,4,0,1,1,1,0,0,1,0,1,1,3,5,0,0,0,1,1,1,2,0,0,0,5,2,4,2,2,1,1,0,2,4,1,1,3,1,3,0,0,1,0,1,0,1,3,0,1,1,0,3,1,11,0,0,2,0,1,1,0,0,1,2,1,0,5,0,2,5,1,1,0,3,1,1,0,1,1,6,4,4,2,1,2,9,1,1,3,0,10,1,1,6,1,7,0,1,6,3,0,1,4,0,0,1,1,2,8,0,0,9,5,6,1,0,1,1,4,4,1,1,0,13,8,8,1,0,3,0,2,1,0,5,1,3,0,1,0,3,4,2,8,6,1,7,1,2,3,0,6,1,1,1,0,1,13,1,0,7,0,1,1,1,1,0,2,3,1,1,3,0,2,0,0,1,2,2,5],\"y0\":\" \",\"yaxis\":\"y\",\"type\":\"violin\"}],                        {\"template\":{\"data\":{\"bar\":[{\"error_x\":{\"color\":\"#2a3f5f\"},\"error_y\":{\"color\":\"#2a3f5f\"},\"marker\":{\"line\":{\"color\":\"#E5ECF6\",\"width\":0.5},\"pattern\":{\"fillmode\":\"overlay\",\"size\":10,\"solidity\":0.2}},\"type\":\"bar\"}],\"barpolar\":[{\"marker\":{\"line\":{\"color\":\"#E5ECF6\",\"width\":0.5},\"pattern\":{\"fillmode\":\"overlay\",\"size\":10,\"solidity\":0.2}},\"type\":\"barpolar\"}],\"carpet\":[{\"aaxis\":{\"endlinecolor\":\"#2a3f5f\",\"gridcolor\":\"white\",\"linecolor\":\"white\",\"minorgridcolor\":\"white\",\"startlinecolor\":\"#2a3f5f\"},\"baxis\":{\"endlinecolor\":\"#2a3f5f\",\"gridcolor\":\"white\",\"linecolor\":\"white\",\"minorgridcolor\":\"white\",\"startlinecolor\":\"#2a3f5f\"},\"type\":\"carpet\"}],\"choropleth\":[{\"colorbar\":{\"outlinewidth\":0,\"ticks\":\"\"},\"type\":\"choropleth\"}],\"contour\":[{\"colorbar\":{\"outlinewidth\":0,\"ticks\":\"\"},\"colorscale\":[[0.0,\"#0d0887\"],[0.1111111111111111,\"#46039f\"],[0.2222222222222222,\"#7201a8\"],[0.3333333333333333,\"#9c179e\"],[0.4444444444444444,\"#bd3786\"],[0.5555555555555556,\"#d8576b\"],[0.6666666666666666,\"#ed7953\"],[0.7777777777777778,\"#fb9f3a\"],[0.8888888888888888,\"#fdca26\"],[1.0,\"#f0f921\"]],\"type\":\"contour\"}],\"contourcarpet\":[{\"colorbar\":{\"outlinewidth\":0,\"ticks\":\"\"},\"type\":\"contourcarpet\"}],\"heatmap\":[{\"colorbar\":{\"outlinewidth\":0,\"ticks\":\"\"},\"colorscale\":[[0.0,\"#0d0887\"],[0.1111111111111111,\"#46039f\"],[0.2222222222222222,\"#7201a8\"],[0.3333333333333333,\"#9c179e\"],[0.4444444444444444,\"#bd3786\"],[0.5555555555555556,\"#d8576b\"],[0.6666666666666666,\"#ed7953\"],[0.7777777777777778,\"#fb9f3a\"],[0.8888888888888888,\"#fdca26\"],[1.0,\"#f0f921\"]],\"type\":\"heatmap\"}],\"heatmapgl\":[{\"colorbar\":{\"outlinewidth\":0,\"ticks\":\"\"},\"colorscale\":[[0.0,\"#0d0887\"],[0.1111111111111111,\"#46039f\"],[0.2222222222222222,\"#7201a8\"],[0.3333333333333333,\"#9c179e\"],[0.4444444444444444,\"#bd3786\"],[0.5555555555555556,\"#d8576b\"],[0.6666666666666666,\"#ed7953\"],[0.7777777777777778,\"#fb9f3a\"],[0.8888888888888888,\"#fdca26\"],[1.0,\"#f0f921\"]],\"type\":\"heatmapgl\"}],\"histogram\":[{\"marker\":{\"pattern\":{\"fillmode\":\"overlay\",\"size\":10,\"solidity\":0.2}},\"type\":\"histogram\"}],\"histogram2d\":[{\"colorbar\":{\"outlinewidth\":0,\"ticks\":\"\"},\"colorscale\":[[0.0,\"#0d0887\"],[0.1111111111111111,\"#46039f\"],[0.2222222222222222,\"#7201a8\"],[0.3333333333333333,\"#9c179e\"],[0.4444444444444444,\"#bd3786\"],[0.5555555555555556,\"#d8576b\"],[0.6666666666666666,\"#ed7953\"],[0.7777777777777778,\"#fb9f3a\"],[0.8888888888888888,\"#fdca26\"],[1.0,\"#f0f921\"]],\"type\":\"histogram2d\"}],\"histogram2dcontour\":[{\"colorbar\":{\"outlinewidth\":0,\"ticks\":\"\"},\"colorscale\":[[0.0,\"#0d0887\"],[0.1111111111111111,\"#46039f\"],[0.2222222222222222,\"#7201a8\"],[0.3333333333333333,\"#9c179e\"],[0.4444444444444444,\"#bd3786\"],[0.5555555555555556,\"#d8576b\"],[0.6666666666666666,\"#ed7953\"],[0.7777777777777778,\"#fb9f3a\"],[0.8888888888888888,\"#fdca26\"],[1.0,\"#f0f921\"]],\"type\":\"histogram2dcontour\"}],\"mesh3d\":[{\"colorbar\":{\"outlinewidth\":0,\"ticks\":\"\"},\"type\":\"mesh3d\"}],\"parcoords\":[{\"line\":{\"colorbar\":{\"outlinewidth\":0,\"ticks\":\"\"}},\"type\":\"parcoords\"}],\"pie\":[{\"automargin\":true,\"type\":\"pie\"}],\"scatter\":[{\"marker\":{\"colorbar\":{\"outlinewidth\":0,\"ticks\":\"\"}},\"type\":\"scatter\"}],\"scatter3d\":[{\"line\":{\"colorbar\":{\"outlinewidth\":0,\"ticks\":\"\"}},\"marker\":{\"colorbar\":{\"outlinewidth\":0,\"ticks\":\"\"}},\"type\":\"scatter3d\"}],\"scattercarpet\":[{\"marker\":{\"colorbar\":{\"outlinewidth\":0,\"ticks\":\"\"}},\"type\":\"scattercarpet\"}],\"scattergeo\":[{\"marker\":{\"colorbar\":{\"outlinewidth\":0,\"ticks\":\"\"}},\"type\":\"scattergeo\"}],\"scattergl\":[{\"marker\":{\"colorbar\":{\"outlinewidth\":0,\"ticks\":\"\"}},\"type\":\"scattergl\"}],\"scattermapbox\":[{\"marker\":{\"colorbar\":{\"outlinewidth\":0,\"ticks\":\"\"}},\"type\":\"scattermapbox\"}],\"scatterpolar\":[{\"marker\":{\"colorbar\":{\"outlinewidth\":0,\"ticks\":\"\"}},\"type\":\"scatterpolar\"}],\"scatterpolargl\":[{\"marker\":{\"colorbar\":{\"outlinewidth\":0,\"ticks\":\"\"}},\"type\":\"scatterpolargl\"}],\"scatterternary\":[{\"marker\":{\"colorbar\":{\"outlinewidth\":0,\"ticks\":\"\"}},\"type\":\"scatterternary\"}],\"surface\":[{\"colorbar\":{\"outlinewidth\":0,\"ticks\":\"\"},\"colorscale\":[[0.0,\"#0d0887\"],[0.1111111111111111,\"#46039f\"],[0.2222222222222222,\"#7201a8\"],[0.3333333333333333,\"#9c179e\"],[0.4444444444444444,\"#bd3786\"],[0.5555555555555556,\"#d8576b\"],[0.6666666666666666,\"#ed7953\"],[0.7777777777777778,\"#fb9f3a\"],[0.8888888888888888,\"#fdca26\"],[1.0,\"#f0f921\"]],\"type\":\"surface\"}],\"table\":[{\"cells\":{\"fill\":{\"color\":\"#EBF0F8\"},\"line\":{\"color\":\"white\"}},\"header\":{\"fill\":{\"color\":\"#C8D4E3\"},\"line\":{\"color\":\"white\"}},\"type\":\"table\"}]},\"layout\":{\"annotationdefaults\":{\"arrowcolor\":\"#2a3f5f\",\"arrowhead\":0,\"arrowwidth\":1},\"autotypenumbers\":\"strict\",\"coloraxis\":{\"colorbar\":{\"outlinewidth\":0,\"ticks\":\"\"}},\"colorscale\":{\"diverging\":[[0,\"#8e0152\"],[0.1,\"#c51b7d\"],[0.2,\"#de77ae\"],[0.3,\"#f1b6da\"],[0.4,\"#fde0ef\"],[0.5,\"#f7f7f7\"],[0.6,\"#e6f5d0\"],[0.7,\"#b8e186\"],[0.8,\"#7fbc41\"],[0.9,\"#4d9221\"],[1,\"#276419\"]],\"sequential\":[[0.0,\"#0d0887\"],[0.1111111111111111,\"#46039f\"],[0.2222222222222222,\"#7201a8\"],[0.3333333333333333,\"#9c179e\"],[0.4444444444444444,\"#bd3786\"],[0.5555555555555556,\"#d8576b\"],[0.6666666666666666,\"#ed7953\"],[0.7777777777777778,\"#fb9f3a\"],[0.8888888888888888,\"#fdca26\"],[1.0,\"#f0f921\"]],\"sequentialminus\":[[0.0,\"#0d0887\"],[0.1111111111111111,\"#46039f\"],[0.2222222222222222,\"#7201a8\"],[0.3333333333333333,\"#9c179e\"],[0.4444444444444444,\"#bd3786\"],[0.5555555555555556,\"#d8576b\"],[0.6666666666666666,\"#ed7953\"],[0.7777777777777778,\"#fb9f3a\"],[0.8888888888888888,\"#fdca26\"],[1.0,\"#f0f921\"]]},\"colorway\":[\"#636efa\",\"#EF553B\",\"#00cc96\",\"#ab63fa\",\"#FFA15A\",\"#19d3f3\",\"#FF6692\",\"#B6E880\",\"#FF97FF\",\"#FECB52\"],\"font\":{\"color\":\"#2a3f5f\"},\"geo\":{\"bgcolor\":\"white\",\"lakecolor\":\"white\",\"landcolor\":\"#E5ECF6\",\"showlakes\":true,\"showland\":true,\"subunitcolor\":\"white\"},\"hoverlabel\":{\"align\":\"left\"},\"hovermode\":\"closest\",\"mapbox\":{\"style\":\"light\"},\"paper_bgcolor\":\"white\",\"plot_bgcolor\":\"#E5ECF6\",\"polar\":{\"angularaxis\":{\"gridcolor\":\"white\",\"linecolor\":\"white\",\"ticks\":\"\"},\"bgcolor\":\"#E5ECF6\",\"radialaxis\":{\"gridcolor\":\"white\",\"linecolor\":\"white\",\"ticks\":\"\"}},\"scene\":{\"xaxis\":{\"backgroundcolor\":\"#E5ECF6\",\"gridcolor\":\"white\",\"gridwidth\":2,\"linecolor\":\"white\",\"showbackground\":true,\"ticks\":\"\",\"zerolinecolor\":\"white\"},\"yaxis\":{\"backgroundcolor\":\"#E5ECF6\",\"gridcolor\":\"white\",\"gridwidth\":2,\"linecolor\":\"white\",\"showbackground\":true,\"ticks\":\"\",\"zerolinecolor\":\"white\"},\"zaxis\":{\"backgroundcolor\":\"#E5ECF6\",\"gridcolor\":\"white\",\"gridwidth\":2,\"linecolor\":\"white\",\"showbackground\":true,\"ticks\":\"\",\"zerolinecolor\":\"white\"}},\"shapedefaults\":{\"line\":{\"color\":\"#2a3f5f\"}},\"ternary\":{\"aaxis\":{\"gridcolor\":\"white\",\"linecolor\":\"white\",\"ticks\":\"\"},\"baxis\":{\"gridcolor\":\"white\",\"linecolor\":\"white\",\"ticks\":\"\"},\"bgcolor\":\"#E5ECF6\",\"caxis\":{\"gridcolor\":\"white\",\"linecolor\":\"white\",\"ticks\":\"\"}},\"title\":{\"x\":0.05},\"xaxis\":{\"automargin\":true,\"gridcolor\":\"white\",\"linecolor\":\"white\",\"ticks\":\"\",\"title\":{\"standoff\":15},\"zerolinecolor\":\"white\",\"zerolinewidth\":2},\"yaxis\":{\"automargin\":true,\"gridcolor\":\"white\",\"linecolor\":\"white\",\"ticks\":\"\",\"title\":{\"standoff\":15},\"zerolinecolor\":\"white\",\"zerolinewidth\":2}}},\"xaxis\":{\"anchor\":\"y\",\"domain\":[0.0,1.0]},\"yaxis\":{\"anchor\":\"x\",\"domain\":[0.0,1.0],\"title\":{\"text\":\"km_block_counts\"}},\"legend\":{\"tracegroupgap\":0},\"margin\":{\"t\":60},\"violinmode\":\"group\"},                        {\"responsive\": true}                    ).then(function(){\n",
              "                            \n",
              "var gd = document.getElementById('eead5e0e-d324-4646-86dc-84727678cf36');\n",
              "var x = new MutationObserver(function (mutations, observer) {{\n",
              "        var display = window.getComputedStyle(gd).display;\n",
              "        if (!display || display === 'none') {{\n",
              "            console.log([gd, 'removed!']);\n",
              "            Plotly.purge(gd);\n",
              "            observer.disconnect();\n",
              "        }}\n",
              "}});\n",
              "\n",
              "// Listen for the removal of the full notebook cells\n",
              "var notebookContainer = gd.closest('#notebook-container');\n",
              "if (notebookContainer) {{\n",
              "    x.observe(notebookContainer, {childList: true});\n",
              "}}\n",
              "\n",
              "// Listen for the clearing of the current output cell\n",
              "var outputEl = gd.closest('.output');\n",
              "if (outputEl) {{\n",
              "    x.observe(outputEl, {childList: true});\n",
              "}}\n",
              "\n",
              "                        })                };                            </script>        </div>\n",
              "</body>\n",
              "</html>"
            ]
          },
          "metadata": {}
        }
      ]
    },
    {
      "cell_type": "markdown",
      "source": [
        "How many calls with no Key Messages listened to?"
      ],
      "metadata": {
        "id": "_GqprQOijRZN"
      }
    },
    {
      "cell_type": "code",
      "source": [
        "print(f\"{len(block_counts_by_call_id[block_counts_by_call_id['km_block_counts'] == 0])/len(block_counts_by_call_id):.2%}\")"
      ],
      "metadata": {
        "colab": {
          "base_uri": "https://localhost:8080/"
        },
        "id": "pGmhr8TzhhFP",
        "outputId": "18755ed9-035c-4348-e393-ef3244074d6d"
      },
      "execution_count": 101,
      "outputs": [
        {
          "output_type": "stream",
          "name": "stdout",
          "text": [
            "30.85%\n"
          ]
        }
      ]
    },
    {
      "cell_type": "markdown",
      "source": [
        "How many calls with only 1 Key Message listened to?"
      ],
      "metadata": {
        "id": "neXxDwEXqaVL"
      }
    },
    {
      "cell_type": "code",
      "source": [
        "print(f\"{len(block_counts_by_call_id[block_counts_by_call_id['km_block_counts'] == 1])/len(block_counts_by_call_id):.2%}\")"
      ],
      "metadata": {
        "colab": {
          "base_uri": "https://localhost:8080/"
        },
        "id": "poY24r4Zpk5X",
        "outputId": "0f89e7a2-d6c3-494d-f6c2-e34844357700"
      },
      "execution_count": 102,
      "outputs": [
        {
          "output_type": "stream",
          "name": "stdout",
          "text": [
            "21.58%\n"
          ]
        }
      ]
    },
    {
      "cell_type": "markdown",
      "source": [
        "How many calls with 2-4 Key Messages?"
      ],
      "metadata": {
        "id": "_3lub7TXq4li"
      }
    },
    {
      "cell_type": "code",
      "source": [
        "print(f\"{len(block_counts_by_call_id[(block_counts_by_call_id['km_block_counts'] >= 2) & (block_counts_by_call_id['km_block_counts'] <= 4)])/len(block_counts_by_call_id):.2%}\")"
      ],
      "metadata": {
        "colab": {
          "base_uri": "https://localhost:8080/"
        },
        "id": "bZ0QNWgzqfUP",
        "outputId": "57320afc-6853-4813-ef1e-99a87aa3d8d8"
      },
      "execution_count": 103,
      "outputs": [
        {
          "output_type": "stream",
          "name": "stdout",
          "text": [
            "31.88%\n"
          ]
        }
      ]
    },
    {
      "cell_type": "markdown",
      "source": [
        "How many calls with > 4 Key Messages?"
      ],
      "metadata": {
        "id": "A3ZE8Rp3q8Db"
      }
    },
    {
      "cell_type": "code",
      "source": [
        "print(f\"{len(block_counts_by_call_id[(block_counts_by_call_id['km_block_counts'] > 4)])/len(block_counts_by_call_id):.2%}\")"
      ],
      "metadata": {
        "colab": {
          "base_uri": "https://localhost:8080/"
        },
        "id": "Yy2E5WNZqqY4",
        "outputId": "6943b6b8-044f-4833-fa70-96c05742ff54"
      },
      "execution_count": 104,
      "outputs": [
        {
          "output_type": "stream",
          "name": "stdout",
          "text": [
            "15.68%\n"
          ]
        }
      ]
    },
    {
      "cell_type": "code",
      "source": [
        "def apply_key_message_binning(row):\n",
        "  if row['km_block_counts'] == 0:\n",
        "    row['km_reached'] = 0\n",
        "    row['km_bin'] = '0'\n",
        "  else:\n",
        "    row['km_reached'] = 1\n",
        "    if row['km_block_counts'] == 1:\n",
        "      row['km_bin'] = '1'\n",
        "    elif (row['km_block_counts'] > 1) & (row['km_block_counts'] <= 4):\n",
        "      row['km_bin'] = '2'\n",
        "    else:\n",
        "      row['km_bin'] = '3'\n",
        "\n",
        "  return row"
      ],
      "metadata": {
        "id": "GWi14KMsxA0M"
      },
      "execution_count": 105,
      "outputs": []
    },
    {
      "cell_type": "code",
      "source": [
        "df_joined = df.merge(block_counts_by_call_id, how='left')\n",
        "\n",
        "df2 = df_joined.apply(lambda row: apply_key_message_binning(row), axis = 1)"
      ],
      "metadata": {
        "id": "iD-PkBdsy6pk"
      },
      "execution_count": 114,
      "outputs": []
    },
    {
      "cell_type": "code",
      "source": [
        "df_grouped = df2.groupby(['km_bin'])['call_id'].nunique().reset_index(name='calls')\n",
        "\n",
        "px.bar(df_grouped, x='km_bin', y='calls')"
      ],
      "metadata": {
        "colab": {
          "base_uri": "https://localhost:8080/",
          "height": 542
        },
        "id": "9a1ixEhbq0B2",
        "outputId": "8254da0c-a676-4e50-fa7b-780028c6790a"
      },
      "execution_count": 117,
      "outputs": [
        {
          "output_type": "display_data",
          "data": {
            "text/html": [
              "<html>\n",
              "<head><meta charset=\"utf-8\" /></head>\n",
              "<body>\n",
              "    <div>            <script src=\"https://cdnjs.cloudflare.com/ajax/libs/mathjax/2.7.5/MathJax.js?config=TeX-AMS-MML_SVG\"></script><script type=\"text/javascript\">if (window.MathJax) {MathJax.Hub.Config({SVG: {font: \"STIX-Web\"}});}</script>                <script type=\"text/javascript\">window.PlotlyConfig = {MathJaxConfig: 'local'};</script>\n",
              "        <script src=\"https://cdn.plot.ly/plotly-2.8.3.min.js\"></script>                <div id=\"319b6da9-52e9-4dad-985b-9cb5b22076c0\" class=\"plotly-graph-div\" style=\"height:525px; width:100%;\"></div>            <script type=\"text/javascript\">                                    window.PLOTLYENV=window.PLOTLYENV || {};                                    if (document.getElementById(\"319b6da9-52e9-4dad-985b-9cb5b22076c0\")) {                    Plotly.newPlot(                        \"319b6da9-52e9-4dad-985b-9cb5b22076c0\",                        [{\"alignmentgroup\":\"True\",\"hovertemplate\":\"km_bin=%{x}<br>calls=%{y}<extra></extra>\",\"legendgroup\":\"\",\"marker\":{\"color\":\"#636efa\",\"pattern\":{\"shape\":\"\"}},\"name\":\"\",\"offsetgroup\":\"\",\"orientation\":\"v\",\"showlegend\":false,\"textposition\":\"auto\",\"x\":[\"0\",\"1\",\"2\",\"3\"],\"xaxis\":\"x\",\"y\":[7712,5396,7971,3921],\"yaxis\":\"y\",\"type\":\"bar\"}],                        {\"template\":{\"data\":{\"bar\":[{\"error_x\":{\"color\":\"#2a3f5f\"},\"error_y\":{\"color\":\"#2a3f5f\"},\"marker\":{\"line\":{\"color\":\"#E5ECF6\",\"width\":0.5},\"pattern\":{\"fillmode\":\"overlay\",\"size\":10,\"solidity\":0.2}},\"type\":\"bar\"}],\"barpolar\":[{\"marker\":{\"line\":{\"color\":\"#E5ECF6\",\"width\":0.5},\"pattern\":{\"fillmode\":\"overlay\",\"size\":10,\"solidity\":0.2}},\"type\":\"barpolar\"}],\"carpet\":[{\"aaxis\":{\"endlinecolor\":\"#2a3f5f\",\"gridcolor\":\"white\",\"linecolor\":\"white\",\"minorgridcolor\":\"white\",\"startlinecolor\":\"#2a3f5f\"},\"baxis\":{\"endlinecolor\":\"#2a3f5f\",\"gridcolor\":\"white\",\"linecolor\":\"white\",\"minorgridcolor\":\"white\",\"startlinecolor\":\"#2a3f5f\"},\"type\":\"carpet\"}],\"choropleth\":[{\"colorbar\":{\"outlinewidth\":0,\"ticks\":\"\"},\"type\":\"choropleth\"}],\"contour\":[{\"colorbar\":{\"outlinewidth\":0,\"ticks\":\"\"},\"colorscale\":[[0.0,\"#0d0887\"],[0.1111111111111111,\"#46039f\"],[0.2222222222222222,\"#7201a8\"],[0.3333333333333333,\"#9c179e\"],[0.4444444444444444,\"#bd3786\"],[0.5555555555555556,\"#d8576b\"],[0.6666666666666666,\"#ed7953\"],[0.7777777777777778,\"#fb9f3a\"],[0.8888888888888888,\"#fdca26\"],[1.0,\"#f0f921\"]],\"type\":\"contour\"}],\"contourcarpet\":[{\"colorbar\":{\"outlinewidth\":0,\"ticks\":\"\"},\"type\":\"contourcarpet\"}],\"heatmap\":[{\"colorbar\":{\"outlinewidth\":0,\"ticks\":\"\"},\"colorscale\":[[0.0,\"#0d0887\"],[0.1111111111111111,\"#46039f\"],[0.2222222222222222,\"#7201a8\"],[0.3333333333333333,\"#9c179e\"],[0.4444444444444444,\"#bd3786\"],[0.5555555555555556,\"#d8576b\"],[0.6666666666666666,\"#ed7953\"],[0.7777777777777778,\"#fb9f3a\"],[0.8888888888888888,\"#fdca26\"],[1.0,\"#f0f921\"]],\"type\":\"heatmap\"}],\"heatmapgl\":[{\"colorbar\":{\"outlinewidth\":0,\"ticks\":\"\"},\"colorscale\":[[0.0,\"#0d0887\"],[0.1111111111111111,\"#46039f\"],[0.2222222222222222,\"#7201a8\"],[0.3333333333333333,\"#9c179e\"],[0.4444444444444444,\"#bd3786\"],[0.5555555555555556,\"#d8576b\"],[0.6666666666666666,\"#ed7953\"],[0.7777777777777778,\"#fb9f3a\"],[0.8888888888888888,\"#fdca26\"],[1.0,\"#f0f921\"]],\"type\":\"heatmapgl\"}],\"histogram\":[{\"marker\":{\"pattern\":{\"fillmode\":\"overlay\",\"size\":10,\"solidity\":0.2}},\"type\":\"histogram\"}],\"histogram2d\":[{\"colorbar\":{\"outlinewidth\":0,\"ticks\":\"\"},\"colorscale\":[[0.0,\"#0d0887\"],[0.1111111111111111,\"#46039f\"],[0.2222222222222222,\"#7201a8\"],[0.3333333333333333,\"#9c179e\"],[0.4444444444444444,\"#bd3786\"],[0.5555555555555556,\"#d8576b\"],[0.6666666666666666,\"#ed7953\"],[0.7777777777777778,\"#fb9f3a\"],[0.8888888888888888,\"#fdca26\"],[1.0,\"#f0f921\"]],\"type\":\"histogram2d\"}],\"histogram2dcontour\":[{\"colorbar\":{\"outlinewidth\":0,\"ticks\":\"\"},\"colorscale\":[[0.0,\"#0d0887\"],[0.1111111111111111,\"#46039f\"],[0.2222222222222222,\"#7201a8\"],[0.3333333333333333,\"#9c179e\"],[0.4444444444444444,\"#bd3786\"],[0.5555555555555556,\"#d8576b\"],[0.6666666666666666,\"#ed7953\"],[0.7777777777777778,\"#fb9f3a\"],[0.8888888888888888,\"#fdca26\"],[1.0,\"#f0f921\"]],\"type\":\"histogram2dcontour\"}],\"mesh3d\":[{\"colorbar\":{\"outlinewidth\":0,\"ticks\":\"\"},\"type\":\"mesh3d\"}],\"parcoords\":[{\"line\":{\"colorbar\":{\"outlinewidth\":0,\"ticks\":\"\"}},\"type\":\"parcoords\"}],\"pie\":[{\"automargin\":true,\"type\":\"pie\"}],\"scatter\":[{\"marker\":{\"colorbar\":{\"outlinewidth\":0,\"ticks\":\"\"}},\"type\":\"scatter\"}],\"scatter3d\":[{\"line\":{\"colorbar\":{\"outlinewidth\":0,\"ticks\":\"\"}},\"marker\":{\"colorbar\":{\"outlinewidth\":0,\"ticks\":\"\"}},\"type\":\"scatter3d\"}],\"scattercarpet\":[{\"marker\":{\"colorbar\":{\"outlinewidth\":0,\"ticks\":\"\"}},\"type\":\"scattercarpet\"}],\"scattergeo\":[{\"marker\":{\"colorbar\":{\"outlinewidth\":0,\"ticks\":\"\"}},\"type\":\"scattergeo\"}],\"scattergl\":[{\"marker\":{\"colorbar\":{\"outlinewidth\":0,\"ticks\":\"\"}},\"type\":\"scattergl\"}],\"scattermapbox\":[{\"marker\":{\"colorbar\":{\"outlinewidth\":0,\"ticks\":\"\"}},\"type\":\"scattermapbox\"}],\"scatterpolar\":[{\"marker\":{\"colorbar\":{\"outlinewidth\":0,\"ticks\":\"\"}},\"type\":\"scatterpolar\"}],\"scatterpolargl\":[{\"marker\":{\"colorbar\":{\"outlinewidth\":0,\"ticks\":\"\"}},\"type\":\"scatterpolargl\"}],\"scatterternary\":[{\"marker\":{\"colorbar\":{\"outlinewidth\":0,\"ticks\":\"\"}},\"type\":\"scatterternary\"}],\"surface\":[{\"colorbar\":{\"outlinewidth\":0,\"ticks\":\"\"},\"colorscale\":[[0.0,\"#0d0887\"],[0.1111111111111111,\"#46039f\"],[0.2222222222222222,\"#7201a8\"],[0.3333333333333333,\"#9c179e\"],[0.4444444444444444,\"#bd3786\"],[0.5555555555555556,\"#d8576b\"],[0.6666666666666666,\"#ed7953\"],[0.7777777777777778,\"#fb9f3a\"],[0.8888888888888888,\"#fdca26\"],[1.0,\"#f0f921\"]],\"type\":\"surface\"}],\"table\":[{\"cells\":{\"fill\":{\"color\":\"#EBF0F8\"},\"line\":{\"color\":\"white\"}},\"header\":{\"fill\":{\"color\":\"#C8D4E3\"},\"line\":{\"color\":\"white\"}},\"type\":\"table\"}]},\"layout\":{\"annotationdefaults\":{\"arrowcolor\":\"#2a3f5f\",\"arrowhead\":0,\"arrowwidth\":1},\"autotypenumbers\":\"strict\",\"coloraxis\":{\"colorbar\":{\"outlinewidth\":0,\"ticks\":\"\"}},\"colorscale\":{\"diverging\":[[0,\"#8e0152\"],[0.1,\"#c51b7d\"],[0.2,\"#de77ae\"],[0.3,\"#f1b6da\"],[0.4,\"#fde0ef\"],[0.5,\"#f7f7f7\"],[0.6,\"#e6f5d0\"],[0.7,\"#b8e186\"],[0.8,\"#7fbc41\"],[0.9,\"#4d9221\"],[1,\"#276419\"]],\"sequential\":[[0.0,\"#0d0887\"],[0.1111111111111111,\"#46039f\"],[0.2222222222222222,\"#7201a8\"],[0.3333333333333333,\"#9c179e\"],[0.4444444444444444,\"#bd3786\"],[0.5555555555555556,\"#d8576b\"],[0.6666666666666666,\"#ed7953\"],[0.7777777777777778,\"#fb9f3a\"],[0.8888888888888888,\"#fdca26\"],[1.0,\"#f0f921\"]],\"sequentialminus\":[[0.0,\"#0d0887\"],[0.1111111111111111,\"#46039f\"],[0.2222222222222222,\"#7201a8\"],[0.3333333333333333,\"#9c179e\"],[0.4444444444444444,\"#bd3786\"],[0.5555555555555556,\"#d8576b\"],[0.6666666666666666,\"#ed7953\"],[0.7777777777777778,\"#fb9f3a\"],[0.8888888888888888,\"#fdca26\"],[1.0,\"#f0f921\"]]},\"colorway\":[\"#636efa\",\"#EF553B\",\"#00cc96\",\"#ab63fa\",\"#FFA15A\",\"#19d3f3\",\"#FF6692\",\"#B6E880\",\"#FF97FF\",\"#FECB52\"],\"font\":{\"color\":\"#2a3f5f\"},\"geo\":{\"bgcolor\":\"white\",\"lakecolor\":\"white\",\"landcolor\":\"#E5ECF6\",\"showlakes\":true,\"showland\":true,\"subunitcolor\":\"white\"},\"hoverlabel\":{\"align\":\"left\"},\"hovermode\":\"closest\",\"mapbox\":{\"style\":\"light\"},\"paper_bgcolor\":\"white\",\"plot_bgcolor\":\"#E5ECF6\",\"polar\":{\"angularaxis\":{\"gridcolor\":\"white\",\"linecolor\":\"white\",\"ticks\":\"\"},\"bgcolor\":\"#E5ECF6\",\"radialaxis\":{\"gridcolor\":\"white\",\"linecolor\":\"white\",\"ticks\":\"\"}},\"scene\":{\"xaxis\":{\"backgroundcolor\":\"#E5ECF6\",\"gridcolor\":\"white\",\"gridwidth\":2,\"linecolor\":\"white\",\"showbackground\":true,\"ticks\":\"\",\"zerolinecolor\":\"white\"},\"yaxis\":{\"backgroundcolor\":\"#E5ECF6\",\"gridcolor\":\"white\",\"gridwidth\":2,\"linecolor\":\"white\",\"showbackground\":true,\"ticks\":\"\",\"zerolinecolor\":\"white\"},\"zaxis\":{\"backgroundcolor\":\"#E5ECF6\",\"gridcolor\":\"white\",\"gridwidth\":2,\"linecolor\":\"white\",\"showbackground\":true,\"ticks\":\"\",\"zerolinecolor\":\"white\"}},\"shapedefaults\":{\"line\":{\"color\":\"#2a3f5f\"}},\"ternary\":{\"aaxis\":{\"gridcolor\":\"white\",\"linecolor\":\"white\",\"ticks\":\"\"},\"baxis\":{\"gridcolor\":\"white\",\"linecolor\":\"white\",\"ticks\":\"\"},\"bgcolor\":\"#E5ECF6\",\"caxis\":{\"gridcolor\":\"white\",\"linecolor\":\"white\",\"ticks\":\"\"}},\"title\":{\"x\":0.05},\"xaxis\":{\"automargin\":true,\"gridcolor\":\"white\",\"linecolor\":\"white\",\"ticks\":\"\",\"title\":{\"standoff\":15},\"zerolinecolor\":\"white\",\"zerolinewidth\":2},\"yaxis\":{\"automargin\":true,\"gridcolor\":\"white\",\"linecolor\":\"white\",\"ticks\":\"\",\"title\":{\"standoff\":15},\"zerolinecolor\":\"white\",\"zerolinewidth\":2}}},\"xaxis\":{\"anchor\":\"y\",\"domain\":[0.0,1.0],\"title\":{\"text\":\"km_bin\"}},\"yaxis\":{\"anchor\":\"x\",\"domain\":[0.0,1.0],\"title\":{\"text\":\"calls\"}},\"legend\":{\"tracegroupgap\":0},\"margin\":{\"t\":60},\"barmode\":\"relative\"},                        {\"responsive\": true}                    ).then(function(){\n",
              "                            \n",
              "var gd = document.getElementById('319b6da9-52e9-4dad-985b-9cb5b22076c0');\n",
              "var x = new MutationObserver(function (mutations, observer) {{\n",
              "        var display = window.getComputedStyle(gd).display;\n",
              "        if (!display || display === 'none') {{\n",
              "            console.log([gd, 'removed!']);\n",
              "            Plotly.purge(gd);\n",
              "            observer.disconnect();\n",
              "        }}\n",
              "}});\n",
              "\n",
              "// Listen for the removal of the full notebook cells\n",
              "var notebookContainer = gd.closest('#notebook-container');\n",
              "if (notebookContainer) {{\n",
              "    x.observe(notebookContainer, {childList: true});\n",
              "}}\n",
              "\n",
              "// Listen for the clearing of the current output cell\n",
              "var outputEl = gd.closest('.output');\n",
              "if (outputEl) {{\n",
              "    x.observe(outputEl, {childList: true});\n",
              "}}\n",
              "\n",
              "                        })                };                            </script>        </div>\n",
              "</body>\n",
              "</html>"
            ]
          },
          "metadata": {}
        }
      ]
    },
    {
      "cell_type": "code",
      "source": [],
      "metadata": {
        "id": "tXR2sv73uxHq"
      },
      "execution_count": null,
      "outputs": []
    }
  ]
}